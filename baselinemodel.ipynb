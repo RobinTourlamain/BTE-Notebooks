{
 "cells": [
  {
   "cell_type": "code",
   "execution_count": 1,
   "metadata": {},
   "outputs": [],
   "source": [
    "#Imports\n",
    "import tensorflow as tf\n",
    "import numpy as np\n",
    "import matplotlib.pyplot as plt\n",
    "import pandas as pd;\n",
    "from sklearn.preprocessing import Normalizer\n",
    "from sklearn.model_selection import train_test_split\n",
    "import keras_tuner as kt\n",
    "from sklearn.metrics import mean_absolute_percentage_error\n",
    "from sklearn.preprocessing import FunctionTransformer\n",
    "from sklearn.pipeline import Pipeline\n",
    "from sklearn.preprocessing import MinMaxScaler\n",
    "from sklearn.model_selection import KFold\n",
    "import os\n",
    "import sys\n",
    "import shutil\n",
    "from keras.callbacks import EarlyStopping,ReduceLROnPlateau,ModelCheckpoint"
   ]
  },
  {
   "cell_type": "code",
   "execution_count": 2,
   "metadata": {},
   "outputs": [
    {
     "data": {
      "text/html": [
       "<div>\n",
       "<style scoped>\n",
       "    .dataframe tbody tr th:only-of-type {\n",
       "        vertical-align: middle;\n",
       "    }\n",
       "\n",
       "    .dataframe tbody tr th {\n",
       "        vertical-align: top;\n",
       "    }\n",
       "\n",
       "    .dataframe thead th {\n",
       "        text-align: right;\n",
       "    }\n",
       "</style>\n",
       "<table border=\"1\" class=\"dataframe\">\n",
       "  <thead>\n",
       "    <tr style=\"text-align: right;\">\n",
       "      <th></th>\n",
       "      <th>volume</th>\n",
       "      <th>area</th>\n",
       "      <th>n_triangles</th>\n",
       "      <th>x_scale</th>\n",
       "      <th>y_scale</th>\n",
       "      <th>z_scale</th>\n",
       "      <th>area_ratio_xy</th>\n",
       "      <th>area_ratio_xz</th>\n",
       "      <th>area_ratio_yz</th>\n",
       "      <th>build_time</th>\n",
       "      <th>support_material</th>\n",
       "      <th>model_material</th>\n",
       "      <th>area_ground</th>\n",
       "      <th>box_volume</th>\n",
       "    </tr>\n",
       "  </thead>\n",
       "  <tbody>\n",
       "    <tr>\n",
       "      <th>0</th>\n",
       "      <td>98.344215</td>\n",
       "      <td>420.096211</td>\n",
       "      <td>652</td>\n",
       "      <td>9.144006</td>\n",
       "      <td>0.50800</td>\n",
       "      <td>22.013333</td>\n",
       "      <td>2.398148</td>\n",
       "      <td>1.923505</td>\n",
       "      <td>1.999995</td>\n",
       "      <td>435</td>\n",
       "      <td>40.950</td>\n",
       "      <td>109.838</td>\n",
       "      <td>4.645153</td>\n",
       "      <td>102.255309</td>\n",
       "    </tr>\n",
       "    <tr>\n",
       "      <th>1</th>\n",
       "      <td>3.726959</td>\n",
       "      <td>26.368342</td>\n",
       "      <td>564</td>\n",
       "      <td>6.032647</td>\n",
       "      <td>1.15000</td>\n",
       "      <td>1.234622</td>\n",
       "      <td>1.216648</td>\n",
       "      <td>1.991790</td>\n",
       "      <td>2.678573</td>\n",
       "      <td>30</td>\n",
       "      <td>3.159</td>\n",
       "      <td>5.057</td>\n",
       "      <td>6.937544</td>\n",
       "      <td>8.565246</td>\n",
       "    </tr>\n",
       "    <tr>\n",
       "      <th>2</th>\n",
       "      <td>1.315050</td>\n",
       "      <td>11.516920</td>\n",
       "      <td>2454</td>\n",
       "      <td>1.650000</td>\n",
       "      <td>1.65000</td>\n",
       "      <td>1.390008</td>\n",
       "      <td>1.028467</td>\n",
       "      <td>2.060714</td>\n",
       "      <td>2.113780</td>\n",
       "      <td>28</td>\n",
       "      <td>2.860</td>\n",
       "      <td>2.563</td>\n",
       "      <td>2.722500</td>\n",
       "      <td>3.784297</td>\n",
       "    </tr>\n",
       "    <tr>\n",
       "      <th>3</th>\n",
       "      <td>4.134664</td>\n",
       "      <td>20.899255</td>\n",
       "      <td>1152</td>\n",
       "      <td>2.000000</td>\n",
       "      <td>2.25849</td>\n",
       "      <td>1.650000</td>\n",
       "      <td>2.081730</td>\n",
       "      <td>1.906478</td>\n",
       "      <td>1.953626</td>\n",
       "      <td>29</td>\n",
       "      <td>2.524</td>\n",
       "      <td>5.198</td>\n",
       "      <td>4.516980</td>\n",
       "      <td>7.453017</td>\n",
       "    </tr>\n",
       "    <tr>\n",
       "      <th>4</th>\n",
       "      <td>927.755856</td>\n",
       "      <td>1253.666592</td>\n",
       "      <td>31880</td>\n",
       "      <td>25.400000</td>\n",
       "      <td>25.40000</td>\n",
       "      <td>8.375590</td>\n",
       "      <td>0.727910</td>\n",
       "      <td>3.029799</td>\n",
       "      <td>3.045351</td>\n",
       "      <td>766</td>\n",
       "      <td>31.157</td>\n",
       "      <td>874.206</td>\n",
       "      <td>645.160000</td>\n",
       "      <td>5403.595894</td>\n",
       "    </tr>\n",
       "  </tbody>\n",
       "</table>\n",
       "</div>"
      ],
      "text/plain": [
       "       volume         area  n_triangles    x_scale   y_scale    z_scale  \\\n",
       "0   98.344215   420.096211          652   9.144006   0.50800  22.013333   \n",
       "1    3.726959    26.368342          564   6.032647   1.15000   1.234622   \n",
       "2    1.315050    11.516920         2454   1.650000   1.65000   1.390008   \n",
       "3    4.134664    20.899255         1152   2.000000   2.25849   1.650000   \n",
       "4  927.755856  1253.666592        31880  25.400000  25.40000   8.375590   \n",
       "\n",
       "   area_ratio_xy  area_ratio_xz  area_ratio_yz  build_time  support_material  \\\n",
       "0       2.398148       1.923505       1.999995         435            40.950   \n",
       "1       1.216648       1.991790       2.678573          30             3.159   \n",
       "2       1.028467       2.060714       2.113780          28             2.860   \n",
       "3       2.081730       1.906478       1.953626          29             2.524   \n",
       "4       0.727910       3.029799       3.045351         766            31.157   \n",
       "\n",
       "   model_material  area_ground   box_volume  \n",
       "0         109.838     4.645153   102.255309  \n",
       "1           5.057     6.937544     8.565246  \n",
       "2           2.563     2.722500     3.784297  \n",
       "3           5.198     4.516980     7.453017  \n",
       "4         874.206   645.160000  5403.595894  "
      ]
     },
     "execution_count": 2,
     "metadata": {},
     "output_type": "execute_result"
    }
   ],
   "source": [
    "#Read data, drop unnecessary\n",
    "data = pd.read_csv('thingi10k_data.csv', index_col=0)\n",
    "\n",
    "df = data.copy()\n",
    "df.drop(\"source\", axis=1, inplace=True)\n",
    "df.drop(\"model_name\", axis=1, inplace=True)\n",
    "\n",
    "df.head()"
   ]
  },
  {
   "cell_type": "code",
   "execution_count": 3,
   "metadata": {},
   "outputs": [
    {
     "data": {
      "text/plain": [
       "0    435\n",
       "1     30\n",
       "2     28\n",
       "3     29\n",
       "4    766\n",
       "Name: build_time, dtype: int64"
      ]
     },
     "execution_count": 3,
     "metadata": {},
     "output_type": "execute_result"
    }
   ],
   "source": [
    "#Extract build times\n",
    "dfcopy = df.copy()\n",
    "build_times = df[\"build_time\"]\n",
    "df.drop(\"build_time\", axis=1,inplace=True)\n",
    "build_times.head()"
   ]
  },
  {
   "cell_type": "code",
   "execution_count": 4,
   "metadata": {},
   "outputs": [],
   "source": [
    "#Train/test split\n",
    "xtrain, xtest, ytrain, ytest = train_test_split(df, build_times, test_size=0.3)"
   ]
  },
  {
   "cell_type": "code",
   "execution_count": 5,
   "metadata": {},
   "outputs": [],
   "source": [
    "#Make pipeline\n",
    "#https://joaquinamatrodrigo.github.io/skforecast/0.5.1/user_guides/sklearn-transformers-and-pipeline.html\n",
    "\n",
    "def log_transform(x):\n",
    "    return np.log(x + 1)\n",
    "\n",
    "def inv_log_transform(x):\n",
    "    return np.exp(x) - 1 \n",
    "\n",
    "#normalizer = Normalizer()\n",
    "scaler = MinMaxScaler()\n",
    "logtransformer = FunctionTransformer(func=log_transform, inverse_func=inv_log_transform, check_inverse=False)\n",
    "pipe = Pipeline(steps=[ ('logtransformer', logtransformer), ('scaler', scaler)])"
   ]
  },
  {
   "cell_type": "code",
   "execution_count": 6,
   "metadata": {},
   "outputs": [
    {
     "name": "stdout",
     "output_type": "stream",
     "text": [
      "         volume       area  n_triangles   x_scale   y_scale   z_scale  \\\n",
      "819   11.464214  32.458459        19744  1.862667  1.947333  4.131733   \n",
      "570    8.206220  43.408105         1436  3.800000  4.700000  0.948700   \n",
      "194    4.256606  64.014673          308  5.603150  4.637696  0.434496   \n",
      "3573   8.704185  52.497251         1730  2.250000  4.015765  8.344839   \n",
      "3333   7.169913  80.158564         2878  4.400000  6.300000  2.000000   \n",
      "\n",
      "      area_ratio_xy  area_ratio_xz  area_ratio_yz  support_material  \\\n",
      "819        2.026171       2.060653       2.027228            10.540   \n",
      "570        1.613938       2.906723       2.257142             2.820   \n",
      "194        1.998457       3.066031       3.013154             4.980   \n",
      "3573       2.494142       1.145483       0.673856            14.866   \n",
      "3333       1.554922       2.516468       1.923357             1.776   \n",
      "\n",
      "      model_material  area_ground  box_volume  \n",
      "819           15.342     3.627233   14.986759  \n",
      "570            8.883    17.860000   16.943783  \n",
      "194            5.116    25.985708   11.290674  \n",
      "3573          13.552     9.035470   75.399550  \n",
      "3333           7.410    27.720000   55.439995  \n",
      "     volume      area  n_triangles   x_scale   y_scale   z_scale  \\\n",
      "0  0.263056  0.384110     0.632016  0.249089  0.281304  0.438625   \n",
      "1  0.231445  0.417585     0.432034  0.394055  0.469556  0.170947   \n",
      "2  0.172977  0.462656     0.314733  0.483506  0.466419  0.086258   \n",
      "3  0.236941  0.439601     0.446240  0.284681  0.433056  0.604322   \n",
      "4  0.218985  0.488880     0.485067  0.427090  0.540170  0.290220   \n",
      "\n",
      "   area_ratio_xy  area_ratio_xz  area_ratio_yz  support_material  \\\n",
      "0       0.308444       0.257924       0.232399          0.393431   \n",
      "1       0.264689       0.321635       0.250059          0.202753   \n",
      "2       0.305695       0.332068       0.300415          0.280049   \n",
      "3       0.351407       0.165188       0.089454          0.448339   \n",
      "4       0.257865       0.294163       0.223976          0.147694   \n",
      "\n",
      "   model_material  area_ground  box_volume  \n",
      "0        0.277181     0.212244    0.261108  \n",
      "1        0.223053     0.409501    0.272008  \n",
      "2        0.171403     0.459797    0.236293  \n",
      "3        0.264695     0.320928    0.408745  \n",
      "4        0.205683     0.468542    0.380165  \n"
     ]
    }
   ],
   "source": [
    "#Xdata pipe fit\n",
    "\n",
    "xlabels = xtrain.columns.values\n",
    "\n",
    "xtrain = pipe.fit_transform(xtrain)\n",
    "xtrain = pd.DataFrame(xtrain)\n",
    "xtrain.columns = xlabels\n",
    "\n",
    "print(xtest.head())\n",
    "xtest = pipe.transform(xtest)\n",
    "xtest = pd.DataFrame(xtest)\n",
    "xtest.columns = xlabels\n",
    "print(xtest.head())"
   ]
  },
  {
   "cell_type": "code",
   "execution_count": 7,
   "metadata": {},
   "outputs": [],
   "source": [
    "#Convert to tensors\n",
    "xtraint = tf.convert_to_tensor(xtrain)\n",
    "ytraint = tf.convert_to_tensor(ytrain)\n",
    "xtestt = tf.convert_to_tensor(xtest)\n",
    "ytestt = tf.convert_to_tensor(ytest)"
   ]
  },
  {
   "cell_type": "code",
   "execution_count": 8,
   "metadata": {},
   "outputs": [],
   "source": [
    "#Define callbacks\n",
    "def get_callbacks(weights_file, patience, lr_factor):\n",
    "  \n",
    "  return [\n",
    "      # Only save the weights that correspond to the minimum mape.\n",
    "      ModelCheckpoint(filepath= weights_file,\n",
    "                      monitor=\"val_mape\", \n",
    "                      mode=\"min\",\n",
    "                      save_best_only=True, \n",
    "                      save_weights_only=False),\n",
    "      # If val_loss doesn't improve for a number of epochs set with 'patience' var \n",
    "      # training will stop to avoid overfitting.    \n",
    "      EarlyStopping(monitor=\"val_loss\",\n",
    "                    mode=\"min\",\n",
    "                    patience = patience,\n",
    "                    verbose=1),\n",
    "      # Learning rate is reduced by 'lr_factor' if val_loss stagnates\n",
    "      # for a number of epochs set with 'patience/2' var.     \n",
    "      ReduceLROnPlateau(monitor=\"val_loss\", mode=\"min\",\n",
    "                        factor=lr_factor, min_lr=1e-6, patience=patience//2, verbose=1)]"
   ]
  },
  {
   "cell_type": "code",
   "execution_count": 185,
   "metadata": {},
   "outputs": [
    {
     "name": "stdout",
     "output_type": "stream",
     "text": [
      "Error: single_layer_tuning - Het systeem kan het opgegeven pad niet vinden.\n",
      "Search space summary\n",
      "Default search space size: 2\n",
      "units (Int)\n",
      "{'default': None, 'conditions': [], 'min_value': 32, 'max_value': 512, 'step': 32, 'sampling': None}\n",
      "learning_rate (Choice)\n",
      "{'default': 0.01, 'conditions': [], 'values': [0.01, 0.001, 0.0001], 'ordered': True}\n"
     ]
    }
   ],
   "source": [
    "#Single layer tuner\n",
    "#https://www.analyticsvidhya.com/blog/2021/06/keras-tuner-auto-neural-network-architecture-selection/\n",
    "\n",
    "#Remove old search\n",
    "try:\n",
    "    shutil.rmtree(\"single_layer_tuning\")\n",
    "except OSError as e:\n",
    "    print(\"Error: %s - %s.\" % (e.filename, e.strerror))\n",
    "\n",
    "def model_builder(hp):\n",
    "  model = tf.keras.Sequential()\n",
    "  model.add(tf.keras.layers.Input(13,))\n",
    "\n",
    "  hp_units = hp.Int(\"units\", min_value=32, max_value=512, step=32)\n",
    "  model.add(tf.keras.layers.Dense(units=hp_units, activation='relu'))\n",
    "  \n",
    "  model.add(tf.keras.layers.Dense(1))\n",
    "\n",
    "  hp_learning_rate = hp.Choice('learning_rate', values=[1e-2, 1e-3, 1e-4])\n",
    "  model.compile(optimizer=tf.keras.optimizers.Adam(learning_rate=hp_learning_rate),\n",
    "                loss = 'mae', metrics = ['mape'])\n",
    "  return model\n",
    "\n",
    "tuner = kt.BayesianOptimization(\n",
    "    model_builder,\n",
    "    objective = 'val_mae',\n",
    "    max_trials = 10,\n",
    "    executions_per_trial = 3,\n",
    "    project_name = \"single_layer_tuning\"\n",
    ")\n",
    "\n",
    "tuner.search_space_summary()"
   ]
  },
  {
   "cell_type": "code",
   "execution_count": 186,
   "metadata": {},
   "outputs": [
    {
     "name": "stdout",
     "output_type": "stream",
     "text": [
      "Trial 10 Complete [00h 00m 09s]\n",
      "val_accuracy: 0.0\n",
      "\n",
      "Best val_accuracy So Far: 0.0\n",
      "Total elapsed time: 00h 01m 37s\n",
      "INFO:tensorflow:Oracle triggered exit\n"
     ]
    }
   ],
   "source": [
    "#Search\n",
    "tuner.search(xtraint, ytraint, epochs=5, validation_data=(xtestt, ytestt))"
   ]
  },
  {
   "cell_type": "code",
   "execution_count": 187,
   "metadata": {},
   "outputs": [
    {
     "name": "stdout",
     "output_type": "stream",
     "text": [
      "Results summary\n",
      "Results in .\\single_layer_tuning\n",
      "Showing 1 best trials\n",
      "<keras_tuner.engine.objective.Objective object at 0x00000202CAA21780>\n",
      "Trial summary\n",
      "Hyperparameters:\n",
      "units: 128\n",
      "learning_rate: 0.0001\n",
      "Score: 0.0\n"
     ]
    }
   ],
   "source": [
    "#Results\n",
    "tuner.results_summary(1)"
   ]
  },
  {
   "cell_type": "code",
   "execution_count": 9,
   "metadata": {},
   "outputs": [
    {
     "name": "stdout",
     "output_type": "stream",
     "text": [
      "Search space summary\n",
      "Default search space size: 3\n",
      "layers (Int)\n",
      "{'default': None, 'conditions': [], 'min_value': 1, 'max_value': 5, 'step': 1, 'sampling': None}\n",
      "units_0 (Int)\n",
      "{'default': None, 'conditions': [], 'min_value': 8, 'max_value': 256, 'step': 16, 'sampling': None}\n",
      "learning_rate (Choice)\n",
      "{'default': 0.01, 'conditions': [], 'values': [0.01, 0.001, 0.0001], 'ordered': True}\n"
     ]
    }
   ],
   "source": [
    "#Multiple layer tuner\n",
    "#https://www.analyticsvidhya.com/blog/2021/06/keras-tuner-auto-neural-network-architecture-selection/\n",
    "#https://pub.towardsai.net/keras-tuner-tutorial-hyperparameter-optimization-tensorflow-keras-computer-vision-example-c9abbdad9887\n",
    "\n",
    "#Remove old search\n",
    "try:\n",
    "    shutil.rmtree(\"multiple_layers_tuning\")\n",
    "except OSError as e:\n",
    "    print(\"Error: %s - %s.\" % (e.filename, e.strerror))\n",
    "\n",
    "\n",
    "def model_builder(hp):\n",
    "  model = tf.keras.Sequential()\n",
    "  model.add(tf.keras.layers.Input(13,))\n",
    "\n",
    "  hp_layers = hp.Int(\"layers\", min_value=1, max_value=5, step=1)\n",
    "  \n",
    "  for i in range(hp_layers):\n",
    "    model.add(tf.keras.layers.Dense(units=hp.Int(f\"units_{i}\", min_value=8, max_value=256, step=16), activation='relu'))\n",
    "\n",
    "  \n",
    "  model.add(tf.keras.layers.Dense(1))\n",
    "\n",
    "  hp_learning_rate = hp.Choice('learning_rate', values=[1e-2, 1e-3, 1e-4])\n",
    "  model.compile(optimizer=tf.keras.optimizers.Adam(learning_rate=hp_learning_rate),\n",
    "                loss = 'mape', metrics = ['mae', 'mape'])\n",
    "  return model\n",
    "\n",
    "tuner = kt.BayesianOptimization(\n",
    "    model_builder,\n",
    "    objective = 'val_mape',\n",
    "    max_trials = 10,\n",
    "    executions_per_trial = 3,\n",
    "    project_name = \"multiple_layers_tuning\"\n",
    ")\n",
    "\n",
    "tuner.search_space_summary()"
   ]
  },
  {
   "cell_type": "code",
   "execution_count": 10,
   "metadata": {},
   "outputs": [
    {
     "name": "stdout",
     "output_type": "stream",
     "text": [
      "Trial 10 Complete [00h 00m 12s]\n",
      "val_mape: 45.15690612792969\n",
      "\n",
      "Best val_mape So Far: 30.160851160685223\n",
      "Total elapsed time: 00h 02m 33s\n",
      "INFO:tensorflow:Oracle triggered exit\n"
     ]
    }
   ],
   "source": [
    "#Search\n",
    "tuner.search(xtraint, ytraint, epochs=5, validation_data=(xtestt, ytestt), callbacks=get_callbacks('NN_weights.h5',\n",
    "                                                                                                    patience=10,\n",
    "                                                                                                    lr_factor=0.2))"
   ]
  },
  {
   "cell_type": "code",
   "execution_count": 11,
   "metadata": {},
   "outputs": [
    {
     "name": "stdout",
     "output_type": "stream",
     "text": [
      "Results summary\n",
      "Results in .\\multiple_layers_tuning\n",
      "Showing 1 best trials\n",
      "<keras_tuner.engine.objective.Objective object at 0x00000206F3227C10>\n",
      "Trial summary\n",
      "Hyperparameters:\n",
      "layers: 4\n",
      "units_0: 248\n",
      "learning_rate: 0.01\n",
      "units_1: 248\n",
      "units_2: 248\n",
      "units_3: 8\n",
      "units_4: 232\n",
      "Score: 30.160851160685223\n"
     ]
    }
   ],
   "source": [
    "#Results\n",
    "tuner.results_summary(1)"
   ]
  },
  {
   "cell_type": "code",
   "execution_count": 10,
   "metadata": {},
   "outputs": [
    {
     "name": "stdout",
     "output_type": "stream",
     "text": [
      "Model: \"sequential_1\"\n",
      "_________________________________________________________________\n",
      " Layer (type)                Output Shape              Param #   \n",
      "=================================================================\n",
      " dense_5 (Dense)             (None, 8)                 112       \n",
      "                                                                 \n",
      " dense_6 (Dense)             (None, 24)                216       \n",
      "                                                                 \n",
      " dense_7 (Dense)             (None, 136)               3400      \n",
      "                                                                 \n",
      " dense_8 (Dense)             (None, 232)               31784     \n",
      "                                                                 \n",
      " dense_9 (Dense)             (None, 232)               54056     \n",
      "                                                                 \n",
      " dense_10 (Dense)            (None, 1)                 233       \n",
      "                                                                 \n",
      "=================================================================\n",
      "Total params: 89,801\n",
      "Trainable params: 89,801\n",
      "Non-trainable params: 0\n",
      "_________________________________________________________________\n"
     ]
    }
   ],
   "source": [
    "#Build new model\n",
    "model = tf.keras.Sequential([\n",
    "                               tf.keras.layers.Input(13,),\n",
    "                               tf.keras.layers.Dense(8, activation='relu'),\n",
    "                               tf.keras.layers.Dense(24, activation='relu'),\n",
    "                               tf.keras.layers.Dense(136, activation='relu'),\n",
    "                               tf.keras.layers.Dense(232, activation='relu'),\n",
    "                               tf.keras.layers.Dense(232, activation='relu'),\n",
    "                               tf.keras.layers.Dense(1)\n",
    "])\n",
    "model.compile(loss='mape',\n",
    "                optimizer=tf.keras.optimizers.Adam(learning_rate=0.01),\n",
    "                metrics=['mae',tf.keras.metrics.MeanAbsolutePercentageError(name=\"mape\")]\n",
    ")\n",
    "model.summary()"
   ]
  },
  {
   "cell_type": "code",
   "execution_count": null,
   "metadata": {},
   "outputs": [],
   "source": [
    "#Naive fit model\n",
    "model.fit(xtraint, ytraint, epochs=400, verbose=0)"
   ]
  },
  {
   "cell_type": "code",
   "execution_count": 52,
   "metadata": {},
   "outputs": [
    {
     "data": {
      "text/plain": [
       "{'layers': 2, 'units_0': 104, 'learning_rate': 0.01, 'units_1': 8}"
      ]
     },
     "execution_count": 52,
     "metadata": {},
     "output_type": "execute_result"
    }
   ],
   "source": [
    "#Get the top 2 hyperparameters.\n",
    "best_hps = tuner.get_best_hyperparameters(1)\n",
    "best_hps[0].values"
   ]
  },
  {
   "cell_type": "code",
   "execution_count": 122,
   "metadata": {},
   "outputs": [
    {
     "name": "stdout",
     "output_type": "stream",
     "text": [
      "35/35 [==============================] - 0s 2ms/step\n",
      "Mean absolute error: 21.534584045410156\n",
      "Mean percentage error: 12.700477600097656\n"
     ]
    }
   ],
   "source": [
    "#Test new model\n",
    "preds = model.predict(xtestt)\n",
    "\n",
    "mae = tf.metrics.mean_absolute_error(y_true=ytestt, y_pred=preds.squeeze()).numpy()\n",
    "print(f\"Mean absolute error: {mae}\")\n",
    "\n",
    "m = tf.keras.metrics.MeanAbsolutePercentageError()\n",
    "m.update_state(y_true=ytestt, y_pred=preds.squeeze())\n",
    "print(f\"Mean percentage error: {m.result().numpy()}\")\n"
   ]
  },
  {
   "cell_type": "code",
   "execution_count": 11,
   "metadata": {},
   "outputs": [
    {
     "name": "stdout",
     "output_type": "stream",
     "text": [
      "INFO:tensorflow:Assets written to: savedmodels\\Baseline\\assets\n",
      "INFO:tensorflow:Assets written to: savedmodels\\Baseline\\assets\n",
      "INFO:tensorflow:Assets written to: savedmodels\\Baseline\\assets\n",
      "INFO:tensorflow:Assets written to: savedmodels\\Baseline\\assets\n",
      "INFO:tensorflow:Assets written to: savedmodels\\Baseline\\assets\n",
      "INFO:tensorflow:Assets written to: savedmodels\\Baseline\\assets\n",
      "INFO:tensorflow:Assets written to: savedmodels\\Baseline\\assets\n",
      "INFO:tensorflow:Assets written to: savedmodels\\Baseline\\assets\n",
      "INFO:tensorflow:Assets written to: savedmodels\\Baseline\\assets\n",
      "INFO:tensorflow:Assets written to: savedmodels\\Baseline\\assets\n",
      "INFO:tensorflow:Assets written to: savedmodels\\Baseline\\assets\n",
      "INFO:tensorflow:Assets written to: savedmodels\\Baseline\\assets\n",
      "\n",
      "Epoch 24: ReduceLROnPlateau reducing learning rate to 0.0019999999552965165.\n",
      "INFO:tensorflow:Assets written to: savedmodels\\Baseline\\assets\n",
      "INFO:tensorflow:Assets written to: savedmodels\\Baseline\\assets\n",
      "INFO:tensorflow:Assets written to: savedmodels\\Baseline\\assets\n",
      "\n",
      "Epoch 35: ReduceLROnPlateau reducing learning rate to 0.0003999999724328518.\n",
      "INFO:tensorflow:Assets written to: savedmodels\\Baseline\\assets\n",
      "INFO:tensorflow:Assets written to: savedmodels\\Baseline\\assets\n",
      "INFO:tensorflow:Assets written to: savedmodels\\Baseline\\assets\n",
      "INFO:tensorflow:Assets written to: savedmodels\\Baseline\\assets\n",
      "INFO:tensorflow:Assets written to: savedmodels\\Baseline\\assets\n",
      "INFO:tensorflow:Assets written to: savedmodels\\Baseline\\assets\n",
      "INFO:tensorflow:Assets written to: savedmodels\\Baseline\\assets\n",
      "\n",
      "Epoch 59: ReduceLROnPlateau reducing learning rate to 7.999999215826393e-05.\n",
      "INFO:tensorflow:Assets written to: savedmodels\\Baseline\\assets\n",
      "INFO:tensorflow:Assets written to: savedmodels\\Baseline\\assets\n",
      "INFO:tensorflow:Assets written to: savedmodels\\Baseline\\assets\n",
      "INFO:tensorflow:Assets written to: savedmodels\\Baseline\\assets\n",
      "\n",
      "Epoch 69: ReduceLROnPlateau reducing learning rate to 1.599999814061448e-05.\n",
      "INFO:tensorflow:Assets written to: savedmodels\\Baseline\\assets\n",
      "INFO:tensorflow:Assets written to: savedmodels\\Baseline\\assets\n",
      "INFO:tensorflow:Assets written to: savedmodels\\Baseline\\assets\n",
      "INFO:tensorflow:Assets written to: savedmodels\\Baseline\\assets\n",
      "\n",
      "Epoch 82: ReduceLROnPlateau reducing learning rate to 3.199999628122896e-06.\n",
      "\n",
      "Epoch 87: ReduceLROnPlateau reducing learning rate to 1e-06.\n",
      "Epoch 87: early stopping\n"
     ]
    }
   ],
   "source": [
    "#Fit with callbacks\n",
    "history = model.fit(xtraint, ytraint, validation_data=(xtestt, ytestt), epochs=400, verbose=0,\n",
    "                    callbacks=get_callbacks('savedmodels/Baseline',\n",
    "                                            patience=10,\n",
    "                                            lr_factor=0.2))\n",
    "\n"
   ]
  },
  {
   "cell_type": "code",
   "execution_count": 12,
   "metadata": {},
   "outputs": [
    {
     "name": "stdout",
     "output_type": "stream",
     "text": [
      "35/35 [==============================] - 0s 4ms/step\n",
      "Mean absolute error: 38.28886032104492\n",
      "Mean percentage error: 10.420564651489258\n"
     ]
    }
   ],
   "source": [
    "#Test new model\n",
    "preds = model.predict(xtestt)\n",
    "\n",
    "mae = tf.metrics.mean_absolute_error(y_true=ytestt, y_pred=preds.squeeze()).numpy()\n",
    "print(f\"Mean absolute error: {mae}\")\n",
    "\n",
    "mape = tf.metrics.mape(y_true=ytestt, y_pred=preds.squeeze())\n",
    "print(f\"Mean percentage error: {mape}\")"
   ]
  },
  {
   "cell_type": "code",
   "execution_count": 13,
   "metadata": {},
   "outputs": [
    {
     "data": {
      "text/plain": [
       "<function matplotlib.pyplot.show(close=None, block=None)>"
      ]
     },
     "execution_count": 13,
     "metadata": {},
     "output_type": "execute_result"
    },
    {
     "data": {
      "image/png": "[encoded data removed]",
      "text/plain": [
       "<Figure size 640x480 with 1 Axes>"
      ]
     },
     "metadata": {},
     "output_type": "display_data"
    }
   ],
   "source": [
    "#Plot learning rate\n",
    "plt.plot(history.history[\"lr\"])\n",
    "plt.title('model learning rate')\n",
    "plt.ylabel('learning rate')\n",
    "plt.xlabel('epoch')\n",
    "plt.show"
   ]
  },
  {
   "cell_type": "code",
   "execution_count": 14,
   "metadata": {},
   "outputs": [
    {
     "data": {
      "text/plain": [
       "<function matplotlib.pyplot.show(close=None, block=None)>"
      ]
     },
     "execution_count": 14,
     "metadata": {},
     "output_type": "execute_result"
    },
    {
     "data": {
      "image/png": "[encoded data removed]",
      "text/plain": [
       "<Figure size 640x480 with 1 Axes>"
      ]
     },
     "metadata": {},
     "output_type": "display_data"
    }
   ],
   "source": [
    "#Plot mae\n",
    "plt.plot(history.history[\"mae\"])\n",
    "plt.title('model mean absolute error')\n",
    "plt.ylabel('mae')\n",
    "plt.xlabel('epoch')\n",
    "plt.show"
   ]
  }
 ],
 "metadata": {
  "kernelspec": {
   "display_name": "tfenvironment",
   "language": "python",
   "name": "python3"
  },
  "language_info": {
   "codemirror_mode": {
    "name": "ipython",
    "version": 3
   },
   "file_extension": ".py",
   "mimetype": "text/x-python",
   "name": "python",
   "nbconvert_exporter": "python",
   "pygments_lexer": "ipython3",
   "version": "3.10.8"
  },
  "orig_nbformat": 4,
  "vscode": {
   "interpreter": {
    "hash": "d217d37ed9247659b2812203162b84cdb779e33cccd1fe199abf14cba0e180e9"
   }
  }
 },
 "nbformat": 4,
 "nbformat_minor": 2
}
