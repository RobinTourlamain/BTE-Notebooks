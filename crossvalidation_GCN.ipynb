{
 "cells": [
  {
   "cell_type": "code",
   "execution_count": 1,
   "metadata": {},
   "outputs": [],
   "source": [
    "#Imports\n",
    "import tensorflow as tf\n",
    "import numpy as np\n",
    "import matplotlib.pyplot as plt\n",
    "import pandas as pd;\n",
    "from sklearn.preprocessing import Normalizer\n",
    "from sklearn.model_selection import train_test_split\n",
    "import keras_tuner as kt\n",
    "from sklearn.metrics import mean_absolute_percentage_error\n",
    "from sklearn.preprocessing import FunctionTransformer\n",
    "from sklearn.pipeline import Pipeline\n",
    "from sklearn.preprocessing import MinMaxScaler\n",
    "from sklearn.model_selection import KFold\n",
    "import os\n",
    "import sys\n",
    "import shutil\n",
    "import keras\n",
    "from keras.callbacks import EarlyStopping,ReduceLROnPlateau,ModelCheckpoint\n",
    "from spektral.data.utils import to_tf_signature, prepend_none\n",
    "from spektral.data import DisjointLoader, Dataset\n",
    "from spektral.transforms import GCNFilter, NormalizeAdj\n",
    "import scipy.sparse\n",
    "from spektral.data.graph import Graph\n",
    "from keras.layers import Dense, concatenate, Dropout\n",
    "from keras import Model"
   ]
  },
  {
   "cell_type": "code",
   "execution_count": 2,
   "metadata": {},
   "outputs": [],
   "source": [
    "features = pd.read_csv('thingi10k_data.csv', index_col=0)\n",
    "adjpath = '../Data/stl/adjacency_stl_simplified/'\n",
    "cloudpath = '../Data/stl/nodefeatures_stl_simplified/'\n",
    "edgepath = '../Data/stl/edgefeaturesmatrix_stl_simplified/'"
   ]
  },
  {
   "cell_type": "code",
   "execution_count": 3,
   "metadata": {},
   "outputs": [],
   "source": [
    "#Read data, drop unnecessary\n",
    "data = pd.read_csv('thingi10k_data.csv', index_col=0)\n",
    "\n",
    "df = data.copy()\n",
    "df.drop(\"source\", axis=1, inplace=True)\n",
    "df.drop(\"model_name\", axis=1, inplace=True)\n",
    "\n",
    "#Extract build times\n",
    "build_times = df[\"build_time\"]\n",
    "df.drop(\"build_time\", axis=1,inplace=True)\n",
    "\n",
    "#Make pipeline\n",
    "def log_transform(x):\n",
    "    return np.log(x + 1)\n",
    "\n",
    "def inv_log_transform(x):\n",
    "    return np.exp(x) - 1 \n",
    "\n",
    "logtransformer = FunctionTransformer(func=log_transform, inverse_func=inv_log_transform, check_inverse=False)\n",
    "pipe = Pipeline(steps=[ ('logtransformer', logtransformer)])\n",
    "\n",
    "#Log transform\n",
    "transformed = pipe.fit_transform(df)\n",
    "df = np.asarray(transformed)\n",
    "build_times = np.asarray(build_times)"
   ]
  },
  {
   "cell_type": "code",
   "execution_count": 4,
   "metadata": {},
   "outputs": [],
   "source": [
    "#Graph dataset\n",
    "class MyDataset(Dataset):\n",
    "    def __init__(self, centroids, dev, index, **kwargs):\n",
    "        self.centroids = centroids\n",
    "        self.dev = dev\n",
    "        self.index = index\n",
    "        super().__init__(**kwargs)\n",
    "\n",
    "    def read(self):\n",
    "        output = []\n",
    "        for i in self.index:\n",
    "            if(os.path.isfile(adjpath + f'{features[\"model_name\"][i]}.npz')):\n",
    "                point_cloud = np.load(cloudpath + f'{features[\"model_name\"][i]}.npy').reshape(-1,3)\n",
    "                edgefeat = scipy.sparse.load_npz(edgepath + f'{features[\"model_name\"][i]}.npz')\n",
    "                output.append(\n",
    "                    Graph(x=((point_cloud-self.centroids)/self.dev), a=edgefeat, y=features[\"build_time\"][i])\n",
    "                )\n",
    "            else:\n",
    "                print(f'object {i} missing!')\n",
    "\n",
    "        return output"
   ]
  },
  {
   "cell_type": "code",
   "execution_count": 5,
   "metadata": {},
   "outputs": [],
   "source": [
    "def get_split_graphs(trainindex, testindex):\n",
    "    print(\"Getting split...\")\n",
    "    coords = np.empty((1,3))\n",
    "\n",
    "    for i in trainindex:\n",
    "        if(os.path.isfile(adjpath + f'{features[\"model_name\"][i]}.npz')):\n",
    "            point_cloud = np.load(cloudpath + f'{features[\"model_name\"][i]}.npy').reshape(-1,3)\n",
    "            coords = np.concatenate((coords,point_cloud))\n",
    "            \n",
    "\n",
    "    coords = np.delete(coords,0,0)\n",
    "    centroids = np.mean(coords,0)\n",
    "    coordscentered = coords - centroids\n",
    "    dev = np.max(np.sqrt(np.sum(coordscentered**2,axis=-1) / (trainindex.shape[0] - 1)))\n",
    "\n",
    "    train = MyDataset(centroids, dev, trainindex)\n",
    "    test = MyDataset(centroids, dev, testindex)\n",
    "    validation = MyDataset(centroids, dev, range(3478,3661))\n",
    "    train.apply(NormalizeAdj())\n",
    "    test.apply(NormalizeAdj())\n",
    "    validation.apply(NormalizeAdj())\n",
    "    train = DisjointLoader(train, batch_size=32)\n",
    "    test = DisjointLoader(test, batch_size=32)\n",
    "    validation = DisjointLoader(validation, batch_size=32)\n",
    "    \n",
    "    return train, test, validation"
   ]
  },
  {
   "cell_type": "code",
   "execution_count": 6,
   "metadata": {},
   "outputs": [],
   "source": [
    "#Define callbacks\n",
    "def get_callbacks(weights_file, patience, lr_factor):\n",
    "  return [\n",
    "      # Only save the weights that correspond to the minimum mape.\n",
    "      ModelCheckpoint(filepath= weights_file,\n",
    "                      monitor=\"val_mape\", \n",
    "                      mode=\"min\",\n",
    "                      save_best_only=True, \n",
    "                      save_weights_only=False),\n",
    "      # If val_loss doesn't improve for a number of epochs set with 'patience' var \n",
    "      # training will stop to avoid overfitting.    \n",
    "      EarlyStopping(monitor=\"val_loss\",\n",
    "                    mode=\"min\",\n",
    "                    patience = patience,\n",
    "                    verbose=1),\n",
    "      # Learning rate is reduced by 'lr_factor' if val_loss stagnates\n",
    "      # for a number of epochs set with 'patience/2' var.     \n",
    "      ReduceLROnPlateau(monitor=\"val_loss\", mode=\"min\",\n",
    "                        factor=lr_factor, min_lr=1e-8, patience=patience//2, verbose=1)]"
   ]
  },
  {
   "cell_type": "code",
   "execution_count": 7,
   "metadata": {},
   "outputs": [],
   "source": [
    "#util\n",
    "def reset_model(model):\n",
    "    import keras.backend as K\n",
    "    session = K.get_session()\n",
    "    for layer in model.layers: \n",
    "        if hasattr(layer, 'kernel.initializer') and layer.trainable: \n",
    "            layer.kernel.initializer.run(session=session)\n",
    "        if hasattr(layer, 'bias.initializer') and layer.trainable:\n",
    "            layer.bias.initializer.run(session=session)\n",
    "\n",
    "def make_trainable(model):\n",
    "    for layer in model.layers:\n",
    "        layer.trainable = True"
   ]
  },
  {
   "cell_type": "code",
   "execution_count": 8,
   "metadata": {},
   "outputs": [],
   "source": [
    "#Validation\n",
    "def cross_validate(model, dir):\n",
    "    loss_per_fold = []\n",
    "    mae_per_fold = []\n",
    "    mape_per_fold = []\n",
    "    validation_per_fold = []\n",
    "    batch_size = 32\n",
    "    verbosity = 1\n",
    "    no_epochs = 1000\n",
    "    kfold = KFold(n_splits=5, shuffle=True)\n",
    "\n",
    "\n",
    "    print('multi-input')\n",
    "    fold_no = 1\n",
    "    for train, test in kfold.split(df[0:3478], build_times[0:3478]):\n",
    "\n",
    "        reset_model(model)\n",
    "        trainloader, testloader, validationloader = get_split_graphs(train, test)\n",
    "\n",
    "        print('------------------------------------------------------------------------')\n",
    "        print(f'Training for fold {fold_no} ...')\n",
    "\n",
    "        model.compile(loss='mape',\n",
    "            optimizer=tf.keras.optimizers.Adam(learning_rate=0.001), #0.001\n",
    "            metrics=['mae','mape']\n",
    "        )\n",
    "        history = model.fit(trainloader.load(), validation_data=testloader.load(), validation_steps=testloader.steps_per_epoch, steps_per_epoch=trainloader.steps_per_epoch,\n",
    "            batch_size=batch_size,\n",
    "            epochs=no_epochs,\n",
    "            verbose=verbosity,\n",
    "            callbacks=get_callbacks(f'{dir}_{fold_no}',\n",
    "                                        patience=60,\n",
    "                                        lr_factor=0.3))\n",
    "        model = keras.models.load_model(f\"{dir}_{fold_no}\")\n",
    "    \n",
    "        # Generate generalization metrics\n",
    "        valscores = model.evaluate(validationloader.load(), steps=validationloader.steps_per_epoch, batch_size=32, verbose=0)\n",
    "        validation_per_fold.append(valscores)\n",
    "        scores = model.evaluate(testloader.load(), steps=testloader.steps_per_epoch, batch_size=32, verbose=0)\n",
    "        print(f'Score for fold {fold_no}: {model.metrics_names[0]} of {scores[0]}; {model.metrics_names[1]} of {scores[1]}; {model.metrics_names[2]} of {scores[2]}%;')\n",
    "        loss_per_fold.append(scores[0])\n",
    "        mae_per_fold.append(scores[1])\n",
    "        mape_per_fold.append(scores[2])\n",
    "\n",
    "        # Increase fold number\n",
    "        fold_no = fold_no + 1\n",
    "\n",
    "    return loss_per_fold, mae_per_fold, mape_per_fold, validation_per_fold\n",
    "\n",
    "    "
   ]
  },
  {
   "cell_type": "code",
   "execution_count": 9,
   "metadata": {},
   "outputs": [],
   "source": [
    "#Print scores\n",
    "def print_scores(loss_per_fold, mae_per_fold, mape_per_fold, validation_per_fold):\n",
    "    print('------------------------------------------------------------------------')\n",
    "    print('Score per fold')\n",
    "    for i in range(0, len(loss_per_fold)):\n",
    "        print('------------------------------------------------------------------------')\n",
    "        print(f'> Fold {i+1} - Loss: {loss_per_fold[i]} - Mean average error: {mae_per_fold[i]}% - Mean percentage error: {mape_per_fold[i]}%')\n",
    "        print(f'    Score on unseen data: Loss: {validation_per_fold[i][0]} - Mean average error: {validation_per_fold[i][1]}% - Mean percentage error: {validation_per_fold[i][2]}%')\n",
    "        print('------------------------------------------------------------------------')\n",
    "    print('Average scores for all folds:')\n",
    "    print(f'> Loss: {np.mean(loss_per_fold)}')\n",
    "    print(f'> Mean average error: {np.mean(mae_per_fold)}')\n",
    "    print(f'> Mean percentage error: {np.mean(mape_per_fold)}')\n",
    "    print(f'> Unseen Loss: {np.mean(np.asarray(validation_per_fold)[:,0])}')\n",
    "    print(f'> Unseen Mean average error: {np.mean(np.asarray(validation_per_fold)[:,1])}')\n",
    "    print(f'> Unseen Mean percentage error: {np.mean(np.asarray(validation_per_fold)[:,2])}')\n",
    "    print('------------------------------------------------------------------------')\n",
    "    "
   ]
  },
  {
   "cell_type": "code",
   "execution_count": 10,
   "metadata": {},
   "outputs": [
    {
     "name": "stdout",
     "output_type": "stream",
     "text": [
      "multi-input\n",
      "Getting split...\n",
      "------------------------------------------------------------------------\n",
      "Training for fold 1 ...\n",
      "Epoch 1/1000\n"
     ]
    },
    {
     "name": "stderr",
     "output_type": "stream",
     "text": [
      "c:\\Users\\Robin\\.conda\\envs\\tfenvironment\\lib\\site-packages\\spektral\\data\\utils.py:221: UserWarning: you are shuffling a 'MyDataset' object which is not a subclass of 'Sequence'; `shuffle` is not guaranteed to behave correctly. E.g., non-numpy array/tensor objects with view semantics may contain duplicates after shuffling.\n",
      "  np.random.shuffle(a)\n"
     ]
    },
    {
     "name": "stdout",
     "output_type": "stream",
     "text": [
      "87/87 [==============================] - ETA: 0s - loss: 44.7116 - mae: 203.0311 - mape: 40.6507"
     ]
    },
    {
     "name": "stderr",
     "output_type": "stream",
     "text": [
      "WARNING:absl:Function `_wrapped_model` contains input name(s) args_0 with unsupported characters which will be renamed to args_0_4 in the SavedModel.\n"
     ]
    },
    {
     "name": "stdout",
     "output_type": "stream",
     "text": [
      "INFO:tensorflow:Assets written to: crossvalidationmodels\\GCN_1\\assets\n"
     ]
    },
    {
     "name": "stderr",
     "output_type": "stream",
     "text": [
      "INFO:tensorflow:Assets written to: crossvalidationmodels\\GCN_1\\assets\n"
     ]
    },
    {
     "name": "stdout",
     "output_type": "stream",
     "text": [
      "87/87 [==============================] - 9s 87ms/step - loss: 44.7116 - mae: 203.0311 - mape: 40.6507 - val_loss: 43.7918 - val_mae: 169.8668 - val_mape: 39.7309 - lr: 0.0010\n",
      "Epoch 2/1000\n",
      " 1/87 [..............................] - ETA: 7s - loss: 49.2595 - mae: 79.9885 - mape: 45.1985"
     ]
    },
    {
     "name": "stderr",
     "output_type": "stream",
     "text": [
      "c:\\Users\\Robin\\.conda\\envs\\tfenvironment\\lib\\site-packages\\spektral\\data\\utils.py:221: UserWarning: you are shuffling a 'MyDataset' object which is not a subclass of 'Sequence'; `shuffle` is not guaranteed to behave correctly. E.g., non-numpy array/tensor objects with view semantics may contain duplicates after shuffling.\n",
      "  np.random.shuffle(a)\n"
     ]
    },
    {
     "name": "stdout",
     "output_type": "stream",
     "text": [
      "87/87 [==============================] - ETA: 0s - loss: 42.1963 - mae: 200.5422 - mape: 38.1405"
     ]
    },
    {
     "name": "stderr",
     "output_type": "stream",
     "text": [
      "WARNING:absl:Function `_wrapped_model` contains input name(s) args_0 with unsupported characters which will be renamed to args_0_4 in the SavedModel.\n"
     ]
    },
    {
     "name": "stdout",
     "output_type": "stream",
     "text": [
      "INFO:tensorflow:Assets written to: crossvalidationmodels\\GCN_1\\assets\n"
     ]
    },
    {
     "name": "stderr",
     "output_type": "stream",
     "text": [
      "INFO:tensorflow:Assets written to: crossvalidationmodels\\GCN_1\\assets\n"
     ]
    },
    {
     "name": "stdout",
     "output_type": "stream",
     "text": [
      "87/87 [==============================] - 8s 88ms/step - loss: 42.1963 - mae: 200.5422 - mape: 38.1405 - val_loss: 40.9569 - val_mae: 172.0337 - val_mape: 36.8970 - lr: 0.0010\n",
      "Epoch 3/1000\n",
      " 1/87 [..............................] - ETA: 6s - loss: 52.0761 - mae: 502.2348 - mape: 48.0162"
     ]
    },
    {
     "name": "stderr",
     "output_type": "stream",
     "text": [
      "c:\\Users\\Robin\\.conda\\envs\\tfenvironment\\lib\\site-packages\\spektral\\data\\utils.py:221: UserWarning: you are shuffling a 'MyDataset' object which is not a subclass of 'Sequence'; `shuffle` is not guaranteed to behave correctly. E.g., non-numpy array/tensor objects with view semantics may contain duplicates after shuffling.\n",
      "  np.random.shuffle(a)\n"
     ]
    },
    {
     "name": "stdout",
     "output_type": "stream",
     "text": [
      "87/87 [==============================] - 7s 76ms/step - loss: 42.3710 - mae: 201.0967 - mape: 38.3200 - val_loss: 43.1083 - val_mae: 168.8712 - val_mape: 39.0625 - lr: 0.0010\n",
      "Epoch 4/1000\n",
      "87/87 [==============================] - 7s 75ms/step - loss: 43.3697 - mae: 200.7721 - mape: 39.3239 - val_loss: 47.1695 - val_mae: 175.8879 - val_mape: 43.1213 - lr: 0.0010\n",
      "Epoch 5/1000\n",
      "87/87 [==============================] - 7s 75ms/step - loss: 43.4295 - mae: 201.3985 - mape: 39.3712 - val_loss: 42.1675 - val_mae: 172.4078 - val_mape: 38.1016 - lr: 0.0010\n",
      "Epoch 6/1000\n",
      "87/87 [==============================] - 7s 76ms/step - loss: 42.5319 - mae: 201.6146 - mape: 38.4635 - val_loss: 42.8498 - val_mae: 169.5627 - val_mape: 38.7719 - lr: 0.0010\n",
      "Epoch 7/1000\n",
      "87/87 [==============================] - 7s 76ms/step - loss: 41.8970 - mae: 201.1266 - mape: 37.8291 - val_loss: 42.7930 - val_mae: 170.8400 - val_mape: 38.7213 - lr: 0.0010\n",
      "Epoch 8/1000\n",
      "87/87 [==============================] - 7s 76ms/step - loss: 42.9744 - mae: 200.5765 - mape: 38.9012 - val_loss: 43.1174 - val_mae: 171.4279 - val_mape: 39.0432 - lr: 0.0010\n",
      "Epoch 9/1000\n",
      "87/87 [==============================] - 7s 76ms/step - loss: 41.8052 - mae: 199.8888 - mape: 37.7297 - val_loss: 43.1498 - val_mae: 172.5860 - val_mape: 39.0746 - lr: 0.0010\n",
      "Epoch 10/1000\n",
      "87/87 [==============================] - 6s 74ms/step - loss: 42.2857 - mae: 200.9951 - mape: 38.2055 - val_loss: 42.7012 - val_mae: 169.4078 - val_mape: 38.6150 - lr: 0.0010\n",
      "Epoch 11/1000\n",
      "87/87 [==============================] - 7s 76ms/step - loss: 42.8618 - mae: 200.8881 - mape: 38.7767 - val_loss: 42.9895 - val_mae: 173.7388 - val_mape: 38.9137 - lr: 0.0010\n",
      "Epoch 12/1000\n",
      "87/87 [==============================] - 7s 75ms/step - loss: 42.0545 - mae: 200.1936 - mape: 37.9756 - val_loss: 42.5562 - val_mae: 170.2603 - val_mape: 38.4740 - lr: 0.0010\n",
      "Epoch 13/1000\n",
      "87/87 [==============================] - 7s 76ms/step - loss: 42.3734 - mae: 201.3302 - mape: 38.2943 - val_loss: 43.4649 - val_mae: 169.8349 - val_mape: 39.3770 - lr: 0.0010\n",
      "Epoch 14/1000\n",
      "87/87 [==============================] - 7s 75ms/step - loss: 41.4808 - mae: 200.3681 - mape: 37.3909 - val_loss: 43.7654 - val_mae: 171.0088 - val_mape: 39.6742 - lr: 0.0010\n",
      "Epoch 15/1000\n",
      "87/87 [==============================] - 7s 76ms/step - loss: 41.9879 - mae: 201.8183 - mape: 37.8936 - val_loss: 43.6078 - val_mae: 171.8992 - val_mape: 39.5082 - lr: 0.0010\n",
      "Epoch 16/1000\n",
      "87/87 [==============================] - 7s 75ms/step - loss: 41.7153 - mae: 200.2769 - mape: 37.6109 - val_loss: 46.3680 - val_mae: 179.3732 - val_mape: 42.2696 - lr: 0.0010\n",
      "Epoch 17/1000\n",
      "87/87 [==============================] - 7s 76ms/step - loss: 41.9611 - mae: 199.7731 - mape: 37.8497 - val_loss: 47.9119 - val_mae: 169.8265 - val_mape: 43.7975 - lr: 0.0010\n",
      "Epoch 18/1000\n",
      "87/87 [==============================] - 7s 75ms/step - loss: 41.7460 - mae: 199.3763 - mape: 37.6201 - val_loss: 47.7843 - val_mae: 177.9684 - val_mape: 43.6680 - lr: 0.0010\n",
      "Epoch 19/1000\n",
      "87/87 [==============================] - 7s 76ms/step - loss: 42.4324 - mae: 200.4632 - mape: 38.3089 - val_loss: 43.6391 - val_mae: 169.2824 - val_mape: 39.5119 - lr: 0.0010\n",
      "Epoch 20/1000\n",
      "87/87 [==============================] - 7s 75ms/step - loss: 42.8701 - mae: 201.3071 - mape: 38.7412 - val_loss: 43.3110 - val_mae: 169.2486 - val_mape: 39.1806 - lr: 0.0010\n",
      "Epoch 21/1000\n",
      "87/87 [==============================] - 7s 76ms/step - loss: 41.9347 - mae: 199.5278 - mape: 37.8064 - val_loss: 44.0559 - val_mae: 174.5095 - val_mape: 39.9323 - lr: 0.0010\n",
      "Epoch 22/1000\n",
      "87/87 [==============================] - 7s 75ms/step - loss: 40.9961 - mae: 198.9164 - mape: 36.8706 - val_loss: 44.0740 - val_mae: 174.7871 - val_mape: 39.9517 - lr: 0.0010\n",
      "Epoch 23/1000\n",
      "87/87 [==============================] - 7s 75ms/step - loss: 41.6745 - mae: 199.6254 - mape: 37.5490 - val_loss: 43.7447 - val_mae: 172.6909 - val_mape: 39.6149 - lr: 0.0010\n",
      "Epoch 24/1000\n",
      "87/87 [==============================] - 7s 76ms/step - loss: 40.8160 - mae: 198.4047 - mape: 36.6870 - val_loss: 44.3356 - val_mae: 169.6183 - val_mape: 40.2057 - lr: 0.0010\n",
      "Epoch 25/1000\n",
      "87/87 [==============================] - 7s 75ms/step - loss: 41.0748 - mae: 198.8198 - mape: 36.9462 - val_loss: 42.9774 - val_mae: 171.4108 - val_mape: 38.8502 - lr: 0.0010\n",
      "Epoch 26/1000\n",
      "87/87 [==============================] - 7s 75ms/step - loss: 41.4149 - mae: 199.7317 - mape: 37.2756 - val_loss: 43.2449 - val_mae: 173.5148 - val_mape: 39.0983 - lr: 0.0010\n",
      "Epoch 27/1000\n",
      "87/87 [==============================] - 6s 75ms/step - loss: 41.4424 - mae: 200.1476 - mape: 37.2940 - val_loss: 46.3656 - val_mae: 170.9797 - val_mape: 42.2115 - lr: 0.0010\n",
      "Epoch 28/1000\n",
      "87/87 [==============================] - 6s 75ms/step - loss: 40.5933 - mae: 199.0313 - mape: 36.4461 - val_loss: 44.6696 - val_mae: 172.8358 - val_mape: 40.5183 - lr: 0.0010\n",
      "Epoch 29/1000\n",
      "87/87 [==============================] - 7s 75ms/step - loss: 42.0085 - mae: 199.7085 - mape: 37.8527 - val_loss: 45.6686 - val_mae: 169.6673 - val_mape: 41.5128 - lr: 0.0010\n",
      "Epoch 30/1000\n",
      "87/87 [==============================] - 7s 76ms/step - loss: 41.0338 - mae: 198.0222 - mape: 36.8805 - val_loss: 45.4813 - val_mae: 169.3368 - val_mape: 41.3189 - lr: 0.0010\n",
      "Epoch 31/1000\n",
      "87/87 [==============================] - 7s 76ms/step - loss: 41.0906 - mae: 198.1109 - mape: 36.9283 - val_loss: 44.0275 - val_mae: 170.5975 - val_mape: 39.8652 - lr: 0.0010\n",
      "Epoch 32/1000\n",
      "87/87 [==============================] - ETA: 0s - loss: 41.5652 - mae: 199.7950 - mape: 37.4044\n",
      "Epoch 32: ReduceLROnPlateau reducing learning rate to 0.0003000000142492354.\n",
      "87/87 [==============================] - 7s 77ms/step - loss: 41.5652 - mae: 199.7950 - mape: 37.4044 - val_loss: 44.2301 - val_mae: 172.1092 - val_mape: 40.0698 - lr: 0.0010\n",
      "Epoch 33/1000\n",
      "87/87 [==============================] - 6s 74ms/step - loss: 39.1575 - mae: 197.0064 - mape: 34.9956 - val_loss: 43.8854 - val_mae: 170.4283 - val_mape: 39.7242 - lr: 3.0000e-04\n",
      "Epoch 34/1000\n",
      "87/87 [==============================] - 7s 75ms/step - loss: 38.4882 - mae: 196.6094 - mape: 34.3259 - val_loss: 44.3048 - val_mae: 170.0283 - val_mape: 40.1432 - lr: 3.0000e-04\n",
      "Epoch 35/1000\n",
      "87/87 [==============================] - 7s 77ms/step - loss: 38.9060 - mae: 196.3064 - mape: 34.7454 - val_loss: 44.9649 - val_mae: 168.2467 - val_mape: 40.8044 - lr: 3.0000e-04\n",
      "Epoch 36/1000\n",
      "87/87 [==============================] - 7s 76ms/step - loss: 38.7429 - mae: 196.2979 - mape: 34.5832 - val_loss: 43.3975 - val_mae: 170.8379 - val_mape: 39.2410 - lr: 3.0000e-04\n",
      "Epoch 37/1000\n",
      "87/87 [==============================] - 7s 77ms/step - loss: 37.9449 - mae: 196.2696 - mape: 33.7862 - val_loss: 43.6050 - val_mae: 168.7287 - val_mape: 39.4484 - lr: 3.0000e-04\n",
      "Epoch 38/1000\n",
      "87/87 [==============================] - 7s 76ms/step - loss: 37.9436 - mae: 195.5930 - mape: 33.7869 - val_loss: 43.9567 - val_mae: 170.6596 - val_mape: 39.8017 - lr: 3.0000e-04\n",
      "Epoch 39/1000\n",
      "87/87 [==============================] - 7s 75ms/step - loss: 38.2403 - mae: 196.1837 - mape: 34.0850 - val_loss: 43.2670 - val_mae: 171.0157 - val_mape: 39.1151 - lr: 3.0000e-04\n",
      "Epoch 40/1000\n",
      "87/87 [==============================] - 7s 76ms/step - loss: 37.9571 - mae: 196.2810 - mape: 33.8031 - val_loss: 43.6323 - val_mae: 170.4879 - val_mape: 39.4782 - lr: 3.0000e-04\n",
      "Epoch 41/1000\n",
      "87/87 [==============================] - 7s 75ms/step - loss: 38.0446 - mae: 196.0877 - mape: 33.8919 - val_loss: 42.7967 - val_mae: 168.8365 - val_mape: 38.6460 - lr: 3.0000e-04\n",
      "Epoch 42/1000\n",
      "87/87 [==============================] - 7s 75ms/step - loss: 37.6334 - mae: 195.7889 - mape: 33.4818 - val_loss: 44.0975 - val_mae: 171.1746 - val_mape: 39.9505 - lr: 3.0000e-04\n",
      "Epoch 43/1000\n",
      "87/87 [==============================] - 7s 76ms/step - loss: 38.3308 - mae: 196.5022 - mape: 34.1816 - val_loss: 43.6838 - val_mae: 169.3838 - val_mape: 39.5333 - lr: 3.0000e-04\n",
      "Epoch 44/1000\n",
      "87/87 [==============================] - 7s 78ms/step - loss: 38.0462 - mae: 196.5498 - mape: 33.8960 - val_loss: 43.2158 - val_mae: 169.7458 - val_mape: 39.0656 - lr: 3.0000e-04\n",
      "Epoch 45/1000\n",
      "87/87 [==============================] - 7s 75ms/step - loss: 37.9668 - mae: 196.3813 - mape: 33.8153 - val_loss: 44.1489 - val_mae: 168.0917 - val_mape: 39.9971 - lr: 3.0000e-04\n",
      "Epoch 46/1000\n",
      "87/87 [==============================] - 7s 76ms/step - loss: 37.7676 - mae: 196.3060 - mape: 33.6192 - val_loss: 43.7190 - val_mae: 169.5171 - val_mape: 39.5688 - lr: 3.0000e-04\n",
      "Epoch 47/1000\n",
      "87/87 [==============================] - 7s 75ms/step - loss: 37.6520 - mae: 195.7690 - mape: 33.5022 - val_loss: 44.5135 - val_mae: 169.5821 - val_mape: 40.3667 - lr: 3.0000e-04\n",
      "Epoch 48/1000\n",
      "87/87 [==============================] - 7s 76ms/step - loss: 37.5162 - mae: 196.1441 - mape: 33.3683 - val_loss: 44.4880 - val_mae: 167.9597 - val_mape: 40.3394 - lr: 3.0000e-04\n",
      "Epoch 49/1000\n",
      "87/87 [==============================] - 7s 77ms/step - loss: 38.2274 - mae: 196.6645 - mape: 34.0784 - val_loss: 43.8635 - val_mae: 171.0155 - val_mape: 39.7168 - lr: 3.0000e-04\n",
      "Epoch 50/1000\n",
      "87/87 [==============================] - 6s 74ms/step - loss: 37.6482 - mae: 195.8417 - mape: 33.4996 - val_loss: 44.1163 - val_mae: 167.8018 - val_mape: 39.9660 - lr: 3.0000e-04\n",
      "Epoch 51/1000\n",
      "87/87 [==============================] - 7s 76ms/step - loss: 38.3075 - mae: 196.1706 - mape: 34.1616 - val_loss: 42.8365 - val_mae: 168.4740 - val_mape: 38.6916 - lr: 3.0000e-04\n",
      "Epoch 52/1000\n",
      "87/87 [==============================] - 7s 76ms/step - loss: 37.7384 - mae: 196.2937 - mape: 33.5936 - val_loss: 43.7265 - val_mae: 169.9124 - val_mape: 39.5837 - lr: 3.0000e-04\n",
      "Epoch 53/1000\n",
      "87/87 [==============================] - 7s 76ms/step - loss: 37.7368 - mae: 196.5299 - mape: 33.5932 - val_loss: 43.2910 - val_mae: 169.7657 - val_mape: 39.1488 - lr: 3.0000e-04\n",
      "Epoch 54/1000\n",
      "87/87 [==============================] - 7s 75ms/step - loss: 37.6517 - mae: 195.1964 - mape: 33.5083 - val_loss: 42.6922 - val_mae: 168.9434 - val_mape: 38.5454 - lr: 3.0000e-04\n",
      "Epoch 55/1000\n",
      "87/87 [==============================] - 7s 75ms/step - loss: 38.1336 - mae: 196.1163 - mape: 33.9888 - val_loss: 43.6228 - val_mae: 169.6299 - val_mape: 39.4834 - lr: 3.0000e-04\n",
      "Epoch 56/1000\n",
      "87/87 [==============================] - 7s 76ms/step - loss: 37.0532 - mae: 195.6918 - mape: 32.9141 - val_loss: 44.5471 - val_mae: 169.6395 - val_mape: 40.4035 - lr: 3.0000e-04\n",
      "Epoch 57/1000\n",
      "87/87 [==============================] - 7s 77ms/step - loss: 37.2613 - mae: 195.1845 - mape: 33.1185 - val_loss: 43.6610 - val_mae: 168.7396 - val_mape: 39.5198 - lr: 3.0000e-04\n",
      "Epoch 58/1000\n",
      "87/87 [==============================] - 7s 77ms/step - loss: 36.8244 - mae: 194.3177 - mape: 32.6824 - val_loss: 43.6033 - val_mae: 171.0455 - val_mape: 39.4604 - lr: 3.0000e-04\n",
      "Epoch 59/1000\n",
      "87/87 [==============================] - 7s 77ms/step - loss: 37.7822 - mae: 195.6109 - mape: 33.6387 - val_loss: 43.9711 - val_mae: 170.8490 - val_mape: 39.8300 - lr: 3.0000e-04\n",
      "Epoch 60/1000\n",
      "87/87 [==============================] - 7s 77ms/step - loss: 37.8166 - mae: 195.6501 - mape: 33.6712 - val_loss: 44.0439 - val_mae: 168.9617 - val_mape: 39.8940 - lr: 3.0000e-04\n",
      "Epoch 61/1000\n",
      "87/87 [==============================] - 7s 76ms/step - loss: 37.6799 - mae: 195.4115 - mape: 33.5268 - val_loss: 44.5097 - val_mae: 168.3091 - val_mape: 40.3577 - lr: 3.0000e-04\n",
      "Epoch 62/1000\n",
      "87/87 [==============================] - ETA: 0s - loss: 37.0252 - mae: 195.5135 - mape: 32.8770\n",
      "Epoch 62: ReduceLROnPlateau reducing learning rate to 9.000000427477062e-05.\n",
      "87/87 [==============================] - 7s 77ms/step - loss: 37.0252 - mae: 195.5135 - mape: 32.8770 - val_loss: 44.5178 - val_mae: 167.9098 - val_mape: 40.3692 - lr: 3.0000e-04\n",
      "Epoch 62: early stopping\n"
     ]
    },
    {
     "name": "stderr",
     "output_type": "stream",
     "text": [
      "c:\\Users\\Robin\\.conda\\envs\\tfenvironment\\lib\\site-packages\\spektral\\data\\utils.py:221: UserWarning: you are shuffling a 'MyDataset' object which is not a subclass of 'Sequence'; `shuffle` is not guaranteed to behave correctly. E.g., non-numpy array/tensor objects with view semantics may contain duplicates after shuffling.\n",
      "  np.random.shuffle(a)\n"
     ]
    },
    {
     "name": "stdout",
     "output_type": "stream",
     "text": [
      "Score for fold 1: loss of 40.95688247680664; mae of 172.03375244140625; mape of 36.897010803222656%;\n",
      "Getting split...\n",
      "------------------------------------------------------------------------\n",
      "Training for fold 2 ...\n",
      "Epoch 1/1000\n"
     ]
    },
    {
     "name": "stderr",
     "output_type": "stream",
     "text": [
      "c:\\Users\\Robin\\.conda\\envs\\tfenvironment\\lib\\site-packages\\spektral\\data\\utils.py:221: UserWarning: you are shuffling a 'MyDataset' object which is not a subclass of 'Sequence'; `shuffle` is not guaranteed to behave correctly. E.g., non-numpy array/tensor objects with view semantics may contain duplicates after shuffling.\n",
      "  np.random.shuffle(a)\n"
     ]
    },
    {
     "name": "stdout",
     "output_type": "stream",
     "text": [
      "87/87 [==============================] - ETA: 0s - loss: 44.4619 - mae: 202.2647 - mape: 40.4084"
     ]
    },
    {
     "name": "stderr",
     "output_type": "stream",
     "text": [
      "WARNING:absl:Function `_wrapped_model` contains input name(s) args_0 with unsupported characters which will be renamed to args_0_4 in the SavedModel.\n"
     ]
    },
    {
     "name": "stdout",
     "output_type": "stream",
     "text": [
      "INFO:tensorflow:Assets written to: crossvalidationmodels\\GCN_2\\assets\n"
     ]
    },
    {
     "name": "stderr",
     "output_type": "stream",
     "text": [
      "INFO:tensorflow:Assets written to: crossvalidationmodels\\GCN_2\\assets\n"
     ]
    },
    {
     "name": "stdout",
     "output_type": "stream",
     "text": [
      "87/87 [==============================] - 8s 87ms/step - loss: 44.4619 - mae: 202.2647 - mape: 40.4084 - val_loss: 43.6590 - val_mae: 168.2351 - val_mape: 39.6034 - lr: 0.0010\n",
      "Epoch 2/1000\n",
      " 1/87 [..............................] - ETA: 7s - loss: 50.4378 - mae: 360.5072 - mape: 46.3821"
     ]
    },
    {
     "name": "stderr",
     "output_type": "stream",
     "text": [
      "c:\\Users\\Robin\\.conda\\envs\\tfenvironment\\lib\\site-packages\\spektral\\data\\utils.py:221: UserWarning: you are shuffling a 'MyDataset' object which is not a subclass of 'Sequence'; `shuffle` is not guaranteed to behave correctly. E.g., non-numpy array/tensor objects with view semantics may contain duplicates after shuffling.\n",
      "  np.random.shuffle(a)\n"
     ]
    },
    {
     "name": "stdout",
     "output_type": "stream",
     "text": [
      "87/87 [==============================] - ETA: 0s - loss: 43.4560 - mae: 201.5322 - mape: 39.3905"
     ]
    },
    {
     "name": "stderr",
     "output_type": "stream",
     "text": [
      "WARNING:absl:Function `_wrapped_model` contains input name(s) args_0 with unsupported characters which will be renamed to args_0_4 in the SavedModel.\n"
     ]
    },
    {
     "name": "stdout",
     "output_type": "stream",
     "text": [
      "INFO:tensorflow:Assets written to: crossvalidationmodels\\GCN_2\\assets\n"
     ]
    },
    {
     "name": "stderr",
     "output_type": "stream",
     "text": [
      "INFO:tensorflow:Assets written to: crossvalidationmodels\\GCN_2\\assets\n"
     ]
    },
    {
     "name": "stdout",
     "output_type": "stream",
     "text": [
      "87/87 [==============================] - 8s 91ms/step - loss: 43.4560 - mae: 201.5322 - mape: 39.3905 - val_loss: 39.2916 - val_mae: 165.2457 - val_mape: 35.2344 - lr: 0.0010\n",
      "Epoch 3/1000\n",
      " 1/87 [..............................] - ETA: 7s - loss: 43.8430 - mae: 69.7069 - mape: 39.7857"
     ]
    },
    {
     "name": "stderr",
     "output_type": "stream",
     "text": [
      "c:\\Users\\Robin\\.conda\\envs\\tfenvironment\\lib\\site-packages\\spektral\\data\\utils.py:221: UserWarning: you are shuffling a 'MyDataset' object which is not a subclass of 'Sequence'; `shuffle` is not guaranteed to behave correctly. E.g., non-numpy array/tensor objects with view semantics may contain duplicates after shuffling.\n",
      "  np.random.shuffle(a)\n"
     ]
    },
    {
     "name": "stdout",
     "output_type": "stream",
     "text": [
      "87/87 [==============================] - 7s 78ms/step - loss: 42.8472 - mae: 202.1337 - mape: 38.7865 - val_loss: 39.7288 - val_mae: 166.3784 - val_mape: 35.6641 - lr: 0.0010\n",
      "Epoch 4/1000\n",
      "87/87 [==============================] - 7s 77ms/step - loss: 42.7309 - mae: 202.2215 - mape: 38.6670 - val_loss: 41.9181 - val_mae: 170.1150 - val_mape: 37.8630 - lr: 0.0010\n",
      "Epoch 5/1000\n",
      "87/87 [==============================] - 7s 77ms/step - loss: 41.7406 - mae: 201.6278 - mape: 37.6733 - val_loss: 42.3455 - val_mae: 167.7996 - val_mape: 38.2780 - lr: 0.0010\n",
      "Epoch 6/1000\n",
      "87/87 [==============================] - 7s 76ms/step - loss: 43.5627 - mae: 201.8232 - mape: 39.4924 - val_loss: 41.3152 - val_mae: 165.2830 - val_mape: 37.2419 - lr: 0.0010\n",
      "Epoch 7/1000\n",
      "87/87 [==============================] - 7s 77ms/step - loss: 42.0693 - mae: 200.6381 - mape: 37.9909 - val_loss: 40.9222 - val_mae: 166.2682 - val_mape: 36.8428 - lr: 0.0010\n",
      "Epoch 8/1000\n",
      "87/87 [==============================] - 7s 77ms/step - loss: 42.2048 - mae: 201.2012 - mape: 38.1300 - val_loss: 41.0742 - val_mae: 166.0138 - val_mape: 36.9992 - lr: 0.0010\n",
      "Epoch 9/1000\n",
      "87/87 [==============================] - 7s 77ms/step - loss: 42.2422 - mae: 202.3616 - mape: 38.1662 - val_loss: 41.0076 - val_mae: 165.7184 - val_mape: 36.9316 - lr: 0.0010\n",
      "Epoch 10/1000\n",
      "87/87 [==============================] - 7s 77ms/step - loss: 42.6238 - mae: 200.9457 - mape: 38.5407 - val_loss: 41.4095 - val_mae: 165.9101 - val_mape: 37.3211 - lr: 0.0010\n",
      "Epoch 11/1000\n",
      "87/87 [==============================] - 7s 79ms/step - loss: 43.3306 - mae: 200.8240 - mape: 39.2302 - val_loss: 42.7667 - val_mae: 165.5452 - val_mape: 38.6644 - lr: 0.0010\n",
      "Epoch 12/1000\n",
      "87/87 [==============================] - 7s 78ms/step - loss: 42.7444 - mae: 201.1926 - mape: 38.6375 - val_loss: 40.9101 - val_mae: 165.0519 - val_mape: 36.7967 - lr: 0.0010\n",
      "Epoch 13/1000\n",
      "87/87 [==============================] - 7s 76ms/step - loss: 41.5588 - mae: 199.2973 - mape: 37.4381 - val_loss: 42.2600 - val_mae: 167.5456 - val_mape: 38.1350 - lr: 0.0010\n",
      "Epoch 14/1000\n",
      "87/87 [==============================] - 7s 78ms/step - loss: 41.7887 - mae: 200.7335 - mape: 37.6638 - val_loss: 41.7873 - val_mae: 164.8990 - val_mape: 37.6578 - lr: 0.0010\n",
      "Epoch 15/1000\n",
      "87/87 [==============================] - 7s 79ms/step - loss: 41.6966 - mae: 199.8120 - mape: 37.5760 - val_loss: 42.4275 - val_mae: 163.4022 - val_mape: 38.3010 - lr: 0.0010\n",
      "Epoch 16/1000\n",
      "87/87 [==============================] - 7s 76ms/step - loss: 41.9116 - mae: 199.2003 - mape: 37.7927 - val_loss: 42.1270 - val_mae: 167.3086 - val_mape: 38.0181 - lr: 0.0010\n",
      "Epoch 17/1000\n",
      "87/87 [==============================] - 7s 79ms/step - loss: 41.5045 - mae: 199.7308 - mape: 37.3829 - val_loss: 43.4940 - val_mae: 164.5912 - val_mape: 39.3681 - lr: 0.0010\n",
      "Epoch 18/1000\n",
      "87/87 [==============================] - 7s 77ms/step - loss: 41.7422 - mae: 198.2268 - mape: 37.6093 - val_loss: 43.2199 - val_mae: 164.4901 - val_mape: 39.0822 - lr: 0.0010\n",
      "Epoch 19/1000\n",
      "87/87 [==============================] - 7s 76ms/step - loss: 42.7651 - mae: 201.0006 - mape: 38.6325 - val_loss: 42.9040 - val_mae: 166.7860 - val_mape: 38.7761 - lr: 0.0010\n",
      "Epoch 20/1000\n",
      "87/87 [==============================] - 7s 77ms/step - loss: 41.6984 - mae: 199.4020 - mape: 37.5694 - val_loss: 42.3583 - val_mae: 165.8527 - val_mape: 38.2354 - lr: 0.0010\n",
      "Epoch 21/1000\n",
      "87/87 [==============================] - 7s 77ms/step - loss: 41.9742 - mae: 199.5781 - mape: 37.8442 - val_loss: 42.2884 - val_mae: 164.7609 - val_mape: 38.1486 - lr: 0.0010\n",
      "Epoch 22/1000\n",
      "87/87 [==============================] - 7s 77ms/step - loss: 41.7610 - mae: 199.7835 - mape: 37.6333 - val_loss: 43.7046 - val_mae: 163.1197 - val_mape: 39.5750 - lr: 0.0010\n",
      "Epoch 23/1000\n",
      "87/87 [==============================] - 7s 77ms/step - loss: 41.0028 - mae: 199.2110 - mape: 36.8706 - val_loss: 42.2011 - val_mae: 164.0320 - val_mape: 38.0625 - lr: 0.0010\n",
      "Epoch 24/1000\n",
      "87/87 [==============================] - 7s 77ms/step - loss: 42.0389 - mae: 199.1728 - mape: 37.9075 - val_loss: 42.0077 - val_mae: 164.3464 - val_mape: 37.8744 - lr: 0.0010\n",
      "Epoch 25/1000\n",
      "87/87 [==============================] - 7s 77ms/step - loss: 41.8741 - mae: 200.5398 - mape: 37.7387 - val_loss: 43.2522 - val_mae: 166.0681 - val_mape: 39.1180 - lr: 0.0010\n",
      "Epoch 26/1000\n",
      "87/87 [==============================] - 7s 77ms/step - loss: 42.8303 - mae: 199.7951 - mape: 38.6978 - val_loss: 44.2740 - val_mae: 171.2079 - val_mape: 40.1501 - lr: 0.0010\n",
      "Epoch 27/1000\n",
      "87/87 [==============================] - 7s 77ms/step - loss: 41.0079 - mae: 199.2039 - mape: 36.8748 - val_loss: 41.8451 - val_mae: 164.3200 - val_mape: 37.7105 - lr: 0.0010\n",
      "Epoch 28/1000\n",
      "87/87 [==============================] - 7s 77ms/step - loss: 41.2240 - mae: 198.1108 - mape: 37.0906 - val_loss: 44.2951 - val_mae: 169.5962 - val_mape: 40.1606 - lr: 0.0010\n",
      "Epoch 29/1000\n",
      "87/87 [==============================] - 7s 76ms/step - loss: 41.1624 - mae: 199.0603 - mape: 37.0227 - val_loss: 42.5689 - val_mae: 165.2583 - val_mape: 38.4267 - lr: 0.0010\n",
      "Epoch 30/1000\n",
      "87/87 [==============================] - 7s 76ms/step - loss: 41.0918 - mae: 199.2805 - mape: 36.9465 - val_loss: 43.8224 - val_mae: 164.2658 - val_mape: 39.6669 - lr: 0.0010\n",
      "Epoch 31/1000\n",
      "87/87 [==============================] - 7s 77ms/step - loss: 42.9582 - mae: 200.9336 - mape: 38.7964 - val_loss: 43.8234 - val_mae: 165.8713 - val_mape: 39.6575 - lr: 0.0010\n",
      "Epoch 32/1000\n",
      "87/87 [==============================] - ETA: 0s - loss: 41.0997 - mae: 198.5572 - mape: 36.9325\n",
      "Epoch 32: ReduceLROnPlateau reducing learning rate to 0.0003000000142492354.\n",
      "87/87 [==============================] - 7s 78ms/step - loss: 41.0997 - mae: 198.5572 - mape: 36.9325 - val_loss: 45.2647 - val_mae: 163.0133 - val_mape: 41.0842 - lr: 0.0010\n",
      "Epoch 33/1000\n",
      "87/87 [==============================] - 7s 77ms/step - loss: 40.0355 - mae: 197.1343 - mape: 35.8629 - val_loss: 41.8292 - val_mae: 164.1039 - val_mape: 37.6649 - lr: 3.0000e-04\n",
      "Epoch 34/1000\n",
      "87/87 [==============================] - 7s 77ms/step - loss: 39.3062 - mae: 196.7698 - mape: 35.1439 - val_loss: 43.2696 - val_mae: 162.7962 - val_mape: 39.1068 - lr: 3.0000e-04\n",
      "Epoch 35/1000\n",
      "87/87 [==============================] - 7s 78ms/step - loss: 39.0840 - mae: 196.7286 - mape: 34.9264 - val_loss: 41.7016 - val_mae: 163.8880 - val_mape: 37.5464 - lr: 3.0000e-04\n",
      "Epoch 36/1000\n",
      "87/87 [==============================] - 7s 77ms/step - loss: 39.2082 - mae: 196.3396 - mape: 35.0525 - val_loss: 42.0467 - val_mae: 164.7007 - val_mape: 37.8919 - lr: 3.0000e-04\n",
      "Epoch 37/1000\n",
      "87/87 [==============================] - 7s 76ms/step - loss: 38.8095 - mae: 197.0565 - mape: 34.6527 - val_loss: 42.1827 - val_mae: 163.5160 - val_mape: 38.0276 - lr: 3.0000e-04\n",
      "Epoch 38/1000\n",
      "87/87 [==============================] - 7s 77ms/step - loss: 39.0178 - mae: 196.4022 - mape: 34.8603 - val_loss: 42.5625 - val_mae: 163.3935 - val_mape: 38.4056 - lr: 3.0000e-04\n",
      "Epoch 39/1000\n",
      "87/87 [==============================] - 7s 77ms/step - loss: 39.1755 - mae: 196.4987 - mape: 35.0216 - val_loss: 42.6184 - val_mae: 162.9137 - val_mape: 38.4650 - lr: 3.0000e-04\n",
      "Epoch 40/1000\n",
      "87/87 [==============================] - 7s 77ms/step - loss: 38.4812 - mae: 195.8705 - mape: 34.3288 - val_loss: 42.7295 - val_mae: 162.5054 - val_mape: 38.5754 - lr: 3.0000e-04\n",
      "Epoch 41/1000\n",
      "87/87 [==============================] - 7s 76ms/step - loss: 38.1827 - mae: 196.0921 - mape: 34.0289 - val_loss: 41.4485 - val_mae: 163.1891 - val_mape: 37.2980 - lr: 3.0000e-04\n",
      "Epoch 42/1000\n",
      "87/87 [==============================] - 7s 77ms/step - loss: 38.4986 - mae: 196.1300 - mape: 34.3447 - val_loss: 44.4565 - val_mae: 161.7775 - val_mape: 40.2974 - lr: 3.0000e-04\n",
      "Epoch 43/1000\n",
      "87/87 [==============================] - 7s 77ms/step - loss: 38.1436 - mae: 195.3665 - mape: 33.9909 - val_loss: 42.3308 - val_mae: 161.8680 - val_mape: 38.1768 - lr: 3.0000e-04\n",
      "Epoch 44/1000\n",
      "87/87 [==============================] - 7s 76ms/step - loss: 38.8076 - mae: 197.1852 - mape: 34.6534 - val_loss: 42.6965 - val_mae: 165.0588 - val_mape: 38.5446 - lr: 3.0000e-04\n",
      "Epoch 45/1000\n",
      "87/87 [==============================] - 7s 78ms/step - loss: 38.3089 - mae: 195.9959 - mape: 34.1545 - val_loss: 42.8635 - val_mae: 161.7676 - val_mape: 38.7113 - lr: 3.0000e-04\n",
      "Epoch 46/1000\n",
      "87/87 [==============================] - 7s 78ms/step - loss: 38.1175 - mae: 196.1353 - mape: 33.9671 - val_loss: 43.2225 - val_mae: 162.0260 - val_mape: 39.0691 - lr: 3.0000e-04\n",
      "Epoch 47/1000\n",
      "87/87 [==============================] - 7s 78ms/step - loss: 38.3138 - mae: 196.3436 - mape: 34.1636 - val_loss: 41.3340 - val_mae: 163.2940 - val_mape: 37.1861 - lr: 3.0000e-04\n",
      "Epoch 48/1000\n",
      "87/87 [==============================] - 7s 78ms/step - loss: 38.0494 - mae: 195.8670 - mape: 33.8979 - val_loss: 41.7642 - val_mae: 162.7400 - val_mape: 37.6119 - lr: 3.0000e-04\n",
      "Epoch 49/1000\n",
      "87/87 [==============================] - 7s 78ms/step - loss: 37.8334 - mae: 195.7577 - mape: 33.6834 - val_loss: 41.5302 - val_mae: 163.5371 - val_mape: 37.3811 - lr: 3.0000e-04\n",
      "Epoch 50/1000\n",
      "87/87 [==============================] - 7s 80ms/step - loss: 38.2054 - mae: 195.7430 - mape: 34.0532 - val_loss: 42.2839 - val_mae: 163.1197 - val_mape: 38.1324 - lr: 3.0000e-04\n",
      "Epoch 51/1000\n",
      "87/87 [==============================] - 7s 78ms/step - loss: 38.6193 - mae: 195.8370 - mape: 34.4663 - val_loss: 42.4779 - val_mae: 162.5922 - val_mape: 38.3252 - lr: 3.0000e-04\n",
      "Epoch 52/1000\n",
      "87/87 [==============================] - 7s 78ms/step - loss: 38.1147 - mae: 196.1513 - mape: 33.9636 - val_loss: 42.1184 - val_mae: 162.1925 - val_mape: 37.9709 - lr: 3.0000e-04\n",
      "Epoch 53/1000\n",
      "87/87 [==============================] - 7s 78ms/step - loss: 37.7270 - mae: 194.2031 - mape: 33.5784 - val_loss: 41.8551 - val_mae: 162.9335 - val_mape: 37.7067 - lr: 3.0000e-04\n",
      "Epoch 54/1000\n",
      "87/87 [==============================] - 7s 76ms/step - loss: 38.5727 - mae: 196.4374 - mape: 34.4229 - val_loss: 42.0297 - val_mae: 163.8613 - val_mape: 37.8835 - lr: 3.0000e-04\n",
      "Epoch 55/1000\n",
      "87/87 [==============================] - 7s 77ms/step - loss: 38.0777 - mae: 195.0051 - mape: 33.9265 - val_loss: 42.3241 - val_mae: 161.3694 - val_mape: 38.1711 - lr: 3.0000e-04\n",
      "Epoch 56/1000\n",
      "87/87 [==============================] - 7s 77ms/step - loss: 37.9851 - mae: 195.6023 - mape: 33.8347 - val_loss: 41.8796 - val_mae: 161.4619 - val_mape: 37.7262 - lr: 3.0000e-04\n",
      "Epoch 57/1000\n",
      "87/87 [==============================] - 7s 76ms/step - loss: 37.7860 - mae: 195.5007 - mape: 33.6338 - val_loss: 41.9417 - val_mae: 161.7028 - val_mape: 37.7899 - lr: 3.0000e-04\n",
      "Epoch 58/1000\n",
      "87/87 [==============================] - 7s 77ms/step - loss: 37.6654 - mae: 195.8095 - mape: 33.5128 - val_loss: 41.7287 - val_mae: 162.8255 - val_mape: 37.5768 - lr: 3.0000e-04\n",
      "Epoch 59/1000\n",
      "87/87 [==============================] - 7s 78ms/step - loss: 37.9000 - mae: 195.6467 - mape: 33.7476 - val_loss: 41.8171 - val_mae: 162.3753 - val_mape: 37.6661 - lr: 3.0000e-04\n",
      "Epoch 60/1000\n",
      "87/87 [==============================] - 7s 79ms/step - loss: 37.7601 - mae: 194.8204 - mape: 33.6062 - val_loss: 42.4379 - val_mae: 163.7594 - val_mape: 38.2841 - lr: 3.0000e-04\n",
      "Epoch 61/1000\n",
      "87/87 [==============================] - 7s 77ms/step - loss: 38.0462 - mae: 195.4011 - mape: 33.8891 - val_loss: 41.8052 - val_mae: 162.2180 - val_mape: 37.6493 - lr: 3.0000e-04\n",
      "Epoch 62/1000\n",
      "87/87 [==============================] - ETA: 0s - loss: 37.9242 - mae: 195.2030 - mape: 33.7693\n",
      "Epoch 62: ReduceLROnPlateau reducing learning rate to 9.000000427477062e-05.\n",
      "87/87 [==============================] - 7s 77ms/step - loss: 37.9242 - mae: 195.2030 - mape: 33.7693 - val_loss: 42.6055 - val_mae: 162.5346 - val_mape: 38.4487 - lr: 3.0000e-04\n",
      "Epoch 62: early stopping\n"
     ]
    },
    {
     "name": "stderr",
     "output_type": "stream",
     "text": [
      "c:\\Users\\Robin\\.conda\\envs\\tfenvironment\\lib\\site-packages\\spektral\\data\\utils.py:221: UserWarning: you are shuffling a 'MyDataset' object which is not a subclass of 'Sequence'; `shuffle` is not guaranteed to behave correctly. E.g., non-numpy array/tensor objects with view semantics may contain duplicates after shuffling.\n",
      "  np.random.shuffle(a)\n"
     ]
    },
    {
     "name": "stdout",
     "output_type": "stream",
     "text": [
      "Score for fold 2: loss of 39.2916374206543; mae of 165.24569702148438; mape of 35.234371185302734%;\n",
      "Getting split...\n",
      "------------------------------------------------------------------------\n",
      "Training for fold 3 ...\n",
      "Epoch 1/1000\n"
     ]
    },
    {
     "name": "stderr",
     "output_type": "stream",
     "text": [
      "c:\\Users\\Robin\\.conda\\envs\\tfenvironment\\lib\\site-packages\\spektral\\data\\utils.py:221: UserWarning: you are shuffling a 'MyDataset' object which is not a subclass of 'Sequence'; `shuffle` is not guaranteed to behave correctly. E.g., non-numpy array/tensor objects with view semantics may contain duplicates after shuffling.\n",
      "  np.random.shuffle(a)\n"
     ]
    },
    {
     "name": "stdout",
     "output_type": "stream",
     "text": [
      "87/87 [==============================] - ETA: 0s - loss: 43.8057 - mae: 191.2368 - mape: 39.7699"
     ]
    },
    {
     "name": "stderr",
     "output_type": "stream",
     "text": [
      "WARNING:absl:Function `_wrapped_model` contains input name(s) args_0 with unsupported characters which will be renamed to args_0_4 in the SavedModel.\n"
     ]
    },
    {
     "name": "stdout",
     "output_type": "stream",
     "text": [
      "INFO:tensorflow:Assets written to: crossvalidationmodels\\GCN_3\\assets\n"
     ]
    },
    {
     "name": "stderr",
     "output_type": "stream",
     "text": [
      "INFO:tensorflow:Assets written to: crossvalidationmodels\\GCN_3\\assets\n"
     ]
    },
    {
     "name": "stdout",
     "output_type": "stream",
     "text": [
      "87/87 [==============================] - 9s 89ms/step - loss: 43.8057 - mae: 191.2368 - mape: 39.7699 - val_loss: 43.6489 - val_mae: 219.7684 - val_mape: 39.6225 - lr: 0.0010\n",
      "Epoch 2/1000\n",
      " 1/87 [..............................] - ETA: 8s - loss: 47.0921 - mae: 77.3245 - mape: 43.0657"
     ]
    },
    {
     "name": "stderr",
     "output_type": "stream",
     "text": [
      "c:\\Users\\Robin\\.conda\\envs\\tfenvironment\\lib\\site-packages\\spektral\\data\\utils.py:221: UserWarning: you are shuffling a 'MyDataset' object which is not a subclass of 'Sequence'; `shuffle` is not guaranteed to behave correctly. E.g., non-numpy array/tensor objects with view semantics may contain duplicates after shuffling.\n",
      "  np.random.shuffle(a)\n"
     ]
    },
    {
     "name": "stdout",
     "output_type": "stream",
     "text": [
      "87/87 [==============================] - ETA: 0s - loss: 42.8000 - mae: 190.8939 - mape: 38.7650"
     ]
    },
    {
     "name": "stderr",
     "output_type": "stream",
     "text": [
      "WARNING:absl:Function `_wrapped_model` contains input name(s) args_0 with unsupported characters which will be renamed to args_0_4 in the SavedModel.\n"
     ]
    },
    {
     "name": "stdout",
     "output_type": "stream",
     "text": [
      "INFO:tensorflow:Assets written to: crossvalidationmodels\\GCN_3\\assets\n"
     ]
    },
    {
     "name": "stderr",
     "output_type": "stream",
     "text": [
      "INFO:tensorflow:Assets written to: crossvalidationmodels\\GCN_3\\assets\n"
     ]
    },
    {
     "name": "stdout",
     "output_type": "stream",
     "text": [
      "87/87 [==============================] - 8s 95ms/step - loss: 42.8000 - mae: 190.8939 - mape: 38.7650 - val_loss: 40.3372 - val_mae: 213.3764 - val_mape: 36.3026 - lr: 0.0010\n",
      "Epoch 3/1000\n",
      " 1/87 [..............................] - ETA: 5s - loss: 38.2404 - mae: 186.8742 - mape: 34.2058"
     ]
    },
    {
     "name": "stderr",
     "output_type": "stream",
     "text": [
      "c:\\Users\\Robin\\.conda\\envs\\tfenvironment\\lib\\site-packages\\spektral\\data\\utils.py:221: UserWarning: you are shuffling a 'MyDataset' object which is not a subclass of 'Sequence'; `shuffle` is not guaranteed to behave correctly. E.g., non-numpy array/tensor objects with view semantics may contain duplicates after shuffling.\n",
      "  np.random.shuffle(a)\n"
     ]
    },
    {
     "name": "stdout",
     "output_type": "stream",
     "text": [
      "87/87 [==============================] - 7s 79ms/step - loss: 42.4025 - mae: 190.5739 - mape: 38.3547 - val_loss: 40.8481 - val_mae: 211.9333 - val_mape: 36.7988 - lr: 0.0010\n",
      "Epoch 4/1000\n",
      "87/87 [==============================] - 7s 77ms/step - loss: 41.9783 - mae: 189.8250 - mape: 37.9263 - val_loss: 44.5553 - val_mae: 217.6388 - val_mape: 40.5010 - lr: 0.0010\n",
      "Epoch 5/1000\n",
      "87/87 [==============================] - 7s 80ms/step - loss: 42.8225 - mae: 190.9502 - mape: 38.7531 - val_loss: 42.7179 - val_mae: 213.1712 - val_mape: 38.6400 - lr: 0.0010\n",
      "Epoch 6/1000\n",
      "87/87 [==============================] - 7s 78ms/step - loss: 42.7750 - mae: 189.5205 - mape: 38.6960 - val_loss: 44.1427 - val_mae: 215.9239 - val_mape: 40.0628 - lr: 0.0010\n",
      "Epoch 7/1000\n",
      "87/87 [==============================] - 7s 80ms/step - loss: 43.1214 - mae: 191.2278 - mape: 39.0392 - val_loss: 42.6103 - val_mae: 212.9691 - val_mape: 38.5379 - lr: 0.0010\n",
      "Epoch 8/1000\n",
      "87/87 [==============================] - 7s 78ms/step - loss: 42.4685 - mae: 190.3951 - mape: 38.3989 - val_loss: 41.3084 - val_mae: 213.5627 - val_mape: 37.2461 - lr: 0.0010\n",
      "Epoch 9/1000\n",
      "87/87 [==============================] - 7s 80ms/step - loss: 42.2453 - mae: 190.4133 - mape: 38.1700 - val_loss: 42.4941 - val_mae: 208.8617 - val_mape: 38.4143 - lr: 0.0010\n",
      "Epoch 10/1000\n",
      "87/87 [==============================] - 7s 78ms/step - loss: 41.9840 - mae: 188.7711 - mape: 37.9123 - val_loss: 41.5849 - val_mae: 209.8102 - val_mape: 37.5129 - lr: 0.0010\n",
      "Epoch 11/1000\n",
      "87/87 [==============================] - 7s 78ms/step - loss: 41.5940 - mae: 189.8773 - mape: 37.5215 - val_loss: 41.2083 - val_mae: 210.8878 - val_mape: 37.1356 - lr: 0.0010\n",
      "Epoch 12/1000\n",
      "87/87 [==============================] - 7s 78ms/step - loss: 42.4801 - mae: 189.6606 - mape: 38.4102 - val_loss: 41.9942 - val_mae: 211.4753 - val_mape: 37.9266 - lr: 0.0010\n",
      "Epoch 13/1000\n",
      "87/87 [==============================] - 7s 77ms/step - loss: 41.8565 - mae: 188.9909 - mape: 37.7802 - val_loss: 41.2379 - val_mae: 211.7799 - val_mape: 37.1449 - lr: 0.0010\n",
      "Epoch 14/1000\n",
      "87/87 [==============================] - 7s 80ms/step - loss: 42.6755 - mae: 190.1441 - mape: 38.5711 - val_loss: 42.1330 - val_mae: 213.6147 - val_mape: 38.0380 - lr: 0.0010\n",
      "Epoch 15/1000\n",
      "87/87 [==============================] - 7s 79ms/step - loss: 43.5876 - mae: 190.6366 - mape: 39.4831 - val_loss: 41.2497 - val_mae: 212.3630 - val_mape: 37.1384 - lr: 0.0010\n",
      "Epoch 16/1000\n",
      "87/87 [==============================] - 7s 78ms/step - loss: 41.8249 - mae: 187.5035 - mape: 37.7090 - val_loss: 41.8485 - val_mae: 213.9743 - val_mape: 37.7398 - lr: 0.0010\n",
      "Epoch 17/1000\n",
      "87/87 [==============================] - 7s 79ms/step - loss: 42.5003 - mae: 189.9002 - mape: 38.3856 - val_loss: 42.7902 - val_mae: 211.8200 - val_mape: 38.6774 - lr: 0.0010\n",
      "Epoch 18/1000\n",
      "87/87 [==============================] - 7s 78ms/step - loss: 43.0521 - mae: 190.4350 - mape: 38.9355 - val_loss: 44.6704 - val_mae: 215.5884 - val_mape: 40.5579 - lr: 0.0010\n",
      "Epoch 19/1000\n",
      "87/87 [==============================] - 7s 78ms/step - loss: 42.4489 - mae: 189.4851 - mape: 38.3289 - val_loss: 42.2668 - val_mae: 210.6266 - val_mape: 38.1339 - lr: 0.0010\n",
      "Epoch 20/1000\n",
      "87/87 [==============================] - 7s 77ms/step - loss: 41.3723 - mae: 187.6358 - mape: 37.2415 - val_loss: 41.5077 - val_mae: 212.5675 - val_mape: 37.3719 - lr: 0.0010\n",
      "Epoch 21/1000\n",
      "87/87 [==============================] - 7s 77ms/step - loss: 42.0842 - mae: 188.4218 - mape: 37.9384 - val_loss: 41.2376 - val_mae: 209.4053 - val_mape: 37.0917 - lr: 0.0010\n",
      "Epoch 22/1000\n",
      "87/87 [==============================] - 7s 78ms/step - loss: 41.2012 - mae: 188.5466 - mape: 37.0595 - val_loss: 42.3121 - val_mae: 208.9643 - val_mape: 38.1660 - lr: 0.0010\n",
      "Epoch 23/1000\n",
      "87/87 [==============================] - 7s 78ms/step - loss: 42.2426 - mae: 188.7392 - mape: 38.0956 - val_loss: 41.8384 - val_mae: 210.7543 - val_mape: 37.6767 - lr: 0.0010\n",
      "Epoch 24/1000\n",
      "87/87 [==============================] - 7s 78ms/step - loss: 41.6140 - mae: 187.9555 - mape: 37.4536 - val_loss: 41.8795 - val_mae: 210.7653 - val_mape: 37.7145 - lr: 0.0010\n",
      "Epoch 25/1000\n",
      "87/87 [==============================] - 7s 80ms/step - loss: 41.8580 - mae: 187.9019 - mape: 37.6929 - val_loss: 42.4556 - val_mae: 209.0297 - val_mape: 38.2853 - lr: 0.0010\n",
      "Epoch 26/1000\n",
      "87/87 [==============================] - 7s 78ms/step - loss: 41.0346 - mae: 187.3379 - mape: 36.8723 - val_loss: 41.5017 - val_mae: 212.1606 - val_mape: 37.3322 - lr: 0.0010\n",
      "Epoch 27/1000\n",
      "87/87 [==============================] - 7s 79ms/step - loss: 40.9984 - mae: 187.9310 - mape: 36.8342 - val_loss: 42.3760 - val_mae: 212.4115 - val_mape: 38.2215 - lr: 0.0010\n",
      "Epoch 28/1000\n",
      "87/87 [==============================] - 7s 79ms/step - loss: 41.2514 - mae: 188.4340 - mape: 37.0902 - val_loss: 42.2576 - val_mae: 211.0939 - val_mape: 38.0937 - lr: 0.0010\n",
      "Epoch 29/1000\n",
      "87/87 [==============================] - 7s 78ms/step - loss: 41.4364 - mae: 187.4461 - mape: 37.2752 - val_loss: 41.7290 - val_mae: 210.2582 - val_mape: 37.5697 - lr: 0.0010\n",
      "Epoch 30/1000\n",
      "87/87 [==============================] - 7s 79ms/step - loss: 40.7118 - mae: 187.7171 - mape: 36.5461 - val_loss: 42.3330 - val_mae: 212.9950 - val_mape: 38.1687 - lr: 0.0010\n",
      "Epoch 31/1000\n",
      "87/87 [==============================] - 7s 80ms/step - loss: 40.8903 - mae: 188.4250 - mape: 36.7185 - val_loss: 42.9549 - val_mae: 210.3301 - val_mape: 38.7786 - lr: 0.0010\n",
      "Epoch 32/1000\n",
      "87/87 [==============================] - ETA: 0s - loss: 41.5550 - mae: 187.9026 - mape: 37.3789\n",
      "Epoch 32: ReduceLROnPlateau reducing learning rate to 0.0003000000142492354.\n",
      "87/87 [==============================] - 7s 78ms/step - loss: 41.5550 - mae: 187.9026 - mape: 37.3789 - val_loss: 42.3574 - val_mae: 210.6845 - val_mape: 38.1671 - lr: 0.0010\n",
      "Epoch 33/1000\n",
      "87/87 [==============================] - 7s 79ms/step - loss: 40.0604 - mae: 186.3142 - mape: 35.8708 - val_loss: 41.7420 - val_mae: 211.0712 - val_mape: 37.5563 - lr: 3.0000e-04\n",
      "Epoch 34/1000\n",
      "87/87 [==============================] - 7s 79ms/step - loss: 39.3445 - mae: 186.3459 - mape: 35.1614 - val_loss: 43.0980 - val_mae: 208.1311 - val_mape: 38.9166 - lr: 3.0000e-04\n",
      "Epoch 35/1000\n",
      "87/87 [==============================] - 7s 79ms/step - loss: 38.7216 - mae: 185.6773 - mape: 34.5446 - val_loss: 41.5177 - val_mae: 211.3717 - val_mape: 37.3438 - lr: 3.0000e-04\n",
      "Epoch 36/1000\n",
      "87/87 [==============================] - 7s 78ms/step - loss: 38.6848 - mae: 185.5841 - mape: 34.5116 - val_loss: 41.3066 - val_mae: 209.0602 - val_mape: 37.1335 - lr: 3.0000e-04\n",
      "Epoch 37/1000\n",
      "87/87 [==============================] - 7s 77ms/step - loss: 38.8460 - mae: 185.4207 - mape: 34.6718 - val_loss: 42.1726 - val_mae: 209.2380 - val_mape: 37.9991 - lr: 3.0000e-04\n",
      "Epoch 38/1000\n",
      "87/87 [==============================] - 7s 78ms/step - loss: 38.4290 - mae: 184.7711 - mape: 34.2577 - val_loss: 41.9754 - val_mae: 208.9238 - val_mape: 37.8018 - lr: 3.0000e-04\n",
      "Epoch 39/1000\n",
      "87/87 [==============================] - 7s 78ms/step - loss: 38.4902 - mae: 184.7965 - mape: 34.3181 - val_loss: 41.5278 - val_mae: 209.7224 - val_mape: 37.3549 - lr: 3.0000e-04\n",
      "Epoch 40/1000\n",
      "87/87 [==============================] - 7s 79ms/step - loss: 39.1894 - mae: 185.6018 - mape: 35.0194 - val_loss: 41.7521 - val_mae: 209.5398 - val_mape: 37.5827 - lr: 3.0000e-04\n",
      "Epoch 41/1000\n",
      "87/87 [==============================] - 7s 83ms/step - loss: 37.9776 - mae: 184.6094 - mape: 33.8113 - val_loss: 43.6652 - val_mae: 208.2854 - val_mape: 39.5007 - lr: 3.0000e-04\n",
      "Epoch 42/1000\n",
      "87/87 [==============================] - 7s 80ms/step - loss: 38.5802 - mae: 185.7911 - mape: 34.4162 - val_loss: 42.3303 - val_mae: 208.6754 - val_mape: 38.1609 - lr: 3.0000e-04\n",
      "Epoch 43/1000\n",
      "87/87 [==============================] - 7s 79ms/step - loss: 38.6183 - mae: 185.4689 - mape: 34.4504 - val_loss: 42.3498 - val_mae: 209.2215 - val_mape: 38.1833 - lr: 3.0000e-04\n",
      "Epoch 44/1000\n",
      "87/87 [==============================] - 7s 78ms/step - loss: 37.9738 - mae: 183.7053 - mape: 33.8076 - val_loss: 41.9481 - val_mae: 210.7865 - val_mape: 37.7863 - lr: 3.0000e-04\n",
      "Epoch 45/1000\n",
      "87/87 [==============================] - 7s 78ms/step - loss: 37.8983 - mae: 183.5848 - mape: 33.7315 - val_loss: 42.8923 - val_mae: 208.9551 - val_mape: 38.7224 - lr: 3.0000e-04\n",
      "Epoch 46/1000\n",
      "87/87 [==============================] - 7s 77ms/step - loss: 38.9123 - mae: 184.6561 - mape: 34.7467 - val_loss: 44.4842 - val_mae: 208.7818 - val_mape: 40.3179 - lr: 3.0000e-04\n",
      "Epoch 47/1000\n",
      "87/87 [==============================] - 7s 79ms/step - loss: 38.2712 - mae: 183.6595 - mape: 34.1057 - val_loss: 41.9942 - val_mae: 209.6356 - val_mape: 37.8275 - lr: 3.0000e-04\n",
      "Epoch 48/1000\n",
      "87/87 [==============================] - 7s 79ms/step - loss: 37.9155 - mae: 184.5293 - mape: 33.7533 - val_loss: 41.3449 - val_mae: 210.1127 - val_mape: 37.1851 - lr: 3.0000e-04\n",
      "Epoch 49/1000\n",
      "87/87 [==============================] - 7s 79ms/step - loss: 38.0557 - mae: 184.8801 - mape: 33.8964 - val_loss: 42.1044 - val_mae: 209.2412 - val_mape: 37.9457 - lr: 3.0000e-04\n",
      "Epoch 50/1000\n",
      "87/87 [==============================] - 7s 80ms/step - loss: 37.9217 - mae: 184.2701 - mape: 33.7623 - val_loss: 42.3921 - val_mae: 208.5705 - val_mape: 38.2308 - lr: 3.0000e-04\n",
      "Epoch 51/1000\n",
      "87/87 [==============================] - 7s 79ms/step - loss: 37.6040 - mae: 184.7990 - mape: 33.4431 - val_loss: 41.4564 - val_mae: 209.0360 - val_mape: 37.2982 - lr: 3.0000e-04\n",
      "Epoch 52/1000\n",
      "87/87 [==============================] - 7s 78ms/step - loss: 38.2602 - mae: 184.3366 - mape: 34.1012 - val_loss: 41.9260 - val_mae: 209.0665 - val_mape: 37.7667 - lr: 3.0000e-04\n",
      "Epoch 53/1000\n",
      "87/87 [==============================] - 7s 80ms/step - loss: 37.6743 - mae: 183.9004 - mape: 33.5168 - val_loss: 41.8627 - val_mae: 209.5200 - val_mape: 37.7059 - lr: 3.0000e-04\n",
      "Epoch 54/1000\n",
      "87/87 [==============================] - 7s 79ms/step - loss: 37.8223 - mae: 184.0198 - mape: 33.6635 - val_loss: 43.6353 - val_mae: 208.0063 - val_mape: 39.4718 - lr: 3.0000e-04\n",
      "Epoch 55/1000\n",
      "87/87 [==============================] - 7s 78ms/step - loss: 38.1209 - mae: 184.0676 - mape: 33.9608 - val_loss: 42.7437 - val_mae: 212.0826 - val_mape: 38.5889 - lr: 3.0000e-04\n",
      "Epoch 56/1000\n",
      "87/87 [==============================] - 7s 79ms/step - loss: 37.8556 - mae: 184.0635 - mape: 33.6980 - val_loss: 41.7777 - val_mae: 209.6137 - val_mape: 37.6227 - lr: 3.0000e-04\n",
      "Epoch 57/1000\n",
      "87/87 [==============================] - 7s 80ms/step - loss: 37.8575 - mae: 183.8776 - mape: 33.6986 - val_loss: 42.4311 - val_mae: 211.4609 - val_mape: 38.2726 - lr: 3.0000e-04\n",
      "Epoch 58/1000\n",
      "87/87 [==============================] - 7s 78ms/step - loss: 37.7900 - mae: 184.8764 - mape: 33.6310 - val_loss: 42.5146 - val_mae: 209.8493 - val_mape: 38.3563 - lr: 3.0000e-04\n",
      "Epoch 59/1000\n",
      "87/87 [==============================] - 7s 78ms/step - loss: 37.6369 - mae: 184.7761 - mape: 33.4758 - val_loss: 43.1147 - val_mae: 208.0827 - val_mape: 38.9523 - lr: 3.0000e-04\n",
      "Epoch 60/1000\n",
      "87/87 [==============================] - 7s 78ms/step - loss: 37.6041 - mae: 184.4208 - mape: 33.4429 - val_loss: 42.7477 - val_mae: 208.5442 - val_mape: 38.5857 - lr: 3.0000e-04\n",
      "Epoch 61/1000\n",
      "87/87 [==============================] - 7s 78ms/step - loss: 37.8255 - mae: 183.0791 - mape: 33.6657 - val_loss: 42.9049 - val_mae: 208.3841 - val_mape: 38.7439 - lr: 3.0000e-04\n",
      "Epoch 62/1000\n",
      "87/87 [==============================] - ETA: 0s - loss: 37.1758 - mae: 183.3981 - mape: 33.0175\n",
      "Epoch 62: ReduceLROnPlateau reducing learning rate to 9.000000427477062e-05.\n",
      "87/87 [==============================] - 7s 81ms/step - loss: 37.1758 - mae: 183.3981 - mape: 33.0175 - val_loss: 42.4188 - val_mae: 208.3238 - val_mape: 38.2644 - lr: 3.0000e-04\n",
      "Epoch 62: early stopping\n"
     ]
    },
    {
     "name": "stderr",
     "output_type": "stream",
     "text": [
      "c:\\Users\\Robin\\.conda\\envs\\tfenvironment\\lib\\site-packages\\spektral\\data\\utils.py:221: UserWarning: you are shuffling a 'MyDataset' object which is not a subclass of 'Sequence'; `shuffle` is not guaranteed to behave correctly. E.g., non-numpy array/tensor objects with view semantics may contain duplicates after shuffling.\n",
      "  np.random.shuffle(a)\n"
     ]
    },
    {
     "name": "stdout",
     "output_type": "stream",
     "text": [
      "Score for fold 3: loss of 40.337196350097656; mae of 213.3764190673828; mape of 36.30261993408203%;\n",
      "Getting split...\n",
      "------------------------------------------------------------------------\n",
      "Training for fold 4 ...\n",
      "Epoch 1/1000\n"
     ]
    },
    {
     "name": "stderr",
     "output_type": "stream",
     "text": [
      "c:\\Users\\Robin\\.conda\\envs\\tfenvironment\\lib\\site-packages\\spektral\\data\\utils.py:221: UserWarning: you are shuffling a 'MyDataset' object which is not a subclass of 'Sequence'; `shuffle` is not guaranteed to behave correctly. E.g., non-numpy array/tensor objects with view semantics may contain duplicates after shuffling.\n",
      "  np.random.shuffle(a)\n"
     ]
    },
    {
     "name": "stdout",
     "output_type": "stream",
     "text": [
      "87/87 [==============================] - ETA: 0s - loss: 43.6645 - mae: 191.2348 - mape: 39.6535"
     ]
    },
    {
     "name": "stderr",
     "output_type": "stream",
     "text": [
      "WARNING:absl:Function `_wrapped_model` contains input name(s) args_0 with unsupported characters which will be renamed to args_0_4 in the SavedModel.\n"
     ]
    },
    {
     "name": "stdout",
     "output_type": "stream",
     "text": [
      "INFO:tensorflow:Assets written to: crossvalidationmodels\\GCN_4\\assets\n"
     ]
    },
    {
     "name": "stderr",
     "output_type": "stream",
     "text": [
      "INFO:tensorflow:Assets written to: crossvalidationmodels\\GCN_4\\assets\n"
     ]
    },
    {
     "name": "stdout",
     "output_type": "stream",
     "text": [
      "87/87 [==============================] - 9s 89ms/step - loss: 43.6645 - mae: 191.2348 - mape: 39.6535 - val_loss: 40.9966 - val_mae: 216.2002 - val_mape: 36.9825 - lr: 0.0010\n",
      "Epoch 2/1000\n",
      " 1/87 [..............................] - ETA: 8s - loss: 43.4459 - mae: 879.7827 - mape: 39.4318"
     ]
    },
    {
     "name": "stderr",
     "output_type": "stream",
     "text": [
      "c:\\Users\\Robin\\.conda\\envs\\tfenvironment\\lib\\site-packages\\spektral\\data\\utils.py:221: UserWarning: you are shuffling a 'MyDataset' object which is not a subclass of 'Sequence'; `shuffle` is not guaranteed to behave correctly. E.g., non-numpy array/tensor objects with view semantics may contain duplicates after shuffling.\n",
      "  np.random.shuffle(a)\n"
     ]
    },
    {
     "name": "stdout",
     "output_type": "stream",
     "text": [
      "87/87 [==============================] - 7s 79ms/step - loss: 42.2162 - mae: 189.2083 - mape: 38.2057 - val_loss: 44.7888 - val_mae: 223.5993 - val_mape: 40.7895 - lr: 0.0010\n",
      "Epoch 3/1000\n",
      "87/87 [==============================] - ETA: 0s - loss: 42.1463 - mae: 189.5932 - mape: 38.1378"
     ]
    },
    {
     "name": "stderr",
     "output_type": "stream",
     "text": [
      "WARNING:absl:Function `_wrapped_model` contains input name(s) args_0 with unsupported characters which will be renamed to args_0_4 in the SavedModel.\n"
     ]
    },
    {
     "name": "stdout",
     "output_type": "stream",
     "text": [
      "INFO:tensorflow:Assets written to: crossvalidationmodels\\GCN_4\\assets\n"
     ]
    },
    {
     "name": "stderr",
     "output_type": "stream",
     "text": [
      "INFO:tensorflow:Assets written to: crossvalidationmodels\\GCN_4\\assets\n"
     ]
    },
    {
     "name": "stdout",
     "output_type": "stream",
     "text": [
      "87/87 [==============================] - 8s 88ms/step - loss: 42.1463 - mae: 189.5932 - mape: 38.1378 - val_loss: 40.9197 - val_mae: 215.4016 - val_mape: 36.9016 - lr: 0.0010\n",
      "Epoch 4/1000\n"
     ]
    },
    {
     "name": "stderr",
     "output_type": "stream",
     "text": [
      "c:\\Users\\Robin\\.conda\\envs\\tfenvironment\\lib\\site-packages\\spektral\\data\\utils.py:221: UserWarning: you are shuffling a 'MyDataset' object which is not a subclass of 'Sequence'; `shuffle` is not guaranteed to behave correctly. E.g., non-numpy array/tensor objects with view semantics may contain duplicates after shuffling.\n",
      "  np.random.shuffle(a)\n"
     ]
    },
    {
     "name": "stdout",
     "output_type": "stream",
     "text": [
      "87/87 [==============================] - 7s 80ms/step - loss: 41.6095 - mae: 189.4294 - mape: 37.5954 - val_loss: 41.8610 - val_mae: 219.3670 - val_mape: 37.8475 - lr: 0.0010\n",
      "Epoch 5/1000\n",
      "87/87 [==============================] - 7s 78ms/step - loss: 42.6141 - mae: 189.5941 - mape: 38.6021 - val_loss: 44.0939 - val_mae: 216.4114 - val_mape: 40.0848 - lr: 0.0010\n",
      "Epoch 6/1000\n",
      "87/87 [==============================] - 7s 78ms/step - loss: 42.2781 - mae: 189.8389 - mape: 38.2617 - val_loss: 43.1165 - val_mae: 220.0111 - val_mape: 39.0913 - lr: 0.0010\n",
      "Epoch 7/1000\n",
      "87/87 [==============================] - 7s 77ms/step - loss: 41.5168 - mae: 189.1750 - mape: 37.4798 - val_loss: 42.8077 - val_mae: 218.4096 - val_mape: 38.7735 - lr: 0.0010\n",
      "Epoch 8/1000\n",
      "87/87 [==============================] - 7s 79ms/step - loss: 42.2860 - mae: 189.9040 - mape: 38.2402 - val_loss: 41.7667 - val_mae: 215.7108 - val_mape: 37.7247 - lr: 0.0010\n",
      "Epoch 9/1000\n",
      "87/87 [==============================] - 7s 79ms/step - loss: 41.1107 - mae: 188.3936 - mape: 37.0802 - val_loss: 42.6904 - val_mae: 219.3620 - val_mape: 38.6634 - lr: 0.0010\n",
      "Epoch 10/1000\n",
      "87/87 [==============================] - 7s 79ms/step - loss: 41.9373 - mae: 188.5336 - mape: 37.9140 - val_loss: 43.1901 - val_mae: 213.4796 - val_mape: 39.1517 - lr: 0.0010\n",
      "Epoch 11/1000\n",
      "87/87 [==============================] - 7s 77ms/step - loss: 42.4513 - mae: 189.2690 - mape: 38.4167 - val_loss: 43.2999 - val_mae: 222.6428 - val_mape: 39.2640 - lr: 0.0010\n",
      "Epoch 12/1000\n",
      "87/87 [==============================] - 7s 79ms/step - loss: 41.7109 - mae: 188.9837 - mape: 37.6798 - val_loss: 42.4585 - val_mae: 218.2382 - val_mape: 38.4316 - lr: 0.0010\n",
      "Epoch 13/1000\n",
      "87/87 [==============================] - 7s 78ms/step - loss: 41.4772 - mae: 189.2634 - mape: 37.4405 - val_loss: 43.9187 - val_mae: 221.2753 - val_mape: 39.8808 - lr: 0.0010\n",
      "Epoch 14/1000\n",
      "87/87 [==============================] - 7s 77ms/step - loss: 41.3537 - mae: 188.8076 - mape: 37.3225 - val_loss: 42.7445 - val_mae: 217.8568 - val_mape: 38.7133 - lr: 0.0010\n",
      "Epoch 15/1000\n",
      "87/87 [==============================] - 7s 79ms/step - loss: 41.1951 - mae: 189.7420 - mape: 37.1651 - val_loss: 42.2940 - val_mae: 216.1421 - val_mape: 38.2680 - lr: 0.0010\n",
      "Epoch 16/1000\n",
      "87/87 [==============================] - 7s 79ms/step - loss: 41.6121 - mae: 189.7489 - mape: 37.5783 - val_loss: 42.9272 - val_mae: 215.3037 - val_mape: 38.8841 - lr: 0.0010\n",
      "Epoch 17/1000\n",
      "87/87 [==============================] - 7s 79ms/step - loss: 42.5823 - mae: 188.9093 - mape: 38.5345 - val_loss: 46.6068 - val_mae: 225.0135 - val_mape: 42.5586 - lr: 0.0010\n",
      "Epoch 18/1000\n",
      "87/87 [==============================] - 7s 77ms/step - loss: 42.2144 - mae: 190.0140 - mape: 38.1644 - val_loss: 46.3844 - val_mae: 212.1391 - val_mape: 42.3368 - lr: 0.0010\n",
      "Epoch 19/1000\n",
      "87/87 [==============================] - 7s 78ms/step - loss: 42.3627 - mae: 190.4892 - mape: 38.3205 - val_loss: 47.7337 - val_mae: 214.8400 - val_mape: 43.6909 - lr: 0.0010\n",
      "Epoch 20/1000\n",
      "87/87 [==============================] - 7s 79ms/step - loss: 42.0256 - mae: 190.0863 - mape: 37.9857 - val_loss: 43.7739 - val_mae: 220.9240 - val_mape: 39.7328 - lr: 0.0010\n",
      "Epoch 21/1000\n",
      "87/87 [==============================] - 7s 79ms/step - loss: 41.6487 - mae: 188.5970 - mape: 37.6039 - val_loss: 44.1898 - val_mae: 218.6394 - val_mape: 40.1455 - lr: 0.0010\n",
      "Epoch 22/1000\n",
      "87/87 [==============================] - 7s 77ms/step - loss: 42.0468 - mae: 189.0612 - mape: 37.9940 - val_loss: 44.6734 - val_mae: 212.7186 - val_mape: 40.6147 - lr: 0.0010\n",
      "Epoch 23/1000\n",
      "87/87 [==============================] - 7s 79ms/step - loss: 41.7496 - mae: 188.8357 - mape: 37.6903 - val_loss: 43.3382 - val_mae: 220.7857 - val_mape: 39.2823 - lr: 0.0010\n",
      "Epoch 24/1000\n",
      "87/87 [==============================] - 7s 78ms/step - loss: 41.4397 - mae: 189.0325 - mape: 37.3768 - val_loss: 44.2575 - val_mae: 218.2801 - val_mape: 40.1967 - lr: 0.0010\n",
      "Epoch 25/1000\n",
      "87/87 [==============================] - 7s 78ms/step - loss: 41.0826 - mae: 187.8840 - mape: 37.0178 - val_loss: 45.8495 - val_mae: 223.6158 - val_mape: 41.7734 - lr: 0.0010\n",
      "Epoch 26/1000\n",
      "87/87 [==============================] - 7s 78ms/step - loss: 41.8039 - mae: 189.3774 - mape: 37.7295 - val_loss: 45.1302 - val_mae: 223.1507 - val_mape: 41.0650 - lr: 0.0010\n",
      "Epoch 27/1000\n",
      "87/87 [==============================] - 7s 78ms/step - loss: 41.0249 - mae: 188.1509 - mape: 36.9532 - val_loss: 46.1230 - val_mae: 220.9081 - val_mape: 42.0553 - lr: 0.0010\n",
      "Epoch 28/1000\n",
      "87/87 [==============================] - 7s 79ms/step - loss: 41.3893 - mae: 188.4741 - mape: 37.3106 - val_loss: 43.7370 - val_mae: 215.9752 - val_mape: 39.6531 - lr: 0.0010\n",
      "Epoch 29/1000\n",
      "87/87 [==============================] - 7s 79ms/step - loss: 41.7761 - mae: 188.8625 - mape: 37.6851 - val_loss: 44.8758 - val_mae: 221.9908 - val_mape: 40.7844 - lr: 0.0010\n",
      "Epoch 30/1000\n",
      "87/87 [==============================] - 7s 77ms/step - loss: 41.5213 - mae: 188.3344 - mape: 37.4203 - val_loss: 44.0657 - val_mae: 222.0779 - val_mape: 39.9628 - lr: 0.0010\n",
      "Epoch 31/1000\n",
      "87/87 [==============================] - 7s 79ms/step - loss: 41.0991 - mae: 188.1374 - mape: 36.9964 - val_loss: 44.1316 - val_mae: 217.3382 - val_mape: 40.0273 - lr: 0.0010\n",
      "Epoch 32/1000\n",
      "87/87 [==============================] - 7s 79ms/step - loss: 40.9690 - mae: 188.0025 - mape: 36.8641 - val_loss: 44.9735 - val_mae: 219.5763 - val_mape: 40.8659 - lr: 0.0010\n",
      "Epoch 33/1000\n",
      "87/87 [==============================] - ETA: 0s - loss: 41.1721 - mae: 187.6060 - mape: 37.0619\n",
      "Epoch 33: ReduceLROnPlateau reducing learning rate to 0.0003000000142492354.\n",
      "87/87 [==============================] - 7s 78ms/step - loss: 41.1721 - mae: 187.6060 - mape: 37.0619 - val_loss: 45.0277 - val_mae: 219.2243 - val_mape: 40.9176 - lr: 0.0010\n",
      "Epoch 34/1000\n",
      "87/87 [==============================] - 7s 78ms/step - loss: 39.5109 - mae: 187.3147 - mape: 35.4022 - val_loss: 42.9477 - val_mae: 218.0054 - val_mape: 38.8415 - lr: 3.0000e-04\n",
      "Epoch 35/1000\n",
      "87/87 [==============================] - 7s 78ms/step - loss: 38.7590 - mae: 187.1548 - mape: 34.6509 - val_loss: 42.8756 - val_mae: 213.7729 - val_mape: 38.7674 - lr: 3.0000e-04\n",
      "Epoch 36/1000\n",
      "87/87 [==============================] - 7s 78ms/step - loss: 38.7683 - mae: 186.1867 - mape: 34.6618 - val_loss: 43.3749 - val_mae: 215.9635 - val_mape: 39.2710 - lr: 3.0000e-04\n",
      "Epoch 37/1000\n",
      "87/87 [==============================] - 7s 78ms/step - loss: 38.8909 - mae: 187.0362 - mape: 34.7870 - val_loss: 42.9973 - val_mae: 214.8475 - val_mape: 38.8927 - lr: 3.0000e-04\n",
      "Epoch 38/1000\n",
      "87/87 [==============================] - 7s 78ms/step - loss: 38.3661 - mae: 186.1020 - mape: 34.2626 - val_loss: 42.4263 - val_mae: 216.8075 - val_mape: 38.3244 - lr: 3.0000e-04\n",
      "Epoch 39/1000\n",
      "87/87 [==============================] - 7s 78ms/step - loss: 38.1858 - mae: 185.8935 - mape: 34.0842 - val_loss: 43.6148 - val_mae: 217.1637 - val_mape: 39.5137 - lr: 3.0000e-04\n",
      "Epoch 40/1000\n",
      "87/87 [==============================] - 7s 82ms/step - loss: 38.5126 - mae: 186.1439 - mape: 34.4121 - val_loss: 42.6680 - val_mae: 216.5333 - val_mape: 38.5727 - lr: 3.0000e-04\n",
      "Epoch 41/1000\n",
      "87/87 [==============================] - 7s 80ms/step - loss: 38.0382 - mae: 186.2384 - mape: 33.9430 - val_loss: 42.5957 - val_mae: 216.8604 - val_mape: 38.5055 - lr: 3.0000e-04\n",
      "Epoch 42/1000\n",
      "87/87 [==============================] - 7s 80ms/step - loss: 37.9546 - mae: 186.0176 - mape: 33.8634 - val_loss: 44.3623 - val_mae: 214.8950 - val_mape: 40.2689 - lr: 3.0000e-04\n",
      "Epoch 43/1000\n",
      "87/87 [==============================] - 7s 80ms/step - loss: 37.9082 - mae: 185.5710 - mape: 33.8163 - val_loss: 42.7833 - val_mae: 216.8384 - val_mape: 38.6934 - lr: 3.0000e-04\n",
      "Epoch 44/1000\n",
      "87/87 [==============================] - 7s 78ms/step - loss: 37.9807 - mae: 185.6516 - mape: 33.8876 - val_loss: 42.7450 - val_mae: 215.5235 - val_mape: 38.6526 - lr: 3.0000e-04\n",
      "Epoch 45/1000\n",
      "87/87 [==============================] - 7s 78ms/step - loss: 37.8999 - mae: 185.2629 - mape: 33.8105 - val_loss: 42.5760 - val_mae: 214.3475 - val_mape: 38.4863 - lr: 3.0000e-04\n",
      "Epoch 46/1000\n",
      "87/87 [==============================] - 7s 78ms/step - loss: 37.5249 - mae: 185.4709 - mape: 33.4351 - val_loss: 42.3715 - val_mae: 215.3343 - val_mape: 38.2855 - lr: 3.0000e-04\n",
      "Epoch 47/1000\n",
      "87/87 [==============================] - 7s 78ms/step - loss: 37.7331 - mae: 185.6162 - mape: 33.6479 - val_loss: 42.3173 - val_mae: 214.3947 - val_mape: 38.2313 - lr: 3.0000e-04\n",
      "Epoch 48/1000\n",
      "87/87 [==============================] - 7s 79ms/step - loss: 37.8074 - mae: 185.7793 - mape: 33.7200 - val_loss: 43.9080 - val_mae: 215.5363 - val_mape: 39.8216 - lr: 3.0000e-04\n",
      "Epoch 49/1000\n",
      "87/87 [==============================] - 7s 77ms/step - loss: 37.9795 - mae: 185.5840 - mape: 33.8932 - val_loss: 43.3684 - val_mae: 213.5564 - val_mape: 39.2806 - lr: 3.0000e-04\n",
      "Epoch 50/1000\n",
      "87/87 [==============================] - 7s 79ms/step - loss: 38.0007 - mae: 185.6826 - mape: 33.9115 - val_loss: 42.2077 - val_mae: 215.4064 - val_mape: 38.1210 - lr: 3.0000e-04\n",
      "Epoch 51/1000\n",
      "87/87 [==============================] - 7s 78ms/step - loss: 38.1086 - mae: 185.5547 - mape: 34.0184 - val_loss: 43.4593 - val_mae: 217.1363 - val_mape: 39.3699 - lr: 3.0000e-04\n",
      "Epoch 52/1000\n",
      "87/87 [==============================] - 7s 81ms/step - loss: 37.2681 - mae: 184.7909 - mape: 33.1787 - val_loss: 42.8173 - val_mae: 214.4702 - val_mape: 38.7286 - lr: 3.0000e-04\n",
      "Epoch 53/1000\n",
      "87/87 [==============================] - 7s 79ms/step - loss: 37.3706 - mae: 185.2392 - mape: 33.2831 - val_loss: 42.9790 - val_mae: 215.4823 - val_mape: 38.8924 - lr: 3.0000e-04\n",
      "Epoch 54/1000\n",
      "87/87 [==============================] - 7s 78ms/step - loss: 37.7444 - mae: 185.3872 - mape: 33.6594 - val_loss: 44.4810 - val_mae: 214.0119 - val_mape: 40.3935 - lr: 3.0000e-04\n",
      "Epoch 55/1000\n",
      "87/87 [==============================] - 7s 79ms/step - loss: 37.5130 - mae: 185.1202 - mape: 33.4278 - val_loss: 42.2149 - val_mae: 216.0261 - val_mape: 38.1313 - lr: 3.0000e-04\n",
      "Epoch 56/1000\n",
      "87/87 [==============================] - 7s 80ms/step - loss: 37.8247 - mae: 184.9377 - mape: 33.7400 - val_loss: 44.1446 - val_mae: 213.7903 - val_mape: 40.0614 - lr: 3.0000e-04\n",
      "Epoch 57/1000\n",
      "87/87 [==============================] - 7s 79ms/step - loss: 37.7321 - mae: 185.6406 - mape: 33.6482 - val_loss: 43.4763 - val_mae: 218.7996 - val_mape: 39.3954 - lr: 3.0000e-04\n",
      "Epoch 58/1000\n",
      "87/87 [==============================] - 7s 78ms/step - loss: 37.9066 - mae: 185.3482 - mape: 33.8246 - val_loss: 42.6502 - val_mae: 215.7335 - val_mape: 38.5750 - lr: 3.0000e-04\n",
      "Epoch 59/1000\n",
      "87/87 [==============================] - 7s 78ms/step - loss: 37.6269 - mae: 185.7608 - mape: 33.5501 - val_loss: 42.9140 - val_mae: 215.7297 - val_mape: 38.8368 - lr: 3.0000e-04\n",
      "Epoch 60/1000\n",
      "87/87 [==============================] - 7s 78ms/step - loss: 37.1608 - mae: 185.1326 - mape: 33.0813 - val_loss: 44.1569 - val_mae: 212.9983 - val_mape: 40.0776 - lr: 3.0000e-04\n",
      "Epoch 61/1000\n",
      "87/87 [==============================] - 7s 78ms/step - loss: 37.8731 - mae: 185.4154 - mape: 33.7949 - val_loss: 44.3535 - val_mae: 214.8105 - val_mape: 40.2787 - lr: 3.0000e-04\n",
      "Epoch 62/1000\n",
      "87/87 [==============================] - 7s 78ms/step - loss: 37.6314 - mae: 185.0799 - mape: 33.5568 - val_loss: 44.0276 - val_mae: 213.2328 - val_mape: 39.9501 - lr: 3.0000e-04\n",
      "Epoch 63/1000\n",
      "86/87 [============================>.] - ETA: 0s - loss: 37.7415 - mae: 186.7056 - mape: 33.6653\n",
      "Epoch 63: ReduceLROnPlateau reducing learning rate to 9.000000427477062e-05.\n",
      "87/87 [==============================] - 7s 79ms/step - loss: 37.5861 - mae: 184.7284 - mape: 33.5100 - val_loss: 43.7262 - val_mae: 216.1917 - val_mape: 39.6540 - lr: 3.0000e-04\n",
      "Epoch 63: early stopping\n"
     ]
    },
    {
     "name": "stderr",
     "output_type": "stream",
     "text": [
      "c:\\Users\\Robin\\.conda\\envs\\tfenvironment\\lib\\site-packages\\spektral\\data\\utils.py:221: UserWarning: you are shuffling a 'MyDataset' object which is not a subclass of 'Sequence'; `shuffle` is not guaranteed to behave correctly. E.g., non-numpy array/tensor objects with view semantics may contain duplicates after shuffling.\n",
      "  np.random.shuffle(a)\n"
     ]
    },
    {
     "name": "stdout",
     "output_type": "stream",
     "text": [
      "Score for fold 4: loss of 40.91968536376953; mae of 215.40164184570312; mape of 36.90154266357422%;\n",
      "Getting split...\n",
      "------------------------------------------------------------------------\n",
      "Training for fold 5 ...\n",
      "Epoch 1/1000\n"
     ]
    },
    {
     "name": "stderr",
     "output_type": "stream",
     "text": [
      "c:\\Users\\Robin\\.conda\\envs\\tfenvironment\\lib\\site-packages\\spektral\\data\\utils.py:221: UserWarning: you are shuffling a 'MyDataset' object which is not a subclass of 'Sequence'; `shuffle` is not guaranteed to behave correctly. E.g., non-numpy array/tensor objects with view semantics may contain duplicates after shuffling.\n",
      "  np.random.shuffle(a)\n"
     ]
    },
    {
     "name": "stdout",
     "output_type": "stream",
     "text": [
      "86/87 [============================>.] - ETA: 0s - loss: 44.2105 - mae: 191.9211 - mape: 40.2116"
     ]
    },
    {
     "name": "stderr",
     "output_type": "stream",
     "text": [
      "WARNING:absl:Function `_wrapped_model` contains input name(s) args_0 with unsupported characters which will be renamed to args_0_4 in the SavedModel.\n"
     ]
    },
    {
     "name": "stdout",
     "output_type": "stream",
     "text": [
      "INFO:tensorflow:Assets written to: crossvalidationmodels\\GCN_5\\assets\n"
     ]
    },
    {
     "name": "stderr",
     "output_type": "stream",
     "text": [
      "INFO:tensorflow:Assets written to: crossvalidationmodels\\GCN_5\\assets\n"
     ]
    },
    {
     "name": "stdout",
     "output_type": "stream",
     "text": [
      "87/87 [==============================] - 9s 88ms/step - loss: 44.1708 - mae: 193.0831 - mape: 40.1718 - val_loss: 39.0157 - val_mae: 200.7546 - val_mape: 35.0059 - lr: 0.0010\n",
      "Epoch 2/1000\n",
      " 1/87 [..............................] - ETA: 6s - loss: 45.2871 - mae: 188.0762 - mape: 41.2773"
     ]
    },
    {
     "name": "stderr",
     "output_type": "stream",
     "text": [
      "c:\\Users\\Robin\\.conda\\envs\\tfenvironment\\lib\\site-packages\\spektral\\data\\utils.py:221: UserWarning: you are shuffling a 'MyDataset' object which is not a subclass of 'Sequence'; `shuffle` is not guaranteed to behave correctly. E.g., non-numpy array/tensor objects with view semantics may contain duplicates after shuffling.\n",
      "  np.random.shuffle(a)\n"
     ]
    },
    {
     "name": "stdout",
     "output_type": "stream",
     "text": [
      "87/87 [==============================] - 7s 80ms/step - loss: 44.0188 - mae: 192.5139 - mape: 40.0114 - val_loss: 40.3293 - val_mae: 207.0613 - val_mape: 36.3326 - lr: 0.0010\n",
      "Epoch 3/1000\n",
      "87/87 [==============================] - ETA: 0s - loss: 43.3428 - mae: 192.8396 - mape: 39.3311"
     ]
    },
    {
     "name": "stderr",
     "output_type": "stream",
     "text": [
      "WARNING:absl:Function `_wrapped_model` contains input name(s) args_0 with unsupported characters which will be renamed to args_0_4 in the SavedModel.\n"
     ]
    },
    {
     "name": "stdout",
     "output_type": "stream",
     "text": [
      "INFO:tensorflow:Assets written to: crossvalidationmodels\\GCN_5\\assets\n"
     ]
    },
    {
     "name": "stderr",
     "output_type": "stream",
     "text": [
      "INFO:tensorflow:Assets written to: crossvalidationmodels\\GCN_5\\assets\n"
     ]
    },
    {
     "name": "stdout",
     "output_type": "stream",
     "text": [
      "87/87 [==============================] - 8s 88ms/step - loss: 43.3428 - mae: 192.8396 - mape: 39.3311 - val_loss: 38.1645 - val_mae: 203.0934 - val_mape: 34.1468 - lr: 0.0010\n",
      "Epoch 4/1000\n",
      " 1/87 [..............................] - ETA: 7s - loss: 38.3567 - mae: 177.3428 - mape: 34.3390"
     ]
    },
    {
     "name": "stderr",
     "output_type": "stream",
     "text": [
      "c:\\Users\\Robin\\.conda\\envs\\tfenvironment\\lib\\site-packages\\spektral\\data\\utils.py:221: UserWarning: you are shuffling a 'MyDataset' object which is not a subclass of 'Sequence'; `shuffle` is not guaranteed to behave correctly. E.g., non-numpy array/tensor objects with view semantics may contain duplicates after shuffling.\n",
      "  np.random.shuffle(a)\n"
     ]
    },
    {
     "name": "stdout",
     "output_type": "stream",
     "text": [
      "87/87 [==============================] - 7s 80ms/step - loss: 43.1315 - mae: 192.4503 - mape: 39.1091 - val_loss: 42.6088 - val_mae: 209.3272 - val_mape: 38.5856 - lr: 0.0010\n",
      "Epoch 5/1000\n",
      "87/87 [==============================] - 7s 78ms/step - loss: 43.8589 - mae: 193.6248 - mape: 39.8319 - val_loss: 38.7552 - val_mae: 201.9466 - val_mape: 34.7218 - lr: 0.0010\n",
      "Epoch 6/1000\n",
      "87/87 [==============================] - 7s 77ms/step - loss: 42.1804 - mae: 190.5826 - mape: 38.1498 - val_loss: 39.0236 - val_mae: 203.3042 - val_mape: 34.9964 - lr: 0.0010\n",
      "Epoch 7/1000\n",
      "87/87 [==============================] - 7s 78ms/step - loss: 43.0015 - mae: 192.3601 - mape: 38.9757 - val_loss: 40.3981 - val_mae: 205.6884 - val_mape: 36.3755 - lr: 0.0010\n",
      "Epoch 8/1000\n",
      "87/87 [==============================] - 7s 79ms/step - loss: 42.8114 - mae: 191.1437 - mape: 38.7783 - val_loss: 40.7010 - val_mae: 206.4584 - val_mape: 36.6629 - lr: 0.0010\n",
      "Epoch 9/1000\n",
      "87/87 [==============================] - 7s 79ms/step - loss: 43.5726 - mae: 193.5793 - mape: 39.5333 - val_loss: 41.0606 - val_mae: 200.8400 - val_mape: 37.0146 - lr: 0.0010\n",
      "Epoch 10/1000\n",
      "87/87 [==============================] - 7s 79ms/step - loss: 42.4242 - mae: 190.7706 - mape: 38.3742 - val_loss: 41.5465 - val_mae: 202.3526 - val_mape: 37.4876 - lr: 0.0010\n",
      "Epoch 11/1000\n",
      "87/87 [==============================] - 7s 79ms/step - loss: 43.1361 - mae: 192.1297 - mape: 39.0817 - val_loss: 40.5431 - val_mae: 201.3099 - val_mape: 36.4823 - lr: 0.0010\n",
      "Epoch 12/1000\n",
      "87/87 [==============================] - 7s 77ms/step - loss: 42.8109 - mae: 191.2551 - mape: 38.7510 - val_loss: 40.2692 - val_mae: 201.5607 - val_mape: 36.2038 - lr: 0.0010\n",
      "Epoch 13/1000\n",
      "87/87 [==============================] - 7s 77ms/step - loss: 42.6169 - mae: 190.4182 - mape: 38.5506 - val_loss: 39.7214 - val_mae: 202.5534 - val_mape: 35.6523 - lr: 0.0010\n",
      "Epoch 14/1000\n",
      "87/87 [==============================] - 7s 79ms/step - loss: 42.0662 - mae: 191.5865 - mape: 37.9884 - val_loss: 40.6145 - val_mae: 203.6207 - val_mape: 36.5319 - lr: 0.0010\n",
      "Epoch 15/1000\n",
      "87/87 [==============================] - 7s 79ms/step - loss: 43.7868 - mae: 192.5717 - mape: 39.7065 - val_loss: 40.4032 - val_mae: 202.9771 - val_mape: 36.3224 - lr: 0.0010\n",
      "Epoch 16/1000\n",
      "87/87 [==============================] - 7s 79ms/step - loss: 41.7627 - mae: 191.1988 - mape: 37.6787 - val_loss: 39.3058 - val_mae: 202.8457 - val_mape: 35.2240 - lr: 0.0010\n",
      "Epoch 17/1000\n",
      "87/87 [==============================] - 7s 78ms/step - loss: 42.9650 - mae: 191.6113 - mape: 38.8843 - val_loss: 41.4912 - val_mae: 203.8523 - val_mape: 37.4065 - lr: 0.0010\n",
      "Epoch 18/1000\n",
      "87/87 [==============================] - 7s 80ms/step - loss: 42.8881 - mae: 192.2735 - mape: 38.8035 - val_loss: 40.2192 - val_mae: 202.2022 - val_mape: 36.1329 - lr: 0.0010\n",
      "Epoch 19/1000\n",
      "87/87 [==============================] - 7s 79ms/step - loss: 42.0830 - mae: 190.9355 - mape: 37.9972 - val_loss: 40.7309 - val_mae: 201.4983 - val_mape: 36.6377 - lr: 0.0010\n",
      "Epoch 20/1000\n",
      "87/87 [==============================] - 7s 79ms/step - loss: 42.2413 - mae: 191.5595 - mape: 38.1367 - val_loss: 40.3399 - val_mae: 206.0422 - val_mape: 36.2254 - lr: 0.0010\n",
      "Epoch 21/1000\n",
      "87/87 [==============================] - 7s 79ms/step - loss: 41.8030 - mae: 190.4312 - mape: 37.6900 - val_loss: 41.5015 - val_mae: 203.5617 - val_mape: 37.4058 - lr: 0.0010\n",
      "Epoch 22/1000\n",
      "87/87 [==============================] - 7s 79ms/step - loss: 42.2291 - mae: 191.8606 - mape: 38.1285 - val_loss: 45.8088 - val_mae: 206.2732 - val_mape: 41.7002 - lr: 0.0010\n",
      "Epoch 23/1000\n",
      "87/87 [==============================] - 7s 79ms/step - loss: 43.1404 - mae: 191.5905 - mape: 39.0294 - val_loss: 40.2813 - val_mae: 202.7635 - val_mape: 36.1758 - lr: 0.0010\n",
      "Epoch 24/1000\n",
      "87/87 [==============================] - 7s 78ms/step - loss: 41.5302 - mae: 189.4436 - mape: 37.4086 - val_loss: 42.8843 - val_mae: 201.4877 - val_mape: 38.7611 - lr: 0.0010\n",
      "Epoch 25/1000\n",
      "87/87 [==============================] - 7s 80ms/step - loss: 41.6450 - mae: 189.5823 - mape: 37.5263 - val_loss: 44.1090 - val_mae: 207.3824 - val_mape: 39.9947 - lr: 0.0010\n",
      "Epoch 26/1000\n",
      "87/87 [==============================] - 7s 80ms/step - loss: 41.3502 - mae: 190.4063 - mape: 37.2250 - val_loss: 45.5538 - val_mae: 202.2883 - val_mape: 41.4251 - lr: 0.0010\n",
      "Epoch 27/1000\n",
      "87/87 [==============================] - 7s 79ms/step - loss: 42.6903 - mae: 191.5034 - mape: 38.5674 - val_loss: 42.7955 - val_mae: 204.2591 - val_mape: 38.6606 - lr: 0.0010\n",
      "Epoch 28/1000\n",
      "87/87 [==============================] - 7s 80ms/step - loss: 41.7323 - mae: 189.6042 - mape: 37.5975 - val_loss: 43.0100 - val_mae: 201.4117 - val_mape: 38.8684 - lr: 0.0010\n",
      "Epoch 29/1000\n",
      "87/87 [==============================] - 7s 79ms/step - loss: 42.6224 - mae: 190.5393 - mape: 38.4753 - val_loss: 42.3189 - val_mae: 204.1976 - val_mape: 38.1637 - lr: 0.0010\n",
      "Epoch 30/1000\n",
      "87/87 [==============================] - 7s 79ms/step - loss: 42.1763 - mae: 190.2301 - mape: 38.0230 - val_loss: 41.8342 - val_mae: 201.9252 - val_mape: 37.6690 - lr: 0.0010\n",
      "Epoch 31/1000\n",
      "87/87 [==============================] - 7s 79ms/step - loss: 41.8201 - mae: 188.8042 - mape: 37.6606 - val_loss: 44.7668 - val_mae: 202.8426 - val_mape: 40.6074 - lr: 0.0010\n",
      "Epoch 32/1000\n",
      "87/87 [==============================] - 7s 80ms/step - loss: 42.0702 - mae: 189.4379 - mape: 37.9030 - val_loss: 43.3154 - val_mae: 202.1736 - val_mape: 39.1457 - lr: 0.0010\n",
      "Epoch 33/1000\n",
      "87/87 [==============================] - ETA: 0s - loss: 42.5435 - mae: 189.6395 - mape: 38.3706\n",
      "Epoch 33: ReduceLROnPlateau reducing learning rate to 0.0003000000142492354.\n",
      "87/87 [==============================] - 7s 78ms/step - loss: 42.5435 - mae: 189.6395 - mape: 38.3706 - val_loss: 42.5792 - val_mae: 202.7206 - val_mape: 38.4150 - lr: 0.0010\n",
      "Epoch 34/1000\n",
      "87/87 [==============================] - 7s 79ms/step - loss: 40.0151 - mae: 187.7714 - mape: 35.8506 - val_loss: 42.9589 - val_mae: 201.2508 - val_mape: 38.7925 - lr: 3.0000e-04\n",
      "Epoch 35/1000\n",
      "87/87 [==============================] - 7s 80ms/step - loss: 39.7770 - mae: 188.2920 - mape: 35.6147 - val_loss: 42.0050 - val_mae: 202.6529 - val_mape: 37.8449 - lr: 3.0000e-04\n",
      "Epoch 36/1000\n",
      "87/87 [==============================] - 7s 81ms/step - loss: 39.4853 - mae: 186.8276 - mape: 35.3242 - val_loss: 41.8032 - val_mae: 201.6994 - val_mape: 37.6445 - lr: 3.0000e-04\n",
      "Epoch 37/1000\n",
      "87/87 [==============================] - 7s 79ms/step - loss: 39.1113 - mae: 187.4253 - mape: 34.9523 - val_loss: 42.0376 - val_mae: 202.6541 - val_mape: 37.8808 - lr: 3.0000e-04\n",
      "Epoch 38/1000\n",
      "87/87 [==============================] - 7s 79ms/step - loss: 39.6958 - mae: 187.0155 - mape: 35.5423 - val_loss: 41.5399 - val_mae: 200.9530 - val_mape: 37.3871 - lr: 3.0000e-04\n",
      "Epoch 39/1000\n",
      "87/87 [==============================] - 7s 80ms/step - loss: 39.1130 - mae: 187.4403 - mape: 34.9613 - val_loss: 41.7859 - val_mae: 201.8974 - val_mape: 37.6343 - lr: 3.0000e-04\n",
      "Epoch 40/1000\n",
      "87/87 [==============================] - 7s 80ms/step - loss: 38.9624 - mae: 187.0052 - mape: 34.8132 - val_loss: 41.8908 - val_mae: 201.9903 - val_mape: 37.7440 - lr: 3.0000e-04\n",
      "Epoch 41/1000\n",
      "87/87 [==============================] - 7s 80ms/step - loss: 38.9818 - mae: 186.9296 - mape: 34.8335 - val_loss: 43.7141 - val_mae: 200.5280 - val_mape: 39.5612 - lr: 3.0000e-04\n",
      "Epoch 42/1000\n",
      "87/87 [==============================] - 7s 78ms/step - loss: 38.7541 - mae: 186.5672 - mape: 34.6055 - val_loss: 40.7634 - val_mae: 201.2784 - val_mape: 36.6180 - lr: 3.0000e-04\n",
      "Epoch 43/1000\n",
      "87/87 [==============================] - 7s 79ms/step - loss: 38.6362 - mae: 186.8630 - mape: 34.4905 - val_loss: 41.3437 - val_mae: 201.1087 - val_mape: 37.1966 - lr: 3.0000e-04\n",
      "Epoch 44/1000\n",
      "87/87 [==============================] - 7s 81ms/step - loss: 38.6702 - mae: 186.8829 - mape: 34.5211 - val_loss: 41.7581 - val_mae: 202.0336 - val_mape: 37.6113 - lr: 3.0000e-04\n",
      "Epoch 45/1000\n",
      "87/87 [==============================] - 7s 80ms/step - loss: 38.9317 - mae: 186.7279 - mape: 34.7840 - val_loss: 42.4421 - val_mae: 200.1541 - val_mape: 38.2938 - lr: 3.0000e-04\n",
      "Epoch 46/1000\n",
      "87/87 [==============================] - 7s 80ms/step - loss: 38.6949 - mae: 186.2321 - mape: 34.5493 - val_loss: 41.7794 - val_mae: 202.2612 - val_mape: 37.6339 - lr: 3.0000e-04\n",
      "Epoch 47/1000\n",
      "87/87 [==============================] - 7s 80ms/step - loss: 38.5730 - mae: 186.6395 - mape: 34.4266 - val_loss: 43.0736 - val_mae: 201.1866 - val_mape: 38.9271 - lr: 3.0000e-04\n",
      "Epoch 48/1000\n",
      "87/87 [==============================] - 7s 79ms/step - loss: 38.3536 - mae: 186.4752 - mape: 34.2069 - val_loss: 41.1003 - val_mae: 201.5263 - val_mape: 36.9530 - lr: 3.0000e-04\n",
      "Epoch 49/1000\n",
      "87/87 [==============================] - 7s 78ms/step - loss: 38.6926 - mae: 186.6687 - mape: 34.5449 - val_loss: 43.3881 - val_mae: 201.6997 - val_mape: 39.2409 - lr: 3.0000e-04\n",
      "Epoch 50/1000\n",
      "87/87 [==============================] - 7s 80ms/step - loss: 38.3369 - mae: 186.8204 - mape: 34.1907 - val_loss: 41.3344 - val_mae: 201.8020 - val_mape: 37.1883 - lr: 3.0000e-04\n",
      "Epoch 51/1000\n",
      "87/87 [==============================] - 7s 79ms/step - loss: 38.4022 - mae: 186.4315 - mape: 34.2576 - val_loss: 43.6986 - val_mae: 200.8979 - val_mape: 39.5510 - lr: 3.0000e-04\n",
      "Epoch 52/1000\n",
      "87/87 [==============================] - 7s 78ms/step - loss: 39.0190 - mae: 186.5441 - mape: 34.8709 - val_loss: 42.8211 - val_mae: 201.6241 - val_mape: 38.6734 - lr: 3.0000e-04\n",
      "Epoch 53/1000\n",
      "87/87 [==============================] - 7s 79ms/step - loss: 38.2790 - mae: 186.5843 - mape: 34.1305 - val_loss: 41.7474 - val_mae: 200.9238 - val_mape: 37.5955 - lr: 3.0000e-04\n",
      "Epoch 54/1000\n",
      "87/87 [==============================] - 7s 79ms/step - loss: 38.7690 - mae: 186.3150 - mape: 34.6158 - val_loss: 41.6793 - val_mae: 200.8830 - val_mape: 37.5266 - lr: 3.0000e-04\n",
      "Epoch 55/1000\n",
      "87/87 [==============================] - 7s 79ms/step - loss: 38.0997 - mae: 185.4543 - mape: 33.9472 - val_loss: 42.6691 - val_mae: 201.9812 - val_mape: 38.5222 - lr: 3.0000e-04\n",
      "Epoch 56/1000\n",
      "87/87 [==============================] - 7s 78ms/step - loss: 38.2033 - mae: 186.0110 - mape: 34.0554 - val_loss: 41.7540 - val_mae: 203.1955 - val_mape: 37.6067 - lr: 3.0000e-04\n",
      "Epoch 57/1000\n",
      "87/87 [==============================] - 7s 80ms/step - loss: 37.9552 - mae: 185.7341 - mape: 33.8035 - val_loss: 43.4357 - val_mae: 200.8304 - val_mape: 39.2817 - lr: 3.0000e-04\n",
      "Epoch 58/1000\n",
      "87/87 [==============================] - 7s 79ms/step - loss: 38.6263 - mae: 186.7983 - mape: 34.4741 - val_loss: 41.7158 - val_mae: 204.0091 - val_mape: 37.5671 - lr: 3.0000e-04\n",
      "Epoch 59/1000\n",
      "87/87 [==============================] - 7s 79ms/step - loss: 38.6231 - mae: 186.0593 - mape: 34.4749 - val_loss: 43.0493 - val_mae: 201.5786 - val_mape: 38.9038 - lr: 3.0000e-04\n",
      "Epoch 60/1000\n",
      "87/87 [==============================] - 7s 80ms/step - loss: 38.4693 - mae: 185.5131 - mape: 34.3229 - val_loss: 41.5365 - val_mae: 200.7551 - val_mape: 37.3890 - lr: 3.0000e-04\n",
      "Epoch 61/1000\n",
      "87/87 [==============================] - 7s 80ms/step - loss: 38.9839 - mae: 187.0271 - mape: 34.8341 - val_loss: 43.4100 - val_mae: 202.4496 - val_mape: 39.2598 - lr: 3.0000e-04\n",
      "Epoch 62/1000\n",
      "87/87 [==============================] - 7s 80ms/step - loss: 38.2926 - mae: 184.4055 - mape: 34.1402 - val_loss: 43.2049 - val_mae: 201.4616 - val_mape: 39.0520 - lr: 3.0000e-04\n",
      "Epoch 63/1000\n",
      "87/87 [==============================] - ETA: 0s - loss: 37.9006 - mae: 184.8183 - mape: 33.7457\n",
      "Epoch 63: ReduceLROnPlateau reducing learning rate to 9.000000427477062e-05.\n",
      "87/87 [==============================] - 7s 78ms/step - loss: 37.9006 - mae: 184.8183 - mape: 33.7457 - val_loss: 43.3919 - val_mae: 201.5869 - val_mape: 39.2374 - lr: 3.0000e-04\n",
      "Epoch 63: early stopping\n"
     ]
    },
    {
     "name": "stderr",
     "output_type": "stream",
     "text": [
      "c:\\Users\\Robin\\.conda\\envs\\tfenvironment\\lib\\site-packages\\spektral\\data\\utils.py:221: UserWarning: you are shuffling a 'MyDataset' object which is not a subclass of 'Sequence'; `shuffle` is not guaranteed to behave correctly. E.g., non-numpy array/tensor objects with view semantics may contain duplicates after shuffling.\n",
      "  np.random.shuffle(a)\n"
     ]
    },
    {
     "name": "stdout",
     "output_type": "stream",
     "text": [
      "Score for fold 5: loss of 38.16448211669922; mae of 203.0933837890625; mape of 34.14677429199219%;\n"
     ]
    }
   ],
   "source": [
    "#Hybrid Reset\n",
    "model = keras.models.load_model(\"savedmodels/GCN_simplified_normalized\")\n",
    "make_trainable(model)\n",
    "loss_per_fold, mae_per_fold, mape_per_fold, validation_per_fold = cross_validate(model, \"crossvalidationmodels/GCN\")"
   ]
  },
  {
   "cell_type": "code",
   "execution_count": 11,
   "metadata": {},
   "outputs": [
    {
     "name": "stdout",
     "output_type": "stream",
     "text": [
      "------------------------------------------------------------------------\n",
      "Score per fold\n",
      "------------------------------------------------------------------------\n",
      "> Fold 1 - Loss: 40.95688247680664 - Mean average error: 172.03375244140625% - Mean percentage error: 36.897010803222656%\n",
      "    Score on unseen data: Loss: 46.48915100097656 - Mean average error: 365.64788818359375% - Mean percentage error: 42.42927932739258%\n",
      "------------------------------------------------------------------------\n",
      "------------------------------------------------------------------------\n",
      "> Fold 2 - Loss: 39.2916374206543 - Mean average error: 165.24569702148438% - Mean percentage error: 35.234371185302734%\n",
      "    Score on unseen data: Loss: 45.855106353759766 - Mean average error: 362.9642333984375% - Mean percentage error: 41.79783248901367%\n",
      "------------------------------------------------------------------------\n",
      "------------------------------------------------------------------------\n",
      "> Fold 3 - Loss: 40.337196350097656 - Mean average error: 213.3764190673828% - Mean percentage error: 36.30261993408203%\n",
      "    Score on unseen data: Loss: 46.665096282958984 - Mean average error: 367.31878662109375% - Mean percentage error: 42.63051223754883%\n",
      "------------------------------------------------------------------------\n",
      "------------------------------------------------------------------------\n",
      "> Fold 4 - Loss: 40.91968536376953 - Mean average error: 215.40164184570312% - Mean percentage error: 36.90154266357422%\n",
      "    Score on unseen data: Loss: 44.6888313293457 - Mean average error: 360.21136474609375% - Mean percentage error: 40.67068862915039%\n",
      "------------------------------------------------------------------------\n",
      "------------------------------------------------------------------------\n",
      "> Fold 5 - Loss: 38.16448211669922 - Mean average error: 203.0933837890625% - Mean percentage error: 34.14677429199219%\n",
      "    Score on unseen data: Loss: 46.16476821899414 - Mean average error: 361.0705261230469% - Mean percentage error: 42.147056579589844%\n",
      "------------------------------------------------------------------------\n",
      "Average scores for all folds:\n",
      "> Loss: 39.93397674560547\n",
      "> Mean average error: 193.8301788330078\n",
      "> Mean percentage error: 35.896463775634764\n",
      "> Unseen Loss: 45.972590637207034\n",
      "> Unseen Mean average error: 363.44255981445315\n",
      "> Unseen Mean percentage error: 41.93507385253906\n",
      "------------------------------------------------------------------------\n"
     ]
    }
   ],
   "source": [
    "print_scores(loss_per_fold, mae_per_fold, mape_per_fold, validation_per_fold)"
   ]
  },
  {
   "cell_type": "code",
   "execution_count": 15,
   "metadata": {},
   "outputs": [
    {
     "data": {
      "text/plain": [
       "<function matplotlib.pyplot.show(close=None, block=None)>"
      ]
     },
     "execution_count": 15,
     "metadata": {},
     "output_type": "execute_result"
    },
    {
     "data": {
      "image/png": "[encoded data removed]",
      "text/plain": [
       "<Figure size 640x480 with 1 Axes>"
      ]
     },
     "metadata": {},
     "output_type": "display_data"
    }
   ],
   "source": [
    "#Plot mape\n",
    "plt.plot(model.history.history[\"mape\"], label='Train')\n",
    "plt.plot(model.history.history[\"val_mape\"], label='Validation')\n",
    "plt.legend()\n",
    "plt.title('model mean absolute percentage error')\n",
    "plt.ylabel('mape')\n",
    "plt.xlabel('epoch')\n",
    "#plt.ylim([35, 150])\n",
    "#plt.xlim([0, 250])\n",
    "plt.show"
   ]
  }
 ],
 "metadata": {
  "kernelspec": {
   "display_name": "tfenvironment",
   "language": "python",
   "name": "python3"
  },
  "language_info": {
   "codemirror_mode": {
    "name": "ipython",
    "version": 3
   },
   "file_extension": ".py",
   "mimetype": "text/x-python",
   "name": "python",
   "nbconvert_exporter": "python",
   "pygments_lexer": "ipython3",
   "version": "3.10.8"
  },
  "orig_nbformat": 4,
  "vscode": {
   "interpreter": {
    "hash": "d217d37ed9247659b2812203162b84cdb779e33cccd1fe199abf14cba0e180e9"
   }
  }
 },
 "nbformat": 4,
 "nbformat_minor": 2
}
