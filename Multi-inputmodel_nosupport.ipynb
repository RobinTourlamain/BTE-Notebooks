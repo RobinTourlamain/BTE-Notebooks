{
 "cells": [
  {
   "cell_type": "code",
   "execution_count": 1,
   "metadata": {},
   "outputs": [],
   "source": [
    "#https://pyimagesearch.com/2019/02/04/keras-multiple-inputs-and-mixed-data/\n",
    "#https://keras.io/examples/vision/pointnet/\n",
    "#https://stackoverflow.com/questions/66845924/multi-input-multi-output-model-with-keras-functional-api"
   ]
  },
  {
   "cell_type": "code",
   "execution_count": 1,
   "metadata": {},
   "outputs": [],
   "source": [
    "#imports\n",
    "import os\n",
    "import sys\n",
    "import shutil\n",
    "import tensorflow as tf\n",
    "import numpy as np\n",
    "import matplotlib.pyplot as plt\n",
    "import pandas as pd\n",
    "import scipy.sparse\n",
    "from spektral.data.graph import Graph\n",
    "from keras.models import Model\n",
    "from keras.layers import Dense, Dropout, Concatenate, Reshape, Add, BatchNormalization, Activation, Conv2D, Conv1D, Input, concatenate\n",
    "from spektral.layers import GCNConv, GlobalMaxPool, CensNetConv, GATConv, DiffusionConv, ARMAConv, GlobalAvgPool, GINConvBatch, GCSConv\n",
    "from spektral.data import BatchLoader, DisjointLoader\n",
    "from spektral.data import Dataset\n",
    "from spektral.transforms import GCNFilter, NormalizeAdj\n",
    "from keras.models import Model\n",
    "from tqdm import tqdm\n",
    "from keras.callbacks import EarlyStopping,ReduceLROnPlateau,ModelCheckpoint\n",
    "from tensorflow import keras\n",
    "from sklearn.preprocessing import Normalizer\n",
    "from sklearn.model_selection import train_test_split\n",
    "import keras_tuner as kt\n",
    "from sklearn.metrics import mean_absolute_percentage_error\n",
    "from sklearn.preprocessing import FunctionTransformer\n",
    "from sklearn.pipeline import Pipeline\n",
    "from sklearn.preprocessing import MinMaxScaler\n",
    "from sklearn.model_selection import KFold\n",
    "from keras.callbacks import EarlyStopping,ReduceLROnPlateau,ModelCheckpoint\n",
    "from spektral.data.utils import to_tf_signature, prepend_none\n",
    "import visualkeras"
   ]
  },
  {
   "cell_type": "code",
   "execution_count": 2,
   "metadata": {},
   "outputs": [],
   "source": [
    "#Thingi10k data\n",
    "#Read data, drop unnecessary\n",
    "data = pd.read_csv('thingi10k_data.csv', index_col=0)\n",
    "df = data.copy()\n",
    "df.drop(\"source\", axis=1, inplace=True)\n",
    "df.drop(\"model_name\", axis=1, inplace=True)\n",
    "\n",
    "#Extract build times\n",
    "dfcopy = df.copy()\n",
    "build_times = df[\"build_time\"]\n",
    "df.drop(\"build_time\", axis=1,inplace=True)\n",
    "df.drop(\"support_material\", axis=1, inplace=True)\n",
    "\n",
    "#Make pipeline\n",
    "#https://joaquinamatrodrigo.github.io/skforecast/0.5.1/user_guides/sklearn-transformers-and-pipeline.html\n",
    "\n",
    "def log_transform(x):\n",
    "    return np.log(x + 1)\n",
    "\n",
    "def inv_log_transform(x):\n",
    "    return np.exp(x) - 1 \n",
    "\n",
    "#normalizer = Normalizer()\n",
    "#scaler = MinMaxScaler()\n",
    "logtransformer = FunctionTransformer(func=log_transform, inverse_func=inv_log_transform, check_inverse=False)\n",
    "pipe = Pipeline(steps=[ ('logtransformer', logtransformer)])\n",
    "\n",
    "#Train test split\n",
    "xtrain = df[:3000]\n",
    "xtest = df[3000:3600]\n",
    "ytrain = build_times[:3000]\n",
    "ytest = build_times[3000:3600]\n",
    "\n",
    "xlabels = xtrain.columns.values\n",
    "\n",
    "#Fit pipeline\n",
    "xtrain = pipe.fit_transform(xtrain)\n",
    "xtrain = pd.DataFrame(xtrain)\n",
    "xtrain.columns = xlabels\n",
    "\n",
    "xtest = pipe.transform(xtest)\n",
    "xtest = pd.DataFrame(xtest)\n",
    "xtest.columns = xlabels\n",
    "\n",
    "#Convert to tensors\n",
    "xtraint = tf.convert_to_tensor(xtrain)\n",
    "ytraint = tf.convert_to_tensor(ytrain)\n",
    "xtestt = tf.convert_to_tensor(xtest)\n",
    "ytestt = tf.convert_to_tensor(ytest)"
   ]
  },
  {
   "cell_type": "code",
   "execution_count": 3,
   "metadata": {},
   "outputs": [],
   "source": [
    "#Custom disjointloader\n",
    "def getFeatures(batch):\n",
    "    feats = []\n",
    "    for graph in batch:\n",
    "        feats.append(graph.__getattribute__('feats'))\n",
    "    return np.array(feats)\n",
    "\n",
    "class MyDisjointLoader(DisjointLoader):\n",
    "    def __init__(\n",
    "        self, dataset, node_level=False, batch_size=1, epochs=None, shuffle=True\n",
    "    ):\n",
    "        self.node_level = node_level\n",
    "        super().__init__(dataset, batch_size=batch_size, epochs=epochs, shuffle=shuffle)\n",
    "\n",
    "    def __next__(self):\n",
    "        nxt = self._generator.__next__()\n",
    "        feats = getFeatures(nxt)\n",
    "        #feats = nxt[0].__getattribute__('feats')\n",
    "        output, y = self.collate(nxt)\n",
    "        feats = (feats,)\n",
    "        output = output + feats\n",
    "        return   output, y\n",
    "    \n",
    "    def tf_signature(self):\n",
    "    \n",
    "        signature = self.dataset.signature\n",
    "        if \"y\" in signature:\n",
    "            signature[\"y\"][\"shape\"] = prepend_none(signature[\"y\"][\"shape\"])\n",
    "        if \"a\" in signature:\n",
    "            signature[\"a\"][\"spec\"] = tf.SparseTensorSpec\n",
    "\n",
    "        signature[\"i\"] = dict()\n",
    "        signature[\"i\"][\"spec\"] = tf.TensorSpec\n",
    "        signature[\"i\"][\"shape\"] = (None,)\n",
    "        signature[\"i\"][\"dtype\"] = tf.as_dtype(tf.int64)\n",
    "\n",
    "        sig = (tf.TensorSpec(shape=[None,12]),)\n",
    "        input = to_tf_signature(signature)\n",
    "        sig = input[0] + sig\n",
    "        return (sig, input[1])"
   ]
  },
  {
   "cell_type": "code",
   "execution_count": 4,
   "metadata": {},
   "outputs": [
    {
     "data": {
      "text/plain": [
       "MyDataset(n_graphs=3000)"
      ]
     },
     "execution_count": 4,
     "metadata": {},
     "output_type": "execute_result"
    }
   ],
   "source": [
    "#Graph data\n",
    "features = pd.read_csv('thingi10k_data.csv', index_col=0)\n",
    "adjpath = '../Data/stl/adjacency_stl_simplified/'\n",
    "cloudpath = '../Data/stl/nodefeatures_stl_simplified/'\n",
    "edgepath = '../Data/stl/edgefeaturesmatrix_stl_simplified/'\n",
    "\n",
    "build_times = []\n",
    "\n",
    "class MyDataset(Dataset):\n",
    "    def __init__(self, **kwargs):\n",
    "        super().__init__(**kwargs)\n",
    "\n",
    "    def read(self):\n",
    "        output = []\n",
    "\n",
    "        for i in range(3000):\n",
    "            if(os.path.isfile(adjpath + f'{features[\"model_name\"][i]}.npz')):\n",
    "                adjmatrix = scipy.sparse.load_npz(adjpath + f'{features[\"model_name\"][i]}.npz')\n",
    "                point_cloud = np.load(cloudpath + f'{features[\"model_name\"][i]}.npy').reshape(-1,3)\n",
    "                edgefeat = scipy.sparse.load_npz(edgepath + f'{features[\"model_name\"][i]}.npz')\n",
    "                output.append(\n",
    "                    Graph(x=point_cloud, a=edgefeat, y=features[\"build_time\"][i], feats=xtraint[i])\n",
    "                )\n",
    "\n",
    "        return output\n",
    "    \n",
    "dataset = MyDataset()\n",
    "\n",
    "class TestDataset(Dataset):\n",
    "    def __init__(self, **kwargs):\n",
    "        super().__init__(**kwargs)\n",
    "\n",
    "    def read(self):\n",
    "        output = []\n",
    "\n",
    "        #files = os.listdir(\"../Data/adjmatrices/\")\n",
    "        for i in range(3000,3600):\n",
    "            if(os.path.isfile(adjpath + f'{features[\"model_name\"][i]}.npz')):\n",
    "                adjmatrix = scipy.sparse.load_npz(adjpath + f'{features[\"model_name\"][i]}.npz')\n",
    "                point_cloud = np.load(cloudpath + f'{features[\"model_name\"][i]}.npy').reshape(-1,3)\n",
    "                edgefeat = scipy.sparse.load_npz(edgepath + f'{features[\"model_name\"][i]}.npz')\n",
    "                output.append(\n",
    "                    Graph(x=point_cloud, a=edgefeat, y=features[\"build_time\"][i], feats=xtestt[i-3000])\n",
    "                )\n",
    "\n",
    "        return output\n",
    "    \n",
    "testdataset = TestDataset()\n",
    "\n",
    "#Preprocessing\n",
    "#dataset.apply(GCNFilter())\n",
    "#testdataset.apply(GCNFilter())\n",
    "dataset.apply(NormalizeAdj())\n",
    "testdataset.apply(NormalizeAdj())\n",
    "dataset"
   ]
  },
  {
   "cell_type": "code",
   "execution_count": 18,
   "metadata": {},
   "outputs": [],
   "source": [
    "keras.backend.clear_session()"
   ]
  },
  {
   "cell_type": "code",
   "execution_count": 42,
   "metadata": {},
   "outputs": [
    {
     "data": {
      "text/plain": [
       "((TensorSpec(shape=(None, 3), dtype=tf.float64, name=None),\n",
       "  SparseTensorSpec(TensorShape([None, None]), tf.float64)),\n",
       " TensorSpec(shape=(1,), dtype=tf.int64, name=None))"
      ]
     },
     "execution_count": 42,
     "metadata": {},
     "output_type": "execute_result"
    }
   ],
   "source": [
    "to_tf_signature(testdataset.signature)"
   ]
  },
  {
   "cell_type": "code",
   "execution_count": 72,
   "metadata": {},
   "outputs": [
    {
     "name": "stderr",
     "output_type": "stream",
     "text": [
      "c:\\Users\\Robin\\.conda\\envs\\tfenvironment\\lib\\site-packages\\spektral\\data\\utils.py:221: UserWarning: you are shuffling a 'TestDataset' object which is not a subclass of 'Sequence'; `shuffle` is not guaranteed to behave correctly. E.g., non-numpy array/tensor objects with view semantics may contain duplicates after shuffling.\n",
      "  np.random.shuffle(a)\n"
     ]
    },
    {
     "data": {
      "text/plain": [
       "(array([[ 41.        , 200.        ,   0.        ],\n",
       "        [ 25.        , 200.        ,   0.        ],\n",
       "        [ 25.        , 242.        ,   0.        ],\n",
       "        ...,\n",
       "        [ 41.        , 228.57106018,  29.91878319],\n",
       "        [ 41.        , 215.29289246,  38.70710754],\n",
       "        [ 41.        , 215.13397217,  38.5       ]]),\n",
       " <tensorflow.python.framework.sparse_tensor.SparseTensor at 0x1cd3271b670>,\n",
       " array([0, 0, 0, 0, 0, 0, 0, 0, 0, 0, 0, 0, 0, 0, 0, 0, 0, 0, 0, 0, 0, 0,\n",
       "        0, 0, 0, 0, 0, 0, 0, 0, 0, 0, 0, 0, 0, 0, 0, 0, 0, 0, 0, 0, 0, 0,\n",
       "        0, 0, 0, 0, 0, 0, 0, 0, 0, 0, 0, 0, 0, 0, 0, 0, 0, 0, 0, 0, 0, 0,\n",
       "        0, 0, 0, 0, 0, 0, 0, 0, 0, 0, 0, 0, 0, 0, 0, 0, 0, 0, 0, 0, 0, 0,\n",
       "        0, 0, 0, 0, 0, 0, 0, 0, 0, 0, 0, 0, 0, 0, 0, 0, 0, 0, 0, 0, 0, 0,\n",
       "        0, 0, 0, 0, 0, 0, 0, 0, 0, 0, 0, 0, 0, 0, 0, 0, 0, 0, 0, 0, 0, 0,\n",
       "        0, 0, 0, 0, 0, 0, 0, 0, 0, 0, 0, 0, 0, 0, 0, 0, 0, 0, 0, 0, 0, 0,\n",
       "        0, 0, 0, 0, 0, 0, 0, 0, 0, 0, 0, 0, 0, 0, 0, 0, 0, 0, 0, 0, 0, 0,\n",
       "        0, 0, 0, 0, 0, 0, 0, 0, 0, 0, 0, 0, 0, 0, 0, 0, 0, 0, 0, 0, 0, 0,\n",
       "        0, 0, 0, 0, 0, 0, 0, 0, 0, 0, 0, 0, 0, 0, 0, 0, 0, 0, 0, 0, 0, 0,\n",
       "        0, 0, 0, 0, 0, 0, 0, 0, 0, 0, 0, 0, 0, 0, 0, 0, 0, 0, 0, 0, 0, 0,\n",
       "        0, 0, 0, 0, 0, 0, 0, 0, 0, 0, 0, 0, 0, 0, 0, 0, 0, 0, 0, 0, 0, 0,\n",
       "        0, 0, 0, 0, 0, 0, 0, 0, 0, 0, 0, 0, 0, 0, 0, 0, 0, 0, 0, 0, 0, 0,\n",
       "        0, 0, 0, 0, 0, 0, 0, 0, 0, 0, 0, 0, 0, 0, 0, 0, 0, 0, 0, 0, 0, 0,\n",
       "        0, 0, 0, 0, 0, 0, 0, 0, 0, 0, 0, 0, 0, 0, 0, 0, 0, 0, 0, 0, 0, 0,\n",
       "        0, 0, 0, 0, 0, 0, 0, 0, 0, 0, 0, 0, 0, 0, 0, 0, 0, 0, 0, 0, 0, 0,\n",
       "        0, 0, 0, 0, 0, 0, 0, 0, 0, 0, 0, 0, 0, 0, 0, 0, 0, 0, 0, 0, 0, 0,\n",
       "        0, 0, 0, 0, 0, 0, 0, 0, 0, 0, 0, 0, 0, 0, 0, 0, 0, 0, 0, 0, 0, 0,\n",
       "        0, 0, 0, 0, 0, 0, 0, 0, 0, 0, 0, 0, 0, 0, 0, 0, 0, 0, 0, 0, 0, 0,\n",
       "        0, 0, 0, 0, 0, 0, 0, 0, 0, 0, 0, 0, 0, 0, 0, 0, 0, 0, 0, 0, 0, 0,\n",
       "        0, 0, 0, 0, 0, 0, 0, 0, 0, 0]),\n",
       " array([[0.3841833 , 0.39904939, 0.47631403, 0.17927128, 0.39156545,\n",
       "         0.589687  , 0.51840257, 0.52875124, 0.25371868, 0.54496615,\n",
       "         0.37843802, 0.24559522, 0.36076627]]))"
      ]
     },
     "execution_count": 72,
     "metadata": {},
     "output_type": "execute_result"
    }
   ],
   "source": [
    "batch = testloader.__next__()\n",
    "batch[0]"
   ]
  },
  {
   "cell_type": "code",
   "execution_count": 5,
   "metadata": {},
   "outputs": [],
   "source": [
    "#NN Model\n",
    "'''inputs = Input(name='features input', type_spec=tf.TensorSpec(shape=(None, 13)))\n",
    "x = Dense(104, activation='relu')(inputs)\n",
    "x = Dense(8, activation='relu')(x)\n",
    "x = Dense(8, activation='relu')(x)\n",
    "x = Dense(8, activation='relu')(x)\n",
    "x = Dense(1, activation='linear')(x)\n",
    "nnmodel = Model(inputs, x)'''\n",
    "\n",
    "nnmodel = keras.models.load_model('savedmodels/Baseline_nosupp_final')\n",
    "for layer in nnmodel.layers:\n",
    "    layer.trainable = False"
   ]
  },
  {
   "cell_type": "code",
   "execution_count": 6,
   "metadata": {},
   "outputs": [
    {
     "name": "stdout",
     "output_type": "stream",
     "text": [
      "Model: \"sequential_3\"\n",
      "_________________________________________________________________\n",
      " Layer (type)                Output Shape              Param #   \n",
      "=================================================================\n",
      " normalization_2 (Normalizat  (None, 12)               25        \n",
      " ion)                                                            \n",
      "                                                                 \n",
      " dense_15 (Dense)            (None, 8)                 104       \n",
      "                                                                 \n",
      " dense_16 (Dense)            (None, 24)                216       \n",
      "                                                                 \n",
      " dense_17 (Dense)            (None, 136)               3400      \n",
      "                                                                 \n",
      " dense_18 (Dense)            (None, 232)               31784     \n",
      "                                                                 \n",
      " dense_19 (Dense)            (None, 232)               54056     \n",
      "                                                                 \n",
      " dropbaseline (Dropout)      (None, 232)               0         \n",
      "                                                                 \n",
      " dense_20 (Dense)            (None, 1)                 233       \n",
      "                                                                 \n",
      "=================================================================\n",
      "Total params: 89,818\n",
      "Trainable params: 0\n",
      "Non-trainable params: 89,818\n",
      "_________________________________________________________________\n"
     ]
    }
   ],
   "source": [
    "nnmodel.summary()"
   ]
  },
  {
   "cell_type": "code",
   "execution_count": 9,
   "metadata": {},
   "outputs": [],
   "source": [
    "#GCN Model\n",
    "#gcnmodel = keras.models.load_model('savedmodels/GCN_simplified')\n",
    "gcnmodel = keras.models.load_model('savedmodels/GCNmodel_final')\n",
    "for layer in gcnmodel.layers:\n",
    "    layer.trainable = False"
   ]
  },
  {
   "cell_type": "code",
   "execution_count": 8,
   "metadata": {},
   "outputs": [
    {
     "name": "stdout",
     "output_type": "stream",
     "text": [
      "Model: \"model\"\n",
      "__________________________________________________________________________________________________\n",
      " Layer (type)                   Output Shape         Param #     Connected to                     \n",
      "==================================================================================================\n",
      " inputx (InputLayer)            [(None, 3)]          0           []                               \n",
      "                                                                                                  \n",
      " inputa (InputLayer)            [(None, None)]       0           []                               \n",
      "                                                                                                  \n",
      " gcs_conv (GCSConv)             (None, 128)          896         ['inputx[0][0]',                 \n",
      "                                                                  'inputa[0][0]']                 \n",
      "                                                                                                  \n",
      " gcs_conv_1 (GCSConv)           (None, 256)          65792       ['gcs_conv[0][0]',               \n",
      "                                                                  'inputa[0][0]']                 \n",
      "                                                                                                  \n",
      " concatenate (Concatenate)      (None, 384)          0           ['gcs_conv[0][0]',               \n",
      "                                                                  'gcs_conv_1[0][0]']             \n",
      "                                                                                                  \n",
      " inputi (InputLayer)            [(None,)]            0           []                               \n",
      "                                                                                                  \n",
      " global_max_pool (GlobalMaxPool  (None, 384)         0           ['concatenate[0][0]',            \n",
      " )                                                                'inputi[0][0]']                 \n",
      "                                                                                                  \n",
      " dense (Dense)                  (None, 512)          197120      ['global_max_pool[0][0]']        \n",
      "                                                                                                  \n",
      " dropout (Dropout)              (None, 512)          0           ['dense[0][0]']                  \n",
      "                                                                                                  \n",
      " dense_1 (Dense)                (None, 128)          65664       ['dropout[0][0]']                \n",
      "                                                                                                  \n",
      " dropgcn (Dropout)              (None, 128)          0           ['dense_1[0][0]']                \n",
      "                                                                                                  \n",
      " dense_2 (Dense)                (None, 1)            129         ['dropgcn[0][0]']                \n",
      "                                                                                                  \n",
      "==================================================================================================\n",
      "Total params: 329,601\n",
      "Trainable params: 0\n",
      "Non-trainable params: 329,601\n",
      "__________________________________________________________________________________________________\n"
     ]
    }
   ],
   "source": [
    "gcnmodel.summary()"
   ]
  },
  {
   "cell_type": "code",
   "execution_count": 27,
   "metadata": {},
   "outputs": [],
   "source": [
    "gcnmodel.get_layer('dense_3')._name = 'dense_a'\n",
    "gcnmodel.get_layer('dense_4')._name = 'dense_b'\n",
    "gcnmodel.get_layer('dense_5')._name = 'dense_c'"
   ]
  },
  {
   "cell_type": "code",
   "execution_count": 12,
   "metadata": {},
   "outputs": [
    {
     "data": {
      "image/png": "[encoded data removed]",
      "text/plain": [
       "<IPython.core.display.Image object>"
      ]
     },
     "execution_count": 12,
     "metadata": {},
     "output_type": "execute_result"
    }
   ],
   "source": [
    "keras.utils.plot_model(gcnmodel, \"savedimages/gcnmodel.png\", show_shapes=True)"
   ]
  },
  {
   "cell_type": "code",
   "execution_count": 10,
   "metadata": {},
   "outputs": [],
   "source": [
    "#concatenate\n",
    "combined = concatenate([nnmodel.get_layer('dropbaseline').output, gcnmodel.get_layer('dropgcn').output], name='join')\n",
    "#z = Dense(512,'relu', name='dense1')(combined)\n",
    "z = Dense(128,'relu', name='dense1')(combined)\n",
    "#z = Dense(512,'relu', name='dense2')(z)\n",
    "#z = Dense(128,'relu', name='dense3')(z)\n",
    "z = Dense(64,'relu', name='dense4')(z)\n",
    "z = Dropout(0.2, name='finaldrop')(z)\n",
    "z = Dense(1, 'linear', name='regress')(z)\n",
    "model = Model(inputs = [gcnmodel.input, nnmodel.input], outputs = z)"
   ]
  },
  {
   "cell_type": "code",
   "execution_count": 29,
   "metadata": {},
   "outputs": [
    {
     "data": {
      "text/plain": [
       "[[<KerasTensor: shape=(None, 3) dtype=float32 (created by layer 'inputx')>,\n",
       "  <KerasTensor: type_spec=SparseTensorSpec(TensorShape([None, None]), tf.float32) (created by layer 'inputa')>,\n",
       "  <KerasTensor: shape=(None,) dtype=int32 (created by layer 'inputi')>],\n",
       " <KerasTensor: shape=(None, 12) dtype=float32 (created by layer 'baselineinput')>]"
      ]
     },
     "execution_count": 29,
     "metadata": {},
     "output_type": "execute_result"
    }
   ],
   "source": [
    "model.input"
   ]
  },
  {
   "cell_type": "code",
   "execution_count": 11,
   "metadata": {},
   "outputs": [
    {
     "data": {
      "text/plain": [
       "'model'"
      ]
     },
     "execution_count": 11,
     "metadata": {},
     "output_type": "execute_result"
    }
   ],
   "source": [
    "model.name"
   ]
  },
  {
   "cell_type": "code",
   "execution_count": 17,
   "metadata": {},
   "outputs": [
    {
     "data": {
      "image/png": "[encoded data removed]",
      "text/plain": [
       "<IPython.core.display.Image object>"
      ]
     },
     "execution_count": 17,
     "metadata": {},
     "output_type": "execute_result"
    }
   ],
   "source": [
    "keras.utils.plot_model(model, \"savedimages/multi_inputmodel.png\", show_shapes=True)"
   ]
  },
  {
   "cell_type": "code",
   "execution_count": 5,
   "metadata": {},
   "outputs": [],
   "source": [
    "#Define callbacks\n",
    "def get_callbacks(weights_file, patience, lr_factor):\n",
    "  return [\n",
    "      # Only save the weights that correspond to the minimum mape.\n",
    "      ModelCheckpoint(filepath= weights_file,\n",
    "                      monitor=\"val_mape\", \n",
    "                      mode=\"min\",\n",
    "                      save_best_only=True, \n",
    "                      save_weights_only=False),\n",
    "      # If val_loss doesn't improve for a number of epochs set with 'patience' var \n",
    "      # training will stop to avoid overfitting.    \n",
    "      EarlyStopping(monitor=\"val_loss\",\n",
    "                    mode=\"min\",\n",
    "                    patience = patience,\n",
    "                    verbose=1),\n",
    "      # Learning rate is reduced by 'lr_factor' if val_loss stagnates\n",
    "      # for a number of epochs set with 'patience/2' var.     \n",
    "      ReduceLROnPlateau(monitor=\"val_loss\", mode=\"min\",\n",
    "                        factor=lr_factor, min_lr=1e-8, patience=patience//2, verbose=1)]"
   ]
  },
  {
   "cell_type": "code",
   "execution_count": null,
   "metadata": {},
   "outputs": [],
   "source": [
    "#Reset weights\n",
    "def reset_weights(model):\n",
    "    import keras.backend as K\n",
    "    session = K.get_session()\n",
    "    for layer in model.layers: \n",
    "        if hasattr(layer, 'kernel.initializer'): \n",
    "            layer.kernel.initializer.run(session=session)\n",
    "        if hasattr(layer, 'bias.initializer'):\n",
    "            layer.bias.initializer.run(session=session)  "
   ]
  },
  {
   "cell_type": "code",
   "execution_count": 12,
   "metadata": {},
   "outputs": [],
   "source": [
    "reset_weights(model)"
   ]
  },
  {
   "cell_type": "code",
   "execution_count": 13,
   "metadata": {},
   "outputs": [],
   "source": [
    "model.compile(optimizer=tf.keras.optimizers.Adam(learning_rate=0.001) , loss='mape', metrics=[tf.keras.metrics.MeanAbsolutePercentageError(name=\"mape\"), 'mae'])"
   ]
  },
  {
   "cell_type": "code",
   "execution_count": 6,
   "metadata": {},
   "outputs": [],
   "source": [
    "loader = MyDisjointLoader(dataset, batch_size=1)\n",
    "testloader = MyDisjointLoader(testdataset, batch_size=1)"
   ]
  },
  {
   "cell_type": "code",
   "execution_count": 14,
   "metadata": {},
   "outputs": [
    {
     "name": "stdout",
     "output_type": "stream",
     "text": [
      "Epoch 1/1000\n"
     ]
    },
    {
     "name": "stderr",
     "output_type": "stream",
     "text": [
      "c:\\Users\\Robin\\.conda\\envs\\tfenvironment\\lib\\site-packages\\spektral\\data\\utils.py:221: UserWarning: you are shuffling a 'MyDataset' object which is not a subclass of 'Sequence'; `shuffle` is not guaranteed to behave correctly. E.g., non-numpy array/tensor objects with view semantics may contain duplicates after shuffling.\n",
      "  np.random.shuffle(a)\n",
      "c:\\Users\\Robin\\.conda\\envs\\tfenvironment\\lib\\site-packages\\spektral\\data\\utils.py:221: UserWarning: you are shuffling a 'TestDataset' object which is not a subclass of 'Sequence'; `shuffle` is not guaranteed to behave correctly. E.g., non-numpy array/tensor objects with view semantics may contain duplicates after shuffling.\n",
      "  np.random.shuffle(a)\n",
      "WARNING:absl:Function `_wrapped_model` contains input name(s) args_0 with unsupported characters which will be renamed to args_0_5 in the SavedModel.\n"
     ]
    },
    {
     "name": "stdout",
     "output_type": "stream",
     "text": [
      "INFO:tensorflow:Assets written to: savedmodels\\Multi_input_nosupp_final+\\assets\n"
     ]
    },
    {
     "name": "stderr",
     "output_type": "stream",
     "text": [
      "INFO:tensorflow:Assets written to: savedmodels\\Multi_input_nosupp_final+\\assets\n"
     ]
    },
    {
     "name": "stdout",
     "output_type": "stream",
     "text": [
      "3000/3000 - 45s - loss: 32.3098 - mape: 31.4647 - mae: 92.3995 - val_loss: 28.5528 - val_mape: 27.6982 - val_mae: 97.7421 - lr: 0.0010 - 45s/epoch - 15ms/step\n",
      "Epoch 2/1000\n"
     ]
    },
    {
     "name": "stderr",
     "output_type": "stream",
     "text": [
      "c:\\Users\\Robin\\.conda\\envs\\tfenvironment\\lib\\site-packages\\spektral\\data\\utils.py:221: UserWarning: you are shuffling a 'MyDataset' object which is not a subclass of 'Sequence'; `shuffle` is not guaranteed to behave correctly. E.g., non-numpy array/tensor objects with view semantics may contain duplicates after shuffling.\n",
      "  np.random.shuffle(a)\n",
      "c:\\Users\\Robin\\.conda\\envs\\tfenvironment\\lib\\site-packages\\spektral\\data\\utils.py:221: UserWarning: you are shuffling a 'TestDataset' object which is not a subclass of 'Sequence'; `shuffle` is not guaranteed to behave correctly. E.g., non-numpy array/tensor objects with view semantics may contain duplicates after shuffling.\n",
      "  np.random.shuffle(a)\n"
     ]
    },
    {
     "name": "stdout",
     "output_type": "stream",
     "text": [
      "3000/3000 - 44s - loss: 31.8009 - mape: 30.9465 - mae: 83.8889 - val_loss: 30.5604 - val_mape: 29.7267 - val_mae: 73.2220 - lr: 0.0010 - 44s/epoch - 15ms/step\n",
      "Epoch 3/1000\n",
      "3000/3000 - 44s - loss: 32.5865 - mape: 31.7867 - mae: 88.3370 - val_loss: 28.6998 - val_mape: 27.9294 - val_mae: 131.5721 - lr: 0.0010 - 44s/epoch - 15ms/step\n",
      "Epoch 4/1000\n",
      "3000/3000 - 43s - loss: 31.4480 - mape: 30.7027 - mae: 90.5677 - val_loss: 39.3451 - val_mape: 38.6339 - val_mae: 84.8995 - lr: 0.0010 - 43s/epoch - 14ms/step\n",
      "Epoch 5/1000\n"
     ]
    },
    {
     "name": "stderr",
     "output_type": "stream",
     "text": [
      "WARNING:absl:Function `_wrapped_model` contains input name(s) args_0 with unsupported characters which will be renamed to args_0_5 in the SavedModel.\n"
     ]
    },
    {
     "name": "stdout",
     "output_type": "stream",
     "text": [
      "INFO:tensorflow:Assets written to: savedmodels\\Multi_input_nosupp_final+\\assets\n"
     ]
    },
    {
     "name": "stderr",
     "output_type": "stream",
     "text": [
      "INFO:tensorflow:Assets written to: savedmodels\\Multi_input_nosupp_final+\\assets\n"
     ]
    },
    {
     "name": "stdout",
     "output_type": "stream",
     "text": [
      "3000/3000 - 44s - loss: 31.1339 - mape: 30.4496 - mae: 83.0099 - val_loss: 22.9242 - val_mape: 22.2607 - val_mae: 68.7463 - lr: 0.0010 - 44s/epoch - 15ms/step\n",
      "Epoch 6/1000\n"
     ]
    },
    {
     "name": "stderr",
     "output_type": "stream",
     "text": [
      "c:\\Users\\Robin\\.conda\\envs\\tfenvironment\\lib\\site-packages\\spektral\\data\\utils.py:221: UserWarning: you are shuffling a 'MyDataset' object which is not a subclass of 'Sequence'; `shuffle` is not guaranteed to behave correctly. E.g., non-numpy array/tensor objects with view semantics may contain duplicates after shuffling.\n",
      "  np.random.shuffle(a)\n",
      "c:\\Users\\Robin\\.conda\\envs\\tfenvironment\\lib\\site-packages\\spektral\\data\\utils.py:221: UserWarning: you are shuffling a 'TestDataset' object which is not a subclass of 'Sequence'; `shuffle` is not guaranteed to behave correctly. E.g., non-numpy array/tensor objects with view semantics may contain duplicates after shuffling.\n",
      "  np.random.shuffle(a)\n"
     ]
    },
    {
     "name": "stdout",
     "output_type": "stream",
     "text": [
      "3000/3000 - 43s - loss: 30.8583 - mape: 30.2392 - mae: 81.4230 - val_loss: 48.7750 - val_mape: 48.1986 - val_mae: 288.9778 - lr: 0.0010 - 43s/epoch - 14ms/step\n",
      "Epoch 7/1000\n",
      "3000/3000 - 42s - loss: 31.2783 - mape: 30.7110 - mae: 93.3327 - val_loss: 29.6249 - val_mape: 29.0629 - val_mae: 94.6489 - lr: 0.0010 - 42s/epoch - 14ms/step\n",
      "Epoch 8/1000\n",
      "3000/3000 - 43s - loss: 31.1298 - mape: 30.6061 - mae: 85.6332 - val_loss: 23.9860 - val_mape: 23.5026 - val_mae: 90.2747 - lr: 0.0010 - 43s/epoch - 14ms/step\n",
      "Epoch 9/1000\n",
      "3000/3000 - 44s - loss: 29.9637 - mape: 29.5146 - mae: 84.9279 - val_loss: 25.1561 - val_mape: 24.7405 - val_mae: 171.8071 - lr: 0.0010 - 44s/epoch - 15ms/step\n",
      "Epoch 10/1000\n",
      "3000/3000 - 44s - loss: 29.8092 - mape: 29.4174 - mae: 86.0928 - val_loss: 26.4337 - val_mape: 26.0653 - val_mae: 171.3357 - lr: 0.0010 - 44s/epoch - 15ms/step\n",
      "Epoch 11/1000\n"
     ]
    },
    {
     "name": "stderr",
     "output_type": "stream",
     "text": [
      "WARNING:absl:Function `_wrapped_model` contains input name(s) args_0 with unsupported characters which will be renamed to args_0_5 in the SavedModel.\n"
     ]
    },
    {
     "name": "stdout",
     "output_type": "stream",
     "text": [
      "INFO:tensorflow:Assets written to: savedmodels\\Multi_input_nosupp_final+\\assets\n"
     ]
    },
    {
     "name": "stderr",
     "output_type": "stream",
     "text": [
      "INFO:tensorflow:Assets written to: savedmodels\\Multi_input_nosupp_final+\\assets\n"
     ]
    },
    {
     "name": "stdout",
     "output_type": "stream",
     "text": [
      "3000/3000 - 49s - loss: 29.7260 - mape: 29.3745 - mae: 89.7073 - val_loss: 22.4348 - val_mape: 22.1106 - val_mae: 91.7022 - lr: 0.0010 - 49s/epoch - 16ms/step\n",
      "Epoch 12/1000\n"
     ]
    },
    {
     "name": "stderr",
     "output_type": "stream",
     "text": [
      "c:\\Users\\Robin\\.conda\\envs\\tfenvironment\\lib\\site-packages\\spektral\\data\\utils.py:221: UserWarning: you are shuffling a 'MyDataset' object which is not a subclass of 'Sequence'; `shuffle` is not guaranteed to behave correctly. E.g., non-numpy array/tensor objects with view semantics may contain duplicates after shuffling.\n",
      "  np.random.shuffle(a)\n",
      "c:\\Users\\Robin\\.conda\\envs\\tfenvironment\\lib\\site-packages\\spektral\\data\\utils.py:221: UserWarning: you are shuffling a 'TestDataset' object which is not a subclass of 'Sequence'; `shuffle` is not guaranteed to behave correctly. E.g., non-numpy array/tensor objects with view semantics may contain duplicates after shuffling.\n",
      "  np.random.shuffle(a)\n",
      "WARNING:absl:Function `_wrapped_model` contains input name(s) args_0 with unsupported characters which will be renamed to args_0_5 in the SavedModel.\n"
     ]
    },
    {
     "name": "stdout",
     "output_type": "stream",
     "text": [
      "INFO:tensorflow:Assets written to: savedmodels\\Multi_input_nosupp_final+\\assets\n"
     ]
    },
    {
     "name": "stderr",
     "output_type": "stream",
     "text": [
      "INFO:tensorflow:Assets written to: savedmodels\\Multi_input_nosupp_final+\\assets\n"
     ]
    },
    {
     "name": "stdout",
     "output_type": "stream",
     "text": [
      "3000/3000 - 47s - loss: 29.3333 - mape: 29.0231 - mae: 86.4051 - val_loss: 21.9707 - val_mape: 21.6700 - val_mae: 93.4936 - lr: 0.0010 - 47s/epoch - 16ms/step\n",
      "Epoch 13/1000\n"
     ]
    },
    {
     "name": "stderr",
     "output_type": "stream",
     "text": [
      "c:\\Users\\Robin\\.conda\\envs\\tfenvironment\\lib\\site-packages\\spektral\\data\\utils.py:221: UserWarning: you are shuffling a 'MyDataset' object which is not a subclass of 'Sequence'; `shuffle` is not guaranteed to behave correctly. E.g., non-numpy array/tensor objects with view semantics may contain duplicates after shuffling.\n",
      "  np.random.shuffle(a)\n",
      "c:\\Users\\Robin\\.conda\\envs\\tfenvironment\\lib\\site-packages\\spektral\\data\\utils.py:221: UserWarning: you are shuffling a 'TestDataset' object which is not a subclass of 'Sequence'; `shuffle` is not guaranteed to behave correctly. E.g., non-numpy array/tensor objects with view semantics may contain duplicates after shuffling.\n",
      "  np.random.shuffle(a)\n"
     ]
    },
    {
     "name": "stdout",
     "output_type": "stream",
     "text": [
      "3000/3000 - 47s - loss: 28.9851 - mape: 28.7017 - mae: 80.8264 - val_loss: 26.5896 - val_mape: 26.3102 - val_mae: 75.3321 - lr: 0.0010 - 47s/epoch - 16ms/step\n",
      "Epoch 14/1000\n",
      "3000/3000 - 46s - loss: 29.2600 - mape: 29.0054 - mae: 82.6535 - val_loss: 23.7943 - val_mape: 23.5673 - val_mae: 110.0190 - lr: 0.0010 - 46s/epoch - 15ms/step\n",
      "Epoch 15/1000\n",
      "3000/3000 - 47s - loss: 28.6593 - mape: 28.4417 - mae: 81.5706 - val_loss: 23.7452 - val_mape: 23.5383 - val_mae: 115.9744 - lr: 0.0010 - 47s/epoch - 16ms/step\n",
      "Epoch 16/1000\n",
      "3000/3000 - 48s - loss: 28.2071 - mape: 28.0159 - mae: 83.4259 - val_loss: 26.0302 - val_mape: 25.8589 - val_mae: 125.7086 - lr: 0.0010 - 48s/epoch - 16ms/step\n",
      "Epoch 17/1000\n",
      "3000/3000 - 47s - loss: 28.7637 - mape: 28.5981 - mae: 87.1516 - val_loss: 28.0725 - val_mape: 27.9082 - val_mae: 98.4031 - lr: 0.0010 - 47s/epoch - 16ms/step\n",
      "Epoch 18/1000\n"
     ]
    },
    {
     "name": "stderr",
     "output_type": "stream",
     "text": [
      "WARNING:absl:Function `_wrapped_model` contains input name(s) args_0 with unsupported characters which will be renamed to args_0_5 in the SavedModel.\n"
     ]
    },
    {
     "name": "stdout",
     "output_type": "stream",
     "text": [
      "INFO:tensorflow:Assets written to: savedmodels\\Multi_input_nosupp_final+\\assets\n"
     ]
    },
    {
     "name": "stderr",
     "output_type": "stream",
     "text": [
      "INFO:tensorflow:Assets written to: savedmodels\\Multi_input_nosupp_final+\\assets\n"
     ]
    },
    {
     "name": "stdout",
     "output_type": "stream",
     "text": [
      "3000/3000 - 48s - loss: 27.6347 - mape: 27.4853 - mae: 78.3958 - val_loss: 21.2216 - val_mape: 21.0782 - val_mae: 104.2966 - lr: 0.0010 - 48s/epoch - 16ms/step\n",
      "Epoch 19/1000\n"
     ]
    },
    {
     "name": "stderr",
     "output_type": "stream",
     "text": [
      "c:\\Users\\Robin\\.conda\\envs\\tfenvironment\\lib\\site-packages\\spektral\\data\\utils.py:221: UserWarning: you are shuffling a 'MyDataset' object which is not a subclass of 'Sequence'; `shuffle` is not guaranteed to behave correctly. E.g., non-numpy array/tensor objects with view semantics may contain duplicates after shuffling.\n",
      "  np.random.shuffle(a)\n",
      "c:\\Users\\Robin\\.conda\\envs\\tfenvironment\\lib\\site-packages\\spektral\\data\\utils.py:221: UserWarning: you are shuffling a 'TestDataset' object which is not a subclass of 'Sequence'; `shuffle` is not guaranteed to behave correctly. E.g., non-numpy array/tensor objects with view semantics may contain duplicates after shuffling.\n",
      "  np.random.shuffle(a)\n"
     ]
    },
    {
     "name": "stdout",
     "output_type": "stream",
     "text": [
      "3000/3000 - 47s - loss: 27.0670 - mape: 26.9382 - mae: 72.0098 - val_loss: 28.8302 - val_mape: 28.7106 - val_mae: 104.8978 - lr: 0.0010 - 47s/epoch - 16ms/step\n",
      "Epoch 20/1000\n",
      "3000/3000 - 43s - loss: 28.3254 - mape: 28.2123 - mae: 78.3317 - val_loss: 26.0633 - val_mape: 25.9646 - val_mae: 78.1619 - lr: 0.0010 - 43s/epoch - 14ms/step\n",
      "Epoch 21/1000\n",
      "3000/3000 - 44s - loss: 28.3364 - mape: 28.2447 - mae: 84.4309 - val_loss: 31.5213 - val_mape: 31.4410 - val_mae: 95.4389 - lr: 0.0010 - 44s/epoch - 15ms/step\n",
      "Epoch 22/1000\n",
      "3000/3000 - 44s - loss: 26.7909 - mape: 26.7188 - mae: 80.9091 - val_loss: 30.4470 - val_mape: 30.3781 - val_mae: 89.0405 - lr: 0.0010 - 44s/epoch - 15ms/step\n",
      "Epoch 23/1000\n",
      "3000/3000 - 44s - loss: 27.5735 - mape: 27.5065 - mae: 77.5832 - val_loss: 21.7318 - val_mape: 21.6720 - val_mae: 128.4787 - lr: 0.0010 - 44s/epoch - 15ms/step\n",
      "Epoch 24/1000\n",
      "3000/3000 - 45s - loss: 26.8917 - mape: 26.8387 - mae: 72.5074 - val_loss: 21.7916 - val_mape: 21.7445 - val_mae: 89.5239 - lr: 0.0010 - 45s/epoch - 15ms/step\n",
      "Epoch 25/1000\n",
      "3000/3000 - 44s - loss: 27.0329 - mape: 26.9843 - mae: 76.2143 - val_loss: 24.8154 - val_mape: 24.7734 - val_mae: 157.4293 - lr: 0.0010 - 44s/epoch - 15ms/step\n",
      "Epoch 26/1000\n",
      "3000/3000 - 43s - loss: 26.9940 - mape: 26.9591 - mae: 80.3548 - val_loss: 30.6932 - val_mape: 30.6606 - val_mae: 132.1020 - lr: 0.0010 - 43s/epoch - 14ms/step\n",
      "Epoch 27/1000\n",
      "3000/3000 - 42s - loss: 27.6829 - mape: 27.6539 - mae: 82.5161 - val_loss: 26.9135 - val_mape: 26.8719 - val_mae: 127.0580 - lr: 0.0010 - 42s/epoch - 14ms/step\n",
      "Epoch 28/1000\n"
     ]
    },
    {
     "name": "stderr",
     "output_type": "stream",
     "text": [
      "WARNING:absl:Function `_wrapped_model` contains input name(s) args_0 with unsupported characters which will be renamed to args_0_5 in the SavedModel.\n"
     ]
    },
    {
     "name": "stdout",
     "output_type": "stream",
     "text": [
      "INFO:tensorflow:Assets written to: savedmodels\\Multi_input_nosupp_final+\\assets\n"
     ]
    },
    {
     "name": "stderr",
     "output_type": "stream",
     "text": [
      "INFO:tensorflow:Assets written to: savedmodels\\Multi_input_nosupp_final+\\assets\n"
     ]
    },
    {
     "name": "stdout",
     "output_type": "stream",
     "text": [
      "3000/3000 - 45s - loss: 26.6293 - mape: 26.5919 - mae: 73.4174 - val_loss: 20.3832 - val_mape: 20.3462 - val_mae: 118.8069 - lr: 0.0010 - 45s/epoch - 15ms/step\n",
      "Epoch 29/1000\n"
     ]
    },
    {
     "name": "stderr",
     "output_type": "stream",
     "text": [
      "c:\\Users\\Robin\\.conda\\envs\\tfenvironment\\lib\\site-packages\\spektral\\data\\utils.py:221: UserWarning: you are shuffling a 'MyDataset' object which is not a subclass of 'Sequence'; `shuffle` is not guaranteed to behave correctly. E.g., non-numpy array/tensor objects with view semantics may contain duplicates after shuffling.\n",
      "  np.random.shuffle(a)\n",
      "c:\\Users\\Robin\\.conda\\envs\\tfenvironment\\lib\\site-packages\\spektral\\data\\utils.py:221: UserWarning: you are shuffling a 'TestDataset' object which is not a subclass of 'Sequence'; `shuffle` is not guaranteed to behave correctly. E.g., non-numpy array/tensor objects with view semantics may contain duplicates after shuffling.\n",
      "  np.random.shuffle(a)\n"
     ]
    },
    {
     "name": "stdout",
     "output_type": "stream",
     "text": [
      "3000/3000 - 43s - loss: 26.9242 - mape: 26.8916 - mae: 76.9993 - val_loss: 22.4161 - val_mape: 22.3904 - val_mae: 73.3785 - lr: 0.0010 - 43s/epoch - 14ms/step\n",
      "Epoch 30/1000\n",
      "3000/3000 - 43s - loss: 26.4411 - mape: 26.4185 - mae: 81.9273 - val_loss: 22.2552 - val_mape: 22.2334 - val_mae: 86.9109 - lr: 0.0010 - 43s/epoch - 14ms/step\n",
      "Epoch 31/1000\n"
     ]
    },
    {
     "name": "stderr",
     "output_type": "stream",
     "text": [
      "WARNING:absl:Function `_wrapped_model` contains input name(s) args_0 with unsupported characters which will be renamed to args_0_5 in the SavedModel.\n"
     ]
    },
    {
     "name": "stdout",
     "output_type": "stream",
     "text": [
      "INFO:tensorflow:Assets written to: savedmodels\\Multi_input_nosupp_final+\\assets\n"
     ]
    },
    {
     "name": "stderr",
     "output_type": "stream",
     "text": [
      "INFO:tensorflow:Assets written to: savedmodels\\Multi_input_nosupp_final+\\assets\n"
     ]
    },
    {
     "name": "stdout",
     "output_type": "stream",
     "text": [
      "3000/3000 - 45s - loss: 27.2660 - mape: 27.2435 - mae: 78.0321 - val_loss: 20.2149 - val_mape: 20.1947 - val_mae: 64.8328 - lr: 0.0010 - 45s/epoch - 15ms/step\n",
      "Epoch 32/1000\n"
     ]
    },
    {
     "name": "stderr",
     "output_type": "stream",
     "text": [
      "c:\\Users\\Robin\\.conda\\envs\\tfenvironment\\lib\\site-packages\\spektral\\data\\utils.py:221: UserWarning: you are shuffling a 'MyDataset' object which is not a subclass of 'Sequence'; `shuffle` is not guaranteed to behave correctly. E.g., non-numpy array/tensor objects with view semantics may contain duplicates after shuffling.\n",
      "  np.random.shuffle(a)\n",
      "c:\\Users\\Robin\\.conda\\envs\\tfenvironment\\lib\\site-packages\\spektral\\data\\utils.py:221: UserWarning: you are shuffling a 'TestDataset' object which is not a subclass of 'Sequence'; `shuffle` is not guaranteed to behave correctly. E.g., non-numpy array/tensor objects with view semantics may contain duplicates after shuffling.\n",
      "  np.random.shuffle(a)\n"
     ]
    },
    {
     "name": "stdout",
     "output_type": "stream",
     "text": [
      "3000/3000 - 43s - loss: 26.2424 - mape: 26.2211 - mae: 72.6181 - val_loss: 30.4683 - val_mape: 30.4473 - val_mae: 112.7107 - lr: 0.0010 - 43s/epoch - 14ms/step\n",
      "Epoch 33/1000\n",
      "3000/3000 - 41s - loss: 25.8661 - mape: 25.8434 - mae: 76.7722 - val_loss: 20.9661 - val_mape: 20.9467 - val_mae: 96.6826 - lr: 0.0010 - 41s/epoch - 14ms/step\n",
      "Epoch 34/1000\n"
     ]
    },
    {
     "name": "stderr",
     "output_type": "stream",
     "text": [
      "WARNING:absl:Function `_wrapped_model` contains input name(s) args_0 with unsupported characters which will be renamed to args_0_5 in the SavedModel.\n"
     ]
    },
    {
     "name": "stdout",
     "output_type": "stream",
     "text": [
      "INFO:tensorflow:Assets written to: savedmodels\\Multi_input_nosupp_final+\\assets\n"
     ]
    },
    {
     "name": "stderr",
     "output_type": "stream",
     "text": [
      "INFO:tensorflow:Assets written to: savedmodels\\Multi_input_nosupp_final+\\assets\n"
     ]
    },
    {
     "name": "stdout",
     "output_type": "stream",
     "text": [
      "3000/3000 - 45s - loss: 26.4068 - mape: 26.3805 - mae: 73.2973 - val_loss: 19.6580 - val_mape: 19.6232 - val_mae: 105.7491 - lr: 0.0010 - 45s/epoch - 15ms/step\n",
      "Epoch 35/1000\n"
     ]
    },
    {
     "name": "stderr",
     "output_type": "stream",
     "text": [
      "c:\\Users\\Robin\\.conda\\envs\\tfenvironment\\lib\\site-packages\\spektral\\data\\utils.py:221: UserWarning: you are shuffling a 'MyDataset' object which is not a subclass of 'Sequence'; `shuffle` is not guaranteed to behave correctly. E.g., non-numpy array/tensor objects with view semantics may contain duplicates after shuffling.\n",
      "  np.random.shuffle(a)\n",
      "c:\\Users\\Robin\\.conda\\envs\\tfenvironment\\lib\\site-packages\\spektral\\data\\utils.py:221: UserWarning: you are shuffling a 'TestDataset' object which is not a subclass of 'Sequence'; `shuffle` is not guaranteed to behave correctly. E.g., non-numpy array/tensor objects with view semantics may contain duplicates after shuffling.\n",
      "  np.random.shuffle(a)\n"
     ]
    },
    {
     "name": "stdout",
     "output_type": "stream",
     "text": [
      "3000/3000 - 44s - loss: 24.7515 - mape: 24.7143 - mae: 65.8235 - val_loss: 30.3352 - val_mape: 30.3003 - val_mae: 137.9296 - lr: 0.0010 - 44s/epoch - 15ms/step\n",
      "Epoch 36/1000\n",
      "3000/3000 - 44s - loss: 25.9584 - mape: 25.9238 - mae: 72.1801 - val_loss: 20.9415 - val_mape: 20.9078 - val_mae: 117.9050 - lr: 0.0010 - 44s/epoch - 15ms/step\n",
      "Epoch 37/1000\n",
      "3000/3000 - 44s - loss: 26.0262 - mape: 25.9931 - mae: 74.2610 - val_loss: 23.9192 - val_mape: 23.8830 - val_mae: 77.6037 - lr: 0.0010 - 44s/epoch - 15ms/step\n",
      "Epoch 38/1000\n",
      "3000/3000 - 43s - loss: 26.7917 - mape: 26.7614 - mae: 74.5636 - val_loss: 23.1900 - val_mape: 23.1588 - val_mae: 111.1710 - lr: 0.0010 - 43s/epoch - 14ms/step\n",
      "Epoch 39/1000\n",
      "3000/3000 - 44s - loss: 26.2344 - mape: 26.2083 - mae: 71.6920 - val_loss: 21.3427 - val_mape: 21.3192 - val_mae: 79.7208 - lr: 0.0010 - 44s/epoch - 15ms/step\n",
      "Epoch 40/1000\n",
      "3000/3000 - 42s - loss: 25.6367 - mape: 25.6165 - mae: 70.5636 - val_loss: 27.0828 - val_mape: 27.0577 - val_mae: 74.3004 - lr: 0.0010 - 42s/epoch - 14ms/step\n",
      "Epoch 41/1000\n"
     ]
    },
    {
     "name": "stderr",
     "output_type": "stream",
     "text": [
      "WARNING:absl:Function `_wrapped_model` contains input name(s) args_0 with unsupported characters which will be renamed to args_0_5 in the SavedModel.\n"
     ]
    },
    {
     "name": "stdout",
     "output_type": "stream",
     "text": [
      "INFO:tensorflow:Assets written to: savedmodels\\Multi_input_nosupp_final+\\assets\n"
     ]
    },
    {
     "name": "stderr",
     "output_type": "stream",
     "text": [
      "INFO:tensorflow:Assets written to: savedmodels\\Multi_input_nosupp_final+\\assets\n"
     ]
    },
    {
     "name": "stdout",
     "output_type": "stream",
     "text": [
      "3000/3000 - 45s - loss: 25.6390 - mape: 25.6185 - mae: 72.5618 - val_loss: 18.6793 - val_mape: 18.6591 - val_mae: 65.0311 - lr: 0.0010 - 45s/epoch - 15ms/step\n",
      "Epoch 42/1000\n"
     ]
    },
    {
     "name": "stderr",
     "output_type": "stream",
     "text": [
      "c:\\Users\\Robin\\.conda\\envs\\tfenvironment\\lib\\site-packages\\spektral\\data\\utils.py:221: UserWarning: you are shuffling a 'MyDataset' object which is not a subclass of 'Sequence'; `shuffle` is not guaranteed to behave correctly. E.g., non-numpy array/tensor objects with view semantics may contain duplicates after shuffling.\n",
      "  np.random.shuffle(a)\n",
      "c:\\Users\\Robin\\.conda\\envs\\tfenvironment\\lib\\site-packages\\spektral\\data\\utils.py:221: UserWarning: you are shuffling a 'TestDataset' object which is not a subclass of 'Sequence'; `shuffle` is not guaranteed to behave correctly. E.g., non-numpy array/tensor objects with view semantics may contain duplicates after shuffling.\n",
      "  np.random.shuffle(a)\n"
     ]
    },
    {
     "name": "stdout",
     "output_type": "stream",
     "text": [
      "3000/3000 - 44s - loss: 25.7729 - mape: 25.7519 - mae: 74.1507 - val_loss: 24.7019 - val_mape: 24.6790 - val_mae: 138.7491 - lr: 0.0010 - 44s/epoch - 15ms/step\n",
      "Epoch 43/1000\n",
      "3000/3000 - 44s - loss: 25.2527 - mape: 25.2343 - mae: 75.7904 - val_loss: 21.5157 - val_mape: 21.4970 - val_mae: 52.6524 - lr: 0.0010 - 44s/epoch - 15ms/step\n",
      "Epoch 44/1000\n",
      "3000/3000 - 43s - loss: 25.3219 - mape: 25.3035 - mae: 62.7541 - val_loss: 22.2971 - val_mape: 22.2817 - val_mae: 83.7606 - lr: 0.0010 - 43s/epoch - 14ms/step\n",
      "Epoch 45/1000\n",
      "3000/3000 - 42s - loss: 25.5168 - mape: 25.4999 - mae: 68.2863 - val_loss: 31.2680 - val_mape: 31.2537 - val_mae: 166.4284 - lr: 0.0010 - 42s/epoch - 14ms/step\n",
      "Epoch 46/1000\n",
      "3000/3000 - 42s - loss: 25.7604 - mape: 25.7484 - mae: 72.4751 - val_loss: 26.2488 - val_mape: 26.2354 - val_mae: 56.6094 - lr: 0.0010 - 42s/epoch - 14ms/step\n",
      "Epoch 47/1000\n",
      "3000/3000 - 42s - loss: 24.6174 - mape: 24.6013 - mae: 70.0958 - val_loss: 25.6702 - val_mape: 25.6550 - val_mae: 75.5856 - lr: 0.0010 - 42s/epoch - 14ms/step\n",
      "Epoch 48/1000\n",
      "3000/3000 - 42s - loss: 25.3509 - mape: 25.3368 - mae: 73.2216 - val_loss: 24.1500 - val_mape: 24.1391 - val_mae: 168.9981 - lr: 0.0010 - 42s/epoch - 14ms/step\n",
      "Epoch 49/1000\n",
      "3000/3000 - 43s - loss: 24.8080 - mape: 24.7935 - mae: 66.5249 - val_loss: 26.7406 - val_mape: 26.7266 - val_mae: 83.9982 - lr: 0.0010 - 43s/epoch - 14ms/step\n",
      "Epoch 50/1000\n",
      "3000/3000 - 44s - loss: 25.0273 - mape: 25.0125 - mae: 73.8987 - val_loss: 20.6520 - val_mape: 20.6321 - val_mae: 101.4169 - lr: 0.0010 - 44s/epoch - 15ms/step\n",
      "Epoch 51/1000\n",
      "3000/3000 - 43s - loss: 25.5217 - mape: 25.5002 - mae: 68.3542 - val_loss: 22.6725 - val_mape: 22.6515 - val_mae: 78.7430 - lr: 0.0010 - 43s/epoch - 14ms/step\n",
      "Epoch 52/1000\n",
      "3000/3000 - 43s - loss: 24.3250 - mape: 24.3039 - mae: 65.3231 - val_loss: 35.8541 - val_mape: 35.8343 - val_mae: 109.7181 - lr: 0.0010 - 43s/epoch - 14ms/step\n",
      "Epoch 53/1000\n",
      "3000/3000 - 43s - loss: 24.7847 - mape: 24.7669 - mae: 69.1028 - val_loss: 19.9277 - val_mape: 19.9101 - val_mae: 105.3096 - lr: 0.0010 - 43s/epoch - 14ms/step\n",
      "Epoch 54/1000\n",
      "3000/3000 - 42s - loss: 25.2632 - mape: 25.2499 - mae: 69.6502 - val_loss: 36.0682 - val_mape: 36.0541 - val_mae: 138.2583 - lr: 0.0010 - 42s/epoch - 14ms/step\n",
      "Epoch 55/1000\n",
      "3000/3000 - 44s - loss: 24.3581 - mape: 24.3442 - mae: 74.0294 - val_loss: 22.9646 - val_mape: 22.9500 - val_mae: 67.5711 - lr: 0.0010 - 44s/epoch - 15ms/step\n",
      "Epoch 56/1000\n",
      "3000/3000 - 44s - loss: 24.9945 - mape: 24.9808 - mae: 66.0404 - val_loss: 25.9772 - val_mape: 25.9644 - val_mae: 84.4135 - lr: 0.0010 - 44s/epoch - 15ms/step\n",
      "Epoch 57/1000\n",
      "3000/3000 - 44s - loss: 24.9757 - mape: 24.9587 - mae: 67.1696 - val_loss: 22.3186 - val_mape: 22.3018 - val_mae: 76.5581 - lr: 0.0010 - 44s/epoch - 15ms/step\n",
      "Epoch 58/1000\n",
      "3000/3000 - 44s - loss: 24.6936 - mape: 24.6770 - mae: 72.6334 - val_loss: 20.3626 - val_mape: 20.3483 - val_mae: 66.8221 - lr: 0.0010 - 44s/epoch - 15ms/step\n",
      "Epoch 59/1000\n",
      "3000/3000 - 42s - loss: 24.6009 - mape: 24.5853 - mae: 69.6048 - val_loss: 20.8317 - val_mape: 20.8178 - val_mae: 65.9727 - lr: 0.0010 - 42s/epoch - 14ms/step\n",
      "Epoch 60/1000\n",
      "3000/3000 - 43s - loss: 24.4820 - mape: 24.4676 - mae: 69.0218 - val_loss: 23.6211 - val_mape: 23.6071 - val_mae: 117.3553 - lr: 0.0010 - 43s/epoch - 14ms/step\n",
      "Epoch 61/1000\n",
      "3000/3000 - 43s - loss: 24.5793 - mape: 24.5648 - mae: 68.7502 - val_loss: 30.0917 - val_mape: 30.0774 - val_mae: 155.7495 - lr: 0.0010 - 43s/epoch - 14ms/step\n",
      "Epoch 62/1000\n",
      "3000/3000 - 44s - loss: 25.0860 - mape: 25.0661 - mae: 70.7942 - val_loss: 24.3890 - val_mape: 24.3513 - val_mae: 128.8934 - lr: 0.0010 - 44s/epoch - 15ms/step\n",
      "Epoch 63/1000\n",
      "3000/3000 - 44s - loss: 25.3153 - mape: 25.2856 - mae: 71.0959 - val_loss: 20.5106 - val_mape: 20.4901 - val_mae: 84.6661 - lr: 0.0010 - 44s/epoch - 15ms/step\n",
      "Epoch 64/1000\n",
      "3000/3000 - 44s - loss: 23.1946 - mape: 23.1775 - mae: 64.0502 - val_loss: 24.9541 - val_mape: 24.9388 - val_mae: 107.0338 - lr: 0.0010 - 44s/epoch - 15ms/step\n",
      "Epoch 65/1000\n",
      "3000/3000 - 45s - loss: 24.7160 - mape: 24.7033 - mae: 69.5217 - val_loss: 20.7887 - val_mape: 20.7776 - val_mae: 71.5253 - lr: 0.0010 - 45s/epoch - 15ms/step\n",
      "Epoch 66/1000\n",
      "\n",
      "Epoch 66: ReduceLROnPlateau reducing learning rate to 0.0003000000142492354.\n",
      "3000/3000 - 43s - loss: 23.2606 - mape: 23.2474 - mae: 68.0828 - val_loss: 24.9644 - val_mape: 24.9517 - val_mae: 107.6834 - lr: 0.0010 - 43s/epoch - 14ms/step\n",
      "Epoch 67/1000\n"
     ]
    },
    {
     "name": "stderr",
     "output_type": "stream",
     "text": [
      "WARNING:absl:Function `_wrapped_model` contains input name(s) args_0 with unsupported characters which will be renamed to args_0_5 in the SavedModel.\n"
     ]
    },
    {
     "name": "stdout",
     "output_type": "stream",
     "text": [
      "INFO:tensorflow:Assets written to: savedmodels\\Multi_input_nosupp_final+\\assets\n"
     ]
    },
    {
     "name": "stderr",
     "output_type": "stream",
     "text": [
      "INFO:tensorflow:Assets written to: savedmodels\\Multi_input_nosupp_final+\\assets\n"
     ]
    },
    {
     "name": "stdout",
     "output_type": "stream",
     "text": [
      "3000/3000 - 44s - loss: 19.7276 - mape: 19.7169 - mae: 53.6439 - val_loss: 15.4035 - val_mape: 15.3945 - val_mae: 47.2318 - lr: 3.0000e-04 - 44s/epoch - 15ms/step\n",
      "Epoch 68/1000\n"
     ]
    },
    {
     "name": "stderr",
     "output_type": "stream",
     "text": [
      "c:\\Users\\Robin\\.conda\\envs\\tfenvironment\\lib\\site-packages\\spektral\\data\\utils.py:221: UserWarning: you are shuffling a 'MyDataset' object which is not a subclass of 'Sequence'; `shuffle` is not guaranteed to behave correctly. E.g., non-numpy array/tensor objects with view semantics may contain duplicates after shuffling.\n",
      "  np.random.shuffle(a)\n",
      "c:\\Users\\Robin\\.conda\\envs\\tfenvironment\\lib\\site-packages\\spektral\\data\\utils.py:221: UserWarning: you are shuffling a 'TestDataset' object which is not a subclass of 'Sequence'; `shuffle` is not guaranteed to behave correctly. E.g., non-numpy array/tensor objects with view semantics may contain duplicates after shuffling.\n",
      "  np.random.shuffle(a)\n"
     ]
    },
    {
     "name": "stdout",
     "output_type": "stream",
     "text": [
      "3000/3000 - 44s - loss: 18.5886 - mape: 18.5797 - mae: 48.4082 - val_loss: 16.4581 - val_mape: 16.4500 - val_mae: 46.3904 - lr: 3.0000e-04 - 44s/epoch - 15ms/step\n",
      "Epoch 69/1000\n"
     ]
    },
    {
     "name": "stderr",
     "output_type": "stream",
     "text": [
      "WARNING:absl:Function `_wrapped_model` contains input name(s) args_0 with unsupported characters which will be renamed to args_0_5 in the SavedModel.\n"
     ]
    },
    {
     "name": "stdout",
     "output_type": "stream",
     "text": [
      "INFO:tensorflow:Assets written to: savedmodels\\Multi_input_nosupp_final+\\assets\n"
     ]
    },
    {
     "name": "stderr",
     "output_type": "stream",
     "text": [
      "INFO:tensorflow:Assets written to: savedmodels\\Multi_input_nosupp_final+\\assets\n"
     ]
    },
    {
     "name": "stdout",
     "output_type": "stream",
     "text": [
      "3000/3000 - 47s - loss: 18.3774 - mape: 18.3686 - mae: 46.6550 - val_loss: 15.0676 - val_mape: 15.0587 - val_mae: 41.4092 - lr: 3.0000e-04 - 47s/epoch - 16ms/step\n",
      "Epoch 70/1000\n"
     ]
    },
    {
     "name": "stderr",
     "output_type": "stream",
     "text": [
      "c:\\Users\\Robin\\.conda\\envs\\tfenvironment\\lib\\site-packages\\spektral\\data\\utils.py:221: UserWarning: you are shuffling a 'MyDataset' object which is not a subclass of 'Sequence'; `shuffle` is not guaranteed to behave correctly. E.g., non-numpy array/tensor objects with view semantics may contain duplicates after shuffling.\n",
      "  np.random.shuffle(a)\n",
      "c:\\Users\\Robin\\.conda\\envs\\tfenvironment\\lib\\site-packages\\spektral\\data\\utils.py:221: UserWarning: you are shuffling a 'TestDataset' object which is not a subclass of 'Sequence'; `shuffle` is not guaranteed to behave correctly. E.g., non-numpy array/tensor objects with view semantics may contain duplicates after shuffling.\n",
      "  np.random.shuffle(a)\n",
      "WARNING:absl:Function `_wrapped_model` contains input name(s) args_0 with unsupported characters which will be renamed to args_0_5 in the SavedModel.\n"
     ]
    },
    {
     "name": "stdout",
     "output_type": "stream",
     "text": [
      "INFO:tensorflow:Assets written to: savedmodels\\Multi_input_nosupp_final+\\assets\n"
     ]
    },
    {
     "name": "stderr",
     "output_type": "stream",
     "text": [
      "INFO:tensorflow:Assets written to: savedmodels\\Multi_input_nosupp_final+\\assets\n"
     ]
    },
    {
     "name": "stdout",
     "output_type": "stream",
     "text": [
      "3000/3000 - 46s - loss: 18.0302 - mape: 18.0219 - mae: 46.4195 - val_loss: 14.4871 - val_mape: 14.4790 - val_mae: 41.1105 - lr: 3.0000e-04 - 46s/epoch - 15ms/step\n",
      "Epoch 71/1000\n"
     ]
    },
    {
     "name": "stderr",
     "output_type": "stream",
     "text": [
      "c:\\Users\\Robin\\.conda\\envs\\tfenvironment\\lib\\site-packages\\spektral\\data\\utils.py:221: UserWarning: you are shuffling a 'MyDataset' object which is not a subclass of 'Sequence'; `shuffle` is not guaranteed to behave correctly. E.g., non-numpy array/tensor objects with view semantics may contain duplicates after shuffling.\n",
      "  np.random.shuffle(a)\n",
      "c:\\Users\\Robin\\.conda\\envs\\tfenvironment\\lib\\site-packages\\spektral\\data\\utils.py:221: UserWarning: you are shuffling a 'TestDataset' object which is not a subclass of 'Sequence'; `shuffle` is not guaranteed to behave correctly. E.g., non-numpy array/tensor objects with view semantics may contain duplicates after shuffling.\n",
      "  np.random.shuffle(a)\n"
     ]
    },
    {
     "name": "stdout",
     "output_type": "stream",
     "text": [
      "3000/3000 - 44s - loss: 17.6879 - mape: 17.6795 - mae: 44.4279 - val_loss: 15.3531 - val_mape: 15.3448 - val_mae: 48.8138 - lr: 3.0000e-04 - 44s/epoch - 15ms/step\n",
      "Epoch 72/1000\n"
     ]
    },
    {
     "name": "stderr",
     "output_type": "stream",
     "text": [
      "WARNING:absl:Function `_wrapped_model` contains input name(s) args_0 with unsupported characters which will be renamed to args_0_5 in the SavedModel.\n"
     ]
    },
    {
     "name": "stdout",
     "output_type": "stream",
     "text": [
      "INFO:tensorflow:Assets written to: savedmodels\\Multi_input_nosupp_final+\\assets\n"
     ]
    },
    {
     "name": "stderr",
     "output_type": "stream",
     "text": [
      "INFO:tensorflow:Assets written to: savedmodels\\Multi_input_nosupp_final+\\assets\n"
     ]
    },
    {
     "name": "stdout",
     "output_type": "stream",
     "text": [
      "3000/3000 - 45s - loss: 17.9318 - mape: 17.9235 - mae: 43.4618 - val_loss: 14.2034 - val_mape: 14.1959 - val_mae: 39.9701 - lr: 3.0000e-04 - 45s/epoch - 15ms/step\n",
      "Epoch 73/1000\n"
     ]
    },
    {
     "name": "stderr",
     "output_type": "stream",
     "text": [
      "c:\\Users\\Robin\\.conda\\envs\\tfenvironment\\lib\\site-packages\\spektral\\data\\utils.py:221: UserWarning: you are shuffling a 'MyDataset' object which is not a subclass of 'Sequence'; `shuffle` is not guaranteed to behave correctly. E.g., non-numpy array/tensor objects with view semantics may contain duplicates after shuffling.\n",
      "  np.random.shuffle(a)\n",
      "c:\\Users\\Robin\\.conda\\envs\\tfenvironment\\lib\\site-packages\\spektral\\data\\utils.py:221: UserWarning: you are shuffling a 'TestDataset' object which is not a subclass of 'Sequence'; `shuffle` is not guaranteed to behave correctly. E.g., non-numpy array/tensor objects with view semantics may contain duplicates after shuffling.\n",
      "  np.random.shuffle(a)\n"
     ]
    },
    {
     "name": "stdout",
     "output_type": "stream",
     "text": [
      "3000/3000 - 43s - loss: 18.1216 - mape: 18.1138 - mae: 45.6739 - val_loss: 17.7773 - val_mape: 17.7691 - val_mae: 45.4254 - lr: 3.0000e-04 - 43s/epoch - 14ms/step\n",
      "Epoch 74/1000\n"
     ]
    },
    {
     "name": "stderr",
     "output_type": "stream",
     "text": [
      "WARNING:absl:Function `_wrapped_model` contains input name(s) args_0 with unsupported characters which will be renamed to args_0_5 in the SavedModel.\n"
     ]
    },
    {
     "name": "stdout",
     "output_type": "stream",
     "text": [
      "INFO:tensorflow:Assets written to: savedmodels\\Multi_input_nosupp_final+\\assets\n"
     ]
    },
    {
     "name": "stderr",
     "output_type": "stream",
     "text": [
      "INFO:tensorflow:Assets written to: savedmodels\\Multi_input_nosupp_final+\\assets\n"
     ]
    },
    {
     "name": "stdout",
     "output_type": "stream",
     "text": [
      "3000/3000 - 45s - loss: 17.9672 - mape: 17.9596 - mae: 44.3662 - val_loss: 14.0856 - val_mape: 14.0789 - val_mae: 45.2793 - lr: 3.0000e-04 - 45s/epoch - 15ms/step\n",
      "Epoch 75/1000\n"
     ]
    },
    {
     "name": "stderr",
     "output_type": "stream",
     "text": [
      "c:\\Users\\Robin\\.conda\\envs\\tfenvironment\\lib\\site-packages\\spektral\\data\\utils.py:221: UserWarning: you are shuffling a 'MyDataset' object which is not a subclass of 'Sequence'; `shuffle` is not guaranteed to behave correctly. E.g., non-numpy array/tensor objects with view semantics may contain duplicates after shuffling.\n",
      "  np.random.shuffle(a)\n",
      "c:\\Users\\Robin\\.conda\\envs\\tfenvironment\\lib\\site-packages\\spektral\\data\\utils.py:221: UserWarning: you are shuffling a 'TestDataset' object which is not a subclass of 'Sequence'; `shuffle` is not guaranteed to behave correctly. E.g., non-numpy array/tensor objects with view semantics may contain duplicates after shuffling.\n",
      "  np.random.shuffle(a)\n"
     ]
    },
    {
     "name": "stdout",
     "output_type": "stream",
     "text": [
      "3000/3000 - 44s - loss: 17.9243 - mape: 17.9180 - mae: 45.2022 - val_loss: 18.1712 - val_mape: 18.1648 - val_mae: 64.5551 - lr: 3.0000e-04 - 44s/epoch - 15ms/step\n",
      "Epoch 76/1000\n",
      "3000/3000 - 45s - loss: 17.6148 - mape: 17.6079 - mae: 45.5585 - val_loss: 15.2870 - val_mape: 15.2801 - val_mae: 48.0585 - lr: 3.0000e-04 - 45s/epoch - 15ms/step\n",
      "Epoch 77/1000\n"
     ]
    },
    {
     "name": "stderr",
     "output_type": "stream",
     "text": [
      "WARNING:absl:Function `_wrapped_model` contains input name(s) args_0 with unsupported characters which will be renamed to args_0_5 in the SavedModel.\n"
     ]
    },
    {
     "name": "stdout",
     "output_type": "stream",
     "text": [
      "INFO:tensorflow:Assets written to: savedmodels\\Multi_input_nosupp_final+\\assets\n"
     ]
    },
    {
     "name": "stderr",
     "output_type": "stream",
     "text": [
      "INFO:tensorflow:Assets written to: savedmodels\\Multi_input_nosupp_final+\\assets\n"
     ]
    },
    {
     "name": "stdout",
     "output_type": "stream",
     "text": [
      "3000/3000 - 45s - loss: 17.5529 - mape: 17.5462 - mae: 45.0416 - val_loss: 13.9121 - val_mape: 13.9056 - val_mae: 47.3640 - lr: 3.0000e-04 - 45s/epoch - 15ms/step\n",
      "Epoch 78/1000\n"
     ]
    },
    {
     "name": "stderr",
     "output_type": "stream",
     "text": [
      "c:\\Users\\Robin\\.conda\\envs\\tfenvironment\\lib\\site-packages\\spektral\\data\\utils.py:221: UserWarning: you are shuffling a 'MyDataset' object which is not a subclass of 'Sequence'; `shuffle` is not guaranteed to behave correctly. E.g., non-numpy array/tensor objects with view semantics may contain duplicates after shuffling.\n",
      "  np.random.shuffle(a)\n",
      "c:\\Users\\Robin\\.conda\\envs\\tfenvironment\\lib\\site-packages\\spektral\\data\\utils.py:221: UserWarning: you are shuffling a 'TestDataset' object which is not a subclass of 'Sequence'; `shuffle` is not guaranteed to behave correctly. E.g., non-numpy array/tensor objects with view semantics may contain duplicates after shuffling.\n",
      "  np.random.shuffle(a)\n"
     ]
    },
    {
     "name": "stdout",
     "output_type": "stream",
     "text": [
      "3000/3000 - 45s - loss: 17.2735 - mape: 17.2672 - mae: 42.9168 - val_loss: 17.8756 - val_mape: 17.8693 - val_mae: 63.0681 - lr: 3.0000e-04 - 45s/epoch - 15ms/step\n",
      "Epoch 79/1000\n",
      "3000/3000 - 44s - loss: 17.4854 - mape: 17.4786 - mae: 45.2221 - val_loss: 14.9568 - val_mape: 14.9503 - val_mae: 50.5185 - lr: 3.0000e-04 - 44s/epoch - 15ms/step\n",
      "Epoch 80/1000\n",
      "3000/3000 - 44s - loss: 17.2293 - mape: 17.2225 - mae: 42.8479 - val_loss: 14.1209 - val_mape: 14.1143 - val_mae: 46.9742 - lr: 3.0000e-04 - 44s/epoch - 15ms/step\n",
      "Epoch 81/1000\n",
      "3000/3000 - 43s - loss: 17.6900 - mape: 17.6829 - mae: 46.4051 - val_loss: 14.4757 - val_mape: 14.4692 - val_mae: 70.9115 - lr: 3.0000e-04 - 43s/epoch - 14ms/step\n",
      "Epoch 82/1000\n",
      "3000/3000 - 47s - loss: 16.9126 - mape: 16.9055 - mae: 42.5687 - val_loss: 16.3477 - val_mape: 16.3399 - val_mae: 52.3714 - lr: 3.0000e-04 - 47s/epoch - 16ms/step\n",
      "Epoch 83/1000\n"
     ]
    },
    {
     "name": "stderr",
     "output_type": "stream",
     "text": [
      "WARNING:absl:Function `_wrapped_model` contains input name(s) args_0 with unsupported characters which will be renamed to args_0_5 in the SavedModel.\n"
     ]
    },
    {
     "name": "stdout",
     "output_type": "stream",
     "text": [
      "INFO:tensorflow:Assets written to: savedmodels\\Multi_input_nosupp_final+\\assets\n"
     ]
    },
    {
     "name": "stderr",
     "output_type": "stream",
     "text": [
      "INFO:tensorflow:Assets written to: savedmodels\\Multi_input_nosupp_final+\\assets\n"
     ]
    },
    {
     "name": "stdout",
     "output_type": "stream",
     "text": [
      "3000/3000 - 47s - loss: 17.1751 - mape: 17.1664 - mae: 45.2994 - val_loss: 13.8888 - val_mape: 13.8794 - val_mae: 35.4270 - lr: 3.0000e-04 - 47s/epoch - 16ms/step\n",
      "Epoch 84/1000\n"
     ]
    },
    {
     "name": "stderr",
     "output_type": "stream",
     "text": [
      "c:\\Users\\Robin\\.conda\\envs\\tfenvironment\\lib\\site-packages\\spektral\\data\\utils.py:221: UserWarning: you are shuffling a 'MyDataset' object which is not a subclass of 'Sequence'; `shuffle` is not guaranteed to behave correctly. E.g., non-numpy array/tensor objects with view semantics may contain duplicates after shuffling.\n",
      "  np.random.shuffle(a)\n",
      "c:\\Users\\Robin\\.conda\\envs\\tfenvironment\\lib\\site-packages\\spektral\\data\\utils.py:221: UserWarning: you are shuffling a 'TestDataset' object which is not a subclass of 'Sequence'; `shuffle` is not guaranteed to behave correctly. E.g., non-numpy array/tensor objects with view semantics may contain duplicates after shuffling.\n",
      "  np.random.shuffle(a)\n"
     ]
    },
    {
     "name": "stdout",
     "output_type": "stream",
     "text": [
      "3000/3000 - 44s - loss: 17.3459 - mape: 17.3372 - mae: 44.1484 - val_loss: 15.4724 - val_mape: 15.4641 - val_mae: 45.7383 - lr: 3.0000e-04 - 44s/epoch - 15ms/step\n",
      "Epoch 85/1000\n",
      "3000/3000 - 42s - loss: 17.3047 - mape: 17.2965 - mae: 46.1485 - val_loss: 15.4274 - val_mape: 15.4190 - val_mae: 39.7827 - lr: 3.0000e-04 - 42s/epoch - 14ms/step\n",
      "Epoch 86/1000\n",
      "3000/3000 - 43s - loss: 17.1065 - mape: 17.0982 - mae: 45.2767 - val_loss: 15.1402 - val_mape: 15.1324 - val_mae: 38.9831 - lr: 3.0000e-04 - 43s/epoch - 14ms/step\n",
      "Epoch 87/1000\n",
      "3000/3000 - 43s - loss: 17.3289 - mape: 17.3210 - mae: 46.1848 - val_loss: 15.0258 - val_mape: 15.0173 - val_mae: 47.9372 - lr: 3.0000e-04 - 43s/epoch - 14ms/step\n",
      "Epoch 88/1000\n",
      "3000/3000 - 44s - loss: 16.9660 - mape: 16.9576 - mae: 43.5070 - val_loss: 18.0241 - val_mape: 18.0165 - val_mae: 47.8895 - lr: 3.0000e-04 - 44s/epoch - 15ms/step\n",
      "Epoch 89/1000\n",
      "3000/3000 - 45s - loss: 17.1341 - mape: 17.1259 - mae: 47.5243 - val_loss: 14.4016 - val_mape: 14.3930 - val_mae: 60.3095 - lr: 3.0000e-04 - 45s/epoch - 15ms/step\n",
      "Epoch 90/1000\n",
      "3000/3000 - 45s - loss: 17.1015 - mape: 17.0924 - mae: 44.0669 - val_loss: 14.2432 - val_mape: 14.2342 - val_mae: 50.3460 - lr: 3.0000e-04 - 45s/epoch - 15ms/step\n",
      "Epoch 91/1000\n",
      "3000/3000 - 44s - loss: 16.8377 - mape: 16.8287 - mae: 43.3438 - val_loss: 16.6793 - val_mape: 16.6703 - val_mae: 51.9683 - lr: 3.0000e-04 - 44s/epoch - 15ms/step\n",
      "Epoch 92/1000\n",
      "3000/3000 - 43s - loss: 17.2015 - mape: 17.1925 - mae: 40.8237 - val_loss: 14.3145 - val_mape: 14.3052 - val_mae: 59.4577 - lr: 3.0000e-04 - 43s/epoch - 14ms/step\n",
      "Epoch 93/1000\n",
      "3000/3000 - 43s - loss: 17.2168 - mape: 17.2074 - mae: 43.8271 - val_loss: 14.6481 - val_mape: 14.6389 - val_mae: 40.3362 - lr: 3.0000e-04 - 43s/epoch - 14ms/step\n",
      "Epoch 94/1000\n",
      "3000/3000 - 43s - loss: 17.3205 - mape: 17.3112 - mae: 44.8241 - val_loss: 15.0798 - val_mape: 15.0712 - val_mae: 40.2590 - lr: 3.0000e-04 - 43s/epoch - 14ms/step\n",
      "Epoch 95/1000\n",
      "3000/3000 - 45s - loss: 16.8689 - mape: 16.8601 - mae: 42.3898 - val_loss: 15.9337 - val_mape: 15.9252 - val_mae: 40.6859 - lr: 3.0000e-04 - 45s/epoch - 15ms/step\n",
      "Epoch 96/1000\n",
      "3000/3000 - 44s - loss: 16.8323 - mape: 16.8234 - mae: 43.9273 - val_loss: 15.2101 - val_mape: 15.2012 - val_mae: 38.8106 - lr: 3.0000e-04 - 44s/epoch - 15ms/step\n",
      "Epoch 97/1000\n"
     ]
    },
    {
     "name": "stderr",
     "output_type": "stream",
     "text": [
      "WARNING:absl:Function `_wrapped_model` contains input name(s) args_0 with unsupported characters which will be renamed to args_0_5 in the SavedModel.\n"
     ]
    },
    {
     "name": "stdout",
     "output_type": "stream",
     "text": [
      "INFO:tensorflow:Assets written to: savedmodels\\Multi_input_nosupp_final+\\assets\n"
     ]
    },
    {
     "name": "stderr",
     "output_type": "stream",
     "text": [
      "INFO:tensorflow:Assets written to: savedmodels\\Multi_input_nosupp_final+\\assets\n"
     ]
    },
    {
     "name": "stdout",
     "output_type": "stream",
     "text": [
      "3000/3000 - 46s - loss: 16.4900 - mape: 16.4805 - mae: 41.9308 - val_loss: 13.7912 - val_mape: 13.7803 - val_mae: 35.1288 - lr: 3.0000e-04 - 46s/epoch - 15ms/step\n",
      "Epoch 98/1000\n"
     ]
    },
    {
     "name": "stderr",
     "output_type": "stream",
     "text": [
      "c:\\Users\\Robin\\.conda\\envs\\tfenvironment\\lib\\site-packages\\spektral\\data\\utils.py:221: UserWarning: you are shuffling a 'MyDataset' object which is not a subclass of 'Sequence'; `shuffle` is not guaranteed to behave correctly. E.g., non-numpy array/tensor objects with view semantics may contain duplicates after shuffling.\n",
      "  np.random.shuffle(a)\n",
      "c:\\Users\\Robin\\.conda\\envs\\tfenvironment\\lib\\site-packages\\spektral\\data\\utils.py:221: UserWarning: you are shuffling a 'TestDataset' object which is not a subclass of 'Sequence'; `shuffle` is not guaranteed to behave correctly. E.g., non-numpy array/tensor objects with view semantics may contain duplicates after shuffling.\n",
      "  np.random.shuffle(a)\n"
     ]
    },
    {
     "name": "stdout",
     "output_type": "stream",
     "text": [
      "3000/3000 - 44s - loss: 16.9756 - mape: 16.9653 - mae: 44.8918 - val_loss: 18.4017 - val_mape: 18.3920 - val_mae: 54.4152 - lr: 3.0000e-04 - 44s/epoch - 15ms/step\n",
      "Epoch 99/1000\n",
      "3000/3000 - 45s - loss: 16.5042 - mape: 16.4951 - mae: 40.0965 - val_loss: 16.8267 - val_mape: 16.8174 - val_mae: 39.2059 - lr: 3.0000e-04 - 45s/epoch - 15ms/step\n",
      "Epoch 100/1000\n",
      "3000/3000 - 46s - loss: 16.7497 - mape: 16.7404 - mae: 45.4630 - val_loss: 14.0196 - val_mape: 14.0111 - val_mae: 36.5568 - lr: 3.0000e-04 - 46s/epoch - 15ms/step\n",
      "Epoch 101/1000\n",
      "3000/3000 - 46s - loss: 16.8293 - mape: 16.8208 - mae: 42.5931 - val_loss: 14.1063 - val_mape: 14.0974 - val_mae: 34.9439 - lr: 3.0000e-04 - 46s/epoch - 15ms/step\n",
      "Epoch 102/1000\n",
      "3000/3000 - 45s - loss: 17.0060 - mape: 16.9973 - mae: 43.4871 - val_loss: 14.1038 - val_mape: 14.0955 - val_mae: 37.2487 - lr: 3.0000e-04 - 45s/epoch - 15ms/step\n",
      "Epoch 103/1000\n"
     ]
    },
    {
     "name": "stderr",
     "output_type": "stream",
     "text": [
      "WARNING:absl:Function `_wrapped_model` contains input name(s) args_0 with unsupported characters which will be renamed to args_0_5 in the SavedModel.\n"
     ]
    },
    {
     "name": "stdout",
     "output_type": "stream",
     "text": [
      "INFO:tensorflow:Assets written to: savedmodels\\Multi_input_nosupp_final+\\assets\n"
     ]
    },
    {
     "name": "stderr",
     "output_type": "stream",
     "text": [
      "INFO:tensorflow:Assets written to: savedmodels\\Multi_input_nosupp_final+\\assets\n"
     ]
    },
    {
     "name": "stdout",
     "output_type": "stream",
     "text": [
      "3000/3000 - 47s - loss: 17.1953 - mape: 17.1868 - mae: 43.0222 - val_loss: 13.5930 - val_mape: 13.5844 - val_mae: 34.1116 - lr: 3.0000e-04 - 47s/epoch - 16ms/step\n",
      "Epoch 104/1000\n"
     ]
    },
    {
     "name": "stderr",
     "output_type": "stream",
     "text": [
      "c:\\Users\\Robin\\.conda\\envs\\tfenvironment\\lib\\site-packages\\spektral\\data\\utils.py:221: UserWarning: you are shuffling a 'MyDataset' object which is not a subclass of 'Sequence'; `shuffle` is not guaranteed to behave correctly. E.g., non-numpy array/tensor objects with view semantics may contain duplicates after shuffling.\n",
      "  np.random.shuffle(a)\n",
      "c:\\Users\\Robin\\.conda\\envs\\tfenvironment\\lib\\site-packages\\spektral\\data\\utils.py:221: UserWarning: you are shuffling a 'TestDataset' object which is not a subclass of 'Sequence'; `shuffle` is not guaranteed to behave correctly. E.g., non-numpy array/tensor objects with view semantics may contain duplicates after shuffling.\n",
      "  np.random.shuffle(a)\n"
     ]
    },
    {
     "name": "stdout",
     "output_type": "stream",
     "text": [
      "3000/3000 - 45s - loss: 16.6228 - mape: 16.6139 - mae: 42.0954 - val_loss: 14.2199 - val_mape: 14.2117 - val_mae: 51.1330 - lr: 3.0000e-04 - 45s/epoch - 15ms/step\n",
      "Epoch 105/1000\n",
      "3000/3000 - 43s - loss: 16.9424 - mape: 16.9338 - mae: 41.7135 - val_loss: 14.0286 - val_mape: 14.0196 - val_mae: 50.7474 - lr: 3.0000e-04 - 43s/epoch - 14ms/step\n",
      "Epoch 106/1000\n"
     ]
    },
    {
     "name": "stderr",
     "output_type": "stream",
     "text": [
      "WARNING:absl:Function `_wrapped_model` contains input name(s) args_0 with unsupported characters which will be renamed to args_0_5 in the SavedModel.\n"
     ]
    },
    {
     "name": "stdout",
     "output_type": "stream",
     "text": [
      "INFO:tensorflow:Assets written to: savedmodels\\Multi_input_nosupp_final+\\assets\n"
     ]
    },
    {
     "name": "stderr",
     "output_type": "stream",
     "text": [
      "INFO:tensorflow:Assets written to: savedmodels\\Multi_input_nosupp_final+\\assets\n"
     ]
    },
    {
     "name": "stdout",
     "output_type": "stream",
     "text": [
      "3000/3000 - 45s - loss: 16.6467 - mape: 16.6382 - mae: 43.8876 - val_loss: 13.2135 - val_mape: 13.2047 - val_mae: 37.3784 - lr: 3.0000e-04 - 45s/epoch - 15ms/step\n",
      "Epoch 107/1000\n"
     ]
    },
    {
     "name": "stderr",
     "output_type": "stream",
     "text": [
      "c:\\Users\\Robin\\.conda\\envs\\tfenvironment\\lib\\site-packages\\spektral\\data\\utils.py:221: UserWarning: you are shuffling a 'MyDataset' object which is not a subclass of 'Sequence'; `shuffle` is not guaranteed to behave correctly. E.g., non-numpy array/tensor objects with view semantics may contain duplicates after shuffling.\n",
      "  np.random.shuffle(a)\n",
      "c:\\Users\\Robin\\.conda\\envs\\tfenvironment\\lib\\site-packages\\spektral\\data\\utils.py:221: UserWarning: you are shuffling a 'TestDataset' object which is not a subclass of 'Sequence'; `shuffle` is not guaranteed to behave correctly. E.g., non-numpy array/tensor objects with view semantics may contain duplicates after shuffling.\n",
      "  np.random.shuffle(a)\n"
     ]
    },
    {
     "name": "stdout",
     "output_type": "stream",
     "text": [
      "3000/3000 - 43s - loss: 16.8011 - mape: 16.7920 - mae: 45.8209 - val_loss: 13.8015 - val_mape: 13.7925 - val_mae: 40.9136 - lr: 3.0000e-04 - 43s/epoch - 14ms/step\n",
      "Epoch 108/1000\n",
      "3000/3000 - 44s - loss: 16.8733 - mape: 16.8635 - mae: 42.0203 - val_loss: 14.5038 - val_mape: 14.4939 - val_mae: 34.8557 - lr: 3.0000e-04 - 44s/epoch - 15ms/step\n",
      "Epoch 109/1000\n",
      "3000/3000 - 45s - loss: 16.4147 - mape: 16.4046 - mae: 41.3677 - val_loss: 16.8381 - val_mape: 16.8272 - val_mae: 59.9655 - lr: 3.0000e-04 - 45s/epoch - 15ms/step\n",
      "Epoch 110/1000\n",
      "3000/3000 - 43s - loss: 16.4406 - mape: 16.4298 - mae: 41.7682 - val_loss: 14.8717 - val_mape: 14.8614 - val_mae: 46.9721 - lr: 3.0000e-04 - 43s/epoch - 14ms/step\n",
      "Epoch 111/1000\n",
      "3000/3000 - 44s - loss: 16.8783 - mape: 16.8683 - mae: 43.5017 - val_loss: 14.1070 - val_mape: 14.0974 - val_mae: 42.9327 - lr: 3.0000e-04 - 44s/epoch - 15ms/step\n",
      "Epoch 112/1000\n",
      "3000/3000 - 45s - loss: 16.6160 - mape: 16.6070 - mae: 44.8349 - val_loss: 15.3170 - val_mape: 15.3082 - val_mae: 32.7726 - lr: 3.0000e-04 - 45s/epoch - 15ms/step\n",
      "Epoch 113/1000\n",
      "3000/3000 - 43s - loss: 16.9426 - mape: 16.9335 - mae: 40.8887 - val_loss: 13.3869 - val_mape: 13.3777 - val_mae: 45.4601 - lr: 3.0000e-04 - 43s/epoch - 14ms/step\n",
      "Epoch 114/1000\n",
      "3000/3000 - 43s - loss: 16.2927 - mape: 16.2834 - mae: 42.4218 - val_loss: 13.3193 - val_mape: 13.3102 - val_mae: 34.1447 - lr: 3.0000e-04 - 43s/epoch - 14ms/step\n",
      "Epoch 115/1000\n",
      "3000/3000 - 44s - loss: 16.6291 - mape: 16.6198 - mae: 44.0251 - val_loss: 15.8952 - val_mape: 15.8857 - val_mae: 97.2915 - lr: 3.0000e-04 - 44s/epoch - 15ms/step\n",
      "Epoch 116/1000\n",
      "3000/3000 - 45s - loss: 16.7534 - mape: 16.7435 - mae: 43.0484 - val_loss: 17.0709 - val_mape: 17.0604 - val_mae: 46.2235 - lr: 3.0000e-04 - 45s/epoch - 15ms/step\n",
      "Epoch 117/1000\n",
      "3000/3000 - 45s - loss: 16.7273 - mape: 16.7169 - mae: 39.9139 - val_loss: 13.6634 - val_mape: 13.6529 - val_mae: 55.5074 - lr: 3.0000e-04 - 45s/epoch - 15ms/step\n",
      "Epoch 118/1000\n",
      "3000/3000 - 44s - loss: 16.4419 - mape: 16.4318 - mae: 41.4492 - val_loss: 16.9813 - val_mape: 16.9714 - val_mae: 44.6744 - lr: 3.0000e-04 - 44s/epoch - 15ms/step\n",
      "Epoch 119/1000\n",
      "3000/3000 - 44s - loss: 16.7664 - mape: 16.7565 - mae: 45.1083 - val_loss: 13.4012 - val_mape: 13.3914 - val_mae: 48.6160 - lr: 3.0000e-04 - 44s/epoch - 15ms/step\n",
      "Epoch 120/1000\n",
      "3000/3000 - 44s - loss: 16.4419 - mape: 16.4321 - mae: 41.8237 - val_loss: 15.9142 - val_mape: 15.9048 - val_mae: 81.7179 - lr: 3.0000e-04 - 44s/epoch - 15ms/step\n",
      "Epoch 121/1000\n",
      "3000/3000 - 44s - loss: 16.6257 - mape: 16.6163 - mae: 42.1464 - val_loss: 18.0819 - val_mape: 18.0722 - val_mae: 43.4635 - lr: 3.0000e-04 - 44s/epoch - 15ms/step\n",
      "Epoch 122/1000\n"
     ]
    },
    {
     "name": "stderr",
     "output_type": "stream",
     "text": [
      "WARNING:absl:Function `_wrapped_model` contains input name(s) args_0 with unsupported characters which will be renamed to args_0_5 in the SavedModel.\n"
     ]
    },
    {
     "name": "stdout",
     "output_type": "stream",
     "text": [
      "INFO:tensorflow:Assets written to: savedmodels\\Multi_input_nosupp_final+\\assets\n"
     ]
    },
    {
     "name": "stderr",
     "output_type": "stream",
     "text": [
      "INFO:tensorflow:Assets written to: savedmodels\\Multi_input_nosupp_final+\\assets\n"
     ]
    },
    {
     "name": "stdout",
     "output_type": "stream",
     "text": [
      "3000/3000 - 47s - loss: 17.0066 - mape: 16.9966 - mae: 43.1025 - val_loss: 13.0554 - val_mape: 13.0448 - val_mae: 36.7095 - lr: 3.0000e-04 - 47s/epoch - 16ms/step\n",
      "Epoch 123/1000\n"
     ]
    },
    {
     "name": "stderr",
     "output_type": "stream",
     "text": [
      "c:\\Users\\Robin\\.conda\\envs\\tfenvironment\\lib\\site-packages\\spektral\\data\\utils.py:221: UserWarning: you are shuffling a 'MyDataset' object which is not a subclass of 'Sequence'; `shuffle` is not guaranteed to behave correctly. E.g., non-numpy array/tensor objects with view semantics may contain duplicates after shuffling.\n",
      "  np.random.shuffle(a)\n",
      "c:\\Users\\Robin\\.conda\\envs\\tfenvironment\\lib\\site-packages\\spektral\\data\\utils.py:221: UserWarning: you are shuffling a 'TestDataset' object which is not a subclass of 'Sequence'; `shuffle` is not guaranteed to behave correctly. E.g., non-numpy array/tensor objects with view semantics may contain duplicates after shuffling.\n",
      "  np.random.shuffle(a)\n"
     ]
    },
    {
     "name": "stdout",
     "output_type": "stream",
     "text": [
      "3000/3000 - 44s - loss: 16.4466 - mape: 16.4363 - mae: 42.4485 - val_loss: 15.2408 - val_mape: 15.2303 - val_mae: 39.7751 - lr: 3.0000e-04 - 44s/epoch - 15ms/step\n",
      "Epoch 124/1000\n",
      "3000/3000 - 44s - loss: 16.6469 - mape: 16.6368 - mae: 41.5069 - val_loss: 18.2886 - val_mape: 18.2789 - val_mae: 42.9652 - lr: 3.0000e-04 - 44s/epoch - 15ms/step\n",
      "Epoch 125/1000\n",
      "3000/3000 - 45s - loss: 16.5532 - mape: 16.5432 - mae: 40.2615 - val_loss: 16.4787 - val_mape: 16.4690 - val_mae: 36.4215 - lr: 3.0000e-04 - 45s/epoch - 15ms/step\n",
      "Epoch 126/1000\n",
      "3000/3000 - 44s - loss: 16.4197 - mape: 16.4088 - mae: 47.2870 - val_loss: 13.4302 - val_mape: 13.4189 - val_mae: 39.0366 - lr: 3.0000e-04 - 44s/epoch - 15ms/step\n",
      "Epoch 127/1000\n",
      "3000/3000 - 43s - loss: 16.5018 - mape: 16.4909 - mae: 39.8066 - val_loss: 13.7611 - val_mape: 13.7507 - val_mae: 41.2120 - lr: 3.0000e-04 - 43s/epoch - 14ms/step\n",
      "Epoch 128/1000\n",
      "3000/3000 - 44s - loss: 16.5772 - mape: 16.5670 - mae: 42.0733 - val_loss: 16.2138 - val_mape: 16.2039 - val_mae: 41.3901 - lr: 3.0000e-04 - 44s/epoch - 15ms/step\n",
      "Epoch 129/1000\n",
      "3000/3000 - 46s - loss: 16.2429 - mape: 16.2331 - mae: 42.7190 - val_loss: 13.4879 - val_mape: 13.4781 - val_mae: 32.9915 - lr: 3.0000e-04 - 46s/epoch - 15ms/step\n",
      "Epoch 130/1000\n",
      "3000/3000 - 45s - loss: 16.7152 - mape: 16.7049 - mae: 39.9132 - val_loss: 13.7090 - val_mape: 13.6985 - val_mae: 45.4927 - lr: 3.0000e-04 - 45s/epoch - 15ms/step\n",
      "Epoch 131/1000\n",
      "3000/3000 - 45s - loss: 16.6368 - mape: 16.6267 - mae: 41.4438 - val_loss: 13.8032 - val_mape: 13.7934 - val_mae: 35.9972 - lr: 3.0000e-04 - 45s/epoch - 15ms/step\n",
      "Epoch 132/1000\n",
      "3000/3000 - 43s - loss: 16.3472 - mape: 16.3370 - mae: 43.7478 - val_loss: 15.3805 - val_mape: 15.3707 - val_mae: 32.5458 - lr: 3.0000e-04 - 43s/epoch - 14ms/step\n",
      "Epoch 133/1000\n",
      "3000/3000 - 44s - loss: 16.7769 - mape: 16.7668 - mae: 46.8369 - val_loss: 14.9114 - val_mape: 14.9013 - val_mae: 59.6311 - lr: 3.0000e-04 - 44s/epoch - 15ms/step\n",
      "Epoch 134/1000\n",
      "3000/3000 - 43s - loss: 16.6314 - mape: 16.6213 - mae: 45.3676 - val_loss: 14.7191 - val_mape: 14.7087 - val_mae: 54.4746 - lr: 3.0000e-04 - 43s/epoch - 14ms/step\n",
      "Epoch 135/1000\n",
      "3000/3000 - 44s - loss: 16.8418 - mape: 16.8306 - mae: 38.8500 - val_loss: 14.4726 - val_mape: 14.4616 - val_mae: 37.0244 - lr: 3.0000e-04 - 44s/epoch - 15ms/step\n",
      "Epoch 136/1000\n",
      "3000/3000 - 44s - loss: 16.4224 - mape: 16.4115 - mae: 46.3083 - val_loss: 13.6789 - val_mape: 13.6686 - val_mae: 34.0718 - lr: 3.0000e-04 - 44s/epoch - 15ms/step\n",
      "Epoch 137/1000\n",
      "3000/3000 - 44s - loss: 16.1285 - mape: 16.1186 - mae: 40.6020 - val_loss: 16.6399 - val_mape: 16.6302 - val_mae: 43.5626 - lr: 3.0000e-04 - 44s/epoch - 15ms/step\n",
      "Epoch 138/1000\n",
      "3000/3000 - 44s - loss: 16.3464 - mape: 16.3369 - mae: 41.5742 - val_loss: 13.5182 - val_mape: 13.5084 - val_mae: 43.4123 - lr: 3.0000e-04 - 44s/epoch - 15ms/step\n",
      "Epoch 139/1000\n",
      "3000/3000 - 44s - loss: 16.3747 - mape: 16.3644 - mae: 40.5730 - val_loss: 13.5869 - val_mape: 13.5767 - val_mae: 35.6865 - lr: 3.0000e-04 - 44s/epoch - 15ms/step\n",
      "Epoch 140/1000\n",
      "3000/3000 - 44s - loss: 16.6082 - mape: 16.5978 - mae: 42.7102 - val_loss: 15.1357 - val_mape: 15.1250 - val_mae: 33.6922 - lr: 3.0000e-04 - 44s/epoch - 15ms/step\n",
      "Epoch 141/1000\n",
      "3000/3000 - 44s - loss: 16.2278 - mape: 16.2174 - mae: 42.0242 - val_loss: 15.1440 - val_mape: 15.1342 - val_mae: 45.6022 - lr: 3.0000e-04 - 44s/epoch - 15ms/step\n",
      "Epoch 142/1000\n",
      "3000/3000 - 45s - loss: 16.2268 - mape: 16.2165 - mae: 42.1596 - val_loss: 16.8268 - val_mape: 16.8166 - val_mae: 70.7557 - lr: 3.0000e-04 - 45s/epoch - 15ms/step\n",
      "Epoch 143/1000\n",
      "3000/3000 - 45s - loss: 16.5352 - mape: 16.5247 - mae: 44.8417 - val_loss: 19.7802 - val_mape: 19.7698 - val_mae: 39.4039 - lr: 3.0000e-04 - 45s/epoch - 15ms/step\n",
      "Epoch 144/1000\n",
      "3000/3000 - 44s - loss: 16.3773 - mape: 16.3670 - mae: 38.8233 - val_loss: 13.7107 - val_mape: 13.7007 - val_mae: 32.8007 - lr: 3.0000e-04 - 44s/epoch - 15ms/step\n",
      "Epoch 145/1000\n",
      "3000/3000 - 43s - loss: 16.1318 - mape: 16.1218 - mae: 41.6749 - val_loss: 15.9227 - val_mape: 15.9126 - val_mae: 34.2436 - lr: 3.0000e-04 - 43s/epoch - 14ms/step\n",
      "Epoch 146/1000\n",
      "3000/3000 - 43s - loss: 16.6698 - mape: 16.6598 - mae: 41.9819 - val_loss: 18.9503 - val_mape: 18.9399 - val_mae: 41.3413 - lr: 3.0000e-04 - 43s/epoch - 14ms/step\n",
      "Epoch 147/1000\n"
     ]
    },
    {
     "name": "stderr",
     "output_type": "stream",
     "text": [
      "WARNING:absl:Function `_wrapped_model` contains input name(s) args_0 with unsupported characters which will be renamed to args_0_5 in the SavedModel.\n"
     ]
    },
    {
     "name": "stdout",
     "output_type": "stream",
     "text": [
      "INFO:tensorflow:Assets written to: savedmodels\\Multi_input_nosupp_final+\\assets\n"
     ]
    },
    {
     "name": "stderr",
     "output_type": "stream",
     "text": [
      "INFO:tensorflow:Assets written to: savedmodels\\Multi_input_nosupp_final+\\assets\n"
     ]
    },
    {
     "name": "stdout",
     "output_type": "stream",
     "text": [
      "3000/3000 - 44s - loss: 16.5467 - mape: 16.5365 - mae: 39.8413 - val_loss: 12.9217 - val_mape: 12.9117 - val_mae: 34.2105 - lr: 3.0000e-04 - 44s/epoch - 15ms/step\n",
      "Epoch 148/1000\n"
     ]
    },
    {
     "name": "stderr",
     "output_type": "stream",
     "text": [
      "c:\\Users\\Robin\\.conda\\envs\\tfenvironment\\lib\\site-packages\\spektral\\data\\utils.py:221: UserWarning: you are shuffling a 'MyDataset' object which is not a subclass of 'Sequence'; `shuffle` is not guaranteed to behave correctly. E.g., non-numpy array/tensor objects with view semantics may contain duplicates after shuffling.\n",
      "  np.random.shuffle(a)\n",
      "c:\\Users\\Robin\\.conda\\envs\\tfenvironment\\lib\\site-packages\\spektral\\data\\utils.py:221: UserWarning: you are shuffling a 'TestDataset' object which is not a subclass of 'Sequence'; `shuffle` is not guaranteed to behave correctly. E.g., non-numpy array/tensor objects with view semantics may contain duplicates after shuffling.\n",
      "  np.random.shuffle(a)\n"
     ]
    },
    {
     "name": "stdout",
     "output_type": "stream",
     "text": [
      "3000/3000 - 44s - loss: 16.1445 - mape: 16.1345 - mae: 43.4957 - val_loss: 13.4120 - val_mape: 13.4025 - val_mae: 34.0434 - lr: 3.0000e-04 - 44s/epoch - 15ms/step\n",
      "Epoch 149/1000\n",
      "3000/3000 - 44s - loss: 16.2488 - mape: 16.2393 - mae: 40.9884 - val_loss: 14.9053 - val_mape: 14.8956 - val_mae: 80.9435 - lr: 3.0000e-04 - 44s/epoch - 15ms/step\n",
      "Epoch 150/1000\n",
      "3000/3000 - 45s - loss: 16.4028 - mape: 16.3928 - mae: 41.2404 - val_loss: 13.5048 - val_mape: 13.4950 - val_mae: 34.9269 - lr: 3.0000e-04 - 45s/epoch - 15ms/step\n",
      "Epoch 151/1000\n",
      "3000/3000 - 46s - loss: 16.1966 - mape: 16.1867 - mae: 42.2991 - val_loss: 15.9927 - val_mape: 15.9824 - val_mae: 35.2058 - lr: 3.0000e-04 - 46s/epoch - 15ms/step\n",
      "Epoch 152/1000\n",
      "3000/3000 - 48s - loss: 16.2738 - mape: 16.2635 - mae: 42.6230 - val_loss: 14.4135 - val_mape: 14.4033 - val_mae: 39.7925 - lr: 3.0000e-04 - 48s/epoch - 16ms/step\n",
      "Epoch 153/1000\n",
      "3000/3000 - 47s - loss: 15.8584 - mape: 15.8483 - mae: 39.2915 - val_loss: 13.0035 - val_mape: 12.9937 - val_mae: 30.5270 - lr: 3.0000e-04 - 47s/epoch - 16ms/step\n",
      "Epoch 154/1000\n"
     ]
    },
    {
     "name": "stderr",
     "output_type": "stream",
     "text": [
      "WARNING:absl:Function `_wrapped_model` contains input name(s) args_0 with unsupported characters which will be renamed to args_0_5 in the SavedModel.\n"
     ]
    },
    {
     "name": "stdout",
     "output_type": "stream",
     "text": [
      "INFO:tensorflow:Assets written to: savedmodels\\Multi_input_nosupp_final+\\assets\n"
     ]
    },
    {
     "name": "stderr",
     "output_type": "stream",
     "text": [
      "INFO:tensorflow:Assets written to: savedmodels\\Multi_input_nosupp_final+\\assets\n"
     ]
    },
    {
     "name": "stdout",
     "output_type": "stream",
     "text": [
      "3000/3000 - 49s - loss: 16.0554 - mape: 16.0450 - mae: 38.5657 - val_loss: 12.4553 - val_mape: 12.4457 - val_mae: 45.7463 - lr: 3.0000e-04 - 49s/epoch - 16ms/step\n",
      "Epoch 155/1000\n"
     ]
    },
    {
     "name": "stderr",
     "output_type": "stream",
     "text": [
      "c:\\Users\\Robin\\.conda\\envs\\tfenvironment\\lib\\site-packages\\spektral\\data\\utils.py:221: UserWarning: you are shuffling a 'MyDataset' object which is not a subclass of 'Sequence'; `shuffle` is not guaranteed to behave correctly. E.g., non-numpy array/tensor objects with view semantics may contain duplicates after shuffling.\n",
      "  np.random.shuffle(a)\n",
      "c:\\Users\\Robin\\.conda\\envs\\tfenvironment\\lib\\site-packages\\spektral\\data\\utils.py:221: UserWarning: you are shuffling a 'TestDataset' object which is not a subclass of 'Sequence'; `shuffle` is not guaranteed to behave correctly. E.g., non-numpy array/tensor objects with view semantics may contain duplicates after shuffling.\n",
      "  np.random.shuffle(a)\n"
     ]
    },
    {
     "name": "stdout",
     "output_type": "stream",
     "text": [
      "3000/3000 - 48s - loss: 16.1925 - mape: 16.1826 - mae: 41.0622 - val_loss: 13.5376 - val_mape: 13.5279 - val_mae: 55.5205 - lr: 3.0000e-04 - 48s/epoch - 16ms/step\n",
      "Epoch 156/1000\n",
      "3000/3000 - 47s - loss: 16.1812 - mape: 16.1713 - mae: 42.9365 - val_loss: 15.4619 - val_mape: 15.4525 - val_mae: 35.9609 - lr: 3.0000e-04 - 47s/epoch - 16ms/step\n",
      "Epoch 157/1000\n",
      "3000/3000 - 48s - loss: 15.9485 - mape: 15.9391 - mae: 39.4480 - val_loss: 13.4200 - val_mape: 13.4103 - val_mae: 32.2939 - lr: 3.0000e-04 - 48s/epoch - 16ms/step\n",
      "Epoch 158/1000\n",
      "3000/3000 - 48s - loss: 16.1126 - mape: 16.1029 - mae: 37.8995 - val_loss: 14.2110 - val_mape: 14.2011 - val_mae: 37.4294 - lr: 3.0000e-04 - 48s/epoch - 16ms/step\n",
      "Epoch 159/1000\n",
      "3000/3000 - 47s - loss: 16.2101 - mape: 16.2005 - mae: 41.3926 - val_loss: 14.0972 - val_mape: 14.0875 - val_mae: 43.6192 - lr: 3.0000e-04 - 47s/epoch - 16ms/step\n",
      "Epoch 160/1000\n",
      "3000/3000 - 47s - loss: 16.1042 - mape: 16.0945 - mae: 40.2352 - val_loss: 13.8486 - val_mape: 13.8390 - val_mae: 40.5445 - lr: 3.0000e-04 - 47s/epoch - 16ms/step\n",
      "Epoch 161/1000\n",
      "3000/3000 - 48s - loss: 16.1949 - mape: 16.1852 - mae: 42.4379 - val_loss: 12.6898 - val_mape: 12.6801 - val_mae: 35.1447 - lr: 3.0000e-04 - 48s/epoch - 16ms/step\n",
      "Epoch 162/1000\n",
      "3000/3000 - 48s - loss: 16.4808 - mape: 16.4706 - mae: 40.2055 - val_loss: 22.6521 - val_mape: 22.6414 - val_mae: 72.7790 - lr: 3.0000e-04 - 48s/epoch - 16ms/step\n",
      "Epoch 163/1000\n",
      "3000/3000 - 47s - loss: 16.0697 - mape: 16.0588 - mae: 43.3567 - val_loss: 21.2860 - val_mape: 21.2747 - val_mae: 42.1157 - lr: 3.0000e-04 - 47s/epoch - 16ms/step\n",
      "Epoch 164/1000\n",
      "3000/3000 - 49s - loss: 15.8926 - mape: 15.8816 - mae: 41.0065 - val_loss: 13.2842 - val_mape: 13.2734 - val_mae: 37.6058 - lr: 3.0000e-04 - 49s/epoch - 16ms/step\n",
      "Epoch 165/1000\n",
      "3000/3000 - 48s - loss: 16.1280 - mape: 16.1174 - mae: 42.7995 - val_loss: 13.3419 - val_mape: 13.3315 - val_mae: 41.1885 - lr: 3.0000e-04 - 48s/epoch - 16ms/step\n",
      "Epoch 166/1000\n",
      "3000/3000 - 47s - loss: 16.0669 - mape: 16.0566 - mae: 43.3835 - val_loss: 14.4074 - val_mape: 14.3966 - val_mae: 65.1706 - lr: 3.0000e-04 - 47s/epoch - 16ms/step\n",
      "Epoch 167/1000\n",
      "3000/3000 - 47s - loss: 15.9801 - mape: 15.9692 - mae: 38.4274 - val_loss: 13.1601 - val_mape: 13.1484 - val_mae: 32.1946 - lr: 3.0000e-04 - 47s/epoch - 16ms/step\n",
      "Epoch 168/1000\n",
      "3000/3000 - 49s - loss: 16.3218 - mape: 16.3102 - mae: 40.8571 - val_loss: 13.1015 - val_mape: 13.0907 - val_mae: 32.2542 - lr: 3.0000e-04 - 49s/epoch - 16ms/step\n",
      "Epoch 169/1000\n",
      "3000/3000 - 49s - loss: 16.3568 - mape: 16.3462 - mae: 40.4829 - val_loss: 17.3916 - val_mape: 17.3810 - val_mae: 93.2831 - lr: 3.0000e-04 - 49s/epoch - 16ms/step\n",
      "Epoch 170/1000\n",
      "3000/3000 - 49s - loss: 16.1884 - mape: 16.1774 - mae: 42.9478 - val_loss: 14.1003 - val_mape: 14.0897 - val_mae: 38.9089 - lr: 3.0000e-04 - 49s/epoch - 16ms/step\n",
      "Epoch 171/1000\n",
      "3000/3000 - 44s - loss: 16.2639 - mape: 16.2527 - mae: 43.6838 - val_loss: 16.3085 - val_mape: 16.2972 - val_mae: 62.4729 - lr: 3.0000e-04 - 44s/epoch - 15ms/step\n",
      "Epoch 172/1000\n",
      "3000/3000 - 47s - loss: 16.0811 - mape: 16.0704 - mae: 42.1028 - val_loss: 13.3710 - val_mape: 13.3611 - val_mae: 31.2022 - lr: 3.0000e-04 - 47s/epoch - 16ms/step\n",
      "Epoch 173/1000\n",
      "3000/3000 - 48s - loss: 15.9594 - mape: 15.9496 - mae: 38.7906 - val_loss: 15.2024 - val_mape: 15.1923 - val_mae: 32.8304 - lr: 3.0000e-04 - 48s/epoch - 16ms/step\n",
      "Epoch 174/1000\n",
      "3000/3000 - 48s - loss: 16.2197 - mape: 16.2093 - mae: 39.6386 - val_loss: 16.5467 - val_mape: 16.5365 - val_mae: 61.4368 - lr: 3.0000e-04 - 48s/epoch - 16ms/step\n",
      "Epoch 175/1000\n",
      "3000/3000 - 50s - loss: 16.0984 - mape: 16.0882 - mae: 43.8781 - val_loss: 14.2930 - val_mape: 14.2825 - val_mae: 31.6414 - lr: 3.0000e-04 - 50s/epoch - 17ms/step\n",
      "Epoch 176/1000\n",
      "3000/3000 - 50s - loss: 16.2667 - mape: 16.2563 - mae: 40.0753 - val_loss: 13.9289 - val_mape: 13.9185 - val_mae: 40.2225 - lr: 3.0000e-04 - 50s/epoch - 17ms/step\n",
      "Epoch 177/1000\n",
      "3000/3000 - 49s - loss: 16.2513 - mape: 16.2406 - mae: 46.7184 - val_loss: 13.8359 - val_mape: 13.8256 - val_mae: 32.8586 - lr: 3.0000e-04 - 49s/epoch - 16ms/step\n",
      "Epoch 178/1000\n",
      "3000/3000 - 47s - loss: 16.1722 - mape: 16.1615 - mae: 42.3216 - val_loss: 13.1911 - val_mape: 13.1803 - val_mae: 37.4214 - lr: 3.0000e-04 - 47s/epoch - 16ms/step\n",
      "Epoch 179/1000\n",
      "\n",
      "Epoch 179: ReduceLROnPlateau reducing learning rate to 9.000000427477062e-05.\n",
      "3000/3000 - 48s - loss: 16.1194 - mape: 16.1087 - mae: 40.7711 - val_loss: 15.2199 - val_mape: 15.2097 - val_mae: 43.1849 - lr: 3.0000e-04 - 48s/epoch - 16ms/step\n",
      "Epoch 180/1000\n",
      "3000/3000 - 47s - loss: 14.3845 - mape: 14.3741 - mae: 38.9186 - val_loss: 13.3999 - val_mape: 13.3895 - val_mae: 38.0863 - lr: 9.0000e-05 - 47s/epoch - 16ms/step\n",
      "Epoch 181/1000\n",
      "3000/3000 - 49s - loss: 14.0646 - mape: 14.0541 - mae: 34.5156 - val_loss: 12.8207 - val_mape: 12.8101 - val_mae: 31.8133 - lr: 9.0000e-05 - 49s/epoch - 16ms/step\n",
      "Epoch 182/1000\n",
      "3000/3000 - 50s - loss: 14.1817 - mape: 14.1711 - mae: 33.7745 - val_loss: 12.9700 - val_mape: 12.9594 - val_mae: 50.2463 - lr: 9.0000e-05 - 50s/epoch - 17ms/step\n",
      "Epoch 183/1000\n",
      "3000/3000 - 50s - loss: 14.1502 - mape: 14.1397 - mae: 36.9133 - val_loss: 12.6776 - val_mape: 12.6671 - val_mae: 31.4821 - lr: 9.0000e-05 - 50s/epoch - 17ms/step\n",
      "Epoch 184/1000\n",
      "3000/3000 - 49s - loss: 13.9551 - mape: 13.9445 - mae: 35.1147 - val_loss: 12.4955 - val_mape: 12.4849 - val_mae: 30.0317 - lr: 9.0000e-05 - 49s/epoch - 16ms/step\n",
      "Epoch 185/1000\n",
      "3000/3000 - 48s - loss: 14.2574 - mape: 14.2470 - mae: 34.9216 - val_loss: 13.4173 - val_mape: 13.4068 - val_mae: 28.6701 - lr: 9.0000e-05 - 48s/epoch - 16ms/step\n",
      "Epoch 186/1000\n",
      "3000/3000 - 48s - loss: 14.1106 - mape: 14.1002 - mae: 35.6329 - val_loss: 14.4264 - val_mape: 14.4158 - val_mae: 47.9081 - lr: 9.0000e-05 - 48s/epoch - 16ms/step\n",
      "Epoch 187/1000\n",
      "3000/3000 - 47s - loss: 13.9805 - mape: 13.9699 - mae: 37.5826 - val_loss: 12.6774 - val_mape: 12.6669 - val_mae: 31.7293 - lr: 9.0000e-05 - 47s/epoch - 16ms/step\n",
      "Epoch 188/1000\n",
      "3000/3000 - 48s - loss: 14.0403 - mape: 14.0298 - mae: 36.4026 - val_loss: 12.5194 - val_mape: 12.5088 - val_mae: 37.9663 - lr: 9.0000e-05 - 48s/epoch - 16ms/step\n",
      "Epoch 189/1000\n",
      "3000/3000 - 52s - loss: 13.8908 - mape: 13.8802 - mae: 34.4529 - val_loss: 12.6320 - val_mape: 12.6213 - val_mae: 29.3332 - lr: 9.0000e-05 - 52s/epoch - 17ms/step\n",
      "Epoch 190/1000\n",
      "3000/3000 - 53s - loss: 14.4590 - mape: 14.4482 - mae: 38.3056 - val_loss: 13.6399 - val_mape: 13.6291 - val_mae: 37.4305 - lr: 9.0000e-05 - 53s/epoch - 18ms/step\n",
      "Epoch 191/1000\n"
     ]
    },
    {
     "name": "stderr",
     "output_type": "stream",
     "text": [
      "WARNING:absl:Function `_wrapped_model` contains input name(s) args_0 with unsupported characters which will be renamed to args_0_5 in the SavedModel.\n"
     ]
    },
    {
     "name": "stdout",
     "output_type": "stream",
     "text": [
      "INFO:tensorflow:Assets written to: savedmodels\\Multi_input_nosupp_final+\\assets\n"
     ]
    },
    {
     "name": "stderr",
     "output_type": "stream",
     "text": [
      "INFO:tensorflow:Assets written to: savedmodels\\Multi_input_nosupp_final+\\assets\n"
     ]
    },
    {
     "name": "stdout",
     "output_type": "stream",
     "text": [
      "3000/3000 - 49s - loss: 13.9369 - mape: 13.9261 - mae: 37.0173 - val_loss: 12.3210 - val_mape: 12.3100 - val_mae: 27.9431 - lr: 9.0000e-05 - 49s/epoch - 16ms/step\n",
      "Epoch 192/1000\n"
     ]
    },
    {
     "name": "stderr",
     "output_type": "stream",
     "text": [
      "c:\\Users\\Robin\\.conda\\envs\\tfenvironment\\lib\\site-packages\\spektral\\data\\utils.py:221: UserWarning: you are shuffling a 'MyDataset' object which is not a subclass of 'Sequence'; `shuffle` is not guaranteed to behave correctly. E.g., non-numpy array/tensor objects with view semantics may contain duplicates after shuffling.\n",
      "  np.random.shuffle(a)\n",
      "c:\\Users\\Robin\\.conda\\envs\\tfenvironment\\lib\\site-packages\\spektral\\data\\utils.py:221: UserWarning: you are shuffling a 'TestDataset' object which is not a subclass of 'Sequence'; `shuffle` is not guaranteed to behave correctly. E.g., non-numpy array/tensor objects with view semantics may contain duplicates after shuffling.\n",
      "  np.random.shuffle(a)\n"
     ]
    },
    {
     "name": "stdout",
     "output_type": "stream",
     "text": [
      "3000/3000 - 45s - loss: 13.8824 - mape: 13.8713 - mae: 35.4350 - val_loss: 12.5789 - val_mape: 12.5678 - val_mae: 41.8050 - lr: 9.0000e-05 - 45s/epoch - 15ms/step\n",
      "Epoch 193/1000\n",
      "3000/3000 - 45s - loss: 13.7391 - mape: 13.7281 - mae: 34.3261 - val_loss: 13.7596 - val_mape: 13.7486 - val_mae: 31.8483 - lr: 9.0000e-05 - 45s/epoch - 15ms/step\n",
      "Epoch 194/1000\n",
      "3000/3000 - 46s - loss: 13.7046 - mape: 13.6937 - mae: 33.6125 - val_loss: 13.5216 - val_mape: 13.5105 - val_mae: 29.0306 - lr: 9.0000e-05 - 46s/epoch - 15ms/step\n",
      "Epoch 195/1000\n",
      "3000/3000 - 48s - loss: 13.6052 - mape: 13.5940 - mae: 33.9426 - val_loss: 14.0667 - val_mape: 14.0554 - val_mae: 36.4296 - lr: 9.0000e-05 - 48s/epoch - 16ms/step\n",
      "Epoch 196/1000\n",
      "3000/3000 - 49s - loss: 14.0166 - mape: 14.0054 - mae: 35.8567 - val_loss: 13.9059 - val_mape: 13.8945 - val_mae: 36.9931 - lr: 9.0000e-05 - 49s/epoch - 16ms/step\n",
      "Epoch 197/1000\n",
      "3000/3000 - 44s - loss: 14.1181 - mape: 14.1067 - mae: 38.3117 - val_loss: 13.8046 - val_mape: 13.7931 - val_mae: 30.7322 - lr: 9.0000e-05 - 44s/epoch - 15ms/step\n",
      "Epoch 198/1000\n",
      "3000/3000 - 44s - loss: 14.0720 - mape: 14.0606 - mae: 36.9218 - val_loss: 12.9401 - val_mape: 12.9289 - val_mae: 33.1397 - lr: 9.0000e-05 - 44s/epoch - 15ms/step\n",
      "Epoch 199/1000\n",
      "3000/3000 - 46s - loss: 14.0008 - mape: 13.9895 - mae: 34.5657 - val_loss: 12.4880 - val_mape: 12.4767 - val_mae: 28.6698 - lr: 9.0000e-05 - 46s/epoch - 15ms/step\n",
      "Epoch 200/1000\n",
      "3000/3000 - 44s - loss: 13.8165 - mape: 13.8051 - mae: 34.3083 - val_loss: 12.6567 - val_mape: 12.6451 - val_mae: 31.8462 - lr: 9.0000e-05 - 44s/epoch - 15ms/step\n",
      "Epoch 201/1000\n"
     ]
    },
    {
     "name": "stderr",
     "output_type": "stream",
     "text": [
      "WARNING:absl:Function `_wrapped_model` contains input name(s) args_0 with unsupported characters which will be renamed to args_0_5 in the SavedModel.\n"
     ]
    },
    {
     "name": "stdout",
     "output_type": "stream",
     "text": [
      "INFO:tensorflow:Assets written to: savedmodels\\Multi_input_nosupp_final+\\assets\n"
     ]
    },
    {
     "name": "stderr",
     "output_type": "stream",
     "text": [
      "INFO:tensorflow:Assets written to: savedmodels\\Multi_input_nosupp_final+\\assets\n"
     ]
    },
    {
     "name": "stdout",
     "output_type": "stream",
     "text": [
      "3000/3000 - 48s - loss: 14.0821 - mape: 14.0705 - mae: 36.8645 - val_loss: 12.2981 - val_mape: 12.2864 - val_mae: 28.9595 - lr: 9.0000e-05 - 48s/epoch - 16ms/step\n",
      "Epoch 202/1000\n"
     ]
    },
    {
     "name": "stderr",
     "output_type": "stream",
     "text": [
      "c:\\Users\\Robin\\.conda\\envs\\tfenvironment\\lib\\site-packages\\spektral\\data\\utils.py:221: UserWarning: you are shuffling a 'MyDataset' object which is not a subclass of 'Sequence'; `shuffle` is not guaranteed to behave correctly. E.g., non-numpy array/tensor objects with view semantics may contain duplicates after shuffling.\n",
      "  np.random.shuffle(a)\n",
      "c:\\Users\\Robin\\.conda\\envs\\tfenvironment\\lib\\site-packages\\spektral\\data\\utils.py:221: UserWarning: you are shuffling a 'TestDataset' object which is not a subclass of 'Sequence'; `shuffle` is not guaranteed to behave correctly. E.g., non-numpy array/tensor objects with view semantics may contain duplicates after shuffling.\n",
      "  np.random.shuffle(a)\n"
     ]
    },
    {
     "name": "stdout",
     "output_type": "stream",
     "text": [
      "3000/3000 - 48s - loss: 13.9481 - mape: 13.9364 - mae: 33.9675 - val_loss: 12.7567 - val_mape: 12.7448 - val_mae: 29.0899 - lr: 9.0000e-05 - 48s/epoch - 16ms/step\n",
      "Epoch 203/1000\n",
      "3000/3000 - 45s - loss: 13.6573 - mape: 13.6454 - mae: 34.9470 - val_loss: 14.3818 - val_mape: 14.3700 - val_mae: 42.8844 - lr: 9.0000e-05 - 45s/epoch - 15ms/step\n",
      "Epoch 204/1000\n",
      "3000/3000 - 44s - loss: 13.8003 - mape: 13.7885 - mae: 34.0516 - val_loss: 12.8024 - val_mape: 12.7907 - val_mae: 35.8013 - lr: 9.0000e-05 - 44s/epoch - 15ms/step\n",
      "Epoch 205/1000\n",
      "3000/3000 - 43s - loss: 13.7597 - mape: 13.7479 - mae: 35.1372 - val_loss: 13.0044 - val_mape: 12.9926 - val_mae: 28.6006 - lr: 9.0000e-05 - 43s/epoch - 14ms/step\n",
      "Epoch 206/1000\n",
      "3000/3000 - 43s - loss: 13.7608 - mape: 13.7490 - mae: 33.2935 - val_loss: 13.3006 - val_mape: 13.2888 - val_mae: 31.8066 - lr: 9.0000e-05 - 43s/epoch - 14ms/step\n",
      "Epoch 207/1000\n",
      "3000/3000 - 46s - loss: 13.7166 - mape: 13.7047 - mae: 31.7417 - val_loss: 14.9662 - val_mape: 14.9542 - val_mae: 31.4308 - lr: 9.0000e-05 - 46s/epoch - 15ms/step\n",
      "Epoch 208/1000\n",
      "3000/3000 - 47s - loss: 13.4452 - mape: 13.4332 - mae: 32.1457 - val_loss: 13.6282 - val_mape: 13.6161 - val_mae: 30.4417 - lr: 9.0000e-05 - 47s/epoch - 16ms/step\n",
      "Epoch 209/1000\n",
      "3000/3000 - 47s - loss: 13.7240 - mape: 13.7118 - mae: 31.5082 - val_loss: 17.8161 - val_mape: 17.8038 - val_mae: 33.2651 - lr: 9.0000e-05 - 47s/epoch - 16ms/step\n",
      "Epoch 210/1000\n",
      "3000/3000 - 48s - loss: 13.4747 - mape: 13.4625 - mae: 33.5126 - val_loss: 13.1886 - val_mape: 13.1763 - val_mae: 40.3025 - lr: 9.0000e-05 - 48s/epoch - 16ms/step\n",
      "Epoch 211/1000\n",
      "3000/3000 - 46s - loss: 14.0259 - mape: 14.0136 - mae: 35.1805 - val_loss: 12.5537 - val_mape: 12.5414 - val_mae: 27.2236 - lr: 9.0000e-05 - 46s/epoch - 15ms/step\n",
      "Epoch 212/1000\n",
      "3000/3000 - 43s - loss: 13.7206 - mape: 13.7083 - mae: 33.0433 - val_loss: 15.7559 - val_mape: 15.7436 - val_mae: 30.6948 - lr: 9.0000e-05 - 43s/epoch - 14ms/step\n",
      "Epoch 213/1000\n",
      "3000/3000 - 46s - loss: 13.6768 - mape: 13.6644 - mae: 33.0891 - val_loss: 12.3911 - val_mape: 12.3785 - val_mae: 27.5317 - lr: 9.0000e-05 - 46s/epoch - 15ms/step\n",
      "Epoch 214/1000\n",
      "3000/3000 - 47s - loss: 13.5482 - mape: 13.5357 - mae: 33.7666 - val_loss: 13.1804 - val_mape: 13.1678 - val_mae: 46.3563 - lr: 9.0000e-05 - 47s/epoch - 16ms/step\n",
      "Epoch 215/1000\n",
      "3000/3000 - 47s - loss: 13.6757 - mape: 13.6631 - mae: 35.6941 - val_loss: 13.4057 - val_mape: 13.3932 - val_mae: 40.9607 - lr: 9.0000e-05 - 47s/epoch - 16ms/step\n",
      "Epoch 216/1000\n",
      "3000/3000 - 47s - loss: 13.9104 - mape: 13.8978 - mae: 35.7472 - val_loss: 14.0911 - val_mape: 14.0786 - val_mae: 38.1957 - lr: 9.0000e-05 - 47s/epoch - 16ms/step\n",
      "Epoch 217/1000\n",
      "3000/3000 - 48s - loss: 13.6754 - mape: 13.6627 - mae: 33.3862 - val_loss: 12.6331 - val_mape: 12.6205 - val_mae: 27.6217 - lr: 9.0000e-05 - 48s/epoch - 16ms/step\n",
      "Epoch 218/1000\n",
      "3000/3000 - 48s - loss: 13.4234 - mape: 13.4107 - mae: 34.4028 - val_loss: 12.4587 - val_mape: 12.4460 - val_mae: 29.5803 - lr: 9.0000e-05 - 48s/epoch - 16ms/step\n",
      "Epoch 219/1000\n",
      "3000/3000 - 46s - loss: 13.6905 - mape: 13.6779 - mae: 33.0006 - val_loss: 12.4421 - val_mape: 12.4295 - val_mae: 26.9763 - lr: 9.0000e-05 - 46s/epoch - 15ms/step\n",
      "Epoch 220/1000\n",
      "3000/3000 - 45s - loss: 13.5886 - mape: 13.5761 - mae: 34.9519 - val_loss: 12.9699 - val_mape: 12.9574 - val_mae: 51.4940 - lr: 9.0000e-05 - 45s/epoch - 15ms/step\n",
      "Epoch 221/1000\n",
      "3000/3000 - 44s - loss: 13.6028 - mape: 13.5904 - mae: 32.6243 - val_loss: 12.8884 - val_mape: 12.8760 - val_mae: 28.5283 - lr: 9.0000e-05 - 44s/epoch - 15ms/step\n",
      "Epoch 222/1000\n",
      "3000/3000 - 47s - loss: 13.6247 - mape: 13.6125 - mae: 36.4759 - val_loss: 14.5685 - val_mape: 14.5561 - val_mae: 42.8691 - lr: 9.0000e-05 - 47s/epoch - 16ms/step\n",
      "Epoch 223/1000\n",
      "3000/3000 - 46s - loss: 13.7693 - mape: 13.7567 - mae: 33.2903 - val_loss: 13.2847 - val_mape: 13.2719 - val_mae: 42.6431 - lr: 9.0000e-05 - 46s/epoch - 15ms/step\n",
      "Epoch 224/1000\n",
      "3000/3000 - 47s - loss: 13.7970 - mape: 13.7844 - mae: 34.8152 - val_loss: 12.8475 - val_mape: 12.8349 - val_mae: 29.8176 - lr: 9.0000e-05 - 47s/epoch - 16ms/step\n",
      "Epoch 225/1000\n",
      "3000/3000 - 46s - loss: 13.6449 - mape: 13.6323 - mae: 37.2818 - val_loss: 12.5415 - val_mape: 12.5287 - val_mae: 28.5163 - lr: 9.0000e-05 - 46s/epoch - 15ms/step\n",
      "Epoch 226/1000\n",
      "\n",
      "Epoch 226: ReduceLROnPlateau reducing learning rate to 2.700000040931627e-05.\n",
      "3000/3000 - 46s - loss: 13.6869 - mape: 13.6741 - mae: 34.3718 - val_loss: 13.5503 - val_mape: 13.5377 - val_mae: 33.8197 - lr: 9.0000e-05 - 46s/epoch - 15ms/step\n",
      "Epoch 227/1000\n",
      "3000/3000 - 45s - loss: 13.0799 - mape: 13.0673 - mae: 34.1179 - val_loss: 12.3368 - val_mape: 12.3242 - val_mae: 28.2453 - lr: 2.7000e-05 - 45s/epoch - 15ms/step\n",
      "Epoch 228/1000\n",
      "3000/3000 - 45s - loss: 13.1691 - mape: 13.1566 - mae: 35.1932 - val_loss: 12.3176 - val_mape: 12.3050 - val_mae: 30.8907 - lr: 2.7000e-05 - 45s/epoch - 15ms/step\n",
      "Epoch 229/1000\n",
      "3000/3000 - 46s - loss: 12.9840 - mape: 12.9714 - mae: 32.2830 - val_loss: 12.3090 - val_mape: 12.2963 - val_mae: 27.0086 - lr: 2.7000e-05 - 46s/epoch - 15ms/step\n",
      "Epoch 230/1000\n",
      "3000/3000 - 46s - loss: 13.0284 - mape: 13.0157 - mae: 34.1075 - val_loss: 12.4875 - val_mape: 12.4748 - val_mae: 32.7287 - lr: 2.7000e-05 - 46s/epoch - 15ms/step\n",
      "Epoch 231/1000\n",
      "3000/3000 - 49s - loss: 13.0260 - mape: 13.0132 - mae: 30.6052 - val_loss: 12.7085 - val_mape: 12.6956 - val_mae: 26.7298 - lr: 2.7000e-05 - 49s/epoch - 16ms/step\n",
      "Epoch 232/1000\n",
      "3000/3000 - 48s - loss: 13.1917 - mape: 13.1789 - mae: 32.7145 - val_loss: 12.3431 - val_mape: 12.3303 - val_mae: 27.7376 - lr: 2.7000e-05 - 48s/epoch - 16ms/step\n",
      "Epoch 233/1000\n",
      "3000/3000 - 47s - loss: 12.8470 - mape: 12.8343 - mae: 30.2599 - val_loss: 12.4515 - val_mape: 12.4387 - val_mae: 28.8710 - lr: 2.7000e-05 - 47s/epoch - 16ms/step\n",
      "Epoch 234/1000\n"
     ]
    },
    {
     "name": "stderr",
     "output_type": "stream",
     "text": [
      "WARNING:absl:Function `_wrapped_model` contains input name(s) args_0 with unsupported characters which will be renamed to args_0_5 in the SavedModel.\n"
     ]
    },
    {
     "name": "stdout",
     "output_type": "stream",
     "text": [
      "INFO:tensorflow:Assets written to: savedmodels\\Multi_input_nosupp_final+\\assets\n"
     ]
    },
    {
     "name": "stderr",
     "output_type": "stream",
     "text": [
      "INFO:tensorflow:Assets written to: savedmodels\\Multi_input_nosupp_final+\\assets\n"
     ]
    },
    {
     "name": "stdout",
     "output_type": "stream",
     "text": [
      "3000/3000 - 45s - loss: 13.1818 - mape: 13.1690 - mae: 35.6153 - val_loss: 12.2726 - val_mape: 12.2598 - val_mae: 27.8001 - lr: 2.7000e-05 - 45s/epoch - 15ms/step\n",
      "Epoch 235/1000\n"
     ]
    },
    {
     "name": "stderr",
     "output_type": "stream",
     "text": [
      "c:\\Users\\Robin\\.conda\\envs\\tfenvironment\\lib\\site-packages\\spektral\\data\\utils.py:221: UserWarning: you are shuffling a 'MyDataset' object which is not a subclass of 'Sequence'; `shuffle` is not guaranteed to behave correctly. E.g., non-numpy array/tensor objects with view semantics may contain duplicates after shuffling.\n",
      "  np.random.shuffle(a)\n",
      "c:\\Users\\Robin\\.conda\\envs\\tfenvironment\\lib\\site-packages\\spektral\\data\\utils.py:221: UserWarning: you are shuffling a 'TestDataset' object which is not a subclass of 'Sequence'; `shuffle` is not guaranteed to behave correctly. E.g., non-numpy array/tensor objects with view semantics may contain duplicates after shuffling.\n",
      "  np.random.shuffle(a)\n"
     ]
    },
    {
     "name": "stdout",
     "output_type": "stream",
     "text": [
      "3000/3000 - 47s - loss: 13.1500 - mape: 13.1371 - mae: 32.6780 - val_loss: 12.6729 - val_mape: 12.6600 - val_mae: 30.0321 - lr: 2.7000e-05 - 47s/epoch - 16ms/step\n",
      "Epoch 236/1000\n",
      "3000/3000 - 49s - loss: 13.0333 - mape: 13.0204 - mae: 31.4158 - val_loss: 12.6874 - val_mape: 12.6746 - val_mae: 36.3134 - lr: 2.7000e-05 - 49s/epoch - 16ms/step\n",
      "Epoch 237/1000\n",
      "3000/3000 - 50s - loss: 13.0571 - mape: 13.0442 - mae: 36.4857 - val_loss: 12.3703 - val_mape: 12.3574 - val_mae: 29.6767 - lr: 2.7000e-05 - 50s/epoch - 17ms/step\n",
      "Epoch 238/1000\n",
      "3000/3000 - 49s - loss: 13.0548 - mape: 13.0419 - mae: 32.8145 - val_loss: 12.5070 - val_mape: 12.4940 - val_mae: 32.9617 - lr: 2.7000e-05 - 49s/epoch - 16ms/step\n",
      "Epoch 239/1000\n",
      "3000/3000 - 45s - loss: 12.9650 - mape: 12.9520 - mae: 32.9674 - val_loss: 12.8423 - val_mape: 12.8293 - val_mae: 27.2141 - lr: 2.7000e-05 - 45s/epoch - 15ms/step\n",
      "Epoch 240/1000\n",
      "3000/3000 - 48s - loss: 13.0316 - mape: 13.0186 - mae: 32.1411 - val_loss: 12.6619 - val_mape: 12.6489 - val_mae: 28.4024 - lr: 2.7000e-05 - 48s/epoch - 16ms/step\n",
      "Epoch 241/1000\n",
      "3000/3000 - 45s - loss: 13.1212 - mape: 13.1081 - mae: 33.3152 - val_loss: 12.3598 - val_mape: 12.3468 - val_mae: 28.9204 - lr: 2.7000e-05 - 45s/epoch - 15ms/step\n",
      "Epoch 242/1000\n",
      "3000/3000 - 46s - loss: 12.9166 - mape: 12.9036 - mae: 32.7468 - val_loss: 12.8658 - val_mape: 12.8527 - val_mae: 29.1687 - lr: 2.7000e-05 - 46s/epoch - 15ms/step\n",
      "Epoch 243/1000\n",
      "3000/3000 - 47s - loss: 13.0902 - mape: 13.0772 - mae: 32.5228 - val_loss: 12.6989 - val_mape: 12.6858 - val_mae: 27.6177 - lr: 2.7000e-05 - 47s/epoch - 16ms/step\n",
      "Epoch 244/1000\n",
      "3000/3000 - 47s - loss: 13.2193 - mape: 13.2062 - mae: 32.1902 - val_loss: 12.6600 - val_mape: 12.6469 - val_mae: 28.9047 - lr: 2.7000e-05 - 47s/epoch - 16ms/step\n",
      "Epoch 245/1000\n",
      "3000/3000 - 47s - loss: 13.2094 - mape: 13.1963 - mae: 35.0508 - val_loss: 12.6096 - val_mape: 12.5964 - val_mae: 28.0005 - lr: 2.7000e-05 - 47s/epoch - 16ms/step\n",
      "Epoch 246/1000\n",
      "3000/3000 - 47s - loss: 12.9899 - mape: 12.9768 - mae: 33.0550 - val_loss: 12.2769 - val_mape: 12.2638 - val_mae: 26.7614 - lr: 2.7000e-05 - 47s/epoch - 16ms/step\n",
      "Epoch 247/1000\n",
      "3000/3000 - 47s - loss: 13.1012 - mape: 13.0881 - mae: 34.4833 - val_loss: 12.4970 - val_mape: 12.4839 - val_mae: 27.6882 - lr: 2.7000e-05 - 47s/epoch - 16ms/step\n",
      "Epoch 248/1000\n",
      "3000/3000 - 45s - loss: 13.1504 - mape: 13.1373 - mae: 32.5174 - val_loss: 13.1558 - val_mape: 13.1427 - val_mae: 29.8295 - lr: 2.7000e-05 - 45s/epoch - 15ms/step\n",
      "Epoch 249/1000\n",
      "3000/3000 - 46s - loss: 12.8930 - mape: 12.8798 - mae: 31.8588 - val_loss: 12.5696 - val_mape: 12.5564 - val_mae: 30.9506 - lr: 2.7000e-05 - 46s/epoch - 15ms/step\n",
      "Epoch 250/1000\n",
      "3000/3000 - 46s - loss: 12.9771 - mape: 12.9639 - mae: 34.0871 - val_loss: 12.3914 - val_mape: 12.3781 - val_mae: 30.1143 - lr: 2.7000e-05 - 46s/epoch - 15ms/step\n",
      "Epoch 251/1000\n",
      "3000/3000 - 46s - loss: 12.8779 - mape: 12.8646 - mae: 33.4476 - val_loss: 12.3337 - val_mape: 12.3204 - val_mae: 26.3618 - lr: 2.7000e-05 - 46s/epoch - 15ms/step\n",
      "Epoch 252/1000\n",
      "3000/3000 - 47s - loss: 13.2037 - mape: 13.1904 - mae: 34.9760 - val_loss: 12.4617 - val_mape: 12.4483 - val_mae: 30.0242 - lr: 2.7000e-05 - 47s/epoch - 16ms/step\n",
      "Epoch 253/1000\n",
      "3000/3000 - 48s - loss: 13.0517 - mape: 13.0384 - mae: 35.6223 - val_loss: 12.8523 - val_mape: 12.8390 - val_mae: 26.3595 - lr: 2.7000e-05 - 48s/epoch - 16ms/step\n",
      "Epoch 254/1000\n",
      "3000/3000 - 47s - loss: 12.8441 - mape: 12.8308 - mae: 31.5654 - val_loss: 12.4557 - val_mape: 12.4424 - val_mae: 30.3010 - lr: 2.7000e-05 - 47s/epoch - 16ms/step\n",
      "Epoch 255/1000\n",
      "3000/3000 - 48s - loss: 13.0256 - mape: 13.0123 - mae: 31.6370 - val_loss: 12.4707 - val_mape: 12.4574 - val_mae: 29.3651 - lr: 2.7000e-05 - 48s/epoch - 16ms/step\n",
      "Epoch 256/1000\n",
      "3000/3000 - 48s - loss: 12.9145 - mape: 12.9012 - mae: 32.8415 - val_loss: 12.5930 - val_mape: 12.5796 - val_mae: 27.2213 - lr: 2.7000e-05 - 48s/epoch - 16ms/step\n",
      "Epoch 257/1000\n",
      "3000/3000 - 46s - loss: 12.9671 - mape: 12.9537 - mae: 33.9919 - val_loss: 12.3861 - val_mape: 12.3727 - val_mae: 28.8231 - lr: 2.7000e-05 - 46s/epoch - 15ms/step\n",
      "Epoch 258/1000\n",
      "3000/3000 - 48s - loss: 12.8362 - mape: 12.8228 - mae: 33.8778 - val_loss: 12.3147 - val_mape: 12.3013 - val_mae: 28.2231 - lr: 2.7000e-05 - 48s/epoch - 16ms/step\n",
      "Epoch 259/1000\n",
      "\n",
      "Epoch 259: ReduceLROnPlateau reducing learning rate to 8.100000013655517e-06.\n",
      "3000/3000 - 45s - loss: 13.1877 - mape: 13.1744 - mae: 33.2825 - val_loss: 12.6276 - val_mape: 12.6142 - val_mae: 26.8637 - lr: 2.7000e-05 - 45s/epoch - 15ms/step\n",
      "Epoch 260/1000\n"
     ]
    },
    {
     "name": "stderr",
     "output_type": "stream",
     "text": [
      "WARNING:absl:Function `_wrapped_model` contains input name(s) args_0 with unsupported characters which will be renamed to args_0_5 in the SavedModel.\n"
     ]
    },
    {
     "name": "stdout",
     "output_type": "stream",
     "text": [
      "INFO:tensorflow:Assets written to: savedmodels\\Multi_input_nosupp_final+\\assets\n"
     ]
    },
    {
     "name": "stderr",
     "output_type": "stream",
     "text": [
      "INFO:tensorflow:Assets written to: savedmodels\\Multi_input_nosupp_final+\\assets\n"
     ]
    },
    {
     "name": "stdout",
     "output_type": "stream",
     "text": [
      "3000/3000 - 46s - loss: 12.8597 - mape: 12.8463 - mae: 34.0561 - val_loss: 12.2720 - val_mape: 12.2586 - val_mae: 27.8923 - lr: 8.1000e-06 - 46s/epoch - 15ms/step\n",
      "Epoch 261/1000\n"
     ]
    },
    {
     "name": "stderr",
     "output_type": "stream",
     "text": [
      "c:\\Users\\Robin\\.conda\\envs\\tfenvironment\\lib\\site-packages\\spektral\\data\\utils.py:221: UserWarning: you are shuffling a 'MyDataset' object which is not a subclass of 'Sequence'; `shuffle` is not guaranteed to behave correctly. E.g., non-numpy array/tensor objects with view semantics may contain duplicates after shuffling.\n",
      "  np.random.shuffle(a)\n",
      "c:\\Users\\Robin\\.conda\\envs\\tfenvironment\\lib\\site-packages\\spektral\\data\\utils.py:221: UserWarning: you are shuffling a 'TestDataset' object which is not a subclass of 'Sequence'; `shuffle` is not guaranteed to behave correctly. E.g., non-numpy array/tensor objects with view semantics may contain duplicates after shuffling.\n",
      "  np.random.shuffle(a)\n",
      "WARNING:absl:Function `_wrapped_model` contains input name(s) args_0 with unsupported characters which will be renamed to args_0_5 in the SavedModel.\n"
     ]
    },
    {
     "name": "stdout",
     "output_type": "stream",
     "text": [
      "INFO:tensorflow:Assets written to: savedmodels\\Multi_input_nosupp_final+\\assets\n"
     ]
    },
    {
     "name": "stderr",
     "output_type": "stream",
     "text": [
      "INFO:tensorflow:Assets written to: savedmodels\\Multi_input_nosupp_final+\\assets\n"
     ]
    },
    {
     "name": "stdout",
     "output_type": "stream",
     "text": [
      "3000/3000 - 48s - loss: 12.8944 - mape: 12.8810 - mae: 33.4589 - val_loss: 12.2504 - val_mape: 12.2370 - val_mae: 27.3908 - lr: 8.1000e-06 - 48s/epoch - 16ms/step\n",
      "Epoch 262/1000\n"
     ]
    },
    {
     "name": "stderr",
     "output_type": "stream",
     "text": [
      "c:\\Users\\Robin\\.conda\\envs\\tfenvironment\\lib\\site-packages\\spektral\\data\\utils.py:221: UserWarning: you are shuffling a 'MyDataset' object which is not a subclass of 'Sequence'; `shuffle` is not guaranteed to behave correctly. E.g., non-numpy array/tensor objects with view semantics may contain duplicates after shuffling.\n",
      "  np.random.shuffle(a)\n",
      "c:\\Users\\Robin\\.conda\\envs\\tfenvironment\\lib\\site-packages\\spektral\\data\\utils.py:221: UserWarning: you are shuffling a 'TestDataset' object which is not a subclass of 'Sequence'; `shuffle` is not guaranteed to behave correctly. E.g., non-numpy array/tensor objects with view semantics may contain duplicates after shuffling.\n",
      "  np.random.shuffle(a)\n"
     ]
    },
    {
     "name": "stdout",
     "output_type": "stream",
     "text": [
      "3000/3000 - 45s - loss: 12.6277 - mape: 12.6143 - mae: 32.2894 - val_loss: 12.2782 - val_mape: 12.2648 - val_mae: 27.1677 - lr: 8.1000e-06 - 45s/epoch - 15ms/step\n",
      "Epoch 263/1000\n",
      "3000/3000 - 48s - loss: 12.8036 - mape: 12.7902 - mae: 29.2297 - val_loss: 12.3331 - val_mape: 12.3197 - val_mae: 31.3747 - lr: 8.1000e-06 - 48s/epoch - 16ms/step\n",
      "Epoch 264/1000\n",
      "3000/3000 - 47s - loss: 12.7380 - mape: 12.7245 - mae: 31.6135 - val_loss: 12.3591 - val_mape: 12.3456 - val_mae: 27.8652 - lr: 8.1000e-06 - 47s/epoch - 16ms/step\n",
      "Epoch 265/1000\n",
      "3000/3000 - 46s - loss: 12.7588 - mape: 12.7454 - mae: 33.1515 - val_loss: 12.2684 - val_mape: 12.2550 - val_mae: 26.6264 - lr: 8.1000e-06 - 46s/epoch - 15ms/step\n",
      "Epoch 266/1000\n",
      "3000/3000 - 46s - loss: 12.7899 - mape: 12.7765 - mae: 30.7557 - val_loss: 12.2711 - val_mape: 12.2577 - val_mae: 29.0127 - lr: 8.1000e-06 - 46s/epoch - 15ms/step\n",
      "Epoch 267/1000\n",
      "3000/3000 - 45s - loss: 12.8733 - mape: 12.8599 - mae: 31.7313 - val_loss: 12.2885 - val_mape: 12.2751 - val_mae: 30.0982 - lr: 8.1000e-06 - 45s/epoch - 15ms/step\n",
      "Epoch 268/1000\n",
      "3000/3000 - 45s - loss: 12.7912 - mape: 12.7777 - mae: 32.0508 - val_loss: 12.3287 - val_mape: 12.3153 - val_mae: 29.0516 - lr: 8.1000e-06 - 45s/epoch - 15ms/step\n",
      "Epoch 269/1000\n",
      "3000/3000 - 45s - loss: 12.8412 - mape: 12.8278 - mae: 33.3791 - val_loss: 12.2669 - val_mape: 12.2535 - val_mae: 28.6004 - lr: 8.1000e-06 - 45s/epoch - 15ms/step\n",
      "Epoch 270/1000\n"
     ]
    },
    {
     "name": "stderr",
     "output_type": "stream",
     "text": [
      "WARNING:absl:Function `_wrapped_model` contains input name(s) args_0 with unsupported characters which will be renamed to args_0_5 in the SavedModel.\n"
     ]
    },
    {
     "name": "stdout",
     "output_type": "stream",
     "text": [
      "INFO:tensorflow:Assets written to: savedmodels\\Multi_input_nosupp_final+\\assets\n"
     ]
    },
    {
     "name": "stderr",
     "output_type": "stream",
     "text": [
      "INFO:tensorflow:Assets written to: savedmodels\\Multi_input_nosupp_final+\\assets\n"
     ]
    },
    {
     "name": "stdout",
     "output_type": "stream",
     "text": [
      "3000/3000 - 48s - loss: 13.0534 - mape: 13.0400 - mae: 34.0339 - val_loss: 12.2462 - val_mape: 12.2328 - val_mae: 28.5545 - lr: 8.1000e-06 - 48s/epoch - 16ms/step\n",
      "Epoch 271/1000\n"
     ]
    },
    {
     "name": "stderr",
     "output_type": "stream",
     "text": [
      "c:\\Users\\Robin\\.conda\\envs\\tfenvironment\\lib\\site-packages\\spektral\\data\\utils.py:221: UserWarning: you are shuffling a 'MyDataset' object which is not a subclass of 'Sequence'; `shuffle` is not guaranteed to behave correctly. E.g., non-numpy array/tensor objects with view semantics may contain duplicates after shuffling.\n",
      "  np.random.shuffle(a)\n",
      "c:\\Users\\Robin\\.conda\\envs\\tfenvironment\\lib\\site-packages\\spektral\\data\\utils.py:221: UserWarning: you are shuffling a 'TestDataset' object which is not a subclass of 'Sequence'; `shuffle` is not guaranteed to behave correctly. E.g., non-numpy array/tensor objects with view semantics may contain duplicates after shuffling.\n",
      "  np.random.shuffle(a)\n"
     ]
    },
    {
     "name": "stdout",
     "output_type": "stream",
     "text": [
      "3000/3000 - 48s - loss: 12.8410 - mape: 12.8276 - mae: 32.7869 - val_loss: 12.3079 - val_mape: 12.2945 - val_mae: 27.5224 - lr: 8.1000e-06 - 48s/epoch - 16ms/step\n",
      "Epoch 272/1000\n",
      "3000/3000 - 47s - loss: 12.8479 - mape: 12.8345 - mae: 34.0738 - val_loss: 12.2585 - val_mape: 12.2450 - val_mae: 27.6616 - lr: 8.1000e-06 - 47s/epoch - 16ms/step\n",
      "Epoch 273/1000\n",
      "3000/3000 - 45s - loss: 12.6688 - mape: 12.6554 - mae: 32.2897 - val_loss: 12.2860 - val_mape: 12.2725 - val_mae: 27.1383 - lr: 8.1000e-06 - 45s/epoch - 15ms/step\n",
      "Epoch 274/1000\n",
      "3000/3000 - 47s - loss: 12.9171 - mape: 12.9037 - mae: 32.5961 - val_loss: 12.5079 - val_mape: 12.4945 - val_mae: 28.0253 - lr: 8.1000e-06 - 47s/epoch - 16ms/step\n",
      "Epoch 275/1000\n",
      "3000/3000 - 47s - loss: 12.7068 - mape: 12.6934 - mae: 31.0980 - val_loss: 12.3312 - val_mape: 12.3178 - val_mae: 30.3766 - lr: 8.1000e-06 - 47s/epoch - 16ms/step\n",
      "Epoch 276/1000\n",
      "3000/3000 - 47s - loss: 12.9128 - mape: 12.8993 - mae: 31.6157 - val_loss: 12.2840 - val_mape: 12.2705 - val_mae: 26.9411 - lr: 8.1000e-06 - 47s/epoch - 16ms/step\n",
      "Epoch 277/1000\n",
      "3000/3000 - 45s - loss: 12.9723 - mape: 12.9588 - mae: 31.4704 - val_loss: 12.3336 - val_mape: 12.3201 - val_mae: 29.3797 - lr: 8.1000e-06 - 45s/epoch - 15ms/step\n",
      "Epoch 278/1000\n",
      "3000/3000 - 47s - loss: 12.6297 - mape: 12.6162 - mae: 33.0504 - val_loss: 12.2816 - val_mape: 12.2681 - val_mae: 27.8894 - lr: 8.1000e-06 - 47s/epoch - 16ms/step\n",
      "Epoch 279/1000\n",
      "3000/3000 - 46s - loss: 12.6475 - mape: 12.6340 - mae: 31.1787 - val_loss: 12.7643 - val_mape: 12.7508 - val_mae: 28.7443 - lr: 8.1000e-06 - 46s/epoch - 15ms/step\n",
      "Epoch 280/1000\n",
      "3000/3000 - 46s - loss: 12.9894 - mape: 12.9759 - mae: 33.3672 - val_loss: 12.3115 - val_mape: 12.2980 - val_mae: 27.0419 - lr: 8.1000e-06 - 46s/epoch - 15ms/step\n",
      "Epoch 281/1000\n",
      "3000/3000 - 44s - loss: 13.0838 - mape: 13.0703 - mae: 32.2949 - val_loss: 12.3638 - val_mape: 12.3502 - val_mae: 29.3217 - lr: 8.1000e-06 - 44s/epoch - 15ms/step\n",
      "Epoch 282/1000\n",
      "3000/3000 - 45s - loss: 12.8418 - mape: 12.8283 - mae: 31.8238 - val_loss: 12.3040 - val_mape: 12.2905 - val_mae: 27.6858 - lr: 8.1000e-06 - 45s/epoch - 15ms/step\n",
      "Epoch 283/1000\n",
      "3000/3000 - 45s - loss: 12.4684 - mape: 12.4548 - mae: 32.1989 - val_loss: 12.7054 - val_mape: 12.6919 - val_mae: 28.1383 - lr: 8.1000e-06 - 45s/epoch - 15ms/step\n",
      "Epoch 284/1000\n",
      "3000/3000 - 49s - loss: 12.8671 - mape: 12.8535 - mae: 32.9518 - val_loss: 12.3705 - val_mape: 12.3569 - val_mae: 27.0434 - lr: 8.1000e-06 - 49s/epoch - 16ms/step\n",
      "Epoch 285/1000\n",
      "3000/3000 - 49s - loss: 12.6806 - mape: 12.6670 - mae: 33.0391 - val_loss: 12.3390 - val_mape: 12.3255 - val_mae: 27.9535 - lr: 8.1000e-06 - 49s/epoch - 16ms/step\n",
      "Epoch 286/1000\n",
      "3000/3000 - 47s - loss: 12.7402 - mape: 12.7267 - mae: 31.3941 - val_loss: 12.4421 - val_mape: 12.4286 - val_mae: 27.9015 - lr: 8.1000e-06 - 47s/epoch - 16ms/step\n",
      "Epoch 287/1000\n",
      "3000/3000 - 43s - loss: 12.8249 - mape: 12.8113 - mae: 32.8594 - val_loss: 12.3109 - val_mape: 12.2973 - val_mae: 27.1427 - lr: 8.1000e-06 - 43s/epoch - 14ms/step\n",
      "Epoch 288/1000\n",
      "3000/3000 - 47s - loss: 12.8923 - mape: 12.8787 - mae: 32.9663 - val_loss: 12.5418 - val_mape: 12.5282 - val_mae: 30.6197 - lr: 8.1000e-06 - 47s/epoch - 16ms/step\n",
      "Epoch 289/1000\n",
      "3000/3000 - 46s - loss: 12.9386 - mape: 12.9250 - mae: 32.2476 - val_loss: 12.3573 - val_mape: 12.3438 - val_mae: 27.7566 - lr: 8.1000e-06 - 46s/epoch - 15ms/step\n",
      "Epoch 290/1000\n",
      "3000/3000 - 48s - loss: 12.8598 - mape: 12.8463 - mae: 29.9981 - val_loss: 12.3951 - val_mape: 12.3814 - val_mae: 28.3020 - lr: 8.1000e-06 - 48s/epoch - 16ms/step\n",
      "Epoch 291/1000\n",
      "3000/3000 - 51s - loss: 12.9905 - mape: 12.9769 - mae: 31.0347 - val_loss: 13.1613 - val_mape: 13.1477 - val_mae: 27.2332 - lr: 8.1000e-06 - 51s/epoch - 17ms/step\n",
      "Epoch 292/1000\n",
      "3000/3000 - 50s - loss: 12.9363 - mape: 12.9227 - mae: 32.4313 - val_loss: 12.4630 - val_mape: 12.4494 - val_mae: 28.9994 - lr: 8.1000e-06 - 50s/epoch - 17ms/step\n",
      "Epoch 293/1000\n",
      "3000/3000 - 47s - loss: 12.7832 - mape: 12.7697 - mae: 31.6175 - val_loss: 12.2956 - val_mape: 12.2819 - val_mae: 28.0790 - lr: 8.1000e-06 - 47s/epoch - 16ms/step\n",
      "Epoch 294/1000\n",
      "3000/3000 - 47s - loss: 13.0170 - mape: 13.0033 - mae: 31.5279 - val_loss: 12.2581 - val_mape: 12.2445 - val_mae: 27.8371 - lr: 8.1000e-06 - 47s/epoch - 16ms/step\n",
      "Epoch 295/1000\n",
      "\n",
      "Epoch 295: ReduceLROnPlateau reducing learning rate to 2.429999949526973e-06.\n",
      "3000/3000 - 46s - loss: 12.7963 - mape: 12.7827 - mae: 30.7970 - val_loss: 12.2930 - val_mape: 12.2793 - val_mae: 28.6169 - lr: 8.1000e-06 - 46s/epoch - 15ms/step\n",
      "Epoch 296/1000\n",
      "3000/3000 - 43s - loss: 12.8511 - mape: 12.8374 - mae: 31.9586 - val_loss: 12.2774 - val_mape: 12.2638 - val_mae: 29.2239 - lr: 2.4300e-06 - 43s/epoch - 14ms/step\n",
      "Epoch 297/1000\n",
      "3000/3000 - 47s - loss: 12.8575 - mape: 12.8439 - mae: 30.7598 - val_loss: 12.2540 - val_mape: 12.2404 - val_mae: 27.9365 - lr: 2.4300e-06 - 47s/epoch - 16ms/step\n",
      "Epoch 298/1000\n",
      "3000/3000 - 48s - loss: 12.9352 - mape: 12.9215 - mae: 31.5570 - val_loss: 12.2893 - val_mape: 12.2756 - val_mae: 27.5772 - lr: 2.4300e-06 - 48s/epoch - 16ms/step\n",
      "Epoch 299/1000\n",
      "3000/3000 - 47s - loss: 13.0630 - mape: 13.0493 - mae: 35.3160 - val_loss: 12.3007 - val_mape: 12.2871 - val_mae: 27.8695 - lr: 2.4300e-06 - 47s/epoch - 16ms/step\n",
      "Epoch 300/1000\n",
      "3000/3000 - 48s - loss: 12.5070 - mape: 12.4933 - mae: 31.5381 - val_loss: 12.2480 - val_mape: 12.2343 - val_mae: 28.5895 - lr: 2.4300e-06 - 48s/epoch - 16ms/step\n",
      "Epoch 301/1000\n",
      "3000/3000 - 47s - loss: 12.8795 - mape: 12.8659 - mae: 31.6828 - val_loss: 12.3146 - val_mape: 12.3009 - val_mae: 28.8143 - lr: 2.4300e-06 - 47s/epoch - 16ms/step\n",
      "Epoch 302/1000\n",
      "3000/3000 - 46s - loss: 12.7161 - mape: 12.7024 - mae: 33.7373 - val_loss: 12.3063 - val_mape: 12.2926 - val_mae: 28.4890 - lr: 2.4300e-06 - 46s/epoch - 15ms/step\n",
      "Epoch 303/1000\n",
      "3000/3000 - 45s - loss: 12.5926 - mape: 12.5789 - mae: 32.0194 - val_loss: 12.2590 - val_mape: 12.2453 - val_mae: 28.6090 - lr: 2.4300e-06 - 45s/epoch - 15ms/step\n",
      "Epoch 304/1000\n",
      "3000/3000 - 49s - loss: 12.6368 - mape: 12.6231 - mae: 34.2685 - val_loss: 12.2629 - val_mape: 12.2492 - val_mae: 28.4329 - lr: 2.4300e-06 - 49s/epoch - 16ms/step\n",
      "Epoch 305/1000\n",
      "3000/3000 - 47s - loss: 12.6683 - mape: 12.6546 - mae: 30.5165 - val_loss: 12.2949 - val_mape: 12.2813 - val_mae: 27.5840 - lr: 2.4300e-06 - 47s/epoch - 16ms/step\n",
      "Epoch 306/1000\n",
      "3000/3000 - 48s - loss: 12.7008 - mape: 12.6871 - mae: 30.9189 - val_loss: 12.2466 - val_mape: 12.2329 - val_mae: 27.7251 - lr: 2.4300e-06 - 48s/epoch - 16ms/step\n",
      "Epoch 307/1000\n",
      "3000/3000 - 48s - loss: 12.7506 - mape: 12.7369 - mae: 32.5860 - val_loss: 12.2645 - val_mape: 12.2508 - val_mae: 27.5200 - lr: 2.4300e-06 - 48s/epoch - 16ms/step\n",
      "Epoch 308/1000\n",
      "3000/3000 - 47s - loss: 12.7461 - mape: 12.7324 - mae: 31.3036 - val_loss: 12.2899 - val_mape: 12.2762 - val_mae: 27.4478 - lr: 2.4300e-06 - 47s/epoch - 16ms/step\n",
      "Epoch 309/1000\n",
      "3000/3000 - 46s - loss: 12.7386 - mape: 12.7250 - mae: 31.8943 - val_loss: 12.3042 - val_mape: 12.2905 - val_mae: 27.9320 - lr: 2.4300e-06 - 46s/epoch - 15ms/step\n",
      "Epoch 310/1000\n",
      "3000/3000 - 47s - loss: 12.8040 - mape: 12.7903 - mae: 33.5417 - val_loss: 12.2797 - val_mape: 12.2660 - val_mae: 27.8191 - lr: 2.4300e-06 - 47s/epoch - 16ms/step\n",
      "Epoch 311/1000\n",
      "3000/3000 - 45s - loss: 12.5883 - mape: 12.5746 - mae: 32.9367 - val_loss: 12.2587 - val_mape: 12.2450 - val_mae: 27.1460 - lr: 2.4300e-06 - 45s/epoch - 15ms/step\n",
      "Epoch 312/1000\n",
      "3000/3000 - 47s - loss: 12.6116 - mape: 12.5979 - mae: 29.4591 - val_loss: 12.2678 - val_mape: 12.2541 - val_mae: 27.0089 - lr: 2.4300e-06 - 47s/epoch - 16ms/step\n",
      "Epoch 313/1000\n",
      "3000/3000 - 49s - loss: 12.6712 - mape: 12.6575 - mae: 31.4935 - val_loss: 12.2735 - val_mape: 12.2597 - val_mae: 27.9063 - lr: 2.4300e-06 - 49s/epoch - 16ms/step\n",
      "Epoch 314/1000\n",
      "3000/3000 - 46s - loss: 13.0031 - mape: 12.9893 - mae: 32.9388 - val_loss: 12.3332 - val_mape: 12.3195 - val_mae: 27.6163 - lr: 2.4300e-06 - 46s/epoch - 15ms/step\n",
      "Epoch 315/1000\n",
      "3000/3000 - 48s - loss: 12.6830 - mape: 12.6693 - mae: 30.8068 - val_loss: 12.2492 - val_mape: 12.2355 - val_mae: 27.3011 - lr: 2.4300e-06 - 48s/epoch - 16ms/step\n",
      "Epoch 316/1000\n",
      "3000/3000 - 45s - loss: 12.7143 - mape: 12.7006 - mae: 32.4221 - val_loss: 12.2533 - val_mape: 12.2396 - val_mae: 28.1558 - lr: 2.4300e-06 - 45s/epoch - 15ms/step\n",
      "Epoch 317/1000\n",
      "3000/3000 - 45s - loss: 12.6660 - mape: 12.6523 - mae: 33.4786 - val_loss: 12.3380 - val_mape: 12.3242 - val_mae: 27.4550 - lr: 2.4300e-06 - 45s/epoch - 15ms/step\n",
      "Epoch 318/1000\n",
      "3000/3000 - 46s - loss: 12.4752 - mape: 12.4614 - mae: 32.5769 - val_loss: 12.2872 - val_mape: 12.2735 - val_mae: 28.0414 - lr: 2.4300e-06 - 46s/epoch - 15ms/step\n",
      "Epoch 319/1000\n",
      "3000/3000 - 47s - loss: 12.8794 - mape: 12.8657 - mae: 34.7095 - val_loss: 12.2746 - val_mape: 12.2609 - val_mae: 28.5612 - lr: 2.4300e-06 - 47s/epoch - 16ms/step\n",
      "Epoch 320/1000\n",
      "\n",
      "Epoch 320: ReduceLROnPlateau reducing learning rate to 7.289999985005124e-07.\n",
      "3000/3000 - 46s - loss: 12.5483 - mape: 12.5346 - mae: 30.6582 - val_loss: 12.2851 - val_mape: 12.2714 - val_mae: 27.8020 - lr: 2.4300e-06 - 46s/epoch - 15ms/step\n",
      "Epoch 320: early stopping\n"
     ]
    },
    {
     "ename": "",
     "evalue": "",
     "output_type": "error",
     "traceback": [
      "\u001b[1;31mThe Kernel crashed while executing code in the the current cell or a previous cell. Please review the code in the cell(s) to identify a possible cause of the failure. Click <a href='https://aka.ms/vscodeJupyterKernelCrash'>here</a> for more info. View Jupyter <a href='command:jupyter.viewOutput'>log</a> for further details."
     ]
    }
   ],
   "source": [
    "history = model.fit(loader.load(), validation_data=testloader.load(), validation_steps=testloader.steps_per_epoch, steps_per_epoch=loader.steps_per_epoch, epochs=1000, verbose=2, callbacks=get_callbacks('savedmodels/Multi_input_nosupp_final+',patience=50,lr_factor=0.3))"
   ]
  },
  {
   "cell_type": "code",
   "execution_count": 7,
   "metadata": {},
   "outputs": [],
   "source": [
    "model = keras.models.load_model(\"savedmodels/Multi_input_nosupp_final+\")"
   ]
  },
  {
   "cell_type": "code",
   "execution_count": 8,
   "metadata": {},
   "outputs": [
    {
     "name": "stderr",
     "output_type": "stream",
     "text": [
      "c:\\Users\\Robin\\.conda\\envs\\tfenvironment\\lib\\site-packages\\spektral\\data\\utils.py:221: UserWarning: you are shuffling a 'TestDataset' object which is not a subclass of 'Sequence'; `shuffle` is not guaranteed to behave correctly. E.g., non-numpy array/tensor objects with view semantics may contain duplicates after shuffling.\n",
      "  np.random.shuffle(a)\n"
     ]
    },
    {
     "name": "stdout",
     "output_type": "stream",
     "text": [
      "600/600 [==============================] - 9s 10ms/step - loss: 13.9243 - mape: 13.0607 - mae: 35.7205\n"
     ]
    }
   ],
   "source": [
    "metrics = model.evaluate(testloader.load(), steps=testloader.steps_per_epoch)"
   ]
  },
  {
   "cell_type": "code",
   "execution_count": 13,
   "metadata": {},
   "outputs": [],
   "source": [
    "for layer in model.layers:\n",
    "    layer.trainable = True"
   ]
  },
  {
   "cell_type": "code",
   "execution_count": 18,
   "metadata": {},
   "outputs": [],
   "source": [
    "model.compile(optimizer=tf.keras.optimizers.Adam(learning_rate=0.000005) , loss='mape', metrics=[tf.keras.metrics.MeanAbsolutePercentageError(name=\"mape\"), 'mae'])"
   ]
  },
  {
   "cell_type": "code",
   "execution_count": 15,
   "metadata": {},
   "outputs": [
    {
     "name": "stdout",
     "output_type": "stream",
     "text": [
      "Epoch 1/1000\n"
     ]
    },
    {
     "name": "stderr",
     "output_type": "stream",
     "text": [
      "WARNING:absl:Function `_wrapped_model` contains input name(s) args_0 with unsupported characters which will be renamed to args_0_5 in the SavedModel.\n"
     ]
    },
    {
     "name": "stdout",
     "output_type": "stream",
     "text": [
      "INFO:tensorflow:Assets written to: savedmodels\\Multi_input_disjoint_3000_nosupp\\assets\n"
     ]
    },
    {
     "name": "stderr",
     "output_type": "stream",
     "text": [
      "INFO:tensorflow:Assets written to: savedmodels\\Multi_input_disjoint_3000_nosupp\\assets\n"
     ]
    },
    {
     "name": "stdout",
     "output_type": "stream",
     "text": [
      "3000/3000 - 51s - loss: 43.4721 - mape: 40.2777 - mae: 106.1285 - val_loss: 39.3050 - val_mape: 36.3709 - val_mae: 182.5161 - lr: 0.0010 - 51s/epoch - 17ms/step\n",
      "Epoch 2/1000\n"
     ]
    },
    {
     "name": "stderr",
     "output_type": "stream",
     "text": [
      "c:\\Users\\Robin\\.conda\\envs\\tfenvironment\\lib\\site-packages\\spektral\\data\\utils.py:221: UserWarning: you are shuffling a 'MyDataset' object which is not a subclass of 'Sequence'; `shuffle` is not guaranteed to behave correctly. E.g., non-numpy array/tensor objects with view semantics may contain duplicates after shuffling.\n",
      "  np.random.shuffle(a)\n",
      "c:\\Users\\Robin\\.conda\\envs\\tfenvironment\\lib\\site-packages\\spektral\\data\\utils.py:221: UserWarning: you are shuffling a 'TestDataset' object which is not a subclass of 'Sequence'; `shuffle` is not guaranteed to behave correctly. E.g., non-numpy array/tensor objects with view semantics may contain duplicates after shuffling.\n",
      "  np.random.shuffle(a)\n",
      "WARNING:absl:Function `_wrapped_model` contains input name(s) args_0 with unsupported characters which will be renamed to args_0_5 in the SavedModel.\n"
     ]
    },
    {
     "name": "stdout",
     "output_type": "stream",
     "text": [
      "INFO:tensorflow:Assets written to: savedmodels\\Multi_input_disjoint_3000_nosupp\\assets\n"
     ]
    },
    {
     "name": "stderr",
     "output_type": "stream",
     "text": [
      "INFO:tensorflow:Assets written to: savedmodels\\Multi_input_disjoint_3000_nosupp\\assets\n"
     ]
    },
    {
     "name": "stdout",
     "output_type": "stream",
     "text": [
      "3000/3000 - 50s - loss: 40.0935 - mape: 37.4746 - mae: 106.9843 - val_loss: 32.0216 - val_mape: 29.6968 - val_mae: 128.5393 - lr: 0.0010 - 50s/epoch - 17ms/step\n",
      "Epoch 3/1000\n"
     ]
    },
    {
     "name": "stderr",
     "output_type": "stream",
     "text": [
      "c:\\Users\\Robin\\.conda\\envs\\tfenvironment\\lib\\site-packages\\spektral\\data\\utils.py:221: UserWarning: you are shuffling a 'MyDataset' object which is not a subclass of 'Sequence'; `shuffle` is not guaranteed to behave correctly. E.g., non-numpy array/tensor objects with view semantics may contain duplicates after shuffling.\n",
      "  np.random.shuffle(a)\n",
      "c:\\Users\\Robin\\.conda\\envs\\tfenvironment\\lib\\site-packages\\spektral\\data\\utils.py:221: UserWarning: you are shuffling a 'TestDataset' object which is not a subclass of 'Sequence'; `shuffle` is not guaranteed to behave correctly. E.g., non-numpy array/tensor objects with view semantics may contain duplicates after shuffling.\n",
      "  np.random.shuffle(a)\n"
     ]
    },
    {
     "name": "stdout",
     "output_type": "stream",
     "text": [
      "3000/3000 - 46s - loss: 40.1171 - mape: 38.0462 - mae: 105.1261 - val_loss: 36.7112 - val_mape: 34.8692 - val_mae: 148.5182 - lr: 0.0010 - 46s/epoch - 15ms/step\n",
      "Epoch 4/1000\n",
      "3000/3000 - 45s - loss: 37.6316 - mape: 36.0048 - mae: 98.7164 - val_loss: 32.4640 - val_mape: 31.0515 - val_mae: 95.7005 - lr: 0.0010 - 45s/epoch - 15ms/step\n",
      "Epoch 5/1000\n",
      "3000/3000 - 48s - loss: 36.6321 - mape: 35.4177 - mae: 96.5667 - val_loss: 34.0986 - val_mape: 33.0839 - val_mae: 198.2379 - lr: 0.0010 - 48s/epoch - 16ms/step\n",
      "Epoch 6/1000\n",
      "3000/3000 - 49s - loss: 36.5697 - mape: 35.6996 - mae: 90.6000 - val_loss: 30.8976 - val_mape: 30.1470 - val_mae: 112.5553 - lr: 0.0010 - 49s/epoch - 16ms/step\n",
      "Epoch 7/1000\n"
     ]
    },
    {
     "name": "stderr",
     "output_type": "stream",
     "text": [
      "WARNING:absl:Function `_wrapped_model` contains input name(s) args_0 with unsupported characters which will be renamed to args_0_5 in the SavedModel.\n"
     ]
    },
    {
     "name": "stdout",
     "output_type": "stream",
     "text": [
      "INFO:tensorflow:Assets written to: savedmodels\\Multi_input_disjoint_3000_nosupp\\assets\n"
     ]
    },
    {
     "name": "stderr",
     "output_type": "stream",
     "text": [
      "INFO:tensorflow:Assets written to: savedmodels\\Multi_input_disjoint_3000_nosupp\\assets\n"
     ]
    },
    {
     "name": "stdout",
     "output_type": "stream",
     "text": [
      "3000/3000 - 50s - loss: 35.4840 - mape: 34.8583 - mae: 88.6957 - val_loss: 25.5204 - val_mape: 24.9880 - val_mae: 87.6789 - lr: 0.0010 - 50s/epoch - 17ms/step\n",
      "Epoch 8/1000\n"
     ]
    },
    {
     "name": "stderr",
     "output_type": "stream",
     "text": [
      "c:\\Users\\Robin\\.conda\\envs\\tfenvironment\\lib\\site-packages\\spektral\\data\\utils.py:221: UserWarning: you are shuffling a 'MyDataset' object which is not a subclass of 'Sequence'; `shuffle` is not guaranteed to behave correctly. E.g., non-numpy array/tensor objects with view semantics may contain duplicates after shuffling.\n",
      "  np.random.shuffle(a)\n",
      "c:\\Users\\Robin\\.conda\\envs\\tfenvironment\\lib\\site-packages\\spektral\\data\\utils.py:221: UserWarning: you are shuffling a 'TestDataset' object which is not a subclass of 'Sequence'; `shuffle` is not guaranteed to behave correctly. E.g., non-numpy array/tensor objects with view semantics may contain duplicates after shuffling.\n",
      "  np.random.shuffle(a)\n"
     ]
    },
    {
     "name": "stdout",
     "output_type": "stream",
     "text": [
      "3000/3000 - 49s - loss: 35.0758 - mape: 34.5991 - mae: 99.5643 - val_loss: 53.4119 - val_mape: 53.0171 - val_mae: 114.7413 - lr: 0.0010 - 49s/epoch - 16ms/step\n",
      "Epoch 9/1000\n",
      "3000/3000 - 49s - loss: 32.9612 - mape: 32.6378 - mae: 87.8982 - val_loss: 28.5831 - val_mape: 28.3277 - val_mae: 92.6225 - lr: 0.0010 - 49s/epoch - 16ms/step\n",
      "Epoch 10/1000\n",
      "3000/3000 - 49s - loss: 33.4507 - mape: 33.2346 - mae: 85.8767 - val_loss: 26.0754 - val_mape: 25.8990 - val_mae: 96.5297 - lr: 0.0010 - 49s/epoch - 16ms/step\n",
      "Epoch 11/1000\n",
      "3000/3000 - 49s - loss: 32.2766 - mape: 32.1405 - mae: 86.4029 - val_loss: 45.7941 - val_mape: 45.6932 - val_mae: 164.4165 - lr: 0.0010 - 49s/epoch - 16ms/step\n",
      "Epoch 12/1000\n",
      "3000/3000 - 49s - loss: 32.3182 - mape: 32.2315 - mae: 87.2513 - val_loss: 29.4095 - val_mape: 29.3462 - val_mae: 88.1575 - lr: 0.0010 - 49s/epoch - 16ms/step\n",
      "Epoch 13/1000\n",
      "3000/3000 - 49s - loss: 31.3403 - mape: 31.2874 - mae: 84.8050 - val_loss: 25.7239 - val_mape: 25.6840 - val_mae: 93.6598 - lr: 0.0010 - 49s/epoch - 16ms/step\n",
      "Epoch 14/1000\n",
      "3000/3000 - 49s - loss: 31.7163 - mape: 31.6694 - mae: 91.0842 - val_loss: 34.5130 - val_mape: 34.4618 - val_mae: 107.1453 - lr: 0.0010 - 49s/epoch - 16ms/step\n",
      "Epoch 15/1000\n",
      "3000/3000 - 49s - loss: 31.7429 - mape: 31.6850 - mae: 90.0948 - val_loss: 31.0215 - val_mape: 30.9721 - val_mae: 89.6438 - lr: 0.0010 - 49s/epoch - 16ms/step\n",
      "Epoch 16/1000\n"
     ]
    },
    {
     "name": "stderr",
     "output_type": "stream",
     "text": [
      "WARNING:absl:Function `_wrapped_model` contains input name(s) args_0 with unsupported characters which will be renamed to args_0_5 in the SavedModel.\n"
     ]
    },
    {
     "name": "stdout",
     "output_type": "stream",
     "text": [
      "INFO:tensorflow:Assets written to: savedmodels\\Multi_input_disjoint_3000_nosupp\\assets\n"
     ]
    },
    {
     "name": "stderr",
     "output_type": "stream",
     "text": [
      "INFO:tensorflow:Assets written to: savedmodels\\Multi_input_disjoint_3000_nosupp\\assets\n"
     ]
    },
    {
     "name": "stdout",
     "output_type": "stream",
     "text": [
      "3000/3000 - 50s - loss: 30.2868 - mape: 30.2372 - mae: 82.9352 - val_loss: 23.0401 - val_mape: 22.9869 - val_mae: 102.1416 - lr: 0.0010 - 50s/epoch - 17ms/step\n",
      "Epoch 17/1000\n"
     ]
    },
    {
     "name": "stderr",
     "output_type": "stream",
     "text": [
      "c:\\Users\\Robin\\.conda\\envs\\tfenvironment\\lib\\site-packages\\spektral\\data\\utils.py:221: UserWarning: you are shuffling a 'MyDataset' object which is not a subclass of 'Sequence'; `shuffle` is not guaranteed to behave correctly. E.g., non-numpy array/tensor objects with view semantics may contain duplicates after shuffling.\n",
      "  np.random.shuffle(a)\n",
      "c:\\Users\\Robin\\.conda\\envs\\tfenvironment\\lib\\site-packages\\spektral\\data\\utils.py:221: UserWarning: you are shuffling a 'TestDataset' object which is not a subclass of 'Sequence'; `shuffle` is not guaranteed to behave correctly. E.g., non-numpy array/tensor objects with view semantics may contain duplicates after shuffling.\n",
      "  np.random.shuffle(a)\n"
     ]
    },
    {
     "name": "stdout",
     "output_type": "stream",
     "text": [
      "3000/3000 - 48s - loss: 31.0739 - mape: 31.0205 - mae: 88.9426 - val_loss: 25.4403 - val_mape: 25.3855 - val_mae: 97.3178 - lr: 0.0010 - 48s/epoch - 16ms/step\n",
      "Epoch 18/1000\n",
      "3000/3000 - 49s - loss: 31.1669 - mape: 31.1187 - mae: 86.2468 - val_loss: 24.8116 - val_mape: 24.7524 - val_mae: 82.0124 - lr: 0.0010 - 49s/epoch - 16ms/step\n",
      "Epoch 19/1000\n",
      "3000/3000 - 49s - loss: 29.7008 - mape: 29.6437 - mae: 80.3198 - val_loss: 32.0841 - val_mape: 32.0160 - val_mae: 117.4783 - lr: 0.0010 - 49s/epoch - 16ms/step\n",
      "Epoch 20/1000\n",
      "3000/3000 - 48s - loss: 30.4048 - mape: 30.3511 - mae: 81.7234 - val_loss: 23.5056 - val_mape: 23.4607 - val_mae: 100.4993 - lr: 0.0010 - 48s/epoch - 16ms/step\n",
      "Epoch 21/1000\n",
      "3000/3000 - 48s - loss: 29.6691 - mape: 29.6240 - mae: 80.4207 - val_loss: 30.6326 - val_mape: 30.5971 - val_mae: 113.0282 - lr: 0.0010 - 48s/epoch - 16ms/step\n",
      "Epoch 22/1000\n",
      "3000/3000 - 49s - loss: 29.7675 - mape: 29.7363 - mae: 80.4463 - val_loss: 31.9886 - val_mape: 31.9655 - val_mae: 150.5051 - lr: 0.0010 - 49s/epoch - 16ms/step\n",
      "Epoch 23/1000\n"
     ]
    },
    {
     "name": "stderr",
     "output_type": "stream",
     "text": [
      "WARNING:absl:Function `_wrapped_model` contains input name(s) args_0 with unsupported characters which will be renamed to args_0_5 in the SavedModel.\n"
     ]
    },
    {
     "name": "stdout",
     "output_type": "stream",
     "text": [
      "INFO:tensorflow:Assets written to: savedmodels\\Multi_input_disjoint_3000_nosupp\\assets\n"
     ]
    },
    {
     "name": "stderr",
     "output_type": "stream",
     "text": [
      "INFO:tensorflow:Assets written to: savedmodels\\Multi_input_disjoint_3000_nosupp\\assets\n"
     ]
    },
    {
     "name": "stdout",
     "output_type": "stream",
     "text": [
      "3000/3000 - 50s - loss: 29.1701 - mape: 29.1476 - mae: 77.0296 - val_loss: 22.5144 - val_mape: 22.4825 - val_mae: 91.5846 - lr: 0.0010 - 50s/epoch - 17ms/step\n",
      "Epoch 24/1000\n"
     ]
    },
    {
     "name": "stderr",
     "output_type": "stream",
     "text": [
      "c:\\Users\\Robin\\.conda\\envs\\tfenvironment\\lib\\site-packages\\spektral\\data\\utils.py:221: UserWarning: you are shuffling a 'MyDataset' object which is not a subclass of 'Sequence'; `shuffle` is not guaranteed to behave correctly. E.g., non-numpy array/tensor objects with view semantics may contain duplicates after shuffling.\n",
      "  np.random.shuffle(a)\n",
      "c:\\Users\\Robin\\.conda\\envs\\tfenvironment\\lib\\site-packages\\spektral\\data\\utils.py:221: UserWarning: you are shuffling a 'TestDataset' object which is not a subclass of 'Sequence'; `shuffle` is not guaranteed to behave correctly. E.g., non-numpy array/tensor objects with view semantics may contain duplicates after shuffling.\n",
      "  np.random.shuffle(a)\n"
     ]
    },
    {
     "name": "stdout",
     "output_type": "stream",
     "text": [
      "3000/3000 - 48s - loss: 30.1424 - mape: 30.1030 - mae: 78.6418 - val_loss: 24.5100 - val_mape: 24.4677 - val_mae: 96.1001 - lr: 0.0010 - 48s/epoch - 16ms/step\n",
      "Epoch 25/1000\n",
      "3000/3000 - 48s - loss: 28.7157 - mape: 28.6732 - mae: 78.1371 - val_loss: 22.9342 - val_mape: 22.8906 - val_mae: 92.0247 - lr: 0.0010 - 48s/epoch - 16ms/step\n",
      "Epoch 26/1000\n",
      "3000/3000 - 48s - loss: 28.9657 - mape: 28.9236 - mae: 81.6190 - val_loss: 30.3278 - val_mape: 30.2922 - val_mae: 90.7770 - lr: 0.0010 - 48s/epoch - 16ms/step\n",
      "Epoch 27/1000\n"
     ]
    },
    {
     "name": "stderr",
     "output_type": "stream",
     "text": [
      "WARNING:absl:Function `_wrapped_model` contains input name(s) args_0 with unsupported characters which will be renamed to args_0_5 in the SavedModel.\n"
     ]
    },
    {
     "name": "stdout",
     "output_type": "stream",
     "text": [
      "INFO:tensorflow:Assets written to: savedmodels\\Multi_input_disjoint_3000_nosupp\\assets\n"
     ]
    },
    {
     "name": "stderr",
     "output_type": "stream",
     "text": [
      "INFO:tensorflow:Assets written to: savedmodels\\Multi_input_disjoint_3000_nosupp\\assets\n"
     ]
    },
    {
     "name": "stdout",
     "output_type": "stream",
     "text": [
      "3000/3000 - 50s - loss: 28.6373 - mape: 28.6019 - mae: 78.5201 - val_loss: 22.4555 - val_mape: 22.4210 - val_mae: 117.2534 - lr: 0.0010 - 50s/epoch - 17ms/step\n",
      "Epoch 28/1000\n"
     ]
    },
    {
     "name": "stderr",
     "output_type": "stream",
     "text": [
      "c:\\Users\\Robin\\.conda\\envs\\tfenvironment\\lib\\site-packages\\spektral\\data\\utils.py:221: UserWarning: you are shuffling a 'MyDataset' object which is not a subclass of 'Sequence'; `shuffle` is not guaranteed to behave correctly. E.g., non-numpy array/tensor objects with view semantics may contain duplicates after shuffling.\n",
      "  np.random.shuffle(a)\n",
      "c:\\Users\\Robin\\.conda\\envs\\tfenvironment\\lib\\site-packages\\spektral\\data\\utils.py:221: UserWarning: you are shuffling a 'TestDataset' object which is not a subclass of 'Sequence'; `shuffle` is not guaranteed to behave correctly. E.g., non-numpy array/tensor objects with view semantics may contain duplicates after shuffling.\n",
      "  np.random.shuffle(a)\n"
     ]
    },
    {
     "name": "stdout",
     "output_type": "stream",
     "text": [
      "3000/3000 - 49s - loss: 28.3785 - mape: 28.3408 - mae: 78.8018 - val_loss: 23.8902 - val_mape: 23.8476 - val_mae: 90.1871 - lr: 0.0010 - 49s/epoch - 16ms/step\n",
      "Epoch 29/1000\n",
      "3000/3000 - 49s - loss: 28.5118 - mape: 28.4727 - mae: 80.1014 - val_loss: 46.8963 - val_mape: 46.8613 - val_mae: 138.1897 - lr: 0.0010 - 49s/epoch - 16ms/step\n",
      "Epoch 30/1000\n",
      "3000/3000 - 49s - loss: 28.5249 - mape: 28.4890 - mae: 81.6106 - val_loss: 29.1035 - val_mape: 29.0719 - val_mae: 191.9354 - lr: 0.0010 - 49s/epoch - 16ms/step\n",
      "Epoch 31/1000\n",
      "3000/3000 - 49s - loss: 27.0688 - mape: 27.0434 - mae: 73.9291 - val_loss: 40.6022 - val_mape: 40.5782 - val_mae: 84.5703 - lr: 0.0010 - 49s/epoch - 16ms/step\n",
      "Epoch 32/1000\n",
      "3000/3000 - 49s - loss: 27.9030 - mape: 27.8696 - mae: 79.2541 - val_loss: 31.1850 - val_mape: 31.1554 - val_mae: 67.6141 - lr: 0.0010 - 49s/epoch - 16ms/step\n",
      "Epoch 33/1000\n",
      "3000/3000 - 49s - loss: 27.5111 - mape: 27.4793 - mae: 78.9027 - val_loss: 27.4052 - val_mape: 27.3756 - val_mae: 92.9510 - lr: 0.0010 - 49s/epoch - 16ms/step\n",
      "Epoch 34/1000\n"
     ]
    },
    {
     "ename": "KeyboardInterrupt",
     "evalue": "",
     "output_type": "error",
     "traceback": [
      "\u001b[1;31m---------------------------------------------------------------------------\u001b[0m",
      "\u001b[1;31mKeyboardInterrupt\u001b[0m                         Traceback (most recent call last)",
      "\u001b[1;32mg:\\Unief\\Masterproef\\Notebooks\\Multi-inputmodel_nosupport.ipynb Cell 27\u001b[0m in \u001b[0;36m1\n\u001b[1;32m----> <a href='vscode-notebook-cell:/g%3A/Unief/Masterproef/Notebooks/Multi-inputmodel_nosupport.ipynb#X35sZmlsZQ%3D%3D?line=0'>1</a>\u001b[0m history \u001b[39m=\u001b[39m model\u001b[39m.\u001b[39;49mfit(loader\u001b[39m.\u001b[39;49mload(), validation_data\u001b[39m=\u001b[39;49mtestloader\u001b[39m.\u001b[39;49mload(), validation_steps\u001b[39m=\u001b[39;49mtestloader\u001b[39m.\u001b[39;49msteps_per_epoch, steps_per_epoch\u001b[39m=\u001b[39;49mloader\u001b[39m.\u001b[39;49msteps_per_epoch, epochs\u001b[39m=\u001b[39;49m\u001b[39m1000\u001b[39;49m, verbose\u001b[39m=\u001b[39;49m\u001b[39m2\u001b[39;49m, callbacks\u001b[39m=\u001b[39;49mget_callbacks(\u001b[39m'\u001b[39;49m\u001b[39msavedmodels/Multi_input_disjoint_3000_nosupp\u001b[39;49m\u001b[39m'\u001b[39;49m,patience\u001b[39m=\u001b[39;49m\u001b[39m80\u001b[39;49m,lr_factor\u001b[39m=\u001b[39;49m\u001b[39m0.3\u001b[39;49m))\n",
      "File \u001b[1;32mc:\\Users\\Robin\\.conda\\envs\\tfenvironment\\lib\\site-packages\\keras\\utils\\traceback_utils.py:65\u001b[0m, in \u001b[0;36mfilter_traceback.<locals>.error_handler\u001b[1;34m(*args, **kwargs)\u001b[0m\n\u001b[0;32m     63\u001b[0m filtered_tb \u001b[39m=\u001b[39m \u001b[39mNone\u001b[39;00m\n\u001b[0;32m     64\u001b[0m \u001b[39mtry\u001b[39;00m:\n\u001b[1;32m---> 65\u001b[0m     \u001b[39mreturn\u001b[39;00m fn(\u001b[39m*\u001b[39margs, \u001b[39m*\u001b[39m\u001b[39m*\u001b[39mkwargs)\n\u001b[0;32m     66\u001b[0m \u001b[39mexcept\u001b[39;00m \u001b[39mException\u001b[39;00m \u001b[39mas\u001b[39;00m e:\n\u001b[0;32m     67\u001b[0m     filtered_tb \u001b[39m=\u001b[39m _process_traceback_frames(e\u001b[39m.\u001b[39m__traceback__)\n",
      "File \u001b[1;32mc:\\Users\\Robin\\.conda\\envs\\tfenvironment\\lib\\site-packages\\keras\\engine\\training.py:1564\u001b[0m, in \u001b[0;36mModel.fit\u001b[1;34m(self, x, y, batch_size, epochs, verbose, callbacks, validation_split, validation_data, shuffle, class_weight, sample_weight, initial_epoch, steps_per_epoch, validation_steps, validation_batch_size, validation_freq, max_queue_size, workers, use_multiprocessing)\u001b[0m\n\u001b[0;32m   1556\u001b[0m \u001b[39mwith\u001b[39;00m tf\u001b[39m.\u001b[39mprofiler\u001b[39m.\u001b[39mexperimental\u001b[39m.\u001b[39mTrace(\n\u001b[0;32m   1557\u001b[0m     \u001b[39m\"\u001b[39m\u001b[39mtrain\u001b[39m\u001b[39m\"\u001b[39m,\n\u001b[0;32m   1558\u001b[0m     epoch_num\u001b[39m=\u001b[39mepoch,\n\u001b[1;32m   (...)\u001b[0m\n\u001b[0;32m   1561\u001b[0m     _r\u001b[39m=\u001b[39m\u001b[39m1\u001b[39m,\n\u001b[0;32m   1562\u001b[0m ):\n\u001b[0;32m   1563\u001b[0m     callbacks\u001b[39m.\u001b[39mon_train_batch_begin(step)\n\u001b[1;32m-> 1564\u001b[0m     tmp_logs \u001b[39m=\u001b[39m \u001b[39mself\u001b[39;49m\u001b[39m.\u001b[39;49mtrain_function(iterator)\n\u001b[0;32m   1565\u001b[0m     \u001b[39mif\u001b[39;00m data_handler\u001b[39m.\u001b[39mshould_sync:\n\u001b[0;32m   1566\u001b[0m         context\u001b[39m.\u001b[39masync_wait()\n",
      "File \u001b[1;32m~\\AppData\\Roaming\\Python\\Python310\\site-packages\\tensorflow\\python\\util\\traceback_utils.py:150\u001b[0m, in \u001b[0;36mfilter_traceback.<locals>.error_handler\u001b[1;34m(*args, **kwargs)\u001b[0m\n\u001b[0;32m    148\u001b[0m filtered_tb \u001b[39m=\u001b[39m \u001b[39mNone\u001b[39;00m\n\u001b[0;32m    149\u001b[0m \u001b[39mtry\u001b[39;00m:\n\u001b[1;32m--> 150\u001b[0m   \u001b[39mreturn\u001b[39;00m fn(\u001b[39m*\u001b[39margs, \u001b[39m*\u001b[39m\u001b[39m*\u001b[39mkwargs)\n\u001b[0;32m    151\u001b[0m \u001b[39mexcept\u001b[39;00m \u001b[39mException\u001b[39;00m \u001b[39mas\u001b[39;00m e:\n\u001b[0;32m    152\u001b[0m   filtered_tb \u001b[39m=\u001b[39m _process_traceback_frames(e\u001b[39m.\u001b[39m__traceback__)\n",
      "File \u001b[1;32m~\\AppData\\Roaming\\Python\\Python310\\site-packages\\tensorflow\\python\\eager\\def_function.py:915\u001b[0m, in \u001b[0;36mFunction.__call__\u001b[1;34m(self, *args, **kwds)\u001b[0m\n\u001b[0;32m    912\u001b[0m compiler \u001b[39m=\u001b[39m \u001b[39m\"\u001b[39m\u001b[39mxla\u001b[39m\u001b[39m\"\u001b[39m \u001b[39mif\u001b[39;00m \u001b[39mself\u001b[39m\u001b[39m.\u001b[39m_jit_compile \u001b[39melse\u001b[39;00m \u001b[39m\"\u001b[39m\u001b[39mnonXla\u001b[39m\u001b[39m\"\u001b[39m\n\u001b[0;32m    914\u001b[0m \u001b[39mwith\u001b[39;00m OptionalXlaContext(\u001b[39mself\u001b[39m\u001b[39m.\u001b[39m_jit_compile):\n\u001b[1;32m--> 915\u001b[0m   result \u001b[39m=\u001b[39m \u001b[39mself\u001b[39m\u001b[39m.\u001b[39m_call(\u001b[39m*\u001b[39margs, \u001b[39m*\u001b[39m\u001b[39m*\u001b[39mkwds)\n\u001b[0;32m    917\u001b[0m new_tracing_count \u001b[39m=\u001b[39m \u001b[39mself\u001b[39m\u001b[39m.\u001b[39mexperimental_get_tracing_count()\n\u001b[0;32m    918\u001b[0m without_tracing \u001b[39m=\u001b[39m (tracing_count \u001b[39m==\u001b[39m new_tracing_count)\n",
      "File \u001b[1;32m~\\AppData\\Roaming\\Python\\Python310\\site-packages\\tensorflow\\python\\eager\\def_function.py:947\u001b[0m, in \u001b[0;36mFunction._call\u001b[1;34m(self, *args, **kwds)\u001b[0m\n\u001b[0;32m    944\u001b[0m   \u001b[39mself\u001b[39m\u001b[39m.\u001b[39m_lock\u001b[39m.\u001b[39mrelease()\n\u001b[0;32m    945\u001b[0m   \u001b[39m# In this case we have created variables on the first call, so we run the\u001b[39;00m\n\u001b[0;32m    946\u001b[0m   \u001b[39m# defunned version which is guaranteed to never create variables.\u001b[39;00m\n\u001b[1;32m--> 947\u001b[0m   \u001b[39mreturn\u001b[39;00m \u001b[39mself\u001b[39m\u001b[39m.\u001b[39m_stateless_fn(\u001b[39m*\u001b[39margs, \u001b[39m*\u001b[39m\u001b[39m*\u001b[39mkwds)  \u001b[39m# pylint: disable=not-callable\u001b[39;00m\n\u001b[0;32m    948\u001b[0m \u001b[39melif\u001b[39;00m \u001b[39mself\u001b[39m\u001b[39m.\u001b[39m_stateful_fn \u001b[39mis\u001b[39;00m \u001b[39mnot\u001b[39;00m \u001b[39mNone\u001b[39;00m:\n\u001b[0;32m    949\u001b[0m   \u001b[39m# Release the lock early so that multiple threads can perform the call\u001b[39;00m\n\u001b[0;32m    950\u001b[0m   \u001b[39m# in parallel.\u001b[39;00m\n\u001b[0;32m    951\u001b[0m   \u001b[39mself\u001b[39m\u001b[39m.\u001b[39m_lock\u001b[39m.\u001b[39mrelease()\n",
      "File \u001b[1;32m~\\AppData\\Roaming\\Python\\Python310\\site-packages\\tensorflow\\python\\eager\\function.py:2496\u001b[0m, in \u001b[0;36mFunction.__call__\u001b[1;34m(self, *args, **kwargs)\u001b[0m\n\u001b[0;32m   2493\u001b[0m \u001b[39mwith\u001b[39;00m \u001b[39mself\u001b[39m\u001b[39m.\u001b[39m_lock:\n\u001b[0;32m   2494\u001b[0m   (graph_function,\n\u001b[0;32m   2495\u001b[0m    filtered_flat_args) \u001b[39m=\u001b[39m \u001b[39mself\u001b[39m\u001b[39m.\u001b[39m_maybe_define_function(args, kwargs)\n\u001b[1;32m-> 2496\u001b[0m \u001b[39mreturn\u001b[39;00m graph_function\u001b[39m.\u001b[39;49m_call_flat(\n\u001b[0;32m   2497\u001b[0m     filtered_flat_args, captured_inputs\u001b[39m=\u001b[39;49mgraph_function\u001b[39m.\u001b[39;49mcaptured_inputs)\n",
      "File \u001b[1;32m~\\AppData\\Roaming\\Python\\Python310\\site-packages\\tensorflow\\python\\eager\\function.py:1862\u001b[0m, in \u001b[0;36mConcreteFunction._call_flat\u001b[1;34m(self, args, captured_inputs, cancellation_manager)\u001b[0m\n\u001b[0;32m   1858\u001b[0m possible_gradient_type \u001b[39m=\u001b[39m gradients_util\u001b[39m.\u001b[39mPossibleTapeGradientTypes(args)\n\u001b[0;32m   1859\u001b[0m \u001b[39mif\u001b[39;00m (possible_gradient_type \u001b[39m==\u001b[39m gradients_util\u001b[39m.\u001b[39mPOSSIBLE_GRADIENT_TYPES_NONE\n\u001b[0;32m   1860\u001b[0m     \u001b[39mand\u001b[39;00m executing_eagerly):\n\u001b[0;32m   1861\u001b[0m   \u001b[39m# No tape is watching; skip to running the function.\u001b[39;00m\n\u001b[1;32m-> 1862\u001b[0m   \u001b[39mreturn\u001b[39;00m \u001b[39mself\u001b[39m\u001b[39m.\u001b[39m_build_call_outputs(\u001b[39mself\u001b[39;49m\u001b[39m.\u001b[39;49m_inference_function\u001b[39m.\u001b[39;49mcall(\n\u001b[0;32m   1863\u001b[0m       ctx, args, cancellation_manager\u001b[39m=\u001b[39;49mcancellation_manager))\n\u001b[0;32m   1864\u001b[0m forward_backward \u001b[39m=\u001b[39m \u001b[39mself\u001b[39m\u001b[39m.\u001b[39m_select_forward_and_backward_functions(\n\u001b[0;32m   1865\u001b[0m     args,\n\u001b[0;32m   1866\u001b[0m     possible_gradient_type,\n\u001b[0;32m   1867\u001b[0m     executing_eagerly)\n\u001b[0;32m   1868\u001b[0m forward_function, args_with_tangents \u001b[39m=\u001b[39m forward_backward\u001b[39m.\u001b[39mforward()\n",
      "File \u001b[1;32m~\\AppData\\Roaming\\Python\\Python310\\site-packages\\tensorflow\\python\\eager\\function.py:499\u001b[0m, in \u001b[0;36m_EagerDefinedFunction.call\u001b[1;34m(self, ctx, args, cancellation_manager)\u001b[0m\n\u001b[0;32m    497\u001b[0m \u001b[39mwith\u001b[39;00m _InterpolateFunctionError(\u001b[39mself\u001b[39m):\n\u001b[0;32m    498\u001b[0m   \u001b[39mif\u001b[39;00m cancellation_manager \u001b[39mis\u001b[39;00m \u001b[39mNone\u001b[39;00m:\n\u001b[1;32m--> 499\u001b[0m     outputs \u001b[39m=\u001b[39m execute\u001b[39m.\u001b[39;49mexecute(\n\u001b[0;32m    500\u001b[0m         \u001b[39mstr\u001b[39;49m(\u001b[39mself\u001b[39;49m\u001b[39m.\u001b[39;49msignature\u001b[39m.\u001b[39;49mname),\n\u001b[0;32m    501\u001b[0m         num_outputs\u001b[39m=\u001b[39;49m\u001b[39mself\u001b[39;49m\u001b[39m.\u001b[39;49m_num_outputs,\n\u001b[0;32m    502\u001b[0m         inputs\u001b[39m=\u001b[39;49margs,\n\u001b[0;32m    503\u001b[0m         attrs\u001b[39m=\u001b[39;49mattrs,\n\u001b[0;32m    504\u001b[0m         ctx\u001b[39m=\u001b[39;49mctx)\n\u001b[0;32m    505\u001b[0m   \u001b[39melse\u001b[39;00m:\n\u001b[0;32m    506\u001b[0m     outputs \u001b[39m=\u001b[39m execute\u001b[39m.\u001b[39mexecute_with_cancellation(\n\u001b[0;32m    507\u001b[0m         \u001b[39mstr\u001b[39m(\u001b[39mself\u001b[39m\u001b[39m.\u001b[39msignature\u001b[39m.\u001b[39mname),\n\u001b[0;32m    508\u001b[0m         num_outputs\u001b[39m=\u001b[39m\u001b[39mself\u001b[39m\u001b[39m.\u001b[39m_num_outputs,\n\u001b[1;32m   (...)\u001b[0m\n\u001b[0;32m    511\u001b[0m         ctx\u001b[39m=\u001b[39mctx,\n\u001b[0;32m    512\u001b[0m         cancellation_manager\u001b[39m=\u001b[39mcancellation_manager)\n",
      "File \u001b[1;32m~\\AppData\\Roaming\\Python\\Python310\\site-packages\\tensorflow\\python\\eager\\execute.py:54\u001b[0m, in \u001b[0;36mquick_execute\u001b[1;34m(op_name, num_outputs, inputs, attrs, ctx, name)\u001b[0m\n\u001b[0;32m     52\u001b[0m \u001b[39mtry\u001b[39;00m:\n\u001b[0;32m     53\u001b[0m   ctx\u001b[39m.\u001b[39mensure_initialized()\n\u001b[1;32m---> 54\u001b[0m   tensors \u001b[39m=\u001b[39m pywrap_tfe\u001b[39m.\u001b[39;49mTFE_Py_Execute(ctx\u001b[39m.\u001b[39;49m_handle, device_name, op_name,\n\u001b[0;32m     55\u001b[0m                                       inputs, attrs, num_outputs)\n\u001b[0;32m     56\u001b[0m \u001b[39mexcept\u001b[39;00m core\u001b[39m.\u001b[39m_NotOkStatusException \u001b[39mas\u001b[39;00m e:\n\u001b[0;32m     57\u001b[0m   \u001b[39mif\u001b[39;00m name \u001b[39mis\u001b[39;00m \u001b[39mnot\u001b[39;00m \u001b[39mNone\u001b[39;00m:\n",
      "\u001b[1;31mKeyboardInterrupt\u001b[0m: "
     ]
    }
   ],
   "source": [
    "history = model.fit(loader.load(), validation_data=testloader.load(), validation_steps=testloader.steps_per_epoch, steps_per_epoch=loader.steps_per_epoch, epochs=1000, verbose=2, callbacks=get_callbacks('savedmodels/Multi_input_disjoint_3000_nosupp',patience=80,lr_factor=0.3))"
   ]
  },
  {
   "cell_type": "code",
   "execution_count": 25,
   "metadata": {},
   "outputs": [
    {
     "data": {
      "text/plain": [
       "<function matplotlib.pyplot.show(close=None, block=None)>"
      ]
     },
     "execution_count": 25,
     "metadata": {},
     "output_type": "execute_result"
    },
    {
     "data": {
      "image/png": "[encoded data removed]",
      "text/plain": [
       "<Figure size 640x480 with 1 Axes>"
      ]
     },
     "metadata": {},
     "output_type": "display_data"
    }
   ],
   "source": [
    "#Plot mape\n",
    "plt.plot(history.history[\"val_mape\"])\n",
    "plt.plot(history.history[\"mape\"])\n",
    "plt.title('model mean absolute percentage error')\n",
    "plt.ylabel('mape')\n",
    "plt.xlabel('epoch')\n",
    "plt.show"
   ]
  }
 ],
 "metadata": {
  "kernelspec": {
   "display_name": "tfenvironment",
   "language": "python",
   "name": "python3"
  },
  "language_info": {
   "codemirror_mode": {
    "name": "ipython",
    "version": 3
   },
   "file_extension": ".py",
   "mimetype": "text/x-python",
   "name": "python",
   "nbconvert_exporter": "python",
   "pygments_lexer": "ipython3",
   "version": "3.10.8"
  },
  "orig_nbformat": 4,
  "vscode": {
   "interpreter": {
    "hash": "d217d37ed9247659b2812203162b84cdb779e33cccd1fe199abf14cba0e180e9"
   }
  }
 },
 "nbformat": 4,
 "nbformat_minor": 2
}
