{
 "cells": [
  {
   "cell_type": "code",
   "execution_count": null,
   "metadata": {},
   "outputs": [],
   "source": [
    "#https://towardsdatascience.com/applied-deep-learning-part-4-convolutional-neural-networks-584bc134c1e2"
   ]
  },
  {
   "cell_type": "code",
   "execution_count": 4,
   "metadata": {},
   "outputs": [],
   "source": [
    "#imports\n",
    "import os\n",
    "import shutil\n",
    "import tensorflow as tf\n",
    "import numpy as np\n",
    "import matplotlib.pyplot as plt\n",
    "import pandas as pd\n",
    "import scipy.sparse\n",
    "from spektral.data.graph import Graph\n",
    "from keras.models import Model\n",
    "from keras.layers import Dense, Dropout, Concatenate, Reshape, Add, BatchNormalization, Activation, Conv2D, Conv1D, Input, Flatten, MaxPooling1D, Lambda\n",
    "from spektral.layers import APPNPConv, AGNNConv, ChebConv, GlobalAvgPool,GlobalSumPool,SAGPool,JustBalancePool,LaPool,SRCPool, GCNConv, GlobalSumPool, CensNetConv, GATConv, DiffusionConv, ARMAConv, GlobalAvgPool, GINConvBatch, GCSConv, GlobalMaxPool, EdgeConv, ECCConv, CrystalConv, GeneralConv,GINConv\n",
    "from spektral.data import BatchLoader, DisjointLoader, Dataset\n",
    "from spektral.transforms import GCNFilter, NormalizeAdj\n",
    "from tqdm import tqdm\n",
    "from keras.callbacks import EarlyStopping,ReduceLROnPlateau,ModelCheckpoint\n",
    "from tensorflow import keras\n",
    "import keras_tuner as kt\n",
    "from keras import regularizers\n",
    "import pickle \n",
    "import visualkeras\n",
    "import keras.backend as K\n",
    "from spektral.utils.convolution import chebyshev_filter\n",
    "from sklearn.pipeline import Pipeline\n",
    "from sklearn.preprocessing import FunctionTransformer\n"
   ]
  },
  {
   "cell_type": "code",
   "execution_count": 18,
   "metadata": {},
   "outputs": [
    {
     "name": "stdout",
     "output_type": "stream",
     "text": [
      "0    435\n",
      "1     30\n",
      "2     28\n",
      "3     29\n",
      "4    766\n",
      "Name: build_time, dtype: int64\n"
     ]
    }
   ],
   "source": [
    "features = pd.read_csv('thingi10k_data.csv', index_col=0)\n",
    "print(features['build_time'].head())\n",
    "\n",
    "def log_transform(x):\n",
    "    return np.log(x + 1)\n",
    "\n",
    "def inv_log_transform(x):\n",
    "    return np.exp(x) - 1 \n",
    "logtransformer = FunctionTransformer(func=log_transform, inverse_func=inv_log_transform, check_inverse=False)\n",
    "pipe = Pipeline(steps=[ ('logtransformer', logtransformer)])\n",
    "\n",
    "features[\"build_time\"] = pipe.fit_transform(features[\"build_time\"])"
   ]
  },
  {
   "cell_type": "code",
   "execution_count": 3,
   "metadata": {},
   "outputs": [
    {
     "name": "stdout",
     "output_type": "stream",
     "text": [
      "(1, 3)\n"
     ]
    },
    {
     "data": {
      "text/plain": [
       "(3000000, 3)"
      ]
     },
     "execution_count": 3,
     "metadata": {},
     "output_type": "execute_result"
    }
   ],
   "source": [
    "features = pd.read_csv('thingi10k_data.csv', index_col=0)\n",
    "adjpath = '../Data/stl/adjacency_stl_simplified/'\n",
    "cloudpath = '../Data/stl/nodefeatures_stl_simplified/'\n",
    "edgepath = '../Data/stl/edgefeaturesmatrix_stl_simplified/'\n",
    "\n",
    "coords = np.empty((1,3))\n",
    "targets = np.empty(1)\n",
    "print(coords.shape)\n",
    "\n",
    "for i in range(3000):\n",
    "    if(os.path.isfile(adjpath + f'{features[\"model_name\"][i]}.npz')):\n",
    "        point_cloud = np.load(cloudpath + f'{features[\"model_name\"][i]}.npy').reshape(-1,3)\n",
    "        coords = np.concatenate((coords,point_cloud))\n",
    "        targets = np.append(targets,features[\"build_time\"][i])\n",
    "\n",
    "        \n",
    "coords = np.delete(coords,0,0)\n",
    "coords.shape"
   ]
  },
  {
   "cell_type": "code",
   "execution_count": 4,
   "metadata": {},
   "outputs": [
    {
     "data": {
      "text/plain": [
       "830.2939568107494"
      ]
     },
     "execution_count": 4,
     "metadata": {},
     "output_type": "execute_result"
    }
   ],
   "source": [
    "centroid = np.mean(targets)\n",
    "targets -= centroid\n",
    "stddev = np.max(np.sqrt(np.sum(targets**2,axis=-1) / 2999))\n",
    "stddev"
   ]
  },
  {
   "cell_type": "code",
   "execution_count": 6,
   "metadata": {},
   "outputs": [],
   "source": [
    "def inverse_scale(value):\n",
    "    return value * stddev + centroid"
   ]
  },
  {
   "cell_type": "code",
   "execution_count": 5,
   "metadata": {},
   "outputs": [
    {
     "data": {
      "text/plain": [
       "array([76.85162636, 30.12397029, 19.48363157])"
      ]
     },
     "execution_count": 5,
     "metadata": {},
     "output_type": "execute_result"
    }
   ],
   "source": [
    "centroids = np.mean(coords,0)\n",
    "centroids"
   ]
  },
  {
   "cell_type": "code",
   "execution_count": 6,
   "metadata": {},
   "outputs": [
    {
     "name": "stdout",
     "output_type": "stream",
     "text": [
      "[634.25992634  40.63999939  90.41378741]\n",
      "[656.71110233  40.63999939 210.84211475]\n",
      "[557.40829998  10.5160291   70.93015584]\n",
      "[579.85947597  10.5160291  191.35848318]\n"
     ]
    }
   ],
   "source": [
    "coordscentered = coords - centroids"
   ]
  },
  {
   "cell_type": "code",
   "execution_count": 7,
   "metadata": {},
   "outputs": [
    {
     "data": {
      "text/plain": [
       "142.0717318904484"
      ]
     },
     "execution_count": 7,
     "metadata": {},
     "output_type": "execute_result"
    }
   ],
   "source": [
    "furthest_distance = np.max(np.sqrt(np.sum(coordscentered**2,axis=-1) / 2999))\n",
    "furthest_distance"
   ]
  },
  {
   "cell_type": "code",
   "execution_count": 19,
   "metadata": {},
   "outputs": [
    {
     "data": {
      "text/plain": [
       "array([4.37512496, 0.05801626, 0.86090288])"
      ]
     },
     "execution_count": 19,
     "metadata": {},
     "output_type": "execute_result"
    }
   ],
   "source": [
    "coordscentered /= furthest_distance\n",
    "coordscentered[0]"
   ]
  },
  {
   "cell_type": "code",
   "execution_count": 8,
   "metadata": {},
   "outputs": [
    {
     "data": {
      "text/plain": [
       "MyDataset(n_graphs=3000)"
      ]
     },
     "execution_count": 8,
     "metadata": {},
     "output_type": "execute_result"
    }
   ],
   "source": [
    "#load data\n",
    "#features = pd.read_csv('thingi10k_data.csv', index_col=0)\n",
    "\n",
    "adjpath = '../Data/stl/adjacency_stl_simplified/'\n",
    "cloudpath = '../Data/stl/nodefeatures_stl_simplified/'\n",
    "edgepath = '../Data/stl/edgefeaturesmatrix_stl_simplified/'\n",
    "\n",
    "\n",
    "class MyDataset(Dataset):\n",
    "    def __init__(self, **kwargs):\n",
    "        super().__init__(**kwargs)\n",
    "\n",
    "    def read(self):\n",
    "        output = []\n",
    "        for i in range(3000):\n",
    "            if(os.path.isfile(adjpath + f'{features[\"model_name\"][i]}.npz')):\n",
    "                adjmatrix = scipy.sparse.load_npz(adjpath + f'{features[\"model_name\"][i]}.npz')\n",
    "                point_cloud = np.load(cloudpath + f'{features[\"model_name\"][i]}.npy').reshape(-1,3)\n",
    "                edgefeat = scipy.sparse.load_npz(edgepath + f'{features[\"model_name\"][i]}.npz')\n",
    "                output.append(\n",
    "                    Graph(x=((point_cloud - centroids)/furthest_distance), a=edgefeat, y=features[\"build_time\"][i])\n",
    "                )\n",
    "\n",
    "        return output\n",
    "\n",
    "with tf.device(\"CPU\"):\n",
    "    dataset = MyDataset()\n",
    "\n",
    "dataset"
   ]
  },
  {
   "cell_type": "code",
   "execution_count": 9,
   "metadata": {},
   "outputs": [
    {
     "ename": "KeyboardInterrupt",
     "evalue": "",
     "output_type": "error",
     "traceback": [
      "\u001b[1;31m---------------------------------------------------------------------------\u001b[0m",
      "\u001b[1;31mKeyboardInterrupt\u001b[0m                         Traceback (most recent call last)",
      "\u001b[1;32mg:\\Unief\\Masterproef\\Notebooks\\graphconvolutionalmodel.ipynb Cell 12\u001b[0m in \u001b[0;36m2\n\u001b[0;32m     <a href='vscode-notebook-cell:/g%3A/Unief/Masterproef/Notebooks/graphconvolutionalmodel.ipynb#X14sZmlsZQ%3D%3D?line=22'>23</a>\u001b[0m         \u001b[39mreturn\u001b[39;00m output\n\u001b[0;32m     <a href='vscode-notebook-cell:/g%3A/Unief/Masterproef/Notebooks/graphconvolutionalmodel.ipynb#X14sZmlsZQ%3D%3D?line=24'>25</a>\u001b[0m \u001b[39mwith\u001b[39;00m tf\u001b[39m.\u001b[39mdevice(\u001b[39m\"\u001b[39m\u001b[39mCPU\u001b[39m\u001b[39m\"\u001b[39m):\n\u001b[1;32m---> <a href='vscode-notebook-cell:/g%3A/Unief/Masterproef/Notebooks/graphconvolutionalmodel.ipynb#X14sZmlsZQ%3D%3D?line=25'>26</a>\u001b[0m     testdataset \u001b[39m=\u001b[39m TestDataset()\n\u001b[0;32m     <a href='vscode-notebook-cell:/g%3A/Unief/Masterproef/Notebooks/graphconvolutionalmodel.ipynb#X14sZmlsZQ%3D%3D?line=27'>28</a>\u001b[0m testdataset\n",
      "\u001b[1;32mg:\\Unief\\Masterproef\\Notebooks\\graphconvolutionalmodel.ipynb Cell 12\u001b[0m in \u001b[0;36m6\n\u001b[0;32m      <a href='vscode-notebook-cell:/g%3A/Unief/Masterproef/Notebooks/graphconvolutionalmodel.ipynb#X14sZmlsZQ%3D%3D?line=4'>5</a>\u001b[0m \u001b[39mdef\u001b[39;00m \u001b[39m__init__\u001b[39m(\u001b[39mself\u001b[39m, \u001b[39m*\u001b[39m\u001b[39m*\u001b[39mkwargs):\n\u001b[1;32m----> <a href='vscode-notebook-cell:/g%3A/Unief/Masterproef/Notebooks/graphconvolutionalmodel.ipynb#X14sZmlsZQ%3D%3D?line=5'>6</a>\u001b[0m     \u001b[39msuper\u001b[39m()\u001b[39m.\u001b[39m\u001b[39m__init__\u001b[39m(\u001b[39m*\u001b[39m\u001b[39m*\u001b[39mkwargs)\n",
      "File \u001b[1;32mc:\\Users\\Robin\\.conda\\envs\\tfenvironment\\lib\\site-packages\\spektral\\data\\dataset.py:118\u001b[0m, in \u001b[0;36mDataset.__init__\u001b[1;34m(self, transforms, **kwargs)\u001b[0m\n\u001b[0;32m    115\u001b[0m     \u001b[39mself\u001b[39m\u001b[39m.\u001b[39mdownload()\n\u001b[0;32m    117\u001b[0m \u001b[39m# Read graphs\u001b[39;00m\n\u001b[1;32m--> 118\u001b[0m \u001b[39mself\u001b[39m\u001b[39m.\u001b[39mgraphs \u001b[39m=\u001b[39m \u001b[39mself\u001b[39;49m\u001b[39m.\u001b[39;49mread()\n\u001b[0;32m    119\u001b[0m \u001b[39mif\u001b[39;00m \u001b[39mself\u001b[39m\u001b[39m.\u001b[39ma \u001b[39mis\u001b[39;00m \u001b[39mNone\u001b[39;00m \u001b[39mand\u001b[39;00m \u001b[39mself\u001b[39m\u001b[39m.\u001b[39m\u001b[39m__len__\u001b[39m() \u001b[39m>\u001b[39m \u001b[39m0\u001b[39m \u001b[39mand\u001b[39;00m \u001b[39m\"\u001b[39m\u001b[39ma\u001b[39m\u001b[39m\"\u001b[39m \u001b[39mnot\u001b[39;00m \u001b[39min\u001b[39;00m \u001b[39mself\u001b[39m\u001b[39m.\u001b[39mgraphs[\u001b[39m0\u001b[39m]:\n\u001b[0;32m    120\u001b[0m     warnings\u001b[39m.\u001b[39mwarn(\n\u001b[0;32m    121\u001b[0m         \u001b[39m\"\u001b[39m\u001b[39mThe graphs in this dataset have no adjacency matrix. \u001b[39m\u001b[39m\"\u001b[39m\n\u001b[0;32m    122\u001b[0m         \u001b[39m\"\u001b[39m\u001b[39mIs this intentional?\u001b[39m\u001b[39m\"\u001b[39m\n\u001b[0;32m    123\u001b[0m     )\n",
      "\u001b[1;32mg:\\Unief\\Masterproef\\Notebooks\\graphconvolutionalmodel.ipynb Cell 12\u001b[0m in \u001b[0;36m1\n\u001b[0;32m     <a href='vscode-notebook-cell:/g%3A/Unief/Masterproef/Notebooks/graphconvolutionalmodel.ipynb#X14sZmlsZQ%3D%3D?line=11'>12</a>\u001b[0m \u001b[39mfor\u001b[39;00m i \u001b[39min\u001b[39;00m \u001b[39mrange\u001b[39m(\u001b[39m3000\u001b[39m,\u001b[39m3600\u001b[39m):\n\u001b[0;32m     <a href='vscode-notebook-cell:/g%3A/Unief/Masterproef/Notebooks/graphconvolutionalmodel.ipynb#X14sZmlsZQ%3D%3D?line=12'>13</a>\u001b[0m     \u001b[39mif\u001b[39;00m(os\u001b[39m.\u001b[39mpath\u001b[39m.\u001b[39misfile(adjpath \u001b[39m+\u001b[39m \u001b[39mf\u001b[39m\u001b[39m'\u001b[39m\u001b[39m{\u001b[39;00mfeatures[\u001b[39m\"\u001b[39m\u001b[39mmodel_name\u001b[39m\u001b[39m\"\u001b[39m][i]\u001b[39m}\u001b[39;00m\u001b[39m.npz\u001b[39m\u001b[39m'\u001b[39m)):\n\u001b[1;32m---> <a href='vscode-notebook-cell:/g%3A/Unief/Masterproef/Notebooks/graphconvolutionalmodel.ipynb#X14sZmlsZQ%3D%3D?line=14'>15</a>\u001b[0m         adjmatrix \u001b[39m=\u001b[39m scipy\u001b[39m.\u001b[39;49msparse\u001b[39m.\u001b[39;49mload_npz(adjpath \u001b[39m+\u001b[39;49m \u001b[39mf\u001b[39;49m\u001b[39m'\u001b[39;49m\u001b[39m{\u001b[39;49;00mfeatures[\u001b[39m\"\u001b[39;49m\u001b[39mmodel_name\u001b[39;49m\u001b[39m\"\u001b[39;49m][i]\u001b[39m}\u001b[39;49;00m\u001b[39m.npz\u001b[39;49m\u001b[39m'\u001b[39;49m)\n\u001b[0;32m     <a href='vscode-notebook-cell:/g%3A/Unief/Masterproef/Notebooks/graphconvolutionalmodel.ipynb#X14sZmlsZQ%3D%3D?line=15'>16</a>\u001b[0m         point_cloud \u001b[39m=\u001b[39m np\u001b[39m.\u001b[39mload(cloudpath \u001b[39m+\u001b[39m \u001b[39mf\u001b[39m\u001b[39m'\u001b[39m\u001b[39m{\u001b[39;00mfeatures[\u001b[39m\"\u001b[39m\u001b[39mmodel_name\u001b[39m\u001b[39m\"\u001b[39m][i]\u001b[39m}\u001b[39;00m\u001b[39m.npy\u001b[39m\u001b[39m'\u001b[39m)\u001b[39m.\u001b[39mreshape(\u001b[39m-\u001b[39m\u001b[39m1\u001b[39m,\u001b[39m3\u001b[39m)\n\u001b[0;32m     <a href='vscode-notebook-cell:/g%3A/Unief/Masterproef/Notebooks/graphconvolutionalmodel.ipynb#X14sZmlsZQ%3D%3D?line=16'>17</a>\u001b[0m         edgefeat \u001b[39m=\u001b[39m scipy\u001b[39m.\u001b[39msparse\u001b[39m.\u001b[39mload_npz(edgepath \u001b[39m+\u001b[39m \u001b[39mf\u001b[39m\u001b[39m'\u001b[39m\u001b[39m{\u001b[39;00mfeatures[\u001b[39m\"\u001b[39m\u001b[39mmodel_name\u001b[39m\u001b[39m\"\u001b[39m][i]\u001b[39m}\u001b[39;00m\u001b[39m.npz\u001b[39m\u001b[39m'\u001b[39m)\n",
      "File \u001b[1;32mc:\\Users\\Robin\\.conda\\envs\\tfenvironment\\lib\\site-packages\\scipy\\sparse\\_matrix_io.py:123\u001b[0m, in \u001b[0;36mload_npz\u001b[1;34m(file)\u001b[0m\n\u001b[0;32m     75\u001b[0m \u001b[39mdef\u001b[39;00m \u001b[39mload_npz\u001b[39m(file):\n\u001b[0;32m     76\u001b[0m     \u001b[39m\"\"\" Load a sparse matrix from a file using ``.npz`` format.\u001b[39;00m\n\u001b[0;32m     77\u001b[0m \n\u001b[0;32m     78\u001b[0m \u001b[39m    Parameters\u001b[39;00m\n\u001b[1;32m   (...)\u001b[0m\n\u001b[0;32m    120\u001b[0m \u001b[39m           [4, 0, 0]], dtype=int64)\u001b[39;00m\n\u001b[0;32m    121\u001b[0m \u001b[39m    \"\"\"\u001b[39;00m\n\u001b[1;32m--> 123\u001b[0m     \u001b[39mwith\u001b[39;00m np\u001b[39m.\u001b[39mload(file, \u001b[39m*\u001b[39m\u001b[39m*\u001b[39mPICKLE_KWARGS) \u001b[39mas\u001b[39;00m loaded:\n\u001b[0;32m    124\u001b[0m         \u001b[39mtry\u001b[39;00m:\n\u001b[0;32m    125\u001b[0m             matrix_format \u001b[39m=\u001b[39m loaded[\u001b[39m'\u001b[39m\u001b[39mformat\u001b[39m\u001b[39m'\u001b[39m]\n",
      "File \u001b[1;32mc:\\Users\\Robin\\.conda\\envs\\tfenvironment\\lib\\site-packages\\numpy\\lib\\npyio.py:405\u001b[0m, in \u001b[0;36mload\u001b[1;34m(file, mmap_mode, allow_pickle, fix_imports, encoding, max_header_size)\u001b[0m\n\u001b[0;32m    403\u001b[0m     own_fid \u001b[39m=\u001b[39m \u001b[39mFalse\u001b[39;00m\n\u001b[0;32m    404\u001b[0m \u001b[39melse\u001b[39;00m:\n\u001b[1;32m--> 405\u001b[0m     fid \u001b[39m=\u001b[39m stack\u001b[39m.\u001b[39menter_context(\u001b[39mopen\u001b[39;49m(os_fspath(file), \u001b[39m\"\u001b[39;49m\u001b[39mrb\u001b[39;49m\u001b[39m\"\u001b[39;49m))\n\u001b[0;32m    406\u001b[0m     own_fid \u001b[39m=\u001b[39m \u001b[39mTrue\u001b[39;00m\n\u001b[0;32m    408\u001b[0m \u001b[39m# Code to distinguish from NumPy binary files and pickles.\u001b[39;00m\n",
      "\u001b[1;31mKeyboardInterrupt\u001b[0m: "
     ]
    }
   ],
   "source": [
    "#Testdata\n",
    "#features = pd.read_csv('thingi10k_data.csv', index_col=0)\n",
    "\n",
    "class TestDataset(Dataset):\n",
    "    def __init__(self, **kwargs):\n",
    "        super().__init__(**kwargs)\n",
    "\n",
    "    def read(self):\n",
    "        output = []\n",
    "\n",
    "        #files = os.listdir(\"../Data/adjmatrices/\")\n",
    "        for i in range(3000,3600):\n",
    "            if(os.path.isfile(adjpath + f'{features[\"model_name\"][i]}.npz')):\n",
    "                \n",
    "                adjmatrix = scipy.sparse.load_npz(adjpath + f'{features[\"model_name\"][i]}.npz')\n",
    "                point_cloud = np.load(cloudpath + f'{features[\"model_name\"][i]}.npy').reshape(-1,3)\n",
    "                edgefeat = scipy.sparse.load_npz(edgepath + f'{features[\"model_name\"][i]}.npz')\n",
    "                #edgefeat = np.load(edgepath + f'{features[\"model_name\"][i]}.npy').reshape(-1,1)\n",
    "                output.append(\n",
    "                    Graph(x=((point_cloud - centroids)/furthest_distance), a=edgefeat, y=features[\"build_time\"][i])\n",
    "                )\n",
    "\n",
    "        return output\n",
    "    \n",
    "with tf.device(\"CPU\"):\n",
    "    testdataset = TestDataset()\n",
    "    \n",
    "testdataset"
   ]
  },
  {
   "cell_type": "code",
   "execution_count": 63,
   "metadata": {},
   "outputs": [],
   "source": [
    "#Preprocessing: choose filter based on Conv layer\n",
    "dataset.apply(GCNFilter())\n",
    "testdataset.apply(GCNFilter())"
   ]
  },
  {
   "cell_type": "code",
   "execution_count": 9,
   "metadata": {},
   "outputs": [],
   "source": [
    "dataset.apply(NormalizeAdj())\n",
    "testdataset.apply(NormalizeAdj())"
   ]
  },
  {
   "cell_type": "code",
   "execution_count": 9,
   "metadata": {},
   "outputs": [],
   "source": [
    "#Model 1\n",
    "xi = Input(shape=(None,3), name= \"inputx\")\n",
    "ai = Input(shape=(None,None), name= 'inputa')\n",
    "x1 = GCNConv(64, 'relu')([xi,ai])\n",
    "x2 = GCNConv(64, 'relu')([x1,ai])\n",
    "x3 = GCNConv(64, 'relu')([x2,ai])\n",
    "x4 = GCNConv(128, 'relu')([x3,ai])\n",
    "x = Concatenate()([x1,x2,x3,x4])\n",
    "x = GlobalMaxPool()(x)\n",
    "x = Dense(432, 'relu')(x)   #512\n",
    "x = Dropout(0.15)(x)\n",
    "x = Dense(384, 'relu')(x)   #265\n",
    "x = Dropout(0.15)(x)\n",
    "x = Dense(1, 'linear')(x)\n",
    "model = Model(inputs=[xi,ai], outputs=x)\n",
    "\n",
    "model.compile(optimizer=tf.keras.optimizers.Adam(learning_rate=0.001) , loss='mape', metrics=[tf.keras.metrics.MeanAbsolutePercentageError(name=\"mape\"), 'mae'])"
   ]
  },
  {
   "cell_type": "code",
   "execution_count": 12,
   "metadata": {},
   "outputs": [],
   "source": [
    "#Overfit model\n",
    "#xi = Input(shape=(None,3), name= \"inputx\")\n",
    "xi = Input( name= 'inputx', type_spec=tf.TensorSpec(shape=[None,3]))\n",
    "ai = Input( name= 'inputa', type_spec=tf.SparseTensorSpec(shape=[None,None]))\n",
    "#ai = Input( name= 'inputa', type_spec=tf.TensorSpec(shape=[None,None]))\n",
    "#ai = tf.keras.Input(shape=(None,None), name= 'inputa')\n",
    "#ei = Input(shape=(None,1), name= 'inpute')\n",
    "#ii = Input(shape=(None,), name= 'inputi', dtype='int32')\n",
    "ii = Input( name= 'inputi', type_spec=tf.TensorSpec(shape=[None,], dtype='int32'))\n",
    "\n",
    "'''x1 = GCSConv(64)([xi,ai])\n",
    "x2 = GCSConv(64)([x1,ai])\n",
    "x3 = GCSConv(64)([x2,ai])\n",
    "x4 = GCSConv(128)([x3,ai])'''\n",
    "'''x1 = GCSConv(16, 'relu')([xi,ai])\n",
    "x1 = GCSConv(16, 'relu')([x1,ai])\n",
    "x2, a, i = SAGPool(0.8)([x1,ai,ii])\n",
    "x2 = GCSConv(32, 'relu')([x2,a])\n",
    "x2 = GCSConv(32, 'relu')([x2,a])\n",
    "x3, a1, i1 = SAGPool(0.6)([x2,a,i])\n",
    "x3 = GCSConv(64, 'relu')([x3,a1])\n",
    "x3 = GCSConv(64, 'relu')([x3,a1])\n",
    "x4, a2, i2 = SAGPool(0.5)([x3,a1,i1])'''\n",
    "#x = Concatenate()([x3,x6,x9])\n",
    "#x= GlobalMaxPool()([x6,ii])\n",
    "x1 = GCSConv(32, 'relu', kernel_regularizer=regularizers.L2(0.01))([xi,ai]) #simplified: 64,128 -> 512,128 43-44%\n",
    "#x2 = GCSConv(128, 'relu', kernel_regularizer=regularizers.L2(0.01))([x1,ai]) #normal: 128,128,128,256 -> 512,128 47-48%\n",
    "#x3 = GCSConv(128, 'relu', kernel_regularizer=regularizers.L2(0.01))([x2,ai])\n",
    "x4 = GCSConv(64, 'relu', kernel_regularizer=regularizers.L2(0.01))([x1,ai])\n",
    "x = Concatenate()([x1,x4])\n",
    "x= GlobalMaxPool()([x,ii])\n",
    "\n",
    "x = Dense(512, 'relu', kernel_regularizer=regularizers.L2(0.01))(x)   #512\n",
    "x = Dropout(0.3)(x)\n",
    "x = Dense(128, 'relu', kernel_regularizer=regularizers.L2(0.01))(x)   #265\n",
    "x = Dropout(0.3, name='dropgcn')(x)\n",
    "x = Dense(1, 'linear')(x)\n",
    "model = Model(inputs=[xi,ai,ii], outputs=x)\n",
    "\n",
    "model.compile(optimizer=tf.keras.optimizers.Adam(learning_rate=0.001) , loss='mape', metrics=[tf.keras.metrics.MeanAbsolutePercentageError(name=\"mape\"), 'mae'])\n",
    "#model.summary()"
   ]
  },
  {
   "cell_type": "code",
   "execution_count": 10,
   "metadata": {},
   "outputs": [
    {
     "name": "stderr",
     "output_type": "stream",
     "text": [
      "c:\\Users\\Robin\\.conda\\envs\\tfenvironment\\lib\\site-packages\\keras\\initializers\\initializers_v2.py:120: UserWarning: The initializer GlorotUniform is unseeded and being called multiple times, which will return identical values  each time (even if the initializer is unseeded). Please update your code to provide a seed to the initializer, or avoid using the same initalizer instance more than once.\n",
      "  warnings.warn(\n"
     ]
    }
   ],
   "source": [
    "#model 3\n",
    "#xi = Input(shape=(None,3), name= \"inputx\")\n",
    "xi = Input( name= 'inputx', type_spec=tf.TensorSpec(shape=[None,3]))\n",
    "ai = Input( name= 'inputa', type_spec=tf.SparseTensorSpec(shape=[None,None]))\n",
    "#ai = Input( name= 'inputa', type_spec=tf.TensorSpec(shape=[None,None]))\n",
    "#ai = tf.keras.Input(shape=(None,None), name= 'inputa')\n",
    "#ei = Input(shape=(None,1), name= 'inpute')\n",
    "#ii = Input(shape=(None,), name= 'inputi', dtype='int32')\n",
    "ii = Input( name= 'inputi', type_spec=tf.TensorSpec(shape=[None,], dtype='int32'))\n",
    "\n",
    "x1 = GCSConv(32, 'relu', kernel_regularizer=regularizers.L1(0.01))([xi,ai]) \n",
    "x2 = GCSConv(64, 'relu', kernel_regularizer=regularizers.L1(0.01))([x1,ai])\n",
    "x = Concatenate()([x1,x2])\n",
    "#x = Flatten()(x)\n",
    "x= GlobalMaxPool()([x,ii])\n",
    "\n",
    "x = Dense(128, 'relu', kernel_regularizer=regularizers.L1(0.05))(x)   #128\n",
    "#x = Dropout(0.1)(x)\n",
    "x = Dense(64, 'relu', kernel_regularizer=regularizers.L1(0.05))(x)   #64\n",
    "x = Dropout(0.2, name='dropgcn')(x)\n",
    "\n",
    "x = Dense(1, 'linear')(x)\n",
    "model = Model(inputs=[xi,ai,ii], outputs=x)\n",
    "\n",
    "model.compile(optimizer=tf.keras.optimizers.Adam(learning_rate=0.001) , loss='mape', metrics=[tf.keras.metrics.MeanAbsolutePercentageError(name=\"mape\"), 'mae'])\n",
    "#model.summary()"
   ]
  },
  {
   "cell_type": "code",
   "execution_count": 5,
   "metadata": {},
   "outputs": [
    {
     "name": "stdout",
     "output_type": "stream",
     "text": [
      "Model: \"model_4\"\n",
      "__________________________________________________________________________________________________\n",
      " Layer (type)                   Output Shape         Param #     Connected to                     \n",
      "==================================================================================================\n",
      " inputx (InputLayer)            [(None, 3)]          0           []                               \n",
      "                                                                                                  \n",
      " inputa (InputLayer)            [(None, None)]       0           []                               \n",
      "                                                                                                  \n",
      " gcs_conv_4 (GCSConv)           (None, 64)           448         ['inputx[0][0]',                 \n",
      "                                                                  'inputa[0][0]']                 \n",
      "                                                                                                  \n",
      " gcs_conv_5 (GCSConv)           (None, 128)          16512       ['gcs_conv_4[0][0]',             \n",
      "                                                                  'inputa[0][0]']                 \n",
      "                                                                                                  \n",
      " concatenate_2 (Concatenate)    (None, 192)          0           ['gcs_conv_4[0][0]',             \n",
      "                                                                  'gcs_conv_5[0][0]']             \n",
      "                                                                                                  \n",
      " inputi (InputLayer)            [(None,)]            0           []                               \n",
      "                                                                                                  \n",
      " global_max_pool_2 (GlobalMaxPo  (None, 192)         0           ['concatenate_2[0][0]',          \n",
      " ol)                                                              'inputi[0][0]']                 \n",
      "                                                                                                  \n",
      " dense_10 (Dense)               (None, 256)          49408       ['global_max_pool_2[0][0]']      \n",
      "                                                                                                  \n",
      " dropout_2 (Dropout)            (None, 256)          0           ['dense_10[0][0]']               \n",
      "                                                                                                  \n",
      " dense_11 (Dense)               (None, 64)           16448       ['dropout_2[0][0]']              \n",
      "                                                                                                  \n",
      " dropgcn (Dropout)              (None, 64)           0           ['dense_11[0][0]']               \n",
      "                                                                                                  \n",
      " dense_12 (Dense)               (None, 1)            65          ['dropgcn[0][0]']                \n",
      "                                                                                                  \n",
      "==================================================================================================\n",
      "Total params: 82,881\n",
      "Trainable params: 82,881\n",
      "Non-trainable params: 0\n",
      "__________________________________________________________________________________________________\n"
     ]
    }
   ],
   "source": [
    "model = keras.models.load_model('savedmodels/GCN_simplified_normalized/')\n",
    "model.summary()"
   ]
  },
  {
   "cell_type": "code",
   "execution_count": 6,
   "metadata": {},
   "outputs": [
    {
     "name": "stderr",
     "output_type": "stream",
     "text": [
      "c:\\Users\\Robin\\.conda\\envs\\tfenvironment\\lib\\site-packages\\keras\\initializers\\initializers_v2.py:120: UserWarning: The initializer GlorotUniform is unseeded and being called multiple times, which will return identical values  each time (even if the initializer is unseeded). Please update your code to provide a seed to the initializer, or avoid using the same initalizer instance more than once.\n",
      "  warnings.warn(\n"
     ]
    }
   ],
   "source": [
    "#thesis\n",
    "#xi = Input(shape=(None,3), name= \"inputx\")\n",
    "xi = Input( name= 'inputx', type_spec=tf.TensorSpec(shape=[None,3]))\n",
    "ai = Input( name= 'inputa', type_spec=tf.SparseTensorSpec(shape=[None,None]))\n",
    "#ai = Input( name= 'inputa', type_spec=tf.TensorSpec(shape=[None,None]))\n",
    "#ai = tf.keras.Input(shape=(None,None), name= 'inputa')\n",
    "#ei = Input(shape=(None,1), name= 'inpute')\n",
    "#ii = Input(shape=(None,), name= 'inputi', dtype='int32')\n",
    "ii = Input( name= 'inputi', type_spec=tf.TensorSpec(shape=[None,], dtype='int32'))\n",
    "\n",
    "x1 = GCSConv(64, 'relu', kernel_regularizer=regularizers.L1(0.01))([xi,ai]) \n",
    "x2 = GCSConv(128, 'relu', kernel_regularizer=regularizers.L1(0.01))([x1,ai])\n",
    "x = Concatenate()([x1,x2])\n",
    "#x = Flatten()(x)\n",
    "x= GlobalMaxPool()([x,ii])\n",
    "\n",
    "x = Dense(256, 'relu', kernel_regularizer=regularizers.L1(0.05))(x)   #128\n",
    "#x = Dropout(0.1)(x)\n",
    "x = Dense(64, 'relu', kernel_regularizer=regularizers.L1(0.05))(x)   #64\n",
    "x = Dropout(0.2, name='dropgcn')(x)\n",
    "\n",
    "x = Dense(1, 'linear', name='Output')(x)\n",
    "model = Model(inputs=[xi,ai,ii], outputs=x)\n"
   ]
  },
  {
   "cell_type": "code",
   "execution_count": 15,
   "metadata": {},
   "outputs": [
    {
     "data": {
      "image/png": "[encoded data removed]",
      "text/plain": [
       "<IPython.core.display.Image object>"
      ]
     },
     "execution_count": 15,
     "metadata": {},
     "output_type": "execute_result"
    }
   ],
   "source": [
    "keras.utils.plot_model(model, \"savedimages/test.png\", show_shapes=True)"
   ]
  },
  {
   "cell_type": "code",
   "execution_count": 11,
   "metadata": {},
   "outputs": [],
   "source": [
    "#Define overfit callbacks\n",
    "def get_overfit_callbacks(patience, lr_factor):\n",
    "  \n",
    "  return [\n",
    "      # Learning rate is reduced by 'lr_factor' if val_loss stagnates\n",
    "      # for a number of epochs set with 'patience/2' var.     \n",
    "      ReduceLROnPlateau(monitor=\"loss\", mode=\"min\",\n",
    "                        factor=lr_factor, min_lr=1e-8, patience=patience//2, verbose=1)]"
   ]
  },
  {
   "cell_type": "code",
   "execution_count": 17,
   "metadata": {},
   "outputs": [],
   "source": [
    "with tf.device(\"CPU\"):\n",
    "    loader = DisjointLoader(dataset, batch_size=1)\n",
    "    testloader = DisjointLoader(testdataset, batch_size=1)"
   ]
  },
  {
   "cell_type": "code",
   "execution_count": 20,
   "metadata": {},
   "outputs": [
    {
     "name": "stdout",
     "output_type": "stream",
     "text": [
      "Epoch 1/1000\n"
     ]
    },
    {
     "name": "stderr",
     "output_type": "stream",
     "text": [
      "c:\\Users\\Robin\\.conda\\envs\\tfenvironment\\lib\\site-packages\\spektral\\data\\utils.py:221: UserWarning: you are shuffling a 'MyDataset' object which is not a subclass of 'Sequence'; `shuffle` is not guaranteed to behave correctly. E.g., non-numpy array/tensor objects with view semantics may contain duplicates after shuffling.\n",
      "  np.random.shuffle(a)\n",
      "c:\\Users\\Robin\\.conda\\envs\\tfenvironment\\lib\\site-packages\\spektral\\data\\utils.py:221: UserWarning: you are shuffling a 'TestDataset' object which is not a subclass of 'Sequence'; `shuffle` is not guaranteed to behave correctly. E.g., non-numpy array/tensor objects with view semantics may contain duplicates after shuffling.\n",
      "  np.random.shuffle(a)\n"
     ]
    },
    {
     "name": "stdout",
     "output_type": "stream",
     "text": [
      "3000/3000 - 27s - loss: 75.9502 - mape: 75.8207 - mae: 238.8871 - val_loss: 74.0751 - val_mape: 73.9639 - val_mae: 307.3659 - lr: 0.0010 - 27s/epoch - 9ms/step\n",
      "Epoch 2/1000\n",
      "3000/3000 - 27s - loss: 72.9353 - mape: 72.8178 - mae: 236.0504 - val_loss: 72.7796 - val_mape: 72.6658 - val_mae: 306.9602 - lr: 0.0010 - 27s/epoch - 9ms/step\n",
      "Epoch 3/1000\n"
     ]
    },
    {
     "ename": "KeyboardInterrupt",
     "evalue": "",
     "output_type": "error",
     "traceback": [
      "\u001b[1;31m---------------------------------------------------------------------------\u001b[0m",
      "\u001b[1;31mKeyboardInterrupt\u001b[0m                         Traceback (most recent call last)",
      "\u001b[1;32mg:\\Unief\\Masterproef\\Notebooks\\graphconvolutionalmodel.ipynb Cell 26\u001b[0m in \u001b[0;36m1\n\u001b[1;32m----> <a href='vscode-notebook-cell:/g%3A/Unief/Masterproef/Notebooks/graphconvolutionalmodel.ipynb#X34sZmlsZQ%3D%3D?line=0'>1</a>\u001b[0m history \u001b[39m=\u001b[39m model\u001b[39m.\u001b[39;49mfit(loader\u001b[39m.\u001b[39;49mload(), validation_data\u001b[39m=\u001b[39;49mtestloader\u001b[39m.\u001b[39;49mload(), validation_steps\u001b[39m=\u001b[39;49mtestloader\u001b[39m.\u001b[39;49msteps_per_epoch, steps_per_epoch\u001b[39m=\u001b[39;49mloader\u001b[39m.\u001b[39;49msteps_per_epoch, epochs\u001b[39m=\u001b[39;49m\u001b[39m1000\u001b[39;49m, verbose\u001b[39m=\u001b[39;49m\u001b[39m2\u001b[39;49m, callbacks\u001b[39m=\u001b[39;49mget_overfit_callbacks(patience\u001b[39m=\u001b[39;49m\u001b[39m40\u001b[39;49m,lr_factor\u001b[39m=\u001b[39;49m\u001b[39m0.3\u001b[39;49m))\n",
      "File \u001b[1;32mc:\\Users\\Robin\\.conda\\envs\\tfenvironment\\lib\\site-packages\\keras\\utils\\traceback_utils.py:65\u001b[0m, in \u001b[0;36mfilter_traceback.<locals>.error_handler\u001b[1;34m(*args, **kwargs)\u001b[0m\n\u001b[0;32m     63\u001b[0m filtered_tb \u001b[39m=\u001b[39m \u001b[39mNone\u001b[39;00m\n\u001b[0;32m     64\u001b[0m \u001b[39mtry\u001b[39;00m:\n\u001b[1;32m---> 65\u001b[0m     \u001b[39mreturn\u001b[39;00m fn(\u001b[39m*\u001b[39margs, \u001b[39m*\u001b[39m\u001b[39m*\u001b[39mkwargs)\n\u001b[0;32m     66\u001b[0m \u001b[39mexcept\u001b[39;00m \u001b[39mException\u001b[39;00m \u001b[39mas\u001b[39;00m e:\n\u001b[0;32m     67\u001b[0m     filtered_tb \u001b[39m=\u001b[39m _process_traceback_frames(e\u001b[39m.\u001b[39m__traceback__)\n",
      "File \u001b[1;32mc:\\Users\\Robin\\.conda\\envs\\tfenvironment\\lib\\site-packages\\keras\\engine\\training.py:1555\u001b[0m, in \u001b[0;36mModel.fit\u001b[1;34m(self, x, y, batch_size, epochs, verbose, callbacks, validation_split, validation_data, shuffle, class_weight, sample_weight, initial_epoch, steps_per_epoch, validation_steps, validation_batch_size, validation_freq, max_queue_size, workers, use_multiprocessing)\u001b[0m\n\u001b[0;32m   1551\u001b[0m \u001b[39mwith\u001b[39;00m data_handler\u001b[39m.\u001b[39mcatch_stop_iteration():\n\u001b[0;32m   1552\u001b[0m     data_handler\u001b[39m.\u001b[39m_initial_step \u001b[39m=\u001b[39m data_handler\u001b[39m.\u001b[39m_initial_step \u001b[39mor\u001b[39;00m (\n\u001b[0;32m   1553\u001b[0m         \u001b[39mself\u001b[39m\u001b[39m.\u001b[39m_maybe_load_initial_step_from_ckpt()\n\u001b[0;32m   1554\u001b[0m     )\n\u001b[1;32m-> 1555\u001b[0m     \u001b[39mfor\u001b[39;00m step \u001b[39min\u001b[39;00m data_handler\u001b[39m.\u001b[39msteps():\n\u001b[0;32m   1556\u001b[0m         \u001b[39mwith\u001b[39;00m tf\u001b[39m.\u001b[39mprofiler\u001b[39m.\u001b[39mexperimental\u001b[39m.\u001b[39mTrace(\n\u001b[0;32m   1557\u001b[0m             \u001b[39m\"\u001b[39m\u001b[39mtrain\u001b[39m\u001b[39m\"\u001b[39m,\n\u001b[0;32m   1558\u001b[0m             epoch_num\u001b[39m=\u001b[39mepoch,\n\u001b[1;32m   (...)\u001b[0m\n\u001b[0;32m   1561\u001b[0m             _r\u001b[39m=\u001b[39m\u001b[39m1\u001b[39m,\n\u001b[0;32m   1562\u001b[0m         ):\n\u001b[0;32m   1563\u001b[0m             callbacks\u001b[39m.\u001b[39mon_train_batch_begin(step)\n",
      "File \u001b[1;32mc:\\Users\\Robin\\.conda\\envs\\tfenvironment\\lib\\site-packages\\keras\\engine\\data_adapter.py:1374\u001b[0m, in \u001b[0;36mDataHandler.steps\u001b[1;34m(self)\u001b[0m\n\u001b[0;32m   1372\u001b[0m \u001b[39mif\u001b[39;00m \u001b[39mself\u001b[39m\u001b[39m.\u001b[39m_insufficient_data:  \u001b[39m# Set by `catch_stop_iteration`.\u001b[39;00m\n\u001b[0;32m   1373\u001b[0m     \u001b[39mbreak\u001b[39;00m\n\u001b[1;32m-> 1374\u001b[0m original_spe \u001b[39m=\u001b[39m \u001b[39mself\u001b[39;49m\u001b[39m.\u001b[39;49m_steps_per_execution\u001b[39m.\u001b[39;49mnumpy()\u001b[39m.\u001b[39mitem()\n\u001b[0;32m   1375\u001b[0m can_run_full_execution \u001b[39m=\u001b[39m (\n\u001b[0;32m   1376\u001b[0m     original_spe \u001b[39m==\u001b[39m \u001b[39m1\u001b[39m\n\u001b[0;32m   1377\u001b[0m     \u001b[39mor\u001b[39;00m \u001b[39mself\u001b[39m\u001b[39m.\u001b[39m_inferred_steps \u001b[39mis\u001b[39;00m \u001b[39mNone\u001b[39;00m\n\u001b[0;32m   1378\u001b[0m     \u001b[39mor\u001b[39;00m \u001b[39mself\u001b[39m\u001b[39m.\u001b[39m_inferred_steps \u001b[39m-\u001b[39m \u001b[39mself\u001b[39m\u001b[39m.\u001b[39m_current_step \u001b[39m>\u001b[39m\u001b[39m=\u001b[39m original_spe\n\u001b[0;32m   1379\u001b[0m )\n\u001b[0;32m   1381\u001b[0m \u001b[39mif\u001b[39;00m can_run_full_execution:\n",
      "File \u001b[1;32m~\\AppData\\Roaming\\Python\\Python310\\site-packages\\tensorflow\\python\\ops\\resource_variable_ops.py:637\u001b[0m, in \u001b[0;36mBaseResourceVariable.numpy\u001b[1;34m(self)\u001b[0m\n\u001b[0;32m    635\u001b[0m \u001b[39mdef\u001b[39;00m \u001b[39mnumpy\u001b[39m(\u001b[39mself\u001b[39m):\n\u001b[0;32m    636\u001b[0m   \u001b[39mif\u001b[39;00m context\u001b[39m.\u001b[39mexecuting_eagerly():\n\u001b[1;32m--> 637\u001b[0m     \u001b[39mreturn\u001b[39;00m \u001b[39mself\u001b[39;49m\u001b[39m.\u001b[39;49mread_value()\u001b[39m.\u001b[39;49mnumpy()\n\u001b[0;32m    638\u001b[0m   \u001b[39mraise\u001b[39;00m \u001b[39mNotImplementedError\u001b[39;00m(\n\u001b[0;32m    639\u001b[0m       \u001b[39m\"\u001b[39m\u001b[39mnumpy() is only available when eager execution is enabled.\u001b[39m\u001b[39m\"\u001b[39m)\n",
      "File \u001b[1;32m~\\AppData\\Roaming\\Python\\Python310\\site-packages\\tensorflow\\python\\framework\\ops.py:1157\u001b[0m, in \u001b[0;36m_EagerTensorBase.numpy\u001b[1;34m(self)\u001b[0m\n\u001b[0;32m   1134\u001b[0m \u001b[39m\"\"\"Copy of the contents of this Tensor into a NumPy array or scalar.\u001b[39;00m\n\u001b[0;32m   1135\u001b[0m \n\u001b[0;32m   1136\u001b[0m \u001b[39mUnlike NumPy arrays, Tensors are immutable, so this method has to copy\u001b[39;00m\n\u001b[1;32m   (...)\u001b[0m\n\u001b[0;32m   1154\u001b[0m \u001b[39m    NumPy dtype.\u001b[39;00m\n\u001b[0;32m   1155\u001b[0m \u001b[39m\"\"\"\u001b[39;00m\n\u001b[0;32m   1156\u001b[0m \u001b[39m# TODO(slebedev): Consider avoiding a copy for non-CPU or remote tensors.\u001b[39;00m\n\u001b[1;32m-> 1157\u001b[0m maybe_arr \u001b[39m=\u001b[39m \u001b[39mself\u001b[39;49m\u001b[39m.\u001b[39;49m_numpy()  \u001b[39m# pylint: disable=protected-access\u001b[39;00m\n\u001b[0;32m   1158\u001b[0m \u001b[39mreturn\u001b[39;00m maybe_arr\u001b[39m.\u001b[39mcopy() \u001b[39mif\u001b[39;00m \u001b[39misinstance\u001b[39m(maybe_arr, np\u001b[39m.\u001b[39mndarray) \u001b[39melse\u001b[39;00m maybe_arr\n",
      "File \u001b[1;32m~\\AppData\\Roaming\\Python\\Python310\\site-packages\\tensorflow\\python\\framework\\ops.py:1123\u001b[0m, in \u001b[0;36m_EagerTensorBase._numpy\u001b[1;34m(self)\u001b[0m\n\u001b[0;32m   1121\u001b[0m \u001b[39mdef\u001b[39;00m \u001b[39m_numpy\u001b[39m(\u001b[39mself\u001b[39m):\n\u001b[0;32m   1122\u001b[0m   \u001b[39mtry\u001b[39;00m:\n\u001b[1;32m-> 1123\u001b[0m     \u001b[39mreturn\u001b[39;00m \u001b[39mself\u001b[39;49m\u001b[39m.\u001b[39;49m_numpy_internal()\n\u001b[0;32m   1124\u001b[0m   \u001b[39mexcept\u001b[39;00m core\u001b[39m.\u001b[39m_NotOkStatusException \u001b[39mas\u001b[39;00m e:  \u001b[39m# pylint: disable=protected-access\u001b[39;00m\n\u001b[0;32m   1125\u001b[0m     \u001b[39mraise\u001b[39;00m core\u001b[39m.\u001b[39m_status_to_exception(e) \u001b[39mfrom\u001b[39;00m \u001b[39mNone\u001b[39m\n",
      "\u001b[1;31mKeyboardInterrupt\u001b[0m: "
     ]
    }
   ],
   "source": [
    "history = model.fit(loader.load(), validation_data=testloader.load(), validation_steps=testloader.steps_per_epoch, steps_per_epoch=loader.steps_per_epoch, epochs=1000, verbose=2, callbacks=get_overfit_callbacks(patience=40,lr_factor=0.3))"
   ]
  },
  {
   "cell_type": "code",
   "execution_count": null,
   "metadata": {},
   "outputs": [],
   "source": [
    "dfcopy = features.copy()\n",
    "build_times = features[\"build_time\"]\n",
    "dfcopy.drop(\"build_time\", axis=1,inplace=True)"
   ]
  },
  {
   "cell_type": "code",
   "execution_count": null,
   "metadata": {},
   "outputs": [],
   "source": [
    "metrics = model.evaluate(xtestt,ytestt)\n",
    "print('Metrics: {}'.format(metrics))"
   ]
  },
  {
   "cell_type": "code",
   "execution_count": 6,
   "metadata": {},
   "outputs": [],
   "source": [
    "#Define callbacks\n",
    "def get_callbacks(weights_file, patience, lr_factor):\n",
    "  \n",
    "  return [\n",
    "      # Only save the weights that correspond to the minimum mape.\n",
    "      ModelCheckpoint(filepath= weights_file,\n",
    "                      monitor=\"val_mape\", \n",
    "                      mode=\"min\",\n",
    "                      save_best_only=True, \n",
    "                      save_weights_only=False),\n",
    "      # If val_loss doesn't improve for a number of epochs set with 'patience' var \n",
    "      # training will stop to avoid overfitting.    \n",
    "      EarlyStopping(monitor=\"val_loss\",\n",
    "                    mode=\"min\",\n",
    "                    patience = patience,\n",
    "                    verbose=1),\n",
    "      # Learning rate is reduced by 'lr_factor' if val_loss stagnates\n",
    "      # for a number of epochs set with 'patience/2' var.     \n",
    "      ReduceLROnPlateau(monitor=\"val_loss\", mode=\"min\",\n",
    "                        factor=lr_factor, min_lr=1e-8, patience=patience//2, verbose=1)]"
   ]
  },
  {
   "cell_type": "code",
   "execution_count": 65,
   "metadata": {},
   "outputs": [],
   "source": [
    "with tf.device(\"CPU\"):\n",
    "    loader = BatchLoader(dataset, batch_size=4) #PackedBatchLoader if memory is not an issue ;(\n",
    "    testloader = BatchLoader(testdataset, batch_size=4) #batch size 8 max"
   ]
  },
  {
   "cell_type": "code",
   "execution_count": 42,
   "metadata": {},
   "outputs": [
    {
     "name": "stdout",
     "output_type": "stream",
     "text": [
      "Epoch 1/1000\n"
     ]
    },
    {
     "name": "stderr",
     "output_type": "stream",
     "text": [
      "WARNING:absl:Function `_wrapped_model` contains input name(s) args_0 with unsupported characters which will be renamed to args_0_4 in the SavedModel.\n"
     ]
    },
    {
     "name": "stdout",
     "output_type": "stream",
     "text": [
      "INFO:tensorflow:Assets written to: savedmodels\\GCNmodel_final_simplified\\assets\n"
     ]
    },
    {
     "name": "stderr",
     "output_type": "stream",
     "text": [
      "INFO:tensorflow:Assets written to: savedmodels\\GCNmodel_final_simplified\\assets\n"
     ]
    },
    {
     "name": "stdout",
     "output_type": "stream",
     "text": [
      "375/375 - 10s - loss: 137.7483 - mape: 135.2490 - mae: 253.0011 - val_loss: 75.9813 - val_mape: 73.5611 - val_mae: 292.1222 - lr: 0.0010 - 10s/epoch - 28ms/step\n",
      "Epoch 2/1000\n"
     ]
    },
    {
     "name": "stderr",
     "output_type": "stream",
     "text": [
      "c:\\Users\\Robin\\.conda\\envs\\tfenvironment\\lib\\site-packages\\keras\\engine\\functional.py:1563: CustomMaskWarning: Custom mask layers require a config and must override get_config. When loading, the custom mask layer must be passed to the custom_objects argument.\n",
      "  layer_config = serialize_layer_fn(layer)\n",
      "c:\\Users\\Robin\\.conda\\envs\\tfenvironment\\lib\\site-packages\\keras\\saving\\saved_model\\layer_serialization.py:134: CustomMaskWarning: Custom mask layers require a config and must override get_config. When loading, the custom mask layer must be passed to the custom_objects argument.\n",
      "  return generic_utils.serialize_keras_object(obj)\n",
      "c:\\Users\\Robin\\.conda\\envs\\tfenvironment\\lib\\site-packages\\spektral\\data\\utils.py:221: UserWarning: you are shuffling a 'MyDataset' object which is not a subclass of 'Sequence'; `shuffle` is not guaranteed to behave correctly. E.g., non-numpy array/tensor objects with view semantics may contain duplicates after shuffling.\n",
      "  np.random.shuffle(a)\n",
      "c:\\Users\\Robin\\.conda\\envs\\tfenvironment\\lib\\site-packages\\spektral\\data\\utils.py:221: UserWarning: you are shuffling a 'TestDataset' object which is not a subclass of 'Sequence'; `shuffle` is not guaranteed to behave correctly. E.g., non-numpy array/tensor objects with view semantics may contain duplicates after shuffling.\n",
      "  np.random.shuffle(a)\n"
     ]
    },
    {
     "name": "stdout",
     "output_type": "stream",
     "text": [
      "375/375 - 9s - loss: 93.4430 - mape: 91.0339 - mae: 235.0443 - val_loss: 79.1428 - val_mape: 76.7442 - val_mae: 298.8966 - lr: 0.0010 - 9s/epoch - 24ms/step\n",
      "Epoch 3/1000\n"
     ]
    },
    {
     "name": "stderr",
     "output_type": "stream",
     "text": [
      "WARNING:absl:Function `_wrapped_model` contains input name(s) args_0 with unsupported characters which will be renamed to args_0_4 in the SavedModel.\n"
     ]
    },
    {
     "name": "stdout",
     "output_type": "stream",
     "text": [
      "INFO:tensorflow:Assets written to: savedmodels\\GCNmodel_final_simplified\\assets\n"
     ]
    },
    {
     "name": "stderr",
     "output_type": "stream",
     "text": [
      "INFO:tensorflow:Assets written to: savedmodels\\GCNmodel_final_simplified\\assets\n"
     ]
    },
    {
     "name": "stdout",
     "output_type": "stream",
     "text": [
      "375/375 - 10s - loss: 86.5786 - mape: 84.1893 - mae: 234.5963 - val_loss: 72.2689 - val_mape: 69.8879 - val_mae: 298.4263 - lr: 0.0010 - 10s/epoch - 28ms/step\n",
      "Epoch 4/1000\n"
     ]
    },
    {
     "name": "stderr",
     "output_type": "stream",
     "text": [
      "c:\\Users\\Robin\\.conda\\envs\\tfenvironment\\lib\\site-packages\\keras\\engine\\functional.py:1563: CustomMaskWarning: Custom mask layers require a config and must override get_config. When loading, the custom mask layer must be passed to the custom_objects argument.\n",
      "  layer_config = serialize_layer_fn(layer)\n",
      "c:\\Users\\Robin\\.conda\\envs\\tfenvironment\\lib\\site-packages\\keras\\saving\\saved_model\\layer_serialization.py:134: CustomMaskWarning: Custom mask layers require a config and must override get_config. When loading, the custom mask layer must be passed to the custom_objects argument.\n",
      "  return generic_utils.serialize_keras_object(obj)\n",
      "c:\\Users\\Robin\\.conda\\envs\\tfenvironment\\lib\\site-packages\\spektral\\data\\utils.py:221: UserWarning: you are shuffling a 'MyDataset' object which is not a subclass of 'Sequence'; `shuffle` is not guaranteed to behave correctly. E.g., non-numpy array/tensor objects with view semantics may contain duplicates after shuffling.\n",
      "  np.random.shuffle(a)\n",
      "c:\\Users\\Robin\\.conda\\envs\\tfenvironment\\lib\\site-packages\\spektral\\data\\utils.py:221: UserWarning: you are shuffling a 'TestDataset' object which is not a subclass of 'Sequence'; `shuffle` is not guaranteed to behave correctly. E.g., non-numpy array/tensor objects with view semantics may contain duplicates after shuffling.\n",
      "  np.random.shuffle(a)\n"
     ]
    },
    {
     "name": "stdout",
     "output_type": "stream",
     "text": [
      "375/375 - 9s - loss: 81.8460 - mape: 79.4662 - mae: 231.4707 - val_loss: 87.1289 - val_mape: 84.7572 - val_mae: 303.7747 - lr: 0.0010 - 9s/epoch - 24ms/step\n",
      "Epoch 5/1000\n",
      "375/375 - 9s - loss: 75.5857 - mape: 73.2166 - mae: 228.2726 - val_loss: 85.4555 - val_mape: 83.0873 - val_mae: 304.9144 - lr: 0.0010 - 9s/epoch - 24ms/step\n",
      "Epoch 6/1000\n",
      "375/375 - 9s - loss: 78.6966 - mape: 76.3323 - mae: 229.3918 - val_loss: 78.2302 - val_mape: 75.8737 - val_mae: 295.7078 - lr: 0.0010 - 9s/epoch - 24ms/step\n",
      "Epoch 7/1000\n"
     ]
    },
    {
     "name": "stderr",
     "output_type": "stream",
     "text": [
      "WARNING:absl:Function `_wrapped_model` contains input name(s) args_0 with unsupported characters which will be renamed to args_0_4 in the SavedModel.\n"
     ]
    },
    {
     "name": "stdout",
     "output_type": "stream",
     "text": [
      "INFO:tensorflow:Assets written to: savedmodels\\GCNmodel_final_simplified\\assets\n"
     ]
    },
    {
     "name": "stderr",
     "output_type": "stream",
     "text": [
      "INFO:tensorflow:Assets written to: savedmodels\\GCNmodel_final_simplified\\assets\n"
     ]
    },
    {
     "name": "stdout",
     "output_type": "stream",
     "text": [
      "375/375 - 10s - loss: 70.3831 - mape: 68.0356 - mae: 224.8365 - val_loss: 63.3059 - val_mape: 60.9660 - val_mae: 287.9286 - lr: 0.0010 - 10s/epoch - 27ms/step\n",
      "Epoch 8/1000\n"
     ]
    },
    {
     "name": "stderr",
     "output_type": "stream",
     "text": [
      "c:\\Users\\Robin\\.conda\\envs\\tfenvironment\\lib\\site-packages\\keras\\engine\\functional.py:1563: CustomMaskWarning: Custom mask layers require a config and must override get_config. When loading, the custom mask layer must be passed to the custom_objects argument.\n",
      "  layer_config = serialize_layer_fn(layer)\n",
      "c:\\Users\\Robin\\.conda\\envs\\tfenvironment\\lib\\site-packages\\keras\\saving\\saved_model\\layer_serialization.py:134: CustomMaskWarning: Custom mask layers require a config and must override get_config. When loading, the custom mask layer must be passed to the custom_objects argument.\n",
      "  return generic_utils.serialize_keras_object(obj)\n",
      "c:\\Users\\Robin\\.conda\\envs\\tfenvironment\\lib\\site-packages\\spektral\\data\\utils.py:221: UserWarning: you are shuffling a 'MyDataset' object which is not a subclass of 'Sequence'; `shuffle` is not guaranteed to behave correctly. E.g., non-numpy array/tensor objects with view semantics may contain duplicates after shuffling.\n",
      "  np.random.shuffle(a)\n",
      "c:\\Users\\Robin\\.conda\\envs\\tfenvironment\\lib\\site-packages\\spektral\\data\\utils.py:221: UserWarning: you are shuffling a 'TestDataset' object which is not a subclass of 'Sequence'; `shuffle` is not guaranteed to behave correctly. E.g., non-numpy array/tensor objects with view semantics may contain duplicates after shuffling.\n",
      "  np.random.shuffle(a)\n"
     ]
    },
    {
     "name": "stdout",
     "output_type": "stream",
     "text": [
      "375/375 - 9s - loss: 69.4144 - mape: 67.0776 - mae: 223.9903 - val_loss: 70.8669 - val_mape: 68.5308 - val_mae: 296.8812 - lr: 0.0010 - 9s/epoch - 24ms/step\n",
      "Epoch 9/1000\n",
      "375/375 - 9s - loss: 68.4431 - mape: 66.1124 - mae: 223.4521 - val_loss: 65.6293 - val_mape: 63.2979 - val_mae: 293.5606 - lr: 0.0010 - 9s/epoch - 24ms/step\n",
      "Epoch 10/1000\n",
      "375/375 - 8s - loss: 64.8520 - mape: 62.5231 - mae: 222.4884 - val_loss: 63.4479 - val_mape: 61.1212 - val_mae: 285.5903 - lr: 0.0010 - 8s/epoch - 23ms/step\n",
      "Epoch 11/1000\n",
      "375/375 - 9s - loss: 66.5124 - mape: 64.1981 - mae: 221.9621 - val_loss: 63.4099 - val_mape: 61.1088 - val_mae: 290.9541 - lr: 0.0010 - 9s/epoch - 24ms/step\n",
      "Epoch 12/1000\n",
      "375/375 - 9s - loss: 66.0000 - mape: 63.7010 - mae: 223.2144 - val_loss: 72.8655 - val_mape: 70.5695 - val_mae: 299.6677 - lr: 0.0010 - 9s/epoch - 24ms/step\n",
      "Epoch 13/1000\n",
      "375/375 - 9s - loss: 66.4756 - mape: 64.1853 - mae: 222.9817 - val_loss: 94.0349 - val_mape: 91.7468 - val_mae: 302.0135 - lr: 0.0010 - 9s/epoch - 24ms/step\n",
      "Epoch 14/1000\n",
      "375/375 - 9s - loss: 66.7537 - mape: 64.4693 - mae: 224.2878 - val_loss: 63.3211 - val_mape: 61.0368 - val_mae: 290.9691 - lr: 0.0010 - 9s/epoch - 24ms/step\n",
      "Epoch 15/1000\n"
     ]
    },
    {
     "name": "stderr",
     "output_type": "stream",
     "text": [
      "WARNING:absl:Function `_wrapped_model` contains input name(s) args_0 with unsupported characters which will be renamed to args_0_4 in the SavedModel.\n"
     ]
    },
    {
     "name": "stdout",
     "output_type": "stream",
     "text": [
      "INFO:tensorflow:Assets written to: savedmodels\\GCNmodel_final_simplified\\assets\n"
     ]
    },
    {
     "name": "stderr",
     "output_type": "stream",
     "text": [
      "INFO:tensorflow:Assets written to: savedmodels\\GCNmodel_final_simplified\\assets\n"
     ]
    },
    {
     "name": "stdout",
     "output_type": "stream",
     "text": [
      "375/375 - 10s - loss: 65.1107 - mape: 62.8329 - mae: 223.5937 - val_loss: 62.1879 - val_mape: 59.9177 - val_mae: 286.4609 - lr: 0.0010 - 10s/epoch - 27ms/step\n",
      "Epoch 16/1000\n"
     ]
    },
    {
     "name": "stderr",
     "output_type": "stream",
     "text": [
      "c:\\Users\\Robin\\.conda\\envs\\tfenvironment\\lib\\site-packages\\keras\\engine\\functional.py:1563: CustomMaskWarning: Custom mask layers require a config and must override get_config. When loading, the custom mask layer must be passed to the custom_objects argument.\n",
      "  layer_config = serialize_layer_fn(layer)\n",
      "c:\\Users\\Robin\\.conda\\envs\\tfenvironment\\lib\\site-packages\\keras\\saving\\saved_model\\layer_serialization.py:134: CustomMaskWarning: Custom mask layers require a config and must override get_config. When loading, the custom mask layer must be passed to the custom_objects argument.\n",
      "  return generic_utils.serialize_keras_object(obj)\n",
      "c:\\Users\\Robin\\.conda\\envs\\tfenvironment\\lib\\site-packages\\spektral\\data\\utils.py:221: UserWarning: you are shuffling a 'MyDataset' object which is not a subclass of 'Sequence'; `shuffle` is not guaranteed to behave correctly. E.g., non-numpy array/tensor objects with view semantics may contain duplicates after shuffling.\n",
      "  np.random.shuffle(a)\n",
      "c:\\Users\\Robin\\.conda\\envs\\tfenvironment\\lib\\site-packages\\spektral\\data\\utils.py:221: UserWarning: you are shuffling a 'TestDataset' object which is not a subclass of 'Sequence'; `shuffle` is not guaranteed to behave correctly. E.g., non-numpy array/tensor objects with view semantics may contain duplicates after shuffling.\n",
      "  np.random.shuffle(a)\n"
     ]
    },
    {
     "name": "stdout",
     "output_type": "stream",
     "text": [
      "375/375 - 9s - loss: 63.2160 - mape: 60.9589 - mae: 221.1878 - val_loss: 64.8053 - val_mape: 62.5559 - val_mae: 288.0037 - lr: 0.0010 - 9s/epoch - 24ms/step\n",
      "Epoch 17/1000\n",
      "375/375 - 9s - loss: 63.1316 - mape: 60.8871 - mae: 221.3038 - val_loss: 63.3195 - val_mape: 61.0771 - val_mae: 289.8832 - lr: 0.0010 - 9s/epoch - 24ms/step\n",
      "Epoch 18/1000\n"
     ]
    },
    {
     "name": "stderr",
     "output_type": "stream",
     "text": [
      "WARNING:absl:Function `_wrapped_model` contains input name(s) args_0 with unsupported characters which will be renamed to args_0_4 in the SavedModel.\n"
     ]
    },
    {
     "name": "stdout",
     "output_type": "stream",
     "text": [
      "INFO:tensorflow:Assets written to: savedmodels\\GCNmodel_final_simplified\\assets\n"
     ]
    },
    {
     "name": "stderr",
     "output_type": "stream",
     "text": [
      "INFO:tensorflow:Assets written to: savedmodels\\GCNmodel_final_simplified\\assets\n"
     ]
    },
    {
     "name": "stdout",
     "output_type": "stream",
     "text": [
      "375/375 - 10s - loss: 63.4954 - mape: 61.2571 - mae: 221.1621 - val_loss: 61.9016 - val_mape: 59.6675 - val_mae: 284.0745 - lr: 0.0010 - 10s/epoch - 27ms/step\n",
      "Epoch 19/1000\n"
     ]
    },
    {
     "name": "stderr",
     "output_type": "stream",
     "text": [
      "c:\\Users\\Robin\\.conda\\envs\\tfenvironment\\lib\\site-packages\\keras\\engine\\functional.py:1563: CustomMaskWarning: Custom mask layers require a config and must override get_config. When loading, the custom mask layer must be passed to the custom_objects argument.\n",
      "  layer_config = serialize_layer_fn(layer)\n",
      "c:\\Users\\Robin\\.conda\\envs\\tfenvironment\\lib\\site-packages\\keras\\saving\\saved_model\\layer_serialization.py:134: CustomMaskWarning: Custom mask layers require a config and must override get_config. When loading, the custom mask layer must be passed to the custom_objects argument.\n",
      "  return generic_utils.serialize_keras_object(obj)\n",
      "c:\\Users\\Robin\\.conda\\envs\\tfenvironment\\lib\\site-packages\\spektral\\data\\utils.py:221: UserWarning: you are shuffling a 'MyDataset' object which is not a subclass of 'Sequence'; `shuffle` is not guaranteed to behave correctly. E.g., non-numpy array/tensor objects with view semantics may contain duplicates after shuffling.\n",
      "  np.random.shuffle(a)\n",
      "c:\\Users\\Robin\\.conda\\envs\\tfenvironment\\lib\\site-packages\\spektral\\data\\utils.py:221: UserWarning: you are shuffling a 'TestDataset' object which is not a subclass of 'Sequence'; `shuffle` is not guaranteed to behave correctly. E.g., non-numpy array/tensor objects with view semantics may contain duplicates after shuffling.\n",
      "  np.random.shuffle(a)\n"
     ]
    },
    {
     "name": "stdout",
     "output_type": "stream",
     "text": [
      "375/375 - 9s - loss: 63.2214 - mape: 60.9989 - mae: 221.0750 - val_loss: 62.3848 - val_mape: 60.1666 - val_mae: 289.0278 - lr: 0.0010 - 9s/epoch - 23ms/step\n",
      "Epoch 20/1000\n"
     ]
    },
    {
     "name": "stderr",
     "output_type": "stream",
     "text": [
      "WARNING:absl:Function `_wrapped_model` contains input name(s) args_0 with unsupported characters which will be renamed to args_0_4 in the SavedModel.\n"
     ]
    },
    {
     "name": "stdout",
     "output_type": "stream",
     "text": [
      "INFO:tensorflow:Assets written to: savedmodels\\GCNmodel_final_simplified\\assets\n"
     ]
    },
    {
     "name": "stderr",
     "output_type": "stream",
     "text": [
      "INFO:tensorflow:Assets written to: savedmodels\\GCNmodel_final_simplified\\assets\n"
     ]
    },
    {
     "name": "stdout",
     "output_type": "stream",
     "text": [
      "375/375 - 10s - loss: 61.7866 - mape: 59.5767 - mae: 220.4173 - val_loss: 61.1770 - val_mape: 58.9742 - val_mae: 288.6814 - lr: 0.0010 - 10s/epoch - 27ms/step\n",
      "Epoch 21/1000\n"
     ]
    },
    {
     "name": "stderr",
     "output_type": "stream",
     "text": [
      "c:\\Users\\Robin\\.conda\\envs\\tfenvironment\\lib\\site-packages\\keras\\engine\\functional.py:1563: CustomMaskWarning: Custom mask layers require a config and must override get_config. When loading, the custom mask layer must be passed to the custom_objects argument.\n",
      "  layer_config = serialize_layer_fn(layer)\n",
      "c:\\Users\\Robin\\.conda\\envs\\tfenvironment\\lib\\site-packages\\keras\\saving\\saved_model\\layer_serialization.py:134: CustomMaskWarning: Custom mask layers require a config and must override get_config. When loading, the custom mask layer must be passed to the custom_objects argument.\n",
      "  return generic_utils.serialize_keras_object(obj)\n",
      "c:\\Users\\Robin\\.conda\\envs\\tfenvironment\\lib\\site-packages\\spektral\\data\\utils.py:221: UserWarning: you are shuffling a 'MyDataset' object which is not a subclass of 'Sequence'; `shuffle` is not guaranteed to behave correctly. E.g., non-numpy array/tensor objects with view semantics may contain duplicates after shuffling.\n",
      "  np.random.shuffle(a)\n",
      "c:\\Users\\Robin\\.conda\\envs\\tfenvironment\\lib\\site-packages\\spektral\\data\\utils.py:221: UserWarning: you are shuffling a 'TestDataset' object which is not a subclass of 'Sequence'; `shuffle` is not guaranteed to behave correctly. E.g., non-numpy array/tensor objects with view semantics may contain duplicates after shuffling.\n",
      "  np.random.shuffle(a)\n",
      "WARNING:absl:Function `_wrapped_model` contains input name(s) args_0 with unsupported characters which will be renamed to args_0_4 in the SavedModel.\n"
     ]
    },
    {
     "name": "stdout",
     "output_type": "stream",
     "text": [
      "INFO:tensorflow:Assets written to: savedmodels\\GCNmodel_final_simplified\\assets\n"
     ]
    },
    {
     "name": "stderr",
     "output_type": "stream",
     "text": [
      "INFO:tensorflow:Assets written to: savedmodels\\GCNmodel_final_simplified\\assets\n"
     ]
    },
    {
     "name": "stdout",
     "output_type": "stream",
     "text": [
      "375/375 - 10s - loss: 62.3515 - mape: 60.1595 - mae: 219.8004 - val_loss: 60.8027 - val_mape: 58.6250 - val_mae: 284.2420 - lr: 0.0010 - 10s/epoch - 26ms/step\n",
      "Epoch 22/1000\n"
     ]
    },
    {
     "name": "stderr",
     "output_type": "stream",
     "text": [
      "c:\\Users\\Robin\\.conda\\envs\\tfenvironment\\lib\\site-packages\\keras\\engine\\functional.py:1563: CustomMaskWarning: Custom mask layers require a config and must override get_config. When loading, the custom mask layer must be passed to the custom_objects argument.\n",
      "  layer_config = serialize_layer_fn(layer)\n",
      "c:\\Users\\Robin\\.conda\\envs\\tfenvironment\\lib\\site-packages\\keras\\saving\\saved_model\\layer_serialization.py:134: CustomMaskWarning: Custom mask layers require a config and must override get_config. When loading, the custom mask layer must be passed to the custom_objects argument.\n",
      "  return generic_utils.serialize_keras_object(obj)\n",
      "c:\\Users\\Robin\\.conda\\envs\\tfenvironment\\lib\\site-packages\\spektral\\data\\utils.py:221: UserWarning: you are shuffling a 'MyDataset' object which is not a subclass of 'Sequence'; `shuffle` is not guaranteed to behave correctly. E.g., non-numpy array/tensor objects with view semantics may contain duplicates after shuffling.\n",
      "  np.random.shuffle(a)\n",
      "c:\\Users\\Robin\\.conda\\envs\\tfenvironment\\lib\\site-packages\\spektral\\data\\utils.py:221: UserWarning: you are shuffling a 'TestDataset' object which is not a subclass of 'Sequence'; `shuffle` is not guaranteed to behave correctly. E.g., non-numpy array/tensor objects with view semantics may contain duplicates after shuffling.\n",
      "  np.random.shuffle(a)\n"
     ]
    },
    {
     "name": "stdout",
     "output_type": "stream",
     "text": [
      "375/375 - 8s - loss: 61.1885 - mape: 59.0254 - mae: 218.7997 - val_loss: 64.3929 - val_mape: 62.2437 - val_mae: 288.0216 - lr: 0.0010 - 8s/epoch - 22ms/step\n",
      "Epoch 23/1000\n",
      "375/375 - 9s - loss: 60.4775 - mape: 58.3464 - mae: 218.0886 - val_loss: 63.3566 - val_mape: 61.2388 - val_mae: 292.2975 - lr: 0.0010 - 9s/epoch - 24ms/step\n",
      "Epoch 24/1000\n",
      "375/375 - 9s - loss: 60.4915 - mape: 58.3796 - mae: 219.4712 - val_loss: 62.0318 - val_mape: 59.9321 - val_mae: 287.0576 - lr: 0.0010 - 9s/epoch - 24ms/step\n",
      "Epoch 25/1000\n",
      "375/375 - 9s - loss: 60.9936 - mape: 58.9053 - mae: 219.2080 - val_loss: 61.9121 - val_mape: 59.8234 - val_mae: 290.9830 - lr: 0.0010 - 9s/epoch - 24ms/step\n",
      "Epoch 26/1000\n"
     ]
    },
    {
     "name": "stderr",
     "output_type": "stream",
     "text": [
      "WARNING:absl:Function `_wrapped_model` contains input name(s) args_0 with unsupported characters which will be renamed to args_0_4 in the SavedModel.\n"
     ]
    },
    {
     "name": "stdout",
     "output_type": "stream",
     "text": [
      "INFO:tensorflow:Assets written to: savedmodels\\GCNmodel_final_simplified\\assets\n"
     ]
    },
    {
     "name": "stderr",
     "output_type": "stream",
     "text": [
      "INFO:tensorflow:Assets written to: savedmodels\\GCNmodel_final_simplified\\assets\n"
     ]
    },
    {
     "name": "stdout",
     "output_type": "stream",
     "text": [
      "375/375 - 10s - loss: 59.4607 - mape: 57.3807 - mae: 217.9628 - val_loss: 59.2504 - val_mape: 57.1830 - val_mae: 281.6243 - lr: 0.0010 - 10s/epoch - 27ms/step\n",
      "Epoch 27/1000\n"
     ]
    },
    {
     "name": "stderr",
     "output_type": "stream",
     "text": [
      "c:\\Users\\Robin\\.conda\\envs\\tfenvironment\\lib\\site-packages\\keras\\engine\\functional.py:1563: CustomMaskWarning: Custom mask layers require a config and must override get_config. When loading, the custom mask layer must be passed to the custom_objects argument.\n",
      "  layer_config = serialize_layer_fn(layer)\n",
      "c:\\Users\\Robin\\.conda\\envs\\tfenvironment\\lib\\site-packages\\keras\\saving\\saved_model\\layer_serialization.py:134: CustomMaskWarning: Custom mask layers require a config and must override get_config. When loading, the custom mask layer must be passed to the custom_objects argument.\n",
      "  return generic_utils.serialize_keras_object(obj)\n",
      "c:\\Users\\Robin\\.conda\\envs\\tfenvironment\\lib\\site-packages\\spektral\\data\\utils.py:221: UserWarning: you are shuffling a 'MyDataset' object which is not a subclass of 'Sequence'; `shuffle` is not guaranteed to behave correctly. E.g., non-numpy array/tensor objects with view semantics may contain duplicates after shuffling.\n",
      "  np.random.shuffle(a)\n",
      "c:\\Users\\Robin\\.conda\\envs\\tfenvironment\\lib\\site-packages\\spektral\\data\\utils.py:221: UserWarning: you are shuffling a 'TestDataset' object which is not a subclass of 'Sequence'; `shuffle` is not guaranteed to behave correctly. E.g., non-numpy array/tensor objects with view semantics may contain duplicates after shuffling.\n",
      "  np.random.shuffle(a)\n",
      "WARNING:absl:Function `_wrapped_model` contains input name(s) args_0 with unsupported characters which will be renamed to args_0_4 in the SavedModel.\n"
     ]
    },
    {
     "name": "stdout",
     "output_type": "stream",
     "text": [
      "INFO:tensorflow:Assets written to: savedmodels\\GCNmodel_final_simplified\\assets\n"
     ]
    },
    {
     "name": "stderr",
     "output_type": "stream",
     "text": [
      "INFO:tensorflow:Assets written to: savedmodels\\GCNmodel_final_simplified\\assets\n"
     ]
    },
    {
     "name": "stdout",
     "output_type": "stream",
     "text": [
      "375/375 - 10s - loss: 59.6599 - mape: 57.6135 - mae: 217.9069 - val_loss: 58.6234 - val_mape: 56.5852 - val_mae: 283.8397 - lr: 0.0010 - 10s/epoch - 26ms/step\n",
      "Epoch 28/1000\n"
     ]
    },
    {
     "name": "stderr",
     "output_type": "stream",
     "text": [
      "c:\\Users\\Robin\\.conda\\envs\\tfenvironment\\lib\\site-packages\\keras\\engine\\functional.py:1563: CustomMaskWarning: Custom mask layers require a config and must override get_config. When loading, the custom mask layer must be passed to the custom_objects argument.\n",
      "  layer_config = serialize_layer_fn(layer)\n",
      "c:\\Users\\Robin\\.conda\\envs\\tfenvironment\\lib\\site-packages\\keras\\saving\\saved_model\\layer_serialization.py:134: CustomMaskWarning: Custom mask layers require a config and must override get_config. When loading, the custom mask layer must be passed to the custom_objects argument.\n",
      "  return generic_utils.serialize_keras_object(obj)\n",
      "c:\\Users\\Robin\\.conda\\envs\\tfenvironment\\lib\\site-packages\\spektral\\data\\utils.py:221: UserWarning: you are shuffling a 'MyDataset' object which is not a subclass of 'Sequence'; `shuffle` is not guaranteed to behave correctly. E.g., non-numpy array/tensor objects with view semantics may contain duplicates after shuffling.\n",
      "  np.random.shuffle(a)\n",
      "c:\\Users\\Robin\\.conda\\envs\\tfenvironment\\lib\\site-packages\\spektral\\data\\utils.py:221: UserWarning: you are shuffling a 'TestDataset' object which is not a subclass of 'Sequence'; `shuffle` is not guaranteed to behave correctly. E.g., non-numpy array/tensor objects with view semantics may contain duplicates after shuffling.\n",
      "  np.random.shuffle(a)\n"
     ]
    },
    {
     "name": "stdout",
     "output_type": "stream",
     "text": [
      "375/375 - 9s - loss: 61.1188 - mape: 59.0896 - mae: 216.8195 - val_loss: 60.0498 - val_mape: 58.0249 - val_mae: 289.0276 - lr: 0.0010 - 9s/epoch - 24ms/step\n",
      "Epoch 29/1000\n",
      "375/375 - 9s - loss: 59.4888 - mape: 57.4785 - mae: 217.9685 - val_loss: 58.6011 - val_mape: 56.6004 - val_mae: 282.1108 - lr: 0.0010 - 9s/epoch - 24ms/step\n",
      "Epoch 30/1000\n",
      "375/375 - 9s - loss: 58.2031 - mape: 56.2241 - mae: 216.7360 - val_loss: 61.1469 - val_mape: 59.1897 - val_mae: 290.9167 - lr: 0.0010 - 9s/epoch - 24ms/step\n",
      "Epoch 31/1000\n",
      "375/375 - 9s - loss: 58.2413 - mape: 56.2955 - mae: 217.4721 - val_loss: 59.1692 - val_mape: 57.2264 - val_mae: 284.2030 - lr: 0.0010 - 9s/epoch - 24ms/step\n",
      "Epoch 32/1000\n",
      "375/375 - 9s - loss: 57.5488 - mape: 55.6187 - mae: 217.1300 - val_loss: 60.4072 - val_mape: 58.4746 - val_mae: 278.7888 - lr: 0.0010 - 9s/epoch - 24ms/step\n",
      "Epoch 33/1000\n",
      "375/375 - 9s - loss: 58.7110 - mape: 56.7886 - mae: 216.8969 - val_loss: 58.9030 - val_mape: 56.9850 - val_mae: 285.2974 - lr: 0.0010 - 9s/epoch - 24ms/step\n",
      "Epoch 34/1000\n",
      "375/375 - 9s - loss: 58.3331 - mape: 56.4210 - mae: 217.5706 - val_loss: 60.9669 - val_mape: 59.0507 - val_mae: 283.7378 - lr: 0.0010 - 9s/epoch - 25ms/step\n",
      "Epoch 35/1000\n"
     ]
    },
    {
     "name": "stderr",
     "output_type": "stream",
     "text": [
      "WARNING:absl:Function `_wrapped_model` contains input name(s) args_0 with unsupported characters which will be renamed to args_0_4 in the SavedModel.\n"
     ]
    },
    {
     "name": "stdout",
     "output_type": "stream",
     "text": [
      "INFO:tensorflow:Assets written to: savedmodels\\GCNmodel_final_simplified\\assets\n"
     ]
    },
    {
     "name": "stderr",
     "output_type": "stream",
     "text": [
      "INFO:tensorflow:Assets written to: savedmodels\\GCNmodel_final_simplified\\assets\n"
     ]
    },
    {
     "name": "stdout",
     "output_type": "stream",
     "text": [
      "375/375 - 10s - loss: 56.4716 - mape: 54.5564 - mae: 214.3926 - val_loss: 56.0941 - val_mape: 54.1805 - val_mae: 278.6722 - lr: 0.0010 - 10s/epoch - 27ms/step\n",
      "Epoch 36/1000\n"
     ]
    },
    {
     "name": "stderr",
     "output_type": "stream",
     "text": [
      "c:\\Users\\Robin\\.conda\\envs\\tfenvironment\\lib\\site-packages\\keras\\engine\\functional.py:1563: CustomMaskWarning: Custom mask layers require a config and must override get_config. When loading, the custom mask layer must be passed to the custom_objects argument.\n",
      "  layer_config = serialize_layer_fn(layer)\n",
      "c:\\Users\\Robin\\.conda\\envs\\tfenvironment\\lib\\site-packages\\keras\\saving\\saved_model\\layer_serialization.py:134: CustomMaskWarning: Custom mask layers require a config and must override get_config. When loading, the custom mask layer must be passed to the custom_objects argument.\n",
      "  return generic_utils.serialize_keras_object(obj)\n",
      "c:\\Users\\Robin\\.conda\\envs\\tfenvironment\\lib\\site-packages\\spektral\\data\\utils.py:221: UserWarning: you are shuffling a 'MyDataset' object which is not a subclass of 'Sequence'; `shuffle` is not guaranteed to behave correctly. E.g., non-numpy array/tensor objects with view semantics may contain duplicates after shuffling.\n",
      "  np.random.shuffle(a)\n",
      "c:\\Users\\Robin\\.conda\\envs\\tfenvironment\\lib\\site-packages\\spektral\\data\\utils.py:221: UserWarning: you are shuffling a 'TestDataset' object which is not a subclass of 'Sequence'; `shuffle` is not guaranteed to behave correctly. E.g., non-numpy array/tensor objects with view semantics may contain duplicates after shuffling.\n",
      "  np.random.shuffle(a)\n"
     ]
    },
    {
     "name": "stdout",
     "output_type": "stream",
     "text": [
      "375/375 - 9s - loss: 56.6918 - mape: 54.7869 - mae: 214.1374 - val_loss: 67.5294 - val_mape: 65.6333 - val_mae: 282.1462 - lr: 0.0010 - 9s/epoch - 23ms/step\n",
      "Epoch 37/1000\n",
      "375/375 - 9s - loss: 56.6750 - mape: 54.7894 - mae: 214.2611 - val_loss: 56.3125 - val_mape: 54.4354 - val_mae: 280.5242 - lr: 0.0010 - 9s/epoch - 24ms/step\n",
      "Epoch 38/1000\n",
      "375/375 - 9s - loss: 55.8062 - mape: 53.9286 - mae: 214.2492 - val_loss: 57.2578 - val_mape: 55.3768 - val_mae: 279.5548 - lr: 0.0010 - 9s/epoch - 24ms/step\n",
      "Epoch 39/1000\n"
     ]
    },
    {
     "name": "stderr",
     "output_type": "stream",
     "text": [
      "WARNING:absl:Function `_wrapped_model` contains input name(s) args_0 with unsupported characters which will be renamed to args_0_4 in the SavedModel.\n"
     ]
    },
    {
     "name": "stdout",
     "output_type": "stream",
     "text": [
      "INFO:tensorflow:Assets written to: savedmodels\\GCNmodel_final_simplified\\assets\n"
     ]
    },
    {
     "name": "stderr",
     "output_type": "stream",
     "text": [
      "INFO:tensorflow:Assets written to: savedmodels\\GCNmodel_final_simplified\\assets\n"
     ]
    },
    {
     "name": "stdout",
     "output_type": "stream",
     "text": [
      "375/375 - 10s - loss: 56.5502 - mape: 54.6711 - mae: 215.2103 - val_loss: 55.8765 - val_mape: 53.9981 - val_mae: 278.8600 - lr: 0.0010 - 10s/epoch - 27ms/step\n",
      "Epoch 40/1000\n"
     ]
    },
    {
     "name": "stderr",
     "output_type": "stream",
     "text": [
      "c:\\Users\\Robin\\.conda\\envs\\tfenvironment\\lib\\site-packages\\keras\\engine\\functional.py:1563: CustomMaskWarning: Custom mask layers require a config and must override get_config. When loading, the custom mask layer must be passed to the custom_objects argument.\n",
      "  layer_config = serialize_layer_fn(layer)\n",
      "c:\\Users\\Robin\\.conda\\envs\\tfenvironment\\lib\\site-packages\\keras\\saving\\saved_model\\layer_serialization.py:134: CustomMaskWarning: Custom mask layers require a config and must override get_config. When loading, the custom mask layer must be passed to the custom_objects argument.\n",
      "  return generic_utils.serialize_keras_object(obj)\n",
      "c:\\Users\\Robin\\.conda\\envs\\tfenvironment\\lib\\site-packages\\spektral\\data\\utils.py:221: UserWarning: you are shuffling a 'MyDataset' object which is not a subclass of 'Sequence'; `shuffle` is not guaranteed to behave correctly. E.g., non-numpy array/tensor objects with view semantics may contain duplicates after shuffling.\n",
      "  np.random.shuffle(a)\n",
      "c:\\Users\\Robin\\.conda\\envs\\tfenvironment\\lib\\site-packages\\spektral\\data\\utils.py:221: UserWarning: you are shuffling a 'TestDataset' object which is not a subclass of 'Sequence'; `shuffle` is not guaranteed to behave correctly. E.g., non-numpy array/tensor objects with view semantics may contain duplicates after shuffling.\n",
      "  np.random.shuffle(a)\n"
     ]
    },
    {
     "name": "stdout",
     "output_type": "stream",
     "text": [
      "375/375 - 9s - loss: 55.6327 - mape: 53.7605 - mae: 214.2116 - val_loss: 56.9238 - val_mape: 55.0485 - val_mae: 276.0422 - lr: 0.0010 - 9s/epoch - 23ms/step\n",
      "Epoch 41/1000\n",
      "375/375 - 9s - loss: 56.2754 - mape: 54.3978 - mae: 214.3048 - val_loss: 58.1485 - val_mape: 56.2667 - val_mae: 277.7050 - lr: 0.0010 - 9s/epoch - 24ms/step\n",
      "Epoch 42/1000\n",
      "375/375 - 9s - loss: 54.7214 - mape: 52.8414 - mae: 212.9417 - val_loss: 57.6590 - val_mape: 55.7825 - val_mae: 276.6443 - lr: 0.0010 - 9s/epoch - 24ms/step\n",
      "Epoch 43/1000\n"
     ]
    },
    {
     "name": "stderr",
     "output_type": "stream",
     "text": [
      "WARNING:absl:Function `_wrapped_model` contains input name(s) args_0 with unsupported characters which will be renamed to args_0_4 in the SavedModel.\n"
     ]
    },
    {
     "name": "stdout",
     "output_type": "stream",
     "text": [
      "INFO:tensorflow:Assets written to: savedmodels\\GCNmodel_final_simplified\\assets\n"
     ]
    },
    {
     "name": "stderr",
     "output_type": "stream",
     "text": [
      "INFO:tensorflow:Assets written to: savedmodels\\GCNmodel_final_simplified\\assets\n"
     ]
    },
    {
     "name": "stdout",
     "output_type": "stream",
     "text": [
      "375/375 - 10s - loss: 55.6226 - mape: 53.7377 - mae: 213.8226 - val_loss: 55.8312 - val_mape: 53.9480 - val_mae: 280.3972 - lr: 0.0010 - 10s/epoch - 27ms/step\n",
      "Epoch 44/1000\n"
     ]
    },
    {
     "name": "stderr",
     "output_type": "stream",
     "text": [
      "c:\\Users\\Robin\\.conda\\envs\\tfenvironment\\lib\\site-packages\\keras\\engine\\functional.py:1563: CustomMaskWarning: Custom mask layers require a config and must override get_config. When loading, the custom mask layer must be passed to the custom_objects argument.\n",
      "  layer_config = serialize_layer_fn(layer)\n",
      "c:\\Users\\Robin\\.conda\\envs\\tfenvironment\\lib\\site-packages\\keras\\saving\\saved_model\\layer_serialization.py:134: CustomMaskWarning: Custom mask layers require a config and must override get_config. When loading, the custom mask layer must be passed to the custom_objects argument.\n",
      "  return generic_utils.serialize_keras_object(obj)\n",
      "c:\\Users\\Robin\\.conda\\envs\\tfenvironment\\lib\\site-packages\\spektral\\data\\utils.py:221: UserWarning: you are shuffling a 'MyDataset' object which is not a subclass of 'Sequence'; `shuffle` is not guaranteed to behave correctly. E.g., non-numpy array/tensor objects with view semantics may contain duplicates after shuffling.\n",
      "  np.random.shuffle(a)\n",
      "c:\\Users\\Robin\\.conda\\envs\\tfenvironment\\lib\\site-packages\\spektral\\data\\utils.py:221: UserWarning: you are shuffling a 'TestDataset' object which is not a subclass of 'Sequence'; `shuffle` is not guaranteed to behave correctly. E.g., non-numpy array/tensor objects with view semantics may contain duplicates after shuffling.\n",
      "  np.random.shuffle(a)\n"
     ]
    },
    {
     "name": "stdout",
     "output_type": "stream",
     "text": [
      "375/375 - 9s - loss: 53.8444 - mape: 51.9658 - mae: 211.8454 - val_loss: 63.8855 - val_mape: 62.0171 - val_mae: 281.4250 - lr: 0.0010 - 9s/epoch - 23ms/step\n",
      "Epoch 45/1000\n",
      "375/375 - 9s - loss: 55.8218 - mape: 53.9444 - mae: 212.6178 - val_loss: 57.0554 - val_mape: 55.1676 - val_mae: 282.0246 - lr: 0.0010 - 9s/epoch - 24ms/step\n",
      "Epoch 46/1000\n",
      "375/375 - 9s - loss: 54.4171 - mape: 52.5202 - mae: 212.0978 - val_loss: 57.0389 - val_mape: 55.1379 - val_mae: 280.6519 - lr: 0.0010 - 9s/epoch - 24ms/step\n",
      "Epoch 47/1000\n",
      "375/375 - 9s - loss: 54.7052 - mape: 52.8016 - mae: 211.4864 - val_loss: 67.9869 - val_mape: 66.0801 - val_mae: 291.3620 - lr: 0.0010 - 9s/epoch - 24ms/step\n",
      "Epoch 48/1000\n",
      "375/375 - 9s - loss: 53.6513 - mape: 51.7441 - mae: 211.0539 - val_loss: 57.8996 - val_mape: 55.9932 - val_mae: 278.2151 - lr: 0.0010 - 9s/epoch - 25ms/step\n",
      "Epoch 49/1000\n"
     ]
    },
    {
     "name": "stderr",
     "output_type": "stream",
     "text": [
      "WARNING:absl:Function `_wrapped_model` contains input name(s) args_0 with unsupported characters which will be renamed to args_0_4 in the SavedModel.\n"
     ]
    },
    {
     "name": "stdout",
     "output_type": "stream",
     "text": [
      "INFO:tensorflow:Assets written to: savedmodels\\GCNmodel_final_simplified\\assets\n"
     ]
    },
    {
     "name": "stderr",
     "output_type": "stream",
     "text": [
      "INFO:tensorflow:Assets written to: savedmodels\\GCNmodel_final_simplified\\assets\n"
     ]
    },
    {
     "name": "stdout",
     "output_type": "stream",
     "text": [
      "375/375 - 11s - loss: 53.5022 - mape: 51.5939 - mae: 210.5254 - val_loss: 54.7010 - val_mape: 52.7962 - val_mae: 276.4564 - lr: 0.0010 - 11s/epoch - 28ms/step\n",
      "Epoch 50/1000\n"
     ]
    },
    {
     "name": "stderr",
     "output_type": "stream",
     "text": [
      "c:\\Users\\Robin\\.conda\\envs\\tfenvironment\\lib\\site-packages\\keras\\engine\\functional.py:1563: CustomMaskWarning: Custom mask layers require a config and must override get_config. When loading, the custom mask layer must be passed to the custom_objects argument.\n",
      "  layer_config = serialize_layer_fn(layer)\n",
      "c:\\Users\\Robin\\.conda\\envs\\tfenvironment\\lib\\site-packages\\keras\\saving\\saved_model\\layer_serialization.py:134: CustomMaskWarning: Custom mask layers require a config and must override get_config. When loading, the custom mask layer must be passed to the custom_objects argument.\n",
      "  return generic_utils.serialize_keras_object(obj)\n",
      "c:\\Users\\Robin\\.conda\\envs\\tfenvironment\\lib\\site-packages\\spektral\\data\\utils.py:221: UserWarning: you are shuffling a 'MyDataset' object which is not a subclass of 'Sequence'; `shuffle` is not guaranteed to behave correctly. E.g., non-numpy array/tensor objects with view semantics may contain duplicates after shuffling.\n",
      "  np.random.shuffle(a)\n",
      "c:\\Users\\Robin\\.conda\\envs\\tfenvironment\\lib\\site-packages\\spektral\\data\\utils.py:221: UserWarning: you are shuffling a 'TestDataset' object which is not a subclass of 'Sequence'; `shuffle` is not guaranteed to behave correctly. E.g., non-numpy array/tensor objects with view semantics may contain duplicates after shuffling.\n",
      "  np.random.shuffle(a)\n",
      "WARNING:absl:Function `_wrapped_model` contains input name(s) args_0 with unsupported characters which will be renamed to args_0_4 in the SavedModel.\n"
     ]
    },
    {
     "name": "stdout",
     "output_type": "stream",
     "text": [
      "INFO:tensorflow:Assets written to: savedmodels\\GCNmodel_final_simplified\\assets\n"
     ]
    },
    {
     "name": "stderr",
     "output_type": "stream",
     "text": [
      "INFO:tensorflow:Assets written to: savedmodels\\GCNmodel_final_simplified\\assets\n"
     ]
    },
    {
     "name": "stdout",
     "output_type": "stream",
     "text": [
      "375/375 - 10s - loss: 53.3040 - mape: 51.3927 - mae: 210.5198 - val_loss: 54.5504 - val_mape: 52.6373 - val_mae: 278.1083 - lr: 0.0010 - 10s/epoch - 26ms/step\n",
      "Epoch 51/1000\n"
     ]
    },
    {
     "name": "stderr",
     "output_type": "stream",
     "text": [
      "c:\\Users\\Robin\\.conda\\envs\\tfenvironment\\lib\\site-packages\\keras\\engine\\functional.py:1563: CustomMaskWarning: Custom mask layers require a config and must override get_config. When loading, the custom mask layer must be passed to the custom_objects argument.\n",
      "  layer_config = serialize_layer_fn(layer)\n",
      "c:\\Users\\Robin\\.conda\\envs\\tfenvironment\\lib\\site-packages\\keras\\saving\\saved_model\\layer_serialization.py:134: CustomMaskWarning: Custom mask layers require a config and must override get_config. When loading, the custom mask layer must be passed to the custom_objects argument.\n",
      "  return generic_utils.serialize_keras_object(obj)\n",
      "c:\\Users\\Robin\\.conda\\envs\\tfenvironment\\lib\\site-packages\\spektral\\data\\utils.py:221: UserWarning: you are shuffling a 'MyDataset' object which is not a subclass of 'Sequence'; `shuffle` is not guaranteed to behave correctly. E.g., non-numpy array/tensor objects with view semantics may contain duplicates after shuffling.\n",
      "  np.random.shuffle(a)\n",
      "c:\\Users\\Robin\\.conda\\envs\\tfenvironment\\lib\\site-packages\\spektral\\data\\utils.py:221: UserWarning: you are shuffling a 'TestDataset' object which is not a subclass of 'Sequence'; `shuffle` is not guaranteed to behave correctly. E.g., non-numpy array/tensor objects with view semantics may contain duplicates after shuffling.\n",
      "  np.random.shuffle(a)\n"
     ]
    },
    {
     "name": "stdout",
     "output_type": "stream",
     "text": [
      "375/375 - 9s - loss: 52.3899 - mape: 50.4781 - mae: 209.7956 - val_loss: 60.2280 - val_mape: 58.3232 - val_mae: 285.4435 - lr: 0.0010 - 9s/epoch - 24ms/step\n",
      "Epoch 52/1000\n",
      "375/375 - 9s - loss: 53.1967 - mape: 51.2900 - mae: 210.3746 - val_loss: 55.7777 - val_mape: 53.8658 - val_mae: 279.1886 - lr: 0.0010 - 9s/epoch - 24ms/step\n",
      "Epoch 53/1000\n",
      "375/375 - 9s - loss: 52.1138 - mape: 50.1955 - mae: 209.9934 - val_loss: 56.4273 - val_mape: 54.5064 - val_mae: 279.7371 - lr: 0.0010 - 9s/epoch - 24ms/step\n",
      "Epoch 54/1000\n",
      "375/375 - 9s - loss: 52.1154 - mape: 50.1860 - mae: 209.7946 - val_loss: 55.0872 - val_mape: 53.1601 - val_mae: 276.0153 - lr: 0.0010 - 9s/epoch - 24ms/step\n",
      "Epoch 55/1000\n",
      "375/375 - 9s - loss: 52.0083 - mape: 50.0845 - mae: 208.8002 - val_loss: 57.9890 - val_mape: 56.0608 - val_mae: 279.0504 - lr: 0.0010 - 9s/epoch - 24ms/step\n",
      "Epoch 56/1000\n",
      "375/375 - 9s - loss: 52.1309 - mape: 50.1973 - mae: 208.8430 - val_loss: 55.1259 - val_mape: 53.1993 - val_mae: 273.8879 - lr: 0.0010 - 9s/epoch - 24ms/step\n",
      "Epoch 57/1000\n"
     ]
    },
    {
     "name": "stderr",
     "output_type": "stream",
     "text": [
      "WARNING:absl:Function `_wrapped_model` contains input name(s) args_0 with unsupported characters which will be renamed to args_0_4 in the SavedModel.\n"
     ]
    },
    {
     "name": "stdout",
     "output_type": "stream",
     "text": [
      "INFO:tensorflow:Assets written to: savedmodels\\GCNmodel_final_simplified\\assets\n"
     ]
    },
    {
     "name": "stderr",
     "output_type": "stream",
     "text": [
      "INFO:tensorflow:Assets written to: savedmodels\\GCNmodel_final_simplified\\assets\n"
     ]
    },
    {
     "name": "stdout",
     "output_type": "stream",
     "text": [
      "375/375 - 10s - loss: 51.2367 - mape: 49.3039 - mae: 208.1203 - val_loss: 54.4440 - val_mape: 52.5067 - val_mae: 277.2282 - lr: 0.0010 - 10s/epoch - 27ms/step\n",
      "Epoch 58/1000\n"
     ]
    },
    {
     "name": "stderr",
     "output_type": "stream",
     "text": [
      "c:\\Users\\Robin\\.conda\\envs\\tfenvironment\\lib\\site-packages\\keras\\engine\\functional.py:1563: CustomMaskWarning: Custom mask layers require a config and must override get_config. When loading, the custom mask layer must be passed to the custom_objects argument.\n",
      "  layer_config = serialize_layer_fn(layer)\n",
      "c:\\Users\\Robin\\.conda\\envs\\tfenvironment\\lib\\site-packages\\keras\\saving\\saved_model\\layer_serialization.py:134: CustomMaskWarning: Custom mask layers require a config and must override get_config. When loading, the custom mask layer must be passed to the custom_objects argument.\n",
      "  return generic_utils.serialize_keras_object(obj)\n",
      "c:\\Users\\Robin\\.conda\\envs\\tfenvironment\\lib\\site-packages\\spektral\\data\\utils.py:221: UserWarning: you are shuffling a 'MyDataset' object which is not a subclass of 'Sequence'; `shuffle` is not guaranteed to behave correctly. E.g., non-numpy array/tensor objects with view semantics may contain duplicates after shuffling.\n",
      "  np.random.shuffle(a)\n",
      "c:\\Users\\Robin\\.conda\\envs\\tfenvironment\\lib\\site-packages\\spektral\\data\\utils.py:221: UserWarning: you are shuffling a 'TestDataset' object which is not a subclass of 'Sequence'; `shuffle` is not guaranteed to behave correctly. E.g., non-numpy array/tensor objects with view semantics may contain duplicates after shuffling.\n",
      "  np.random.shuffle(a)\n"
     ]
    },
    {
     "name": "stdout",
     "output_type": "stream",
     "text": [
      "375/375 - 9s - loss: 51.8345 - mape: 49.8932 - mae: 208.2665 - val_loss: 54.8969 - val_mape: 52.9524 - val_mae: 277.9506 - lr: 0.0010 - 9s/epoch - 23ms/step\n",
      "Epoch 59/1000\n",
      "375/375 - 9s - loss: 52.6299 - mape: 50.6806 - mae: 208.5224 - val_loss: 54.9571 - val_mape: 53.0098 - val_mae: 265.3625 - lr: 0.0010 - 9s/epoch - 24ms/step\n",
      "Epoch 60/1000\n",
      "375/375 - 9s - loss: 51.3637 - mape: 49.4134 - mae: 207.5920 - val_loss: 57.0138 - val_mape: 55.0612 - val_mae: 281.0519 - lr: 0.0010 - 9s/epoch - 24ms/step\n",
      "Epoch 61/1000\n"
     ]
    },
    {
     "name": "stderr",
     "output_type": "stream",
     "text": [
      "WARNING:absl:Function `_wrapped_model` contains input name(s) args_0 with unsupported characters which will be renamed to args_0_4 in the SavedModel.\n"
     ]
    },
    {
     "name": "stdout",
     "output_type": "stream",
     "text": [
      "INFO:tensorflow:Assets written to: savedmodels\\GCNmodel_final_simplified\\assets\n"
     ]
    },
    {
     "name": "stderr",
     "output_type": "stream",
     "text": [
      "INFO:tensorflow:Assets written to: savedmodels\\GCNmodel_final_simplified\\assets\n"
     ]
    },
    {
     "name": "stdout",
     "output_type": "stream",
     "text": [
      "375/375 - 10s - loss: 50.4770 - mape: 48.5190 - mae: 207.0472 - val_loss: 54.1405 - val_mape: 52.1806 - val_mae: 274.1278 - lr: 0.0010 - 10s/epoch - 27ms/step\n",
      "Epoch 62/1000\n"
     ]
    },
    {
     "name": "stderr",
     "output_type": "stream",
     "text": [
      "c:\\Users\\Robin\\.conda\\envs\\tfenvironment\\lib\\site-packages\\keras\\engine\\functional.py:1563: CustomMaskWarning: Custom mask layers require a config and must override get_config. When loading, the custom mask layer must be passed to the custom_objects argument.\n",
      "  layer_config = serialize_layer_fn(layer)\n",
      "c:\\Users\\Robin\\.conda\\envs\\tfenvironment\\lib\\site-packages\\keras\\saving\\saved_model\\layer_serialization.py:134: CustomMaskWarning: Custom mask layers require a config and must override get_config. When loading, the custom mask layer must be passed to the custom_objects argument.\n",
      "  return generic_utils.serialize_keras_object(obj)\n",
      "c:\\Users\\Robin\\.conda\\envs\\tfenvironment\\lib\\site-packages\\spektral\\data\\utils.py:221: UserWarning: you are shuffling a 'MyDataset' object which is not a subclass of 'Sequence'; `shuffle` is not guaranteed to behave correctly. E.g., non-numpy array/tensor objects with view semantics may contain duplicates after shuffling.\n",
      "  np.random.shuffle(a)\n",
      "c:\\Users\\Robin\\.conda\\envs\\tfenvironment\\lib\\site-packages\\spektral\\data\\utils.py:221: UserWarning: you are shuffling a 'TestDataset' object which is not a subclass of 'Sequence'; `shuffle` is not guaranteed to behave correctly. E.g., non-numpy array/tensor objects with view semantics may contain duplicates after shuffling.\n",
      "  np.random.shuffle(a)\n"
     ]
    },
    {
     "name": "stdout",
     "output_type": "stream",
     "text": [
      "375/375 - 9s - loss: 51.0205 - mape: 49.0480 - mae: 208.4300 - val_loss: 55.0979 - val_mape: 53.1304 - val_mae: 272.3793 - lr: 0.0010 - 9s/epoch - 24ms/step\n",
      "Epoch 63/1000\n"
     ]
    },
    {
     "name": "stderr",
     "output_type": "stream",
     "text": [
      "WARNING:absl:Function `_wrapped_model` contains input name(s) args_0 with unsupported characters which will be renamed to args_0_4 in the SavedModel.\n"
     ]
    },
    {
     "name": "stdout",
     "output_type": "stream",
     "text": [
      "INFO:tensorflow:Assets written to: savedmodels\\GCNmodel_final_simplified\\assets\n"
     ]
    },
    {
     "name": "stderr",
     "output_type": "stream",
     "text": [
      "INFO:tensorflow:Assets written to: savedmodels\\GCNmodel_final_simplified\\assets\n"
     ]
    },
    {
     "name": "stdout",
     "output_type": "stream",
     "text": [
      "375/375 - 11s - loss: 51.8459 - mape: 49.8632 - mae: 208.7182 - val_loss: 53.4994 - val_mape: 51.5037 - val_mae: 274.0134 - lr: 0.0010 - 11s/epoch - 28ms/step\n",
      "Epoch 64/1000\n"
     ]
    },
    {
     "name": "stderr",
     "output_type": "stream",
     "text": [
      "c:\\Users\\Robin\\.conda\\envs\\tfenvironment\\lib\\site-packages\\keras\\engine\\functional.py:1563: CustomMaskWarning: Custom mask layers require a config and must override get_config. When loading, the custom mask layer must be passed to the custom_objects argument.\n",
      "  layer_config = serialize_layer_fn(layer)\n",
      "c:\\Users\\Robin\\.conda\\envs\\tfenvironment\\lib\\site-packages\\keras\\saving\\saved_model\\layer_serialization.py:134: CustomMaskWarning: Custom mask layers require a config and must override get_config. When loading, the custom mask layer must be passed to the custom_objects argument.\n",
      "  return generic_utils.serialize_keras_object(obj)\n",
      "c:\\Users\\Robin\\.conda\\envs\\tfenvironment\\lib\\site-packages\\spektral\\data\\utils.py:221: UserWarning: you are shuffling a 'MyDataset' object which is not a subclass of 'Sequence'; `shuffle` is not guaranteed to behave correctly. E.g., non-numpy array/tensor objects with view semantics may contain duplicates after shuffling.\n",
      "  np.random.shuffle(a)\n",
      "c:\\Users\\Robin\\.conda\\envs\\tfenvironment\\lib\\site-packages\\spektral\\data\\utils.py:221: UserWarning: you are shuffling a 'TestDataset' object which is not a subclass of 'Sequence'; `shuffle` is not guaranteed to behave correctly. E.g., non-numpy array/tensor objects with view semantics may contain duplicates after shuffling.\n",
      "  np.random.shuffle(a)\n"
     ]
    },
    {
     "name": "stdout",
     "output_type": "stream",
     "text": [
      "375/375 - 9s - loss: 50.9838 - mape: 48.9813 - mae: 207.3802 - val_loss: 55.4725 - val_mape: 53.4682 - val_mae: 273.5450 - lr: 0.0010 - 9s/epoch - 24ms/step\n",
      "Epoch 65/1000\n"
     ]
    },
    {
     "name": "stderr",
     "output_type": "stream",
     "text": [
      "WARNING:absl:Function `_wrapped_model` contains input name(s) args_0 with unsupported characters which will be renamed to args_0_4 in the SavedModel.\n"
     ]
    },
    {
     "name": "stdout",
     "output_type": "stream",
     "text": [
      "INFO:tensorflow:Assets written to: savedmodels\\GCNmodel_final_simplified\\assets\n"
     ]
    },
    {
     "name": "stderr",
     "output_type": "stream",
     "text": [
      "INFO:tensorflow:Assets written to: savedmodels\\GCNmodel_final_simplified\\assets\n"
     ]
    },
    {
     "name": "stdout",
     "output_type": "stream",
     "text": [
      "375/375 - 10s - loss: 51.2902 - mape: 49.2672 - mae: 207.4164 - val_loss: 52.7409 - val_mape: 50.7139 - val_mae: 270.1325 - lr: 0.0010 - 10s/epoch - 27ms/step\n",
      "Epoch 66/1000\n"
     ]
    },
    {
     "name": "stderr",
     "output_type": "stream",
     "text": [
      "c:\\Users\\Robin\\.conda\\envs\\tfenvironment\\lib\\site-packages\\keras\\engine\\functional.py:1563: CustomMaskWarning: Custom mask layers require a config and must override get_config. When loading, the custom mask layer must be passed to the custom_objects argument.\n",
      "  layer_config = serialize_layer_fn(layer)\n",
      "c:\\Users\\Robin\\.conda\\envs\\tfenvironment\\lib\\site-packages\\keras\\saving\\saved_model\\layer_serialization.py:134: CustomMaskWarning: Custom mask layers require a config and must override get_config. When loading, the custom mask layer must be passed to the custom_objects argument.\n",
      "  return generic_utils.serialize_keras_object(obj)\n",
      "c:\\Users\\Robin\\.conda\\envs\\tfenvironment\\lib\\site-packages\\spektral\\data\\utils.py:221: UserWarning: you are shuffling a 'MyDataset' object which is not a subclass of 'Sequence'; `shuffle` is not guaranteed to behave correctly. E.g., non-numpy array/tensor objects with view semantics may contain duplicates after shuffling.\n",
      "  np.random.shuffle(a)\n",
      "c:\\Users\\Robin\\.conda\\envs\\tfenvironment\\lib\\site-packages\\spektral\\data\\utils.py:221: UserWarning: you are shuffling a 'TestDataset' object which is not a subclass of 'Sequence'; `shuffle` is not guaranteed to behave correctly. E.g., non-numpy array/tensor objects with view semantics may contain duplicates after shuffling.\n",
      "  np.random.shuffle(a)\n"
     ]
    },
    {
     "name": "stdout",
     "output_type": "stream",
     "text": [
      "375/375 - 9s - loss: 50.0735 - mape: 48.0417 - mae: 205.8620 - val_loss: 53.0329 - val_mape: 50.9983 - val_mae: 271.0805 - lr: 0.0010 - 9s/epoch - 24ms/step\n",
      "Epoch 67/1000\n"
     ]
    },
    {
     "name": "stderr",
     "output_type": "stream",
     "text": [
      "WARNING:absl:Function `_wrapped_model` contains input name(s) args_0 with unsupported characters which will be renamed to args_0_4 in the SavedModel.\n"
     ]
    },
    {
     "name": "stdout",
     "output_type": "stream",
     "text": [
      "INFO:tensorflow:Assets written to: savedmodels\\GCNmodel_final_simplified\\assets\n"
     ]
    },
    {
     "name": "stderr",
     "output_type": "stream",
     "text": [
      "INFO:tensorflow:Assets written to: savedmodels\\GCNmodel_final_simplified\\assets\n"
     ]
    },
    {
     "name": "stdout",
     "output_type": "stream",
     "text": [
      "375/375 - 10s - loss: 51.2004 - mape: 49.1636 - mae: 206.5947 - val_loss: 51.4169 - val_mape: 49.3708 - val_mae: 271.5211 - lr: 0.0010 - 10s/epoch - 27ms/step\n",
      "Epoch 68/1000\n"
     ]
    },
    {
     "name": "stderr",
     "output_type": "stream",
     "text": [
      "c:\\Users\\Robin\\.conda\\envs\\tfenvironment\\lib\\site-packages\\keras\\engine\\functional.py:1563: CustomMaskWarning: Custom mask layers require a config and must override get_config. When loading, the custom mask layer must be passed to the custom_objects argument.\n",
      "  layer_config = serialize_layer_fn(layer)\n",
      "c:\\Users\\Robin\\.conda\\envs\\tfenvironment\\lib\\site-packages\\keras\\saving\\saved_model\\layer_serialization.py:134: CustomMaskWarning: Custom mask layers require a config and must override get_config. When loading, the custom mask layer must be passed to the custom_objects argument.\n",
      "  return generic_utils.serialize_keras_object(obj)\n",
      "c:\\Users\\Robin\\.conda\\envs\\tfenvironment\\lib\\site-packages\\spektral\\data\\utils.py:221: UserWarning: you are shuffling a 'MyDataset' object which is not a subclass of 'Sequence'; `shuffle` is not guaranteed to behave correctly. E.g., non-numpy array/tensor objects with view semantics may contain duplicates after shuffling.\n",
      "  np.random.shuffle(a)\n",
      "c:\\Users\\Robin\\.conda\\envs\\tfenvironment\\lib\\site-packages\\spektral\\data\\utils.py:221: UserWarning: you are shuffling a 'TestDataset' object which is not a subclass of 'Sequence'; `shuffle` is not guaranteed to behave correctly. E.g., non-numpy array/tensor objects with view semantics may contain duplicates after shuffling.\n",
      "  np.random.shuffle(a)\n"
     ]
    },
    {
     "name": "stdout",
     "output_type": "stream",
     "text": [
      "375/375 - 9s - loss: 50.2831 - mape: 48.2416 - mae: 206.3985 - val_loss: 51.6216 - val_mape: 49.5696 - val_mae: 264.2295 - lr: 0.0010 - 9s/epoch - 25ms/step\n",
      "Epoch 69/1000\n",
      "375/375 - 9s - loss: 49.4850 - mape: 47.4302 - mae: 204.8212 - val_loss: 53.1525 - val_mape: 51.0896 - val_mae: 267.3344 - lr: 0.0010 - 9s/epoch - 24ms/step\n",
      "Epoch 70/1000\n",
      "375/375 - 9s - loss: 48.7911 - mape: 46.7268 - mae: 203.6994 - val_loss: 52.7713 - val_mape: 50.7020 - val_mae: 269.7104 - lr: 0.0010 - 9s/epoch - 24ms/step\n",
      "Epoch 71/1000\n"
     ]
    },
    {
     "name": "stderr",
     "output_type": "stream",
     "text": [
      "WARNING:absl:Function `_wrapped_model` contains input name(s) args_0 with unsupported characters which will be renamed to args_0_4 in the SavedModel.\n"
     ]
    },
    {
     "name": "stdout",
     "output_type": "stream",
     "text": [
      "INFO:tensorflow:Assets written to: savedmodels\\GCNmodel_final_simplified\\assets\n"
     ]
    },
    {
     "name": "stderr",
     "output_type": "stream",
     "text": [
      "INFO:tensorflow:Assets written to: savedmodels\\GCNmodel_final_simplified\\assets\n"
     ]
    },
    {
     "name": "stdout",
     "output_type": "stream",
     "text": [
      "375/375 - 10s - loss: 49.6394 - mape: 47.5666 - mae: 204.6916 - val_loss: 51.2067 - val_mape: 49.1332 - val_mae: 265.2686 - lr: 0.0010 - 10s/epoch - 27ms/step\n",
      "Epoch 72/1000\n"
     ]
    },
    {
     "name": "stderr",
     "output_type": "stream",
     "text": [
      "c:\\Users\\Robin\\.conda\\envs\\tfenvironment\\lib\\site-packages\\keras\\engine\\functional.py:1563: CustomMaskWarning: Custom mask layers require a config and must override get_config. When loading, the custom mask layer must be passed to the custom_objects argument.\n",
      "  layer_config = serialize_layer_fn(layer)\n",
      "c:\\Users\\Robin\\.conda\\envs\\tfenvironment\\lib\\site-packages\\keras\\saving\\saved_model\\layer_serialization.py:134: CustomMaskWarning: Custom mask layers require a config and must override get_config. When loading, the custom mask layer must be passed to the custom_objects argument.\n",
      "  return generic_utils.serialize_keras_object(obj)\n",
      "c:\\Users\\Robin\\.conda\\envs\\tfenvironment\\lib\\site-packages\\spektral\\data\\utils.py:221: UserWarning: you are shuffling a 'MyDataset' object which is not a subclass of 'Sequence'; `shuffle` is not guaranteed to behave correctly. E.g., non-numpy array/tensor objects with view semantics may contain duplicates after shuffling.\n",
      "  np.random.shuffle(a)\n",
      "c:\\Users\\Robin\\.conda\\envs\\tfenvironment\\lib\\site-packages\\spektral\\data\\utils.py:221: UserWarning: you are shuffling a 'TestDataset' object which is not a subclass of 'Sequence'; `shuffle` is not guaranteed to behave correctly. E.g., non-numpy array/tensor objects with view semantics may contain duplicates after shuffling.\n",
      "  np.random.shuffle(a)\n"
     ]
    },
    {
     "name": "stdout",
     "output_type": "stream",
     "text": [
      "375/375 - 9s - loss: 50.0294 - mape: 47.9457 - mae: 205.4274 - val_loss: 52.3447 - val_mape: 50.2522 - val_mae: 274.3723 - lr: 0.0010 - 9s/epoch - 23ms/step\n",
      "Epoch 73/1000\n",
      "375/375 - 9s - loss: 49.5645 - mape: 47.4608 - mae: 204.4158 - val_loss: 51.6663 - val_mape: 49.5589 - val_mae: 263.7450 - lr: 0.0010 - 9s/epoch - 24ms/step\n",
      "Epoch 74/1000\n",
      "375/375 - 9s - loss: 48.3324 - mape: 46.2238 - mae: 202.7732 - val_loss: 57.2213 - val_mape: 55.1042 - val_mae: 278.3050 - lr: 0.0010 - 9s/epoch - 24ms/step\n",
      "Epoch 75/1000\n",
      "375/375 - 8s - loss: 48.5047 - mape: 46.3817 - mae: 202.8735 - val_loss: 52.7709 - val_mape: 50.6460 - val_mae: 274.4421 - lr: 0.0010 - 8s/epoch - 23ms/step\n",
      "Epoch 76/1000\n",
      "375/375 - 9s - loss: 48.1659 - mape: 46.0338 - mae: 202.7593 - val_loss: 51.6829 - val_mape: 49.5475 - val_mae: 262.9035 - lr: 0.0010 - 9s/epoch - 24ms/step\n",
      "Epoch 77/1000\n",
      "375/375 - 9s - loss: 48.0335 - mape: 45.8878 - mae: 202.6435 - val_loss: 53.2761 - val_mape: 51.1263 - val_mae: 268.5591 - lr: 0.0010 - 9s/epoch - 24ms/step\n",
      "Epoch 78/1000\n",
      "375/375 - 9s - loss: 47.8004 - mape: 45.6419 - mae: 202.2857 - val_loss: 52.9293 - val_mape: 50.7563 - val_mae: 271.9878 - lr: 0.0010 - 9s/epoch - 24ms/step\n",
      "Epoch 79/1000\n",
      "375/375 - 8s - loss: 47.0129 - mape: 44.8329 - mae: 201.7549 - val_loss: 52.1235 - val_mape: 49.9305 - val_mae: 267.5240 - lr: 0.0010 - 8s/epoch - 23ms/step\n",
      "Epoch 80/1000\n",
      "375/375 - 9s - loss: 48.6178 - mape: 46.4196 - mae: 202.3063 - val_loss: 52.6882 - val_mape: 50.4847 - val_mae: 270.4731 - lr: 0.0010 - 9s/epoch - 23ms/step\n",
      "Epoch 81/1000\n",
      "375/375 - 9s - loss: 47.9079 - mape: 45.6938 - mae: 201.8224 - val_loss: 51.4856 - val_mape: 49.2643 - val_mae: 268.6331 - lr: 0.0010 - 9s/epoch - 24ms/step\n",
      "Epoch 82/1000\n",
      "375/375 - 9s - loss: 48.0593 - mape: 45.8310 - mae: 202.1179 - val_loss: 52.5670 - val_mape: 50.3277 - val_mae: 268.5429 - lr: 0.0010 - 9s/epoch - 24ms/step\n",
      "Epoch 83/1000\n"
     ]
    },
    {
     "name": "stderr",
     "output_type": "stream",
     "text": [
      "WARNING:absl:Function `_wrapped_model` contains input name(s) args_0 with unsupported characters which will be renamed to args_0_4 in the SavedModel.\n"
     ]
    },
    {
     "name": "stdout",
     "output_type": "stream",
     "text": [
      "INFO:tensorflow:Assets written to: savedmodels\\GCNmodel_final_simplified\\assets\n"
     ]
    },
    {
     "name": "stderr",
     "output_type": "stream",
     "text": [
      "INFO:tensorflow:Assets written to: savedmodels\\GCNmodel_final_simplified\\assets\n"
     ]
    },
    {
     "name": "stdout",
     "output_type": "stream",
     "text": [
      "375/375 - 10s - loss: 47.6186 - mape: 45.3717 - mae: 202.2724 - val_loss: 50.3011 - val_mape: 48.0469 - val_mae: 263.5177 - lr: 0.0010 - 10s/epoch - 27ms/step\n",
      "Epoch 84/1000\n"
     ]
    },
    {
     "name": "stderr",
     "output_type": "stream",
     "text": [
      "c:\\Users\\Robin\\.conda\\envs\\tfenvironment\\lib\\site-packages\\keras\\engine\\functional.py:1563: CustomMaskWarning: Custom mask layers require a config and must override get_config. When loading, the custom mask layer must be passed to the custom_objects argument.\n",
      "  layer_config = serialize_layer_fn(layer)\n",
      "c:\\Users\\Robin\\.conda\\envs\\tfenvironment\\lib\\site-packages\\keras\\saving\\saved_model\\layer_serialization.py:134: CustomMaskWarning: Custom mask layers require a config and must override get_config. When loading, the custom mask layer must be passed to the custom_objects argument.\n",
      "  return generic_utils.serialize_keras_object(obj)\n",
      "c:\\Users\\Robin\\.conda\\envs\\tfenvironment\\lib\\site-packages\\spektral\\data\\utils.py:221: UserWarning: you are shuffling a 'MyDataset' object which is not a subclass of 'Sequence'; `shuffle` is not guaranteed to behave correctly. E.g., non-numpy array/tensor objects with view semantics may contain duplicates after shuffling.\n",
      "  np.random.shuffle(a)\n",
      "c:\\Users\\Robin\\.conda\\envs\\tfenvironment\\lib\\site-packages\\spektral\\data\\utils.py:221: UserWarning: you are shuffling a 'TestDataset' object which is not a subclass of 'Sequence'; `shuffle` is not guaranteed to behave correctly. E.g., non-numpy array/tensor objects with view semantics may contain duplicates after shuffling.\n",
      "  np.random.shuffle(a)\n"
     ]
    },
    {
     "name": "stdout",
     "output_type": "stream",
     "text": [
      "375/375 - 9s - loss: 47.8445 - mape: 45.5755 - mae: 201.0207 - val_loss: 50.6671 - val_mape: 48.3935 - val_mae: 265.2473 - lr: 0.0010 - 9s/epoch - 23ms/step\n",
      "Epoch 85/1000\n"
     ]
    },
    {
     "name": "stderr",
     "output_type": "stream",
     "text": [
      "WARNING:absl:Function `_wrapped_model` contains input name(s) args_0 with unsupported characters which will be renamed to args_0_4 in the SavedModel.\n"
     ]
    },
    {
     "name": "stdout",
     "output_type": "stream",
     "text": [
      "INFO:tensorflow:Assets written to: savedmodels\\GCNmodel_final_simplified\\assets\n"
     ]
    },
    {
     "name": "stderr",
     "output_type": "stream",
     "text": [
      "INFO:tensorflow:Assets written to: savedmodels\\GCNmodel_final_simplified\\assets\n"
     ]
    },
    {
     "name": "stdout",
     "output_type": "stream",
     "text": [
      "375/375 - 10s - loss: 47.4372 - mape: 45.1646 - mae: 201.5094 - val_loss: 50.0609 - val_mape: 47.7836 - val_mae: 263.4994 - lr: 0.0010 - 10s/epoch - 27ms/step\n",
      "Epoch 86/1000\n"
     ]
    },
    {
     "name": "stderr",
     "output_type": "stream",
     "text": [
      "c:\\Users\\Robin\\.conda\\envs\\tfenvironment\\lib\\site-packages\\keras\\engine\\functional.py:1563: CustomMaskWarning: Custom mask layers require a config and must override get_config. When loading, the custom mask layer must be passed to the custom_objects argument.\n",
      "  layer_config = serialize_layer_fn(layer)\n",
      "c:\\Users\\Robin\\.conda\\envs\\tfenvironment\\lib\\site-packages\\keras\\saving\\saved_model\\layer_serialization.py:134: CustomMaskWarning: Custom mask layers require a config and must override get_config. When loading, the custom mask layer must be passed to the custom_objects argument.\n",
      "  return generic_utils.serialize_keras_object(obj)\n",
      "c:\\Users\\Robin\\.conda\\envs\\tfenvironment\\lib\\site-packages\\spektral\\data\\utils.py:221: UserWarning: you are shuffling a 'MyDataset' object which is not a subclass of 'Sequence'; `shuffle` is not guaranteed to behave correctly. E.g., non-numpy array/tensor objects with view semantics may contain duplicates after shuffling.\n",
      "  np.random.shuffle(a)\n",
      "c:\\Users\\Robin\\.conda\\envs\\tfenvironment\\lib\\site-packages\\spektral\\data\\utils.py:221: UserWarning: you are shuffling a 'TestDataset' object which is not a subclass of 'Sequence'; `shuffle` is not guaranteed to behave correctly. E.g., non-numpy array/tensor objects with view semantics may contain duplicates after shuffling.\n",
      "  np.random.shuffle(a)\n",
      "WARNING:absl:Function `_wrapped_model` contains input name(s) args_0 with unsupported characters which will be renamed to args_0_4 in the SavedModel.\n"
     ]
    },
    {
     "name": "stdout",
     "output_type": "stream",
     "text": [
      "INFO:tensorflow:Assets written to: savedmodels\\GCNmodel_final_simplified\\assets\n"
     ]
    },
    {
     "name": "stderr",
     "output_type": "stream",
     "text": [
      "INFO:tensorflow:Assets written to: savedmodels\\GCNmodel_final_simplified\\assets\n"
     ]
    },
    {
     "name": "stdout",
     "output_type": "stream",
     "text": [
      "375/375 - 10s - loss: 46.6284 - mape: 44.3491 - mae: 200.5794 - val_loss: 48.8874 - val_mape: 46.6052 - val_mae: 265.2354 - lr: 0.0010 - 10s/epoch - 26ms/step\n",
      "Epoch 87/1000\n"
     ]
    },
    {
     "name": "stderr",
     "output_type": "stream",
     "text": [
      "c:\\Users\\Robin\\.conda\\envs\\tfenvironment\\lib\\site-packages\\keras\\engine\\functional.py:1563: CustomMaskWarning: Custom mask layers require a config and must override get_config. When loading, the custom mask layer must be passed to the custom_objects argument.\n",
      "  layer_config = serialize_layer_fn(layer)\n",
      "c:\\Users\\Robin\\.conda\\envs\\tfenvironment\\lib\\site-packages\\keras\\saving\\saved_model\\layer_serialization.py:134: CustomMaskWarning: Custom mask layers require a config and must override get_config. When loading, the custom mask layer must be passed to the custom_objects argument.\n",
      "  return generic_utils.serialize_keras_object(obj)\n",
      "c:\\Users\\Robin\\.conda\\envs\\tfenvironment\\lib\\site-packages\\spektral\\data\\utils.py:221: UserWarning: you are shuffling a 'MyDataset' object which is not a subclass of 'Sequence'; `shuffle` is not guaranteed to behave correctly. E.g., non-numpy array/tensor objects with view semantics may contain duplicates after shuffling.\n",
      "  np.random.shuffle(a)\n",
      "c:\\Users\\Robin\\.conda\\envs\\tfenvironment\\lib\\site-packages\\spektral\\data\\utils.py:221: UserWarning: you are shuffling a 'TestDataset' object which is not a subclass of 'Sequence'; `shuffle` is not guaranteed to behave correctly. E.g., non-numpy array/tensor objects with view semantics may contain duplicates after shuffling.\n",
      "  np.random.shuffle(a)\n"
     ]
    },
    {
     "name": "stdout",
     "output_type": "stream",
     "text": [
      "375/375 - 9s - loss: 47.3880 - mape: 45.1002 - mae: 200.6664 - val_loss: 53.3628 - val_mape: 51.0637 - val_mae: 274.3526 - lr: 0.0010 - 9s/epoch - 23ms/step\n",
      "Epoch 88/1000\n",
      "375/375 - 9s - loss: 47.6731 - mape: 45.3606 - mae: 200.0600 - val_loss: 53.4044 - val_mape: 51.0829 - val_mae: 272.6363 - lr: 0.0010 - 9s/epoch - 24ms/step\n",
      "Epoch 89/1000\n",
      "375/375 - 9s - loss: 47.3151 - mape: 44.9826 - mae: 199.3952 - val_loss: 50.4494 - val_mape: 48.1125 - val_mae: 264.6324 - lr: 0.0010 - 9s/epoch - 24ms/step\n",
      "Epoch 90/1000\n",
      "375/375 - 9s - loss: 46.1295 - mape: 43.7877 - mae: 198.6027 - val_loss: 49.1884 - val_mape: 46.8500 - val_mae: 258.9509 - lr: 0.0010 - 9s/epoch - 24ms/step\n",
      "Epoch 91/1000\n",
      "375/375 - 9s - loss: 46.5582 - mape: 44.2164 - mae: 200.5677 - val_loss: 49.4338 - val_mape: 47.0865 - val_mae: 265.6613 - lr: 0.0010 - 9s/epoch - 24ms/step\n",
      "Epoch 92/1000\n",
      "375/375 - 9s - loss: 45.6851 - mape: 43.3257 - mae: 198.9464 - val_loss: 51.1625 - val_mape: 48.7999 - val_mae: 259.5064 - lr: 0.0010 - 9s/epoch - 24ms/step\n",
      "Epoch 93/1000\n",
      "375/375 - 9s - loss: 46.2872 - mape: 43.9218 - mae: 199.7602 - val_loss: 51.1729 - val_mape: 48.7935 - val_mae: 257.5763 - lr: 0.0010 - 9s/epoch - 24ms/step\n",
      "Epoch 94/1000\n"
     ]
    },
    {
     "name": "stderr",
     "output_type": "stream",
     "text": [
      "WARNING:absl:Function `_wrapped_model` contains input name(s) args_0 with unsupported characters which will be renamed to args_0_4 in the SavedModel.\n"
     ]
    },
    {
     "name": "stdout",
     "output_type": "stream",
     "text": [
      "INFO:tensorflow:Assets written to: savedmodels\\GCNmodel_final_simplified\\assets\n"
     ]
    },
    {
     "name": "stderr",
     "output_type": "stream",
     "text": [
      "INFO:tensorflow:Assets written to: savedmodels\\GCNmodel_final_simplified\\assets\n"
     ]
    },
    {
     "name": "stdout",
     "output_type": "stream",
     "text": [
      "375/375 - 10s - loss: 45.4207 - mape: 43.0415 - mae: 198.3284 - val_loss: 47.9338 - val_mape: 45.5540 - val_mae: 260.5036 - lr: 0.0010 - 10s/epoch - 27ms/step\n",
      "Epoch 95/1000\n"
     ]
    },
    {
     "name": "stderr",
     "output_type": "stream",
     "text": [
      "c:\\Users\\Robin\\.conda\\envs\\tfenvironment\\lib\\site-packages\\keras\\engine\\functional.py:1563: CustomMaskWarning: Custom mask layers require a config and must override get_config. When loading, the custom mask layer must be passed to the custom_objects argument.\n",
      "  layer_config = serialize_layer_fn(layer)\n",
      "c:\\Users\\Robin\\.conda\\envs\\tfenvironment\\lib\\site-packages\\keras\\saving\\saved_model\\layer_serialization.py:134: CustomMaskWarning: Custom mask layers require a config and must override get_config. When loading, the custom mask layer must be passed to the custom_objects argument.\n",
      "  return generic_utils.serialize_keras_object(obj)\n",
      "c:\\Users\\Robin\\.conda\\envs\\tfenvironment\\lib\\site-packages\\spektral\\data\\utils.py:221: UserWarning: you are shuffling a 'MyDataset' object which is not a subclass of 'Sequence'; `shuffle` is not guaranteed to behave correctly. E.g., non-numpy array/tensor objects with view semantics may contain duplicates after shuffling.\n",
      "  np.random.shuffle(a)\n",
      "c:\\Users\\Robin\\.conda\\envs\\tfenvironment\\lib\\site-packages\\spektral\\data\\utils.py:221: UserWarning: you are shuffling a 'TestDataset' object which is not a subclass of 'Sequence'; `shuffle` is not guaranteed to behave correctly. E.g., non-numpy array/tensor objects with view semantics may contain duplicates after shuffling.\n",
      "  np.random.shuffle(a)\n"
     ]
    },
    {
     "name": "stdout",
     "output_type": "stream",
     "text": [
      "375/375 - 9s - loss: 46.6160 - mape: 44.2338 - mae: 197.9574 - val_loss: 52.2851 - val_mape: 49.8966 - val_mae: 261.7867 - lr: 0.0010 - 9s/epoch - 23ms/step\n",
      "Epoch 96/1000\n"
     ]
    },
    {
     "name": "stderr",
     "output_type": "stream",
     "text": [
      "WARNING:absl:Function `_wrapped_model` contains input name(s) args_0 with unsupported characters which will be renamed to args_0_4 in the SavedModel.\n"
     ]
    },
    {
     "name": "stdout",
     "output_type": "stream",
     "text": [
      "INFO:tensorflow:Assets written to: savedmodels\\GCNmodel_final_simplified\\assets\n"
     ]
    },
    {
     "name": "stderr",
     "output_type": "stream",
     "text": [
      "INFO:tensorflow:Assets written to: savedmodels\\GCNmodel_final_simplified\\assets\n"
     ]
    },
    {
     "name": "stdout",
     "output_type": "stream",
     "text": [
      "375/375 - 10s - loss: 45.5533 - mape: 43.1577 - mae: 197.8511 - val_loss: 47.4525 - val_mape: 45.0437 - val_mae: 256.7925 - lr: 0.0010 - 10s/epoch - 27ms/step\n",
      "Epoch 97/1000\n"
     ]
    },
    {
     "name": "stderr",
     "output_type": "stream",
     "text": [
      "c:\\Users\\Robin\\.conda\\envs\\tfenvironment\\lib\\site-packages\\keras\\engine\\functional.py:1563: CustomMaskWarning: Custom mask layers require a config and must override get_config. When loading, the custom mask layer must be passed to the custom_objects argument.\n",
      "  layer_config = serialize_layer_fn(layer)\n",
      "c:\\Users\\Robin\\.conda\\envs\\tfenvironment\\lib\\site-packages\\keras\\saving\\saved_model\\layer_serialization.py:134: CustomMaskWarning: Custom mask layers require a config and must override get_config. When loading, the custom mask layer must be passed to the custom_objects argument.\n",
      "  return generic_utils.serialize_keras_object(obj)\n",
      "c:\\Users\\Robin\\.conda\\envs\\tfenvironment\\lib\\site-packages\\spektral\\data\\utils.py:221: UserWarning: you are shuffling a 'MyDataset' object which is not a subclass of 'Sequence'; `shuffle` is not guaranteed to behave correctly. E.g., non-numpy array/tensor objects with view semantics may contain duplicates after shuffling.\n",
      "  np.random.shuffle(a)\n",
      "c:\\Users\\Robin\\.conda\\envs\\tfenvironment\\lib\\site-packages\\spektral\\data\\utils.py:221: UserWarning: you are shuffling a 'TestDataset' object which is not a subclass of 'Sequence'; `shuffle` is not guaranteed to behave correctly. E.g., non-numpy array/tensor objects with view semantics may contain duplicates after shuffling.\n",
      "  np.random.shuffle(a)\n"
     ]
    },
    {
     "name": "stdout",
     "output_type": "stream",
     "text": [
      "375/375 - 9s - loss: 46.7776 - mape: 44.3589 - mae: 198.6625 - val_loss: 48.0177 - val_mape: 45.5922 - val_mae: 262.1666 - lr: 0.0010 - 9s/epoch - 23ms/step\n",
      "Epoch 98/1000\n",
      "375/375 - 9s - loss: 45.1184 - mape: 42.6853 - mae: 198.0109 - val_loss: 51.2777 - val_mape: 48.8351 - val_mae: 257.5191 - lr: 0.0010 - 9s/epoch - 24ms/step\n",
      "Epoch 99/1000\n",
      "375/375 - 9s - loss: 45.4337 - mape: 42.9889 - mae: 197.6406 - val_loss: 49.1887 - val_mape: 46.7392 - val_mae: 256.6775 - lr: 0.0010 - 9s/epoch - 24ms/step\n",
      "Epoch 100/1000\n",
      "375/375 - 9s - loss: 45.6291 - mape: 43.1787 - mae: 198.8778 - val_loss: 47.4981 - val_mape: 45.0441 - val_mae: 259.2243 - lr: 0.0010 - 9s/epoch - 24ms/step\n",
      "Epoch 101/1000\n",
      "375/375 - 9s - loss: 44.8110 - mape: 42.3534 - mae: 196.8624 - val_loss: 53.4490 - val_mape: 50.9895 - val_mae: 267.5748 - lr: 0.0010 - 9s/epoch - 24ms/step\n",
      "Epoch 102/1000\n",
      "375/375 - 9s - loss: 45.4982 - mape: 43.0365 - mae: 197.6198 - val_loss: 47.8721 - val_mape: 45.4056 - val_mae: 253.3179 - lr: 0.0010 - 9s/epoch - 24ms/step\n",
      "Epoch 103/1000\n",
      "375/375 - 9s - loss: 45.1028 - mape: 42.6232 - mae: 196.7635 - val_loss: 47.8159 - val_mape: 45.3255 - val_mae: 257.7247 - lr: 0.0010 - 9s/epoch - 24ms/step\n",
      "Epoch 104/1000\n",
      "375/375 - 9s - loss: 46.0676 - mape: 43.5731 - mae: 196.6317 - val_loss: 48.1210 - val_mape: 45.6266 - val_mae: 261.8097 - lr: 0.0010 - 9s/epoch - 24ms/step\n",
      "Epoch 105/1000\n",
      "375/375 - 9s - loss: 46.4775 - mape: 43.9692 - mae: 198.5339 - val_loss: 50.1218 - val_mape: 47.6070 - val_mae: 264.4674 - lr: 0.0010 - 9s/epoch - 24ms/step\n",
      "Epoch 106/1000\n"
     ]
    },
    {
     "name": "stderr",
     "output_type": "stream",
     "text": [
      "WARNING:absl:Function `_wrapped_model` contains input name(s) args_0 with unsupported characters which will be renamed to args_0_4 in the SavedModel.\n"
     ]
    },
    {
     "name": "stdout",
     "output_type": "stream",
     "text": [
      "INFO:tensorflow:Assets written to: savedmodels\\GCNmodel_final_simplified\\assets\n"
     ]
    },
    {
     "name": "stderr",
     "output_type": "stream",
     "text": [
      "INFO:tensorflow:Assets written to: savedmodels\\GCNmodel_final_simplified\\assets\n"
     ]
    },
    {
     "name": "stdout",
     "output_type": "stream",
     "text": [
      "375/375 - 10s - loss: 45.3442 - mape: 42.8172 - mae: 197.6465 - val_loss: 47.5268 - val_mape: 44.9975 - val_mae: 262.0384 - lr: 0.0010 - 10s/epoch - 27ms/step\n",
      "Epoch 107/1000\n"
     ]
    },
    {
     "name": "stderr",
     "output_type": "stream",
     "text": [
      "c:\\Users\\Robin\\.conda\\envs\\tfenvironment\\lib\\site-packages\\keras\\engine\\functional.py:1563: CustomMaskWarning: Custom mask layers require a config and must override get_config. When loading, the custom mask layer must be passed to the custom_objects argument.\n",
      "  layer_config = serialize_layer_fn(layer)\n",
      "c:\\Users\\Robin\\.conda\\envs\\tfenvironment\\lib\\site-packages\\keras\\saving\\saved_model\\layer_serialization.py:134: CustomMaskWarning: Custom mask layers require a config and must override get_config. When loading, the custom mask layer must be passed to the custom_objects argument.\n",
      "  return generic_utils.serialize_keras_object(obj)\n",
      "c:\\Users\\Robin\\.conda\\envs\\tfenvironment\\lib\\site-packages\\spektral\\data\\utils.py:221: UserWarning: you are shuffling a 'MyDataset' object which is not a subclass of 'Sequence'; `shuffle` is not guaranteed to behave correctly. E.g., non-numpy array/tensor objects with view semantics may contain duplicates after shuffling.\n",
      "  np.random.shuffle(a)\n",
      "c:\\Users\\Robin\\.conda\\envs\\tfenvironment\\lib\\site-packages\\spektral\\data\\utils.py:221: UserWarning: you are shuffling a 'TestDataset' object which is not a subclass of 'Sequence'; `shuffle` is not guaranteed to behave correctly. E.g., non-numpy array/tensor objects with view semantics may contain duplicates after shuffling.\n",
      "  np.random.shuffle(a)\n"
     ]
    },
    {
     "name": "stdout",
     "output_type": "stream",
     "text": [
      "375/375 - 9s - loss: 44.5595 - mape: 42.0275 - mae: 196.4500 - val_loss: 50.1427 - val_mape: 47.6067 - val_mae: 264.7622 - lr: 0.0010 - 9s/epoch - 24ms/step\n",
      "Epoch 108/1000\n"
     ]
    },
    {
     "name": "stderr",
     "output_type": "stream",
     "text": [
      "WARNING:absl:Function `_wrapped_model` contains input name(s) args_0 with unsupported characters which will be renamed to args_0_4 in the SavedModel.\n"
     ]
    },
    {
     "name": "stdout",
     "output_type": "stream",
     "text": [
      "INFO:tensorflow:Assets written to: savedmodels\\GCNmodel_final_simplified\\assets\n"
     ]
    },
    {
     "name": "stderr",
     "output_type": "stream",
     "text": [
      "INFO:tensorflow:Assets written to: savedmodels\\GCNmodel_final_simplified\\assets\n"
     ]
    },
    {
     "name": "stdout",
     "output_type": "stream",
     "text": [
      "375/375 - 10s - loss: 44.7031 - mape: 42.1622 - mae: 196.8116 - val_loss: 47.4473 - val_mape: 44.9062 - val_mae: 256.4054 - lr: 0.0010 - 10s/epoch - 28ms/step\n",
      "Epoch 109/1000\n"
     ]
    },
    {
     "name": "stderr",
     "output_type": "stream",
     "text": [
      "c:\\Users\\Robin\\.conda\\envs\\tfenvironment\\lib\\site-packages\\keras\\engine\\functional.py:1563: CustomMaskWarning: Custom mask layers require a config and must override get_config. When loading, the custom mask layer must be passed to the custom_objects argument.\n",
      "  layer_config = serialize_layer_fn(layer)\n",
      "c:\\Users\\Robin\\.conda\\envs\\tfenvironment\\lib\\site-packages\\keras\\saving\\saved_model\\layer_serialization.py:134: CustomMaskWarning: Custom mask layers require a config and must override get_config. When loading, the custom mask layer must be passed to the custom_objects argument.\n",
      "  return generic_utils.serialize_keras_object(obj)\n",
      "c:\\Users\\Robin\\.conda\\envs\\tfenvironment\\lib\\site-packages\\spektral\\data\\utils.py:221: UserWarning: you are shuffling a 'MyDataset' object which is not a subclass of 'Sequence'; `shuffle` is not guaranteed to behave correctly. E.g., non-numpy array/tensor objects with view semantics may contain duplicates after shuffling.\n",
      "  np.random.shuffle(a)\n",
      "c:\\Users\\Robin\\.conda\\envs\\tfenvironment\\lib\\site-packages\\spektral\\data\\utils.py:221: UserWarning: you are shuffling a 'TestDataset' object which is not a subclass of 'Sequence'; `shuffle` is not guaranteed to behave correctly. E.g., non-numpy array/tensor objects with view semantics may contain duplicates after shuffling.\n",
      "  np.random.shuffle(a)\n"
     ]
    },
    {
     "name": "stdout",
     "output_type": "stream",
     "text": [
      "375/375 - 9s - loss: 44.7579 - mape: 42.2094 - mae: 196.0708 - val_loss: 48.5333 - val_mape: 45.9812 - val_mae: 263.1225 - lr: 0.0010 - 9s/epoch - 23ms/step\n",
      "Epoch 110/1000\n",
      "375/375 - 9s - loss: 44.4025 - mape: 41.8483 - mae: 195.4833 - val_loss: 48.3767 - val_mape: 45.8188 - val_mae: 259.5448 - lr: 0.0010 - 9s/epoch - 24ms/step\n",
      "Epoch 111/1000\n",
      "375/375 - 9s - loss: 43.7907 - mape: 41.2299 - mae: 194.7764 - val_loss: 48.8178 - val_mape: 46.2599 - val_mae: 261.9345 - lr: 0.0010 - 9s/epoch - 24ms/step\n",
      "Epoch 112/1000\n"
     ]
    },
    {
     "name": "stderr",
     "output_type": "stream",
     "text": [
      "WARNING:absl:Function `_wrapped_model` contains input name(s) args_0 with unsupported characters which will be renamed to args_0_4 in the SavedModel.\n"
     ]
    },
    {
     "name": "stdout",
     "output_type": "stream",
     "text": [
      "INFO:tensorflow:Assets written to: savedmodels\\GCNmodel_final_simplified\\assets\n"
     ]
    },
    {
     "name": "stderr",
     "output_type": "stream",
     "text": [
      "INFO:tensorflow:Assets written to: savedmodels\\GCNmodel_final_simplified\\assets\n"
     ]
    },
    {
     "name": "stdout",
     "output_type": "stream",
     "text": [
      "375/375 - 10s - loss: 43.2285 - mape: 40.6618 - mae: 195.2236 - val_loss: 46.2448 - val_mape: 43.6735 - val_mae: 256.4854 - lr: 0.0010 - 10s/epoch - 27ms/step\n",
      "Epoch 113/1000\n"
     ]
    },
    {
     "name": "stderr",
     "output_type": "stream",
     "text": [
      "c:\\Users\\Robin\\.conda\\envs\\tfenvironment\\lib\\site-packages\\keras\\engine\\functional.py:1563: CustomMaskWarning: Custom mask layers require a config and must override get_config. When loading, the custom mask layer must be passed to the custom_objects argument.\n",
      "  layer_config = serialize_layer_fn(layer)\n",
      "c:\\Users\\Robin\\.conda\\envs\\tfenvironment\\lib\\site-packages\\keras\\saving\\saved_model\\layer_serialization.py:134: CustomMaskWarning: Custom mask layers require a config and must override get_config. When loading, the custom mask layer must be passed to the custom_objects argument.\n",
      "  return generic_utils.serialize_keras_object(obj)\n",
      "c:\\Users\\Robin\\.conda\\envs\\tfenvironment\\lib\\site-packages\\spektral\\data\\utils.py:221: UserWarning: you are shuffling a 'MyDataset' object which is not a subclass of 'Sequence'; `shuffle` is not guaranteed to behave correctly. E.g., non-numpy array/tensor objects with view semantics may contain duplicates after shuffling.\n",
      "  np.random.shuffle(a)\n",
      "c:\\Users\\Robin\\.conda\\envs\\tfenvironment\\lib\\site-packages\\spektral\\data\\utils.py:221: UserWarning: you are shuffling a 'TestDataset' object which is not a subclass of 'Sequence'; `shuffle` is not guaranteed to behave correctly. E.g., non-numpy array/tensor objects with view semantics may contain duplicates after shuffling.\n",
      "  np.random.shuffle(a)\n"
     ]
    },
    {
     "name": "stdout",
     "output_type": "stream",
     "text": [
      "375/375 - 9s - loss: 43.7259 - mape: 41.1496 - mae: 194.4836 - val_loss: 48.9403 - val_mape: 46.3565 - val_mae: 261.6952 - lr: 0.0010 - 9s/epoch - 23ms/step\n",
      "Epoch 114/1000\n",
      "375/375 - 9s - loss: 43.5612 - mape: 40.9748 - mae: 194.9505 - val_loss: 46.9397 - val_mape: 44.3491 - val_mae: 258.9303 - lr: 0.0010 - 9s/epoch - 24ms/step\n",
      "Epoch 115/1000\n",
      "375/375 - 9s - loss: 43.7453 - mape: 41.1498 - mae: 194.8033 - val_loss: 49.9963 - val_mape: 47.3966 - val_mae: 255.6403 - lr: 0.0010 - 9s/epoch - 24ms/step\n",
      "Epoch 116/1000\n",
      "375/375 - 9s - loss: 45.0654 - mape: 42.4602 - mae: 196.2312 - val_loss: 47.6284 - val_mape: 45.0158 - val_mae: 250.5571 - lr: 0.0010 - 9s/epoch - 24ms/step\n",
      "Epoch 117/1000\n",
      "375/375 - 9s - loss: 43.6178 - mape: 41.0052 - mae: 194.1169 - val_loss: 48.2472 - val_mape: 45.6403 - val_mae: 261.4172 - lr: 0.0010 - 9s/epoch - 24ms/step\n",
      "Epoch 118/1000\n",
      "375/375 - 9s - loss: 43.7062 - mape: 41.0949 - mae: 194.3498 - val_loss: 48.5880 - val_mape: 45.9733 - val_mae: 260.0522 - lr: 0.0010 - 9s/epoch - 24ms/step\n",
      "Epoch 119/1000\n",
      "375/375 - 9s - loss: 42.9904 - mape: 40.3712 - mae: 193.7344 - val_loss: 47.6709 - val_mape: 45.0520 - val_mae: 257.1665 - lr: 0.0010 - 9s/epoch - 24ms/step\n",
      "Epoch 120/1000\n",
      "375/375 - 9s - loss: 43.7862 - mape: 41.1593 - mae: 194.6925 - val_loss: 48.5360 - val_mape: 45.9008 - val_mae: 258.8604 - lr: 0.0010 - 9s/epoch - 24ms/step\n",
      "Epoch 121/1000\n",
      "375/375 - 9s - loss: 43.3313 - mape: 40.6836 - mae: 193.7469 - val_loss: 49.3086 - val_mape: 46.6509 - val_mae: 265.6507 - lr: 0.0010 - 9s/epoch - 24ms/step\n",
      "Epoch 122/1000\n",
      "375/375 - 9s - loss: 42.9928 - mape: 40.3337 - mae: 194.2645 - val_loss: 48.9415 - val_mape: 46.2796 - val_mae: 258.5954 - lr: 0.0010 - 9s/epoch - 24ms/step\n",
      "Epoch 123/1000\n",
      "375/375 - 9s - loss: 43.6431 - mape: 40.9668 - mae: 194.0096 - val_loss: 47.0961 - val_mape: 44.4108 - val_mae: 255.0450 - lr: 0.0010 - 9s/epoch - 24ms/step\n",
      "Epoch 124/1000\n",
      "375/375 - 9s - loss: 43.5368 - mape: 40.8385 - mae: 194.4279 - val_loss: 46.9389 - val_mape: 44.2310 - val_mae: 260.0988 - lr: 0.0010 - 9s/epoch - 24ms/step\n",
      "Epoch 125/1000\n",
      "375/375 - 9s - loss: 42.8234 - mape: 40.1139 - mae: 194.2422 - val_loss: 47.8888 - val_mape: 45.1764 - val_mae: 258.0952 - lr: 0.0010 - 9s/epoch - 24ms/step\n",
      "Epoch 126/1000\n"
     ]
    },
    {
     "name": "stderr",
     "output_type": "stream",
     "text": [
      "WARNING:absl:Function `_wrapped_model` contains input name(s) args_0 with unsupported characters which will be renamed to args_0_4 in the SavedModel.\n"
     ]
    },
    {
     "name": "stdout",
     "output_type": "stream",
     "text": [
      "INFO:tensorflow:Assets written to: savedmodels\\GCNmodel_final_simplified\\assets\n"
     ]
    },
    {
     "name": "stderr",
     "output_type": "stream",
     "text": [
      "INFO:tensorflow:Assets written to: savedmodels\\GCNmodel_final_simplified\\assets\n"
     ]
    },
    {
     "name": "stdout",
     "output_type": "stream",
     "text": [
      "375/375 - 10s - loss: 43.4571 - mape: 40.7274 - mae: 194.1849 - val_loss: 45.8476 - val_mape: 43.1091 - val_mae: 249.4701 - lr: 0.0010 - 10s/epoch - 27ms/step\n",
      "Epoch 127/1000\n"
     ]
    },
    {
     "name": "stderr",
     "output_type": "stream",
     "text": [
      "c:\\Users\\Robin\\.conda\\envs\\tfenvironment\\lib\\site-packages\\keras\\engine\\functional.py:1563: CustomMaskWarning: Custom mask layers require a config and must override get_config. When loading, the custom mask layer must be passed to the custom_objects argument.\n",
      "  layer_config = serialize_layer_fn(layer)\n",
      "c:\\Users\\Robin\\.conda\\envs\\tfenvironment\\lib\\site-packages\\keras\\saving\\saved_model\\layer_serialization.py:134: CustomMaskWarning: Custom mask layers require a config and must override get_config. When loading, the custom mask layer must be passed to the custom_objects argument.\n",
      "  return generic_utils.serialize_keras_object(obj)\n",
      "c:\\Users\\Robin\\.conda\\envs\\tfenvironment\\lib\\site-packages\\spektral\\data\\utils.py:221: UserWarning: you are shuffling a 'MyDataset' object which is not a subclass of 'Sequence'; `shuffle` is not guaranteed to behave correctly. E.g., non-numpy array/tensor objects with view semantics may contain duplicates after shuffling.\n",
      "  np.random.shuffle(a)\n",
      "c:\\Users\\Robin\\.conda\\envs\\tfenvironment\\lib\\site-packages\\spektral\\data\\utils.py:221: UserWarning: you are shuffling a 'TestDataset' object which is not a subclass of 'Sequence'; `shuffle` is not guaranteed to behave correctly. E.g., non-numpy array/tensor objects with view semantics may contain duplicates after shuffling.\n",
      "  np.random.shuffle(a)\n",
      "WARNING:absl:Function `_wrapped_model` contains input name(s) args_0 with unsupported characters which will be renamed to args_0_4 in the SavedModel.\n"
     ]
    },
    {
     "name": "stdout",
     "output_type": "stream",
     "text": [
      "INFO:tensorflow:Assets written to: savedmodels\\GCNmodel_final_simplified\\assets\n"
     ]
    },
    {
     "name": "stderr",
     "output_type": "stream",
     "text": [
      "INFO:tensorflow:Assets written to: savedmodels\\GCNmodel_final_simplified\\assets\n"
     ]
    },
    {
     "name": "stdout",
     "output_type": "stream",
     "text": [
      "375/375 - 10s - loss: 42.9093 - mape: 40.1686 - mae: 193.6229 - val_loss: 45.4749 - val_mape: 42.7319 - val_mae: 253.9619 - lr: 0.0010 - 10s/epoch - 26ms/step\n",
      "Epoch 128/1000\n"
     ]
    },
    {
     "name": "stderr",
     "output_type": "stream",
     "text": [
      "c:\\Users\\Robin\\.conda\\envs\\tfenvironment\\lib\\site-packages\\keras\\engine\\functional.py:1563: CustomMaskWarning: Custom mask layers require a config and must override get_config. When loading, the custom mask layer must be passed to the custom_objects argument.\n",
      "  layer_config = serialize_layer_fn(layer)\n",
      "c:\\Users\\Robin\\.conda\\envs\\tfenvironment\\lib\\site-packages\\keras\\saving\\saved_model\\layer_serialization.py:134: CustomMaskWarning: Custom mask layers require a config and must override get_config. When loading, the custom mask layer must be passed to the custom_objects argument.\n",
      "  return generic_utils.serialize_keras_object(obj)\n",
      "c:\\Users\\Robin\\.conda\\envs\\tfenvironment\\lib\\site-packages\\spektral\\data\\utils.py:221: UserWarning: you are shuffling a 'MyDataset' object which is not a subclass of 'Sequence'; `shuffle` is not guaranteed to behave correctly. E.g., non-numpy array/tensor objects with view semantics may contain duplicates after shuffling.\n",
      "  np.random.shuffle(a)\n",
      "c:\\Users\\Robin\\.conda\\envs\\tfenvironment\\lib\\site-packages\\spektral\\data\\utils.py:221: UserWarning: you are shuffling a 'TestDataset' object which is not a subclass of 'Sequence'; `shuffle` is not guaranteed to behave correctly. E.g., non-numpy array/tensor objects with view semantics may contain duplicates after shuffling.\n",
      "  np.random.shuffle(a)\n"
     ]
    },
    {
     "name": "stdout",
     "output_type": "stream",
     "text": [
      "375/375 - 9s - loss: 42.0553 - mape: 39.3080 - mae: 192.5627 - val_loss: 47.6770 - val_mape: 44.9327 - val_mae: 256.8749 - lr: 0.0010 - 9s/epoch - 23ms/step\n",
      "Epoch 129/1000\n",
      "375/375 - 9s - loss: 42.0418 - mape: 39.2940 - mae: 192.7486 - val_loss: 52.2410 - val_mape: 49.4857 - val_mae: 265.0598 - lr: 0.0010 - 9s/epoch - 25ms/step\n",
      "Epoch 130/1000\n",
      "375/375 - 9s - loss: 42.9469 - mape: 40.1785 - mae: 192.6641 - val_loss: 47.5403 - val_mape: 44.7653 - val_mae: 251.6560 - lr: 0.0010 - 9s/epoch - 23ms/step\n",
      "Epoch 131/1000\n",
      "375/375 - 9s - loss: 43.5927 - mape: 40.8139 - mae: 193.8075 - val_loss: 46.5536 - val_mape: 43.7642 - val_mae: 252.6366 - lr: 0.0010 - 9s/epoch - 24ms/step\n",
      "Epoch 132/1000\n",
      "375/375 - 9s - loss: 43.0945 - mape: 40.3034 - mae: 193.2945 - val_loss: 52.6841 - val_mape: 49.8800 - val_mae: 267.0756 - lr: 0.0010 - 9s/epoch - 24ms/step\n",
      "Epoch 133/1000\n",
      "375/375 - 9s - loss: 43.2070 - mape: 40.3943 - mae: 195.3468 - val_loss: 48.6936 - val_mape: 45.8743 - val_mae: 263.7007 - lr: 0.0010 - 9s/epoch - 25ms/step\n",
      "Epoch 134/1000\n",
      "375/375 - 9s - loss: 42.0771 - mape: 39.2604 - mae: 192.1826 - val_loss: 45.9531 - val_mape: 43.1323 - val_mae: 255.1955 - lr: 0.0010 - 9s/epoch - 25ms/step\n",
      "Epoch 135/1000\n",
      "375/375 - 9s - loss: 41.9960 - mape: 39.1772 - mae: 191.3157 - val_loss: 46.8525 - val_mape: 44.0298 - val_mae: 258.2120 - lr: 0.0010 - 9s/epoch - 24ms/step\n",
      "Epoch 136/1000\n",
      "375/375 - 9s - loss: 41.5954 - mape: 38.7683 - mae: 192.3468 - val_loss: 48.4980 - val_mape: 45.6664 - val_mae: 257.5975 - lr: 0.0010 - 9s/epoch - 24ms/step\n",
      "Epoch 137/1000\n",
      "375/375 - 9s - loss: 41.3018 - mape: 38.4708 - mae: 191.5413 - val_loss: 46.0527 - val_mape: 43.2163 - val_mae: 250.5177 - lr: 0.0010 - 9s/epoch - 24ms/step\n",
      "Epoch 138/1000\n",
      "375/375 - 9s - loss: 41.6749 - mape: 38.8338 - mae: 191.4389 - val_loss: 48.8283 - val_mape: 45.9905 - val_mae: 261.1960 - lr: 0.0010 - 9s/epoch - 24ms/step\n",
      "Epoch 139/1000\n",
      "375/375 - 9s - loss: 41.5194 - mape: 38.6754 - mae: 191.8901 - val_loss: 47.6668 - val_mape: 44.8180 - val_mae: 257.6063 - lr: 0.0010 - 9s/epoch - 25ms/step\n",
      "Epoch 140/1000\n",
      "375/375 - 9s - loss: 41.2357 - mape: 38.3847 - mae: 191.2070 - val_loss: 45.6566 - val_mape: 42.8050 - val_mae: 254.8087 - lr: 0.0010 - 9s/epoch - 24ms/step\n",
      "Epoch 141/1000\n",
      "375/375 - 9s - loss: 41.6575 - mape: 38.7962 - mae: 192.3499 - val_loss: 45.9700 - val_mape: 43.0999 - val_mae: 250.7215 - lr: 0.0010 - 9s/epoch - 24ms/step\n",
      "Epoch 142/1000\n",
      "375/375 - 9s - loss: 41.8672 - mape: 38.9995 - mae: 191.8544 - val_loss: 46.6157 - val_mape: 43.7495 - val_mae: 254.8444 - lr: 0.0010 - 9s/epoch - 24ms/step\n",
      "Epoch 143/1000\n",
      "375/375 - 9s - loss: 40.9568 - mape: 38.0884 - mae: 191.4115 - val_loss: 47.2405 - val_mape: 44.3642 - val_mae: 253.7962 - lr: 0.0010 - 9s/epoch - 24ms/step\n",
      "Epoch 144/1000\n",
      "375/375 - 9s - loss: 41.4452 - mape: 38.5658 - mae: 191.7740 - val_loss: 49.1884 - val_mape: 46.3071 - val_mae: 251.7909 - lr: 0.0010 - 9s/epoch - 24ms/step\n",
      "Epoch 145/1000\n",
      "375/375 - 9s - loss: 42.0727 - mape: 39.1855 - mae: 193.7941 - val_loss: 46.9440 - val_mape: 44.0539 - val_mae: 251.8929 - lr: 0.0010 - 9s/epoch - 24ms/step\n",
      "Epoch 146/1000\n",
      "375/375 - 9s - loss: 41.4768 - mape: 38.5789 - mae: 191.9826 - val_loss: 47.2491 - val_mape: 44.3435 - val_mae: 255.2084 - lr: 0.0010 - 9s/epoch - 24ms/step\n",
      "Epoch 147/1000\n",
      "375/375 - 10s - loss: 40.9355 - mape: 38.0313 - mae: 190.8415 - val_loss: 49.4831 - val_mape: 46.5804 - val_mae: 252.2580 - lr: 0.0010 - 10s/epoch - 26ms/step\n",
      "Epoch 148/1000\n",
      "375/375 - 9s - loss: 41.3142 - mape: 38.4015 - mae: 190.8241 - val_loss: 46.8662 - val_mape: 43.9422 - val_mae: 250.8691 - lr: 0.0010 - 9s/epoch - 24ms/step\n",
      "Epoch 149/1000\n",
      "375/375 - 9s - loss: 41.2080 - mape: 38.2838 - mae: 190.0724 - val_loss: 49.4074 - val_mape: 46.4794 - val_mae: 254.1608 - lr: 0.0010 - 9s/epoch - 24ms/step\n",
      "Epoch 150/1000\n",
      "375/375 - 9s - loss: 40.9239 - mape: 37.9902 - mae: 191.4717 - val_loss: 49.6648 - val_mape: 46.7281 - val_mae: 251.3354 - lr: 0.0010 - 9s/epoch - 25ms/step\n",
      "Epoch 151/1000\n",
      "375/375 - 9s - loss: 40.5520 - mape: 37.6177 - mae: 190.9734 - val_loss: 49.9838 - val_mape: 47.0464 - val_mae: 257.2594 - lr: 0.0010 - 9s/epoch - 24ms/step\n",
      "Epoch 152/1000\n",
      "375/375 - 9s - loss: 40.4199 - mape: 37.4766 - mae: 189.8281 - val_loss: 47.1342 - val_mape: 44.1864 - val_mae: 257.9141 - lr: 0.0010 - 9s/epoch - 24ms/step\n",
      "Epoch 153/1000\n",
      "375/375 - 9s - loss: 40.9163 - mape: 37.9613 - mae: 190.4289 - val_loss: 51.4150 - val_mape: 48.4578 - val_mae: 265.4909 - lr: 0.0010 - 9s/epoch - 24ms/step\n",
      "Epoch 154/1000\n",
      "375/375 - 9s - loss: 39.9533 - mape: 36.9928 - mae: 189.7693 - val_loss: 52.5282 - val_mape: 49.5680 - val_mae: 254.2692 - lr: 0.0010 - 9s/epoch - 24ms/step\n",
      "Epoch 155/1000\n",
      "375/375 - 9s - loss: 42.1572 - mape: 39.1923 - mae: 192.6238 - val_loss: 46.7941 - val_mape: 43.8230 - val_mae: 253.1689 - lr: 0.0010 - 9s/epoch - 25ms/step\n",
      "Epoch 156/1000\n",
      "375/375 - 9s - loss: 39.7591 - mape: 36.7811 - mae: 190.2383 - val_loss: 46.6965 - val_mape: 43.7085 - val_mae: 254.3025 - lr: 0.0010 - 9s/epoch - 25ms/step\n",
      "Epoch 157/1000\n",
      "\n",
      "Epoch 157: ReduceLROnPlateau reducing learning rate to 0.0003000000142492354.\n",
      "375/375 - 9s - loss: 40.3513 - mape: 37.3622 - mae: 190.4214 - val_loss: 46.8741 - val_mape: 43.8852 - val_mae: 250.4930 - lr: 0.0010 - 9s/epoch - 25ms/step\n",
      "Epoch 158/1000\n",
      "375/375 - 9s - loss: 37.6000 - mape: 34.6151 - mae: 187.3501 - val_loss: 47.4455 - val_mape: 44.4630 - val_mae: 254.3006 - lr: 3.0000e-04 - 9s/epoch - 24ms/step\n",
      "Epoch 159/1000\n",
      "375/375 - 9s - loss: 36.4881 - mape: 33.5082 - mae: 185.9645 - val_loss: 46.8535 - val_mape: 43.8784 - val_mae: 249.9956 - lr: 3.0000e-04 - 9s/epoch - 25ms/step\n",
      "Epoch 160/1000\n",
      "375/375 - 9s - loss: 36.7915 - mape: 33.8221 - mae: 186.1728 - val_loss: 47.9876 - val_mape: 45.0230 - val_mae: 247.2268 - lr: 3.0000e-04 - 9s/epoch - 25ms/step\n",
      "Epoch 161/1000\n",
      "375/375 - 9s - loss: 36.0210 - mape: 33.0590 - mae: 184.4100 - val_loss: 47.2860 - val_mape: 44.3282 - val_mae: 248.3582 - lr: 3.0000e-04 - 9s/epoch - 25ms/step\n",
      "Epoch 162/1000\n",
      "375/375 - 9s - loss: 35.8660 - mape: 32.9102 - mae: 184.5234 - val_loss: 46.8556 - val_mape: 43.9011 - val_mae: 249.1410 - lr: 3.0000e-04 - 9s/epoch - 24ms/step\n",
      "Epoch 163/1000\n",
      "375/375 - 9s - loss: 36.2715 - mape: 33.3195 - mae: 185.7726 - val_loss: 45.8851 - val_mape: 42.9355 - val_mae: 252.3860 - lr: 3.0000e-04 - 9s/epoch - 24ms/step\n",
      "Epoch 164/1000\n",
      "375/375 - 9s - loss: 35.5993 - mape: 32.6524 - mae: 185.8765 - val_loss: 46.4447 - val_mape: 43.4995 - val_mae: 250.4051 - lr: 3.0000e-04 - 9s/epoch - 25ms/step\n",
      "Epoch 165/1000\n",
      "375/375 - 8s - loss: 35.4534 - mape: 32.5113 - mae: 184.7287 - val_loss: 47.3920 - val_mape: 44.4532 - val_mae: 251.5136 - lr: 3.0000e-04 - 8s/epoch - 22ms/step\n",
      "Epoch 166/1000\n",
      "375/375 - 9s - loss: 35.5651 - mape: 32.6284 - mae: 185.1143 - val_loss: 47.2557 - val_mape: 44.3213 - val_mae: 253.6664 - lr: 3.0000e-04 - 9s/epoch - 24ms/step\n",
      "Epoch 167/1000\n",
      "375/375 - 9s - loss: 35.8457 - mape: 32.9125 - mae: 186.1690 - val_loss: 46.0589 - val_mape: 43.1279 - val_mae: 252.1335 - lr: 3.0000e-04 - 9s/epoch - 25ms/step\n",
      "Epoch 168/1000\n",
      "375/375 - 9s - loss: 35.3776 - mape: 32.4469 - mae: 185.3034 - val_loss: 46.7044 - val_mape: 43.7758 - val_mae: 250.6517 - lr: 3.0000e-04 - 9s/epoch - 25ms/step\n",
      "Epoch 169/1000\n",
      "375/375 - 9s - loss: 35.1445 - mape: 32.2154 - mae: 184.5773 - val_loss: 47.0145 - val_mape: 44.0852 - val_mae: 248.8954 - lr: 3.0000e-04 - 9s/epoch - 25ms/step\n",
      "Epoch 170/1000\n",
      "375/375 - 9s - loss: 35.1641 - mape: 32.2354 - mae: 183.3248 - val_loss: 47.7984 - val_mape: 44.8697 - val_mae: 247.6638 - lr: 3.0000e-04 - 9s/epoch - 25ms/step\n",
      "Epoch 171/1000\n",
      "375/375 - 9s - loss: 35.5246 - mape: 32.5982 - mae: 185.1674 - val_loss: 47.7154 - val_mape: 44.7906 - val_mae: 247.7442 - lr: 3.0000e-04 - 9s/epoch - 24ms/step\n",
      "Epoch 172/1000\n",
      "375/375 - 9s - loss: 34.3528 - mape: 31.4301 - mae: 183.5553 - val_loss: 46.8238 - val_mape: 43.9034 - val_mae: 248.5382 - lr: 3.0000e-04 - 9s/epoch - 25ms/step\n",
      "Epoch 173/1000\n",
      "375/375 - 9s - loss: 35.0403 - mape: 32.1218 - mae: 184.0179 - val_loss: 47.1400 - val_mape: 44.2232 - val_mae: 250.9259 - lr: 3.0000e-04 - 9s/epoch - 25ms/step\n",
      "Epoch 174/1000\n",
      "375/375 - 9s - loss: 35.3777 - mape: 32.4618 - mae: 184.5591 - val_loss: 46.4286 - val_mape: 43.5126 - val_mae: 249.6706 - lr: 3.0000e-04 - 9s/epoch - 25ms/step\n",
      "Epoch 175/1000\n",
      "375/375 - 9s - loss: 35.7567 - mape: 32.8429 - mae: 184.4141 - val_loss: 47.6788 - val_mape: 44.7656 - val_mae: 246.3809 - lr: 3.0000e-04 - 9s/epoch - 25ms/step\n",
      "Epoch 176/1000\n",
      "375/375 - 9s - loss: 34.8975 - mape: 31.9857 - mae: 184.1107 - val_loss: 46.6037 - val_mape: 43.6935 - val_mae: 249.1002 - lr: 3.0000e-04 - 9s/epoch - 25ms/step\n",
      "Epoch 177/1000\n",
      "375/375 - 9s - loss: 34.3606 - mape: 31.4514 - mae: 184.5961 - val_loss: 48.2214 - val_mape: 45.3137 - val_mae: 246.0290 - lr: 3.0000e-04 - 9s/epoch - 25ms/step\n",
      "Epoch 178/1000\n",
      "375/375 - 9s - loss: 34.1469 - mape: 31.2420 - mae: 183.6028 - val_loss: 46.9532 - val_mape: 44.0486 - val_mae: 249.4500 - lr: 3.0000e-04 - 9s/epoch - 25ms/step\n",
      "Epoch 179/1000\n",
      "375/375 - 9s - loss: 35.2136 - mape: 32.3075 - mae: 184.0821 - val_loss: 47.0582 - val_mape: 44.1501 - val_mae: 248.5371 - lr: 3.0000e-04 - 9s/epoch - 23ms/step\n",
      "Epoch 180/1000\n",
      "375/375 - 9s - loss: 33.8868 - mape: 30.9806 - mae: 183.4779 - val_loss: 47.5013 - val_mape: 44.5982 - val_mae: 249.2149 - lr: 3.0000e-04 - 9s/epoch - 24ms/step\n",
      "Epoch 181/1000\n",
      "375/375 - 9s - loss: 34.2125 - mape: 31.3103 - mae: 183.6839 - val_loss: 47.4169 - val_mape: 44.5154 - val_mae: 249.6357 - lr: 3.0000e-04 - 9s/epoch - 24ms/step\n",
      "Epoch 182/1000\n",
      "375/375 - 9s - loss: 34.5527 - mape: 31.6492 - mae: 183.7611 - val_loss: 48.5427 - val_mape: 45.6411 - val_mae: 245.8692 - lr: 3.0000e-04 - 9s/epoch - 23ms/step\n",
      "Epoch 183/1000\n",
      "375/375 - 9s - loss: 34.3580 - mape: 31.4595 - mae: 182.9475 - val_loss: 48.5151 - val_mape: 45.6175 - val_mae: 246.6587 - lr: 3.0000e-04 - 9s/epoch - 24ms/step\n",
      "Epoch 184/1000\n",
      "375/375 - 9s - loss: 34.4732 - mape: 31.5754 - mae: 183.2984 - val_loss: 47.1941 - val_mape: 44.2948 - val_mae: 247.3233 - lr: 3.0000e-04 - 9s/epoch - 24ms/step\n",
      "Epoch 185/1000\n",
      "375/375 - 9s - loss: 34.5022 - mape: 31.6026 - mae: 184.1358 - val_loss: 48.1073 - val_mape: 45.2090 - val_mae: 248.5970 - lr: 3.0000e-04 - 9s/epoch - 23ms/step\n",
      "Epoch 186/1000\n",
      "375/375 - 9s - loss: 34.2046 - mape: 31.3069 - mae: 183.6907 - val_loss: 47.2606 - val_mape: 44.3638 - val_mae: 248.9444 - lr: 3.0000e-04 - 9s/epoch - 25ms/step\n",
      "Epoch 187/1000\n",
      "\n",
      "Epoch 187: ReduceLROnPlateau reducing learning rate to 9.000000427477062e-05.\n",
      "375/375 - 9s - loss: 34.1165 - mape: 31.2201 - mae: 183.2710 - val_loss: 47.7720 - val_mape: 44.8759 - val_mae: 250.2320 - lr: 3.0000e-04 - 9s/epoch - 25ms/step\n",
      "Epoch 187: early stopping\n"
     ]
    }
   ],
   "source": [
    "history = model.fit(loader.load(), validation_data=testloader.load(), validation_steps=testloader.steps_per_epoch, steps_per_epoch=loader.steps_per_epoch, epochs=1000, verbose=2, callbacks=get_callbacks('savedmodels/GCNmodel_final_simplified',patience=60,lr_factor=0.3))"
   ]
  },
  {
   "cell_type": "code",
   "execution_count": 36,
   "metadata": {},
   "outputs": [
    {
     "data": {
      "text/plain": [
       "<function matplotlib.pyplot.show(close=None, block=None)>"
      ]
     },
     "execution_count": 36,
     "metadata": {},
     "output_type": "execute_result"
    },
    {
     "data": {
      "image/png": "[encoded data removed]",
      "text/plain": [
       "<Figure size 640x480 with 1 Axes>"
      ]
     },
     "metadata": {},
     "output_type": "display_data"
    }
   ],
   "source": [
    "#Plot mape\n",
    "plt.plot(history.history[\"mape\"])\n",
    "plt.plot(history.history[\"val_mape\"])\n",
    "plt.title('model mean absolute error')\n",
    "plt.ylabel('mape')\n",
    "plt.xlabel('epoch')\n",
    "plt.show"
   ]
  },
  {
   "cell_type": "code",
   "execution_count": 23,
   "metadata": {},
   "outputs": [],
   "source": [
    "with open('savedmodels/histories/GCN_final.pkl', 'wb') as f:\n",
    "    pickle.dump(history.history, f)"
   ]
  },
  {
   "cell_type": "code",
   "execution_count": 23,
   "metadata": {},
   "outputs": [],
   "source": [
    "with open('savedmodels/histories/GCN_disjoint_3000.pkl', 'rb') as f:\n",
    "    loaded_dict = pickle.load(f)"
   ]
  },
  {
   "cell_type": "code",
   "execution_count": 60,
   "metadata": {},
   "outputs": [
    {
     "name": "stdout",
     "output_type": "stream",
     "text": [
      "Search space summary\n",
      "Default search space size: 5\n",
      "nodes_0 (Int)\n",
      "{'default': None, 'conditions': [], 'min_value': 8, 'max_value': 256, 'step': 8, 'sampling': None}\n",
      "convlayers (Int)\n",
      "{'default': None, 'conditions': [], 'min_value': 1, 'max_value': 8, 'step': 1, 'sampling': None}\n",
      "nodes_1 (Int)\n",
      "{'default': None, 'conditions': [], 'min_value': 8, 'max_value': 256, 'step': 8, 'sampling': None}\n",
      "denselayers (Int)\n",
      "{'default': None, 'conditions': [], 'min_value': 1, 'max_value': 8, 'step': 1, 'sampling': None}\n",
      "dense_0 (Int)\n",
      "{'default': None, 'conditions': [], 'min_value': 8, 'max_value': 512, 'step': 8, 'sampling': None}\n"
     ]
    }
   ],
   "source": [
    "#Multiple layer overfit tuner\n",
    "\n",
    "#Remove old search\n",
    "try:\n",
    "    shutil.rmtree(\"multiple_layers_tuning_gcn\")\n",
    "except OSError as e:\n",
    "    print(\"Error: %s - %s.\" % (e.filename, e.strerror))\n",
    "\n",
    "\n",
    "def model_builder(hp):\n",
    "  xi = Input(shape=(None,3), name= \"inputx\")\n",
    "  ai = Input(shape=(None,None), name= 'inputa')\n",
    "\n",
    "  x = GCSConv(hp.Int(f\"nodes_0\", min_value=8, max_value=256, step=8))([xi,ai])\n",
    "  layers = []\n",
    "  layers.append(x)\n",
    "  hp_convlayers = hp.Int(\"convlayers\", min_value=1, max_value=8, step=1)\n",
    "  for i in range(hp_convlayers):\n",
    "    x = GCSConv(hp.Int(f\"nodes_{i + 1}\", min_value=8, max_value=256, step=8))([x,ai])\n",
    "    layers.append(x)\n",
    "\n",
    "\n",
    "  x = Concatenate()(layers)\n",
    "  x = GlobalMaxPool()(x)\n",
    "  hp_denselayers = hp.Int(\"denselayers\", min_value=1, max_value=8, step=1)\n",
    "  for i in range(hp_denselayers):\n",
    "    x = Dense(hp.Int(f\"dense_{i}\", min_value=8, max_value=512, step=8))(x)\n",
    "\n",
    "\n",
    "  x = Dropout(0.2)(x)\n",
    "  x = Dense(1, 'linear')(x)\n",
    "  model = Model(inputs=[xi,ai], outputs=x)\n",
    "\n",
    "  model.compile(optimizer=tf.keras.optimizers.Adam(learning_rate=0.001) , loss='mape', metrics=[tf.keras.metrics.MeanAbsolutePercentageError(name=\"mape\"), 'mae'])\n",
    "  return model\n",
    "\n",
    "\n",
    "tuner = kt.Hyperband(\n",
    "    model_builder,\n",
    "    max_epochs=200,\n",
    "    factor=3,\n",
    "    objective = 'loss',\n",
    "    project_name = \"multiple_layers_tuning_gcn\"\n",
    ")\n",
    "'''tuner = kt.BayesianOptimization(\n",
    "    model_builder,\n",
    "    objective = 'loss',\n",
    "    max_trials = 50,\n",
    "    executions_per_trial = 1,\n",
    "    project_name = \"multiple_layers_tuning_gcn\"\n",
    ")'''\n",
    "\n",
    "tuner.search_space_summary()"
   ]
  },
  {
   "cell_type": "code",
   "execution_count": 61,
   "metadata": {},
   "outputs": [
    {
     "name": "stdout",
     "output_type": "stream",
     "text": [
      "Trial 112 Complete [00h 00m 06s]\n",
      "loss: 37.64982223510742\n",
      "\n",
      "Best loss So Far: 34.27772903442383\n",
      "Total elapsed time: 00h 09m 14s\n",
      "\n",
      "Search: Running Trial #113\n",
      "\n",
      "Value             |Best Value So Far |Hyperparameter\n",
      "248               |112               |nodes_0\n",
      "3                 |1                 |convlayers\n",
      "176               |176               |nodes_1\n",
      "7                 |3                 |denselayers\n",
      "136               |72                |dense_0\n",
      "248               |16                |nodes_2\n",
      "384               |168               |dense_1\n",
      "80                |280               |dense_2\n",
      "88                |344               |dense_3\n",
      "8                 |184               |nodes_3\n",
      "128               |232               |nodes_4\n",
      "24                |184               |nodes_5\n",
      "320               |264               |dense_4\n",
      "80                |304               |dense_5\n",
      "192               |360               |dense_6\n",
      "32                |16                |nodes_6\n",
      "40                |160               |nodes_7\n",
      "64                |168               |nodes_8\n",
      "136               |232               |dense_7\n",
      "8                 |8                 |tuner/epochs\n",
      "3                 |3                 |tuner/initial_epoch\n",
      "4                 |4                 |tuner/bracket\n",
      "1                 |1                 |tuner/round\n",
      "0054              |0093              |tuner/trial_id\n",
      "\n",
      "Epoch 4/8\n",
      "1/1 [==============================] - ETA: 0s - loss: 65.7285 - mape: 65.7285 - mae: 262.7004"
     ]
    },
    {
     "ename": "KeyboardInterrupt",
     "evalue": "",
     "output_type": "error",
     "traceback": [
      "\u001b[1;31m---------------------------------------------------------------------------\u001b[0m",
      "\u001b[1;31mKeyboardInterrupt\u001b[0m                         Traceback (most recent call last)",
      "\u001b[1;32mg:\\Unief\\Masterproef\\Notebooks\\graphconvolutionalmodel.ipynb Cell 21\u001b[0m in \u001b[0;36m2\n\u001b[0;32m      <a href='vscode-notebook-cell:/g%3A/Unief/Masterproef/Notebooks/graphconvolutionalmodel.ipynb#X44sZmlsZQ%3D%3D?line=0'>1</a>\u001b[0m \u001b[39m#Search overfit\u001b[39;00m\n\u001b[1;32m----> <a href='vscode-notebook-cell:/g%3A/Unief/Masterproef/Notebooks/graphconvolutionalmodel.ipynb#X44sZmlsZQ%3D%3D?line=1'>2</a>\u001b[0m tuner\u001b[39m.\u001b[39;49msearch(loader\u001b[39m.\u001b[39;49mload(), steps_per_epoch\u001b[39m=\u001b[39;49mloader\u001b[39m.\u001b[39;49msteps_per_epoch, epochs\u001b[39m=\u001b[39;49m\u001b[39m50\u001b[39;49m, callbacks\u001b[39m=\u001b[39;49mget_overfit_callbacks(\n\u001b[0;32m      <a href='vscode-notebook-cell:/g%3A/Unief/Masterproef/Notebooks/graphconvolutionalmodel.ipynb#X44sZmlsZQ%3D%3D?line=2'>3</a>\u001b[0m                                                                                                     patience\u001b[39m=\u001b[39;49m\u001b[39m80\u001b[39;49m,\n\u001b[0;32m      <a href='vscode-notebook-cell:/g%3A/Unief/Masterproef/Notebooks/graphconvolutionalmodel.ipynb#X44sZmlsZQ%3D%3D?line=3'>4</a>\u001b[0m                                                                                                     lr_factor\u001b[39m=\u001b[39;49m\u001b[39m0.2\u001b[39;49m))\n",
      "File \u001b[1;32mc:\\Users\\Robin\\.conda\\envs\\tfenvironment\\lib\\site-packages\\keras_tuner\\engine\\base_tuner.py:183\u001b[0m, in \u001b[0;36mBaseTuner.search\u001b[1;34m(self, *fit_args, **fit_kwargs)\u001b[0m\n\u001b[0;32m    180\u001b[0m     \u001b[39mcontinue\u001b[39;00m\n\u001b[0;32m    182\u001b[0m \u001b[39mself\u001b[39m\u001b[39m.\u001b[39mon_trial_begin(trial)\n\u001b[1;32m--> 183\u001b[0m results \u001b[39m=\u001b[39m \u001b[39mself\u001b[39m\u001b[39m.\u001b[39mrun_trial(trial, \u001b[39m*\u001b[39mfit_args, \u001b[39m*\u001b[39m\u001b[39m*\u001b[39mfit_kwargs)\n\u001b[0;32m    184\u001b[0m \u001b[39m# `results` is None indicates user updated oracle in `run_trial()`.\u001b[39;00m\n\u001b[0;32m    185\u001b[0m \u001b[39mif\u001b[39;00m results \u001b[39mis\u001b[39;00m \u001b[39mNone\u001b[39;00m:\n",
      "File \u001b[1;32mc:\\Users\\Robin\\.conda\\envs\\tfenvironment\\lib\\site-packages\\keras_tuner\\tuners\\hyperband.py:384\u001b[0m, in \u001b[0;36mHyperband.run_trial\u001b[1;34m(self, trial, *fit_args, **fit_kwargs)\u001b[0m\n\u001b[0;32m    382\u001b[0m     fit_kwargs[\u001b[39m\"\u001b[39m\u001b[39mepochs\u001b[39m\u001b[39m\"\u001b[39m] \u001b[39m=\u001b[39m hp\u001b[39m.\u001b[39mvalues[\u001b[39m\"\u001b[39m\u001b[39mtuner/epochs\u001b[39m\u001b[39m\"\u001b[39m]\n\u001b[0;32m    383\u001b[0m     fit_kwargs[\u001b[39m\"\u001b[39m\u001b[39minitial_epoch\u001b[39m\u001b[39m\"\u001b[39m] \u001b[39m=\u001b[39m hp\u001b[39m.\u001b[39mvalues[\u001b[39m\"\u001b[39m\u001b[39mtuner/initial_epoch\u001b[39m\u001b[39m\"\u001b[39m]\n\u001b[1;32m--> 384\u001b[0m \u001b[39mreturn\u001b[39;00m \u001b[39msuper\u001b[39m(Hyperband, \u001b[39mself\u001b[39m)\u001b[39m.\u001b[39mrun_trial(trial, \u001b[39m*\u001b[39mfit_args, \u001b[39m*\u001b[39m\u001b[39m*\u001b[39mfit_kwargs)\n",
      "File \u001b[1;32mc:\\Users\\Robin\\.conda\\envs\\tfenvironment\\lib\\site-packages\\keras_tuner\\engine\\tuner.py:295\u001b[0m, in \u001b[0;36mTuner.run_trial\u001b[1;34m(self, trial, *args, **kwargs)\u001b[0m\n\u001b[0;32m    293\u001b[0m     callbacks\u001b[39m.\u001b[39mappend(model_checkpoint)\n\u001b[0;32m    294\u001b[0m     copied_kwargs[\u001b[39m\"\u001b[39m\u001b[39mcallbacks\u001b[39m\u001b[39m\"\u001b[39m] \u001b[39m=\u001b[39m callbacks\n\u001b[1;32m--> 295\u001b[0m     obj_value \u001b[39m=\u001b[39m \u001b[39mself\u001b[39m\u001b[39m.\u001b[39m_build_and_fit_model(trial, \u001b[39m*\u001b[39margs, \u001b[39m*\u001b[39m\u001b[39m*\u001b[39mcopied_kwargs)\n\u001b[0;32m    297\u001b[0m     histories\u001b[39m.\u001b[39mappend(obj_value)\n\u001b[0;32m    298\u001b[0m \u001b[39mreturn\u001b[39;00m histories\n",
      "File \u001b[1;32mc:\\Users\\Robin\\.conda\\envs\\tfenvironment\\lib\\site-packages\\keras_tuner\\engine\\tuner.py:222\u001b[0m, in \u001b[0;36mTuner._build_and_fit_model\u001b[1;34m(self, trial, *args, **kwargs)\u001b[0m\n\u001b[0;32m    220\u001b[0m hp \u001b[39m=\u001b[39m trial\u001b[39m.\u001b[39mhyperparameters\n\u001b[0;32m    221\u001b[0m model \u001b[39m=\u001b[39m \u001b[39mself\u001b[39m\u001b[39m.\u001b[39m_try_build(hp)\n\u001b[1;32m--> 222\u001b[0m results \u001b[39m=\u001b[39m \u001b[39mself\u001b[39m\u001b[39m.\u001b[39mhypermodel\u001b[39m.\u001b[39mfit(hp, model, \u001b[39m*\u001b[39margs, \u001b[39m*\u001b[39m\u001b[39m*\u001b[39mkwargs)\n\u001b[0;32m    223\u001b[0m tuner_utils\u001b[39m.\u001b[39mvalidate_trial_results(\n\u001b[0;32m    224\u001b[0m     results, \u001b[39mself\u001b[39m\u001b[39m.\u001b[39moracle\u001b[39m.\u001b[39mobjective, \u001b[39m\"\u001b[39m\u001b[39mHyperModel.fit()\u001b[39m\u001b[39m\"\u001b[39m\n\u001b[0;32m    225\u001b[0m )\n\u001b[0;32m    226\u001b[0m \u001b[39mreturn\u001b[39;00m results\n",
      "File \u001b[1;32mc:\\Users\\Robin\\.conda\\envs\\tfenvironment\\lib\\site-packages\\keras_tuner\\engine\\hypermodel.py:140\u001b[0m, in \u001b[0;36mHyperModel.fit\u001b[1;34m(self, hp, model, *args, **kwargs)\u001b[0m\n\u001b[0;32m    116\u001b[0m \u001b[39mdef\u001b[39;00m \u001b[39mfit\u001b[39m(\u001b[39mself\u001b[39m, hp, model, \u001b[39m*\u001b[39margs, \u001b[39m*\u001b[39m\u001b[39m*\u001b[39mkwargs):\n\u001b[0;32m    117\u001b[0m     \u001b[39m\"\"\"Train the model.\u001b[39;00m\n\u001b[0;32m    118\u001b[0m \n\u001b[0;32m    119\u001b[0m \u001b[39m    Args:\u001b[39;00m\n\u001b[1;32m   (...)\u001b[0m\n\u001b[0;32m    138\u001b[0m \u001b[39m        If return a float, it should be the `objective` value.\u001b[39;00m\n\u001b[0;32m    139\u001b[0m \u001b[39m    \"\"\"\u001b[39;00m\n\u001b[1;32m--> 140\u001b[0m     \u001b[39mreturn\u001b[39;00m model\u001b[39m.\u001b[39mfit(\u001b[39m*\u001b[39margs, \u001b[39m*\u001b[39m\u001b[39m*\u001b[39mkwargs)\n",
      "File \u001b[1;32mc:\\Users\\Robin\\.conda\\envs\\tfenvironment\\lib\\site-packages\\keras\\utils\\traceback_utils.py:65\u001b[0m, in \u001b[0;36mfilter_traceback.<locals>.error_handler\u001b[1;34m(*args, **kwargs)\u001b[0m\n\u001b[0;32m     63\u001b[0m filtered_tb \u001b[39m=\u001b[39m \u001b[39mNone\u001b[39;00m\n\u001b[0;32m     64\u001b[0m \u001b[39mtry\u001b[39;00m:\n\u001b[1;32m---> 65\u001b[0m     \u001b[39mreturn\u001b[39;00m fn(\u001b[39m*\u001b[39margs, \u001b[39m*\u001b[39m\u001b[39m*\u001b[39mkwargs)\n\u001b[0;32m     66\u001b[0m \u001b[39mexcept\u001b[39;00m \u001b[39mException\u001b[39;00m \u001b[39mas\u001b[39;00m e:\n\u001b[0;32m     67\u001b[0m     filtered_tb \u001b[39m=\u001b[39m _process_traceback_frames(e\u001b[39m.\u001b[39m__traceback__)\n",
      "File \u001b[1;32mc:\\Users\\Robin\\.conda\\envs\\tfenvironment\\lib\\site-packages\\keras\\engine\\training.py:1624\u001b[0m, in \u001b[0;36mModel.fit\u001b[1;34m(self, x, y, batch_size, epochs, verbose, callbacks, validation_split, validation_data, shuffle, class_weight, sample_weight, initial_epoch, steps_per_epoch, validation_steps, validation_batch_size, validation_freq, max_queue_size, workers, use_multiprocessing)\u001b[0m\n\u001b[0;32m   1619\u001b[0m     val_logs \u001b[39m=\u001b[39m {\n\u001b[0;32m   1620\u001b[0m         \u001b[39m\"\u001b[39m\u001b[39mval_\u001b[39m\u001b[39m\"\u001b[39m \u001b[39m+\u001b[39m name: val \u001b[39mfor\u001b[39;00m name, val \u001b[39min\u001b[39;00m val_logs\u001b[39m.\u001b[39mitems()\n\u001b[0;32m   1621\u001b[0m     }\n\u001b[0;32m   1622\u001b[0m     epoch_logs\u001b[39m.\u001b[39mupdate(val_logs)\n\u001b[1;32m-> 1624\u001b[0m callbacks\u001b[39m.\u001b[39;49mon_epoch_end(epoch, epoch_logs)\n\u001b[0;32m   1625\u001b[0m training_logs \u001b[39m=\u001b[39m epoch_logs\n\u001b[0;32m   1626\u001b[0m \u001b[39mif\u001b[39;00m \u001b[39mself\u001b[39m\u001b[39m.\u001b[39mstop_training:\n",
      "File \u001b[1;32mc:\\Users\\Robin\\.conda\\envs\\tfenvironment\\lib\\site-packages\\keras\\callbacks.py:448\u001b[0m, in \u001b[0;36mCallbackList.on_epoch_end\u001b[1;34m(self, epoch, logs)\u001b[0m\n\u001b[0;32m    446\u001b[0m logs \u001b[39m=\u001b[39m \u001b[39mself\u001b[39m\u001b[39m.\u001b[39m_process_logs(logs)\n\u001b[0;32m    447\u001b[0m \u001b[39mfor\u001b[39;00m callback \u001b[39min\u001b[39;00m \u001b[39mself\u001b[39m\u001b[39m.\u001b[39mcallbacks:\n\u001b[1;32m--> 448\u001b[0m     callback\u001b[39m.\u001b[39;49mon_epoch_end(epoch, logs)\n",
      "File \u001b[1;32mc:\\Users\\Robin\\.conda\\envs\\tfenvironment\\lib\\site-packages\\keras_tuner\\engine\\tuner_utils.py:215\u001b[0m, in \u001b[0;36mSaveBestEpoch.on_epoch_end\u001b[1;34m(self, epoch, logs)\u001b[0m\n\u001b[0;32m    213\u001b[0m \u001b[39mif\u001b[39;00m \u001b[39mself\u001b[39m\u001b[39m.\u001b[39mobjective\u001b[39m.\u001b[39mbetter_than(current_value, \u001b[39mself\u001b[39m\u001b[39m.\u001b[39mbest_value):\n\u001b[0;32m    214\u001b[0m     \u001b[39mself\u001b[39m\u001b[39m.\u001b[39mbest_value \u001b[39m=\u001b[39m current_value\n\u001b[1;32m--> 215\u001b[0m     \u001b[39mself\u001b[39;49m\u001b[39m.\u001b[39;49m_save_model()\n",
      "File \u001b[1;32mc:\\Users\\Robin\\.conda\\envs\\tfenvironment\\lib\\site-packages\\keras_tuner\\engine\\tuner_utils.py:222\u001b[0m, in \u001b[0;36mSaveBestEpoch._save_model\u001b[1;34m(self)\u001b[0m\n\u001b[0;32m    217\u001b[0m \u001b[39mdef\u001b[39;00m \u001b[39m_save_model\u001b[39m(\u001b[39mself\u001b[39m):\n\u001b[0;32m    218\u001b[0m     \u001b[39m# Create temporary saved model files on non-chief workers.\u001b[39;00m\n\u001b[0;32m    219\u001b[0m     write_filepath \u001b[39m=\u001b[39m ds_utils\u001b[39m.\u001b[39mwrite_filepath(\n\u001b[0;32m    220\u001b[0m         \u001b[39mself\u001b[39m\u001b[39m.\u001b[39mfilepath, \u001b[39mself\u001b[39m\u001b[39m.\u001b[39mmodel\u001b[39m.\u001b[39mdistribute_strategy\n\u001b[0;32m    221\u001b[0m     )\n\u001b[1;32m--> 222\u001b[0m     \u001b[39mself\u001b[39;49m\u001b[39m.\u001b[39;49mmodel\u001b[39m.\u001b[39;49msave_weights(write_filepath)\n\u001b[0;32m    223\u001b[0m     \u001b[39m# Remove temporary saved model files on non-chief workers.\u001b[39;00m\n\u001b[0;32m    224\u001b[0m     ds_utils\u001b[39m.\u001b[39mremove_temp_dir_with_filepath(\n\u001b[0;32m    225\u001b[0m         write_filepath, \u001b[39mself\u001b[39m\u001b[39m.\u001b[39mmodel\u001b[39m.\u001b[39mdistribute_strategy\n\u001b[0;32m    226\u001b[0m     )\n",
      "File \u001b[1;32mc:\\Users\\Robin\\.conda\\envs\\tfenvironment\\lib\\site-packages\\keras\\utils\\traceback_utils.py:65\u001b[0m, in \u001b[0;36mfilter_traceback.<locals>.error_handler\u001b[1;34m(*args, **kwargs)\u001b[0m\n\u001b[0;32m     63\u001b[0m filtered_tb \u001b[39m=\u001b[39m \u001b[39mNone\u001b[39;00m\n\u001b[0;32m     64\u001b[0m \u001b[39mtry\u001b[39;00m:\n\u001b[1;32m---> 65\u001b[0m     \u001b[39mreturn\u001b[39;00m fn(\u001b[39m*\u001b[39margs, \u001b[39m*\u001b[39m\u001b[39m*\u001b[39mkwargs)\n\u001b[0;32m     66\u001b[0m \u001b[39mexcept\u001b[39;00m \u001b[39mException\u001b[39;00m \u001b[39mas\u001b[39;00m e:\n\u001b[0;32m     67\u001b[0m     filtered_tb \u001b[39m=\u001b[39m _process_traceback_frames(e\u001b[39m.\u001b[39m__traceback__)\n",
      "File \u001b[1;32mc:\\Users\\Robin\\.conda\\envs\\tfenvironment\\lib\\site-packages\\keras\\engine\\training.py:2820\u001b[0m, in \u001b[0;36mModel.save_weights\u001b[1;34m(self, filepath, overwrite, save_format, options)\u001b[0m\n\u001b[0;32m   2817\u001b[0m \u001b[39mif\u001b[39;00m \u001b[39mnot\u001b[39;00m tf\u001b[39m.\u001b[39mexecuting_eagerly():\n\u001b[0;32m   2818\u001b[0m     \u001b[39m# Call `get_session` to initialize any uninitialized variables.\u001b[39;00m\n\u001b[0;32m   2819\u001b[0m     backend\u001b[39m.\u001b[39mget_session()\n\u001b[1;32m-> 2820\u001b[0m \u001b[39mself\u001b[39;49m\u001b[39m.\u001b[39;49m_checkpoint\u001b[39m.\u001b[39;49mwrite(filepath, options\u001b[39m=\u001b[39;49moptions)\n\u001b[0;32m   2822\u001b[0m \u001b[39m# Record this checkpoint so it's visible from\u001b[39;00m\n\u001b[0;32m   2823\u001b[0m \u001b[39m# tf.train.latest_checkpoint.\u001b[39;00m\n\u001b[0;32m   2824\u001b[0m tf\u001b[39m.\u001b[39m__internal__\u001b[39m.\u001b[39mtrain\u001b[39m.\u001b[39mupdate_checkpoint_state(\n\u001b[0;32m   2825\u001b[0m     save_dir\u001b[39m=\u001b[39mos\u001b[39m.\u001b[39mpath\u001b[39m.\u001b[39mdirname(filepath),\n\u001b[0;32m   2826\u001b[0m     model_checkpoint_path\u001b[39m=\u001b[39mfilepath,\n\u001b[0;32m   2827\u001b[0m     save_relative_paths\u001b[39m=\u001b[39m\u001b[39mTrue\u001b[39;00m,\n\u001b[0;32m   2828\u001b[0m     all_model_checkpoint_paths\u001b[39m=\u001b[39m[filepath],\n\u001b[0;32m   2829\u001b[0m )\n",
      "File \u001b[1;32m~\\AppData\\Roaming\\Python\\Python310\\site-packages\\tensorflow\\python\\checkpoint\\checkpoint.py:2237\u001b[0m, in \u001b[0;36mCheckpoint.write\u001b[1;34m(self, file_prefix, options)\u001b[0m\n\u001b[0;32m   2235\u001b[0m \u001b[39mif\u001b[39;00m \u001b[39misinstance\u001b[39m(file_prefix, os\u001b[39m.\u001b[39mPathLike):\n\u001b[0;32m   2236\u001b[0m   file_prefix \u001b[39m=\u001b[39m os\u001b[39m.\u001b[39mfspath(file_prefix)\n\u001b[1;32m-> 2237\u001b[0m \u001b[39mreturn\u001b[39;00m \u001b[39mself\u001b[39;49m\u001b[39m.\u001b[39;49m_write(file_prefix, options)\n",
      "File \u001b[1;32m~\\AppData\\Roaming\\Python\\Python310\\site-packages\\tensorflow\\python\\checkpoint\\checkpoint.py:2256\u001b[0m, in \u001b[0;36mCheckpoint._write\u001b[1;34m(self, file_prefix, options, update_ckpt_state)\u001b[0m\n\u001b[0;32m   2254\u001b[0m start_time \u001b[39m=\u001b[39m time\u001b[39m.\u001b[39mtime()\n\u001b[0;32m   2255\u001b[0m options \u001b[39m=\u001b[39m options \u001b[39mor\u001b[39;00m checkpoint_options\u001b[39m.\u001b[39mCheckpointOptions()\n\u001b[1;32m-> 2256\u001b[0m output \u001b[39m=\u001b[39m \u001b[39mself\u001b[39;49m\u001b[39m.\u001b[39;49m_saver\u001b[39m.\u001b[39;49msave(\n\u001b[0;32m   2257\u001b[0m     file_prefix\u001b[39m=\u001b[39;49mfile_prefix,\n\u001b[0;32m   2258\u001b[0m     options\u001b[39m=\u001b[39;49moptions,\n\u001b[0;32m   2259\u001b[0m     update_ckpt_state\u001b[39m=\u001b[39;49mupdate_ckpt_state)\n\u001b[0;32m   2260\u001b[0m end_time \u001b[39m=\u001b[39m time\u001b[39m.\u001b[39mtime()\n\u001b[0;32m   2262\u001b[0m metrics\u001b[39m.\u001b[39mAddCheckpointWriteDuration(\n\u001b[0;32m   2263\u001b[0m     api_label\u001b[39m=\u001b[39m_CHECKPOINT_V2,\n\u001b[0;32m   2264\u001b[0m     microseconds\u001b[39m=\u001b[39m_get_duration_microseconds(start_time, end_time))\n",
      "File \u001b[1;32m~\\AppData\\Roaming\\Python\\Python310\\site-packages\\tensorflow\\python\\checkpoint\\checkpoint.py:1351\u001b[0m, in \u001b[0;36mTrackableSaver.save\u001b[1;34m(self, file_prefix, checkpoint_number, session, options, update_ckpt_state)\u001b[0m\n\u001b[0;32m   1348\u001b[0m \u001b[39mif\u001b[39;00m \u001b[39mnot\u001b[39;00m tensor_util\u001b[39m.\u001b[39mis_tensor(file_prefix):\n\u001b[0;32m   1349\u001b[0m   file_io\u001b[39m.\u001b[39mrecursive_create_dir(os\u001b[39m.\u001b[39mpath\u001b[39m.\u001b[39mdirname(file_prefix))\n\u001b[1;32m-> 1351\u001b[0m save_path, new_feed_additions \u001b[39m=\u001b[39m \u001b[39mself\u001b[39;49m\u001b[39m.\u001b[39;49m_save_cached_when_graph_building(\n\u001b[0;32m   1352\u001b[0m     file_prefix_tensor, object_graph_tensor, options, update_ckpt_state)\n\u001b[0;32m   1354\u001b[0m \u001b[39mif\u001b[39;00m new_feed_additions:\n\u001b[0;32m   1355\u001b[0m   feed_dict\u001b[39m.\u001b[39mupdate(new_feed_additions)\n",
      "File \u001b[1;32m~\\AppData\\Roaming\\Python\\Python310\\site-packages\\tensorflow\\python\\checkpoint\\checkpoint.py:1296\u001b[0m, in \u001b[0;36mTrackableSaver._save_cached_when_graph_building\u001b[1;34m(self, file_prefix, object_graph_tensor, options, update_ckpt_state)\u001b[0m\n\u001b[0;32m   1293\u001b[0m   \u001b[39mreturn\u001b[39;00m \u001b[39mself\u001b[39m\u001b[39m.\u001b[39m_cached_save_operation, feed_additions\n\u001b[0;32m   1295\u001b[0m \u001b[39m# Execute the normal checkpoint, i.e., synchronous.\u001b[39;00m\n\u001b[1;32m-> 1296\u001b[0m \u001b[39mreturn\u001b[39;00m _run_save()\n",
      "File \u001b[1;32m~\\AppData\\Roaming\\Python\\Python310\\site-packages\\tensorflow\\python\\checkpoint\\checkpoint.py:1239\u001b[0m, in \u001b[0;36mTrackableSaver._save_cached_when_graph_building.<locals>._run_save\u001b[1;34m()\u001b[0m\n\u001b[0;32m   1231\u001b[0m \u001b[39mif\u001b[39;00m (\u001b[39mself\u001b[39m\u001b[39m.\u001b[39m_last_save_object_graph \u001b[39m!=\u001b[39m graph_proto\n\u001b[0;32m   1232\u001b[0m     \u001b[39m# When executing eagerly, we need to re-create SaveableObjects each\u001b[39;00m\n\u001b[0;32m   1233\u001b[0m     \u001b[39m# time save() is called so they pick up new Tensors passed to their\u001b[39;00m\n\u001b[0;32m   1234\u001b[0m     \u001b[39m# constructors. That means the Saver needs to be copied with a new\u001b[39;00m\n\u001b[0;32m   1235\u001b[0m     \u001b[39m# var_list.\u001b[39;00m\n\u001b[0;32m   1236\u001b[0m     \u001b[39mor\u001b[39;00m context\u001b[39m.\u001b[39mexecuting_eagerly() \u001b[39mor\u001b[39;00m ops\u001b[39m.\u001b[39minside_function()):\n\u001b[0;32m   1237\u001b[0m   saver \u001b[39m=\u001b[39m functional_saver\u001b[39m.\u001b[39mMultiDeviceSaver(named_saveable_objects,\n\u001b[0;32m   1238\u001b[0m                                             registered_savers)\n\u001b[1;32m-> 1239\u001b[0m   save_op \u001b[39m=\u001b[39m saver\u001b[39m.\u001b[39;49msave(file_prefix, options\u001b[39m=\u001b[39;49moptions)\n\u001b[0;32m   1240\u001b[0m   \u001b[39mwith\u001b[39;00m ops\u001b[39m.\u001b[39mdevice(\u001b[39m\"\u001b[39m\u001b[39m/cpu:0\u001b[39m\u001b[39m\"\u001b[39m):\n\u001b[0;32m   1241\u001b[0m     \u001b[39mwith\u001b[39;00m ops\u001b[39m.\u001b[39mcontrol_dependencies([save_op]):\n",
      "File \u001b[1;32m~\\AppData\\Roaming\\Python\\Python310\\site-packages\\tensorflow\\python\\checkpoint\\functional_saver.py:362\u001b[0m, in \u001b[0;36mMultiDeviceSaver.save\u001b[1;34m(self, file_prefix, options)\u001b[0m\n\u001b[0;32m    360\u001b[0m   tf_function_save()\n\u001b[0;32m    361\u001b[0m \u001b[39melse\u001b[39;00m:\n\u001b[1;32m--> 362\u001b[0m   \u001b[39mreturn\u001b[39;00m save_fn()\n",
      "File \u001b[1;32m~\\AppData\\Roaming\\Python\\Python310\\site-packages\\tensorflow\\python\\checkpoint\\functional_saver.py:336\u001b[0m, in \u001b[0;36mMultiDeviceSaver.save.<locals>.save_fn\u001b[1;34m()\u001b[0m\n\u001b[0;32m    331\u001b[0m   saved_prefixes\u001b[39m.\u001b[39mappend(shard_prefix)\n\u001b[0;32m    332\u001b[0m   \u001b[39mwith\u001b[39;00m ops\u001b[39m.\u001b[39mdevice(device):\n\u001b[0;32m    333\u001b[0m     \u001b[39m# _SingleDeviceSaver will use the CPU device when necessary, but\u001b[39;00m\n\u001b[0;32m    334\u001b[0m     \u001b[39m# initial read operations should be placed on the SaveableObject's\u001b[39;00m\n\u001b[0;32m    335\u001b[0m     \u001b[39m# device.\u001b[39;00m\n\u001b[1;32m--> 336\u001b[0m     sharded_saves\u001b[39m.\u001b[39mappend(saver\u001b[39m.\u001b[39;49msave(shard_prefix, options))\n\u001b[0;32m    338\u001b[0m \u001b[39mwith\u001b[39;00m ops\u001b[39m.\u001b[39mcontrol_dependencies(sharded_saves):\n\u001b[0;32m    339\u001b[0m   \u001b[39m# Merge on the io_device if specified, otherwise co-locates the merge op\u001b[39;00m\n\u001b[0;32m    340\u001b[0m   \u001b[39m# with the last device used.\u001b[39;00m\n\u001b[0;32m    341\u001b[0m   merge_device \u001b[39m=\u001b[39m (\n\u001b[0;32m    342\u001b[0m       options\u001b[39m.\u001b[39mexperimental_io_device \u001b[39mor\u001b[39;00m\n\u001b[0;32m    343\u001b[0m       saveable_object_util\u001b[39m.\u001b[39mset_cpu0(last_device))\n",
      "File \u001b[1;32m~\\AppData\\Roaming\\Python\\Python310\\site-packages\\tensorflow\\python\\checkpoint\\functional_saver.py:79\u001b[0m, in \u001b[0;36m_SingleDeviceSaver.save\u001b[1;34m(self, file_prefix, options)\u001b[0m\n\u001b[0;32m     77\u001b[0m save_device \u001b[39m=\u001b[39m options\u001b[39m.\u001b[39mexperimental_io_device \u001b[39mor\u001b[39;00m \u001b[39m\"\u001b[39m\u001b[39mcpu:0\u001b[39m\u001b[39m\"\u001b[39m\n\u001b[0;32m     78\u001b[0m \u001b[39mwith\u001b[39;00m ops\u001b[39m.\u001b[39mdevice(save_device):\n\u001b[1;32m---> 79\u001b[0m   \u001b[39mreturn\u001b[39;00m io_ops\u001b[39m.\u001b[39;49msave_v2(file_prefix, tensor_names, tensor_slices, tensors)\n",
      "File \u001b[1;32m~\\AppData\\Roaming\\Python\\Python310\\site-packages\\tensorflow\\python\\ops\\gen_io_ops.py:1722\u001b[0m, in \u001b[0;36msave_v2\u001b[1;34m(prefix, tensor_names, shape_and_slices, tensors, name)\u001b[0m\n\u001b[0;32m   1720\u001b[0m   \u001b[39mpass\u001b[39;00m\n\u001b[0;32m   1721\u001b[0m \u001b[39mtry\u001b[39;00m:\n\u001b[1;32m-> 1722\u001b[0m   \u001b[39mreturn\u001b[39;00m save_v2_eager_fallback(\n\u001b[0;32m   1723\u001b[0m       prefix, tensor_names, shape_and_slices, tensors, name\u001b[39m=\u001b[39;49mname,\n\u001b[0;32m   1724\u001b[0m       ctx\u001b[39m=\u001b[39;49m_ctx)\n\u001b[0;32m   1725\u001b[0m \u001b[39mexcept\u001b[39;00m _core\u001b[39m.\u001b[39m_SymbolicException:\n\u001b[0;32m   1726\u001b[0m   \u001b[39mpass\u001b[39;00m  \u001b[39m# Add nodes to the TensorFlow graph.\u001b[39;00m\n",
      "File \u001b[1;32m~\\AppData\\Roaming\\Python\\Python310\\site-packages\\tensorflow\\python\\ops\\gen_io_ops.py:1743\u001b[0m, in \u001b[0;36msave_v2_eager_fallback\u001b[1;34m(prefix, tensor_names, shape_and_slices, tensors, name, ctx)\u001b[0m\n\u001b[0;32m   1741\u001b[0m _inputs_flat \u001b[39m=\u001b[39m [prefix, tensor_names, shape_and_slices] \u001b[39m+\u001b[39m \u001b[39mlist\u001b[39m(tensors)\n\u001b[0;32m   1742\u001b[0m _attrs \u001b[39m=\u001b[39m (\u001b[39m\"\u001b[39m\u001b[39mdtypes\u001b[39m\u001b[39m\"\u001b[39m, _attr_dtypes)\n\u001b[1;32m-> 1743\u001b[0m _result \u001b[39m=\u001b[39m _execute\u001b[39m.\u001b[39;49mexecute(\u001b[39mb\u001b[39;49m\u001b[39m\"\u001b[39;49m\u001b[39mSaveV2\u001b[39;49m\u001b[39m\"\u001b[39;49m, \u001b[39m0\u001b[39;49m, inputs\u001b[39m=\u001b[39;49m_inputs_flat, attrs\u001b[39m=\u001b[39;49m_attrs,\n\u001b[0;32m   1744\u001b[0m                            ctx\u001b[39m=\u001b[39;49mctx, name\u001b[39m=\u001b[39;49mname)\n\u001b[0;32m   1745\u001b[0m _result \u001b[39m=\u001b[39m \u001b[39mNone\u001b[39;00m\n\u001b[0;32m   1746\u001b[0m \u001b[39mreturn\u001b[39;00m _result\n",
      "File \u001b[1;32m~\\AppData\\Roaming\\Python\\Python310\\site-packages\\tensorflow\\python\\eager\\execute.py:54\u001b[0m, in \u001b[0;36mquick_execute\u001b[1;34m(op_name, num_outputs, inputs, attrs, ctx, name)\u001b[0m\n\u001b[0;32m     52\u001b[0m \u001b[39mtry\u001b[39;00m:\n\u001b[0;32m     53\u001b[0m   ctx\u001b[39m.\u001b[39mensure_initialized()\n\u001b[1;32m---> 54\u001b[0m   tensors \u001b[39m=\u001b[39m pywrap_tfe\u001b[39m.\u001b[39;49mTFE_Py_Execute(ctx\u001b[39m.\u001b[39;49m_handle, device_name, op_name,\n\u001b[0;32m     55\u001b[0m                                       inputs, attrs, num_outputs)\n\u001b[0;32m     56\u001b[0m \u001b[39mexcept\u001b[39;00m core\u001b[39m.\u001b[39m_NotOkStatusException \u001b[39mas\u001b[39;00m e:\n\u001b[0;32m     57\u001b[0m   \u001b[39mif\u001b[39;00m name \u001b[39mis\u001b[39;00m \u001b[39mnot\u001b[39;00m \u001b[39mNone\u001b[39;00m:\n",
      "\u001b[1;31mKeyboardInterrupt\u001b[0m: "
     ]
    }
   ],
   "source": [
    "#Search overfit\n",
    "tuner.search(loader.load(), steps_per_epoch=loader.steps_per_epoch, epochs=50, callbacks=get_overfit_callbacks(\n",
    "                                                                                                    patience=80,\n",
    "                                                                                                    lr_factor=0.2))"
   ]
  },
  {
   "cell_type": "code",
   "execution_count": 9,
   "metadata": {},
   "outputs": [
    {
     "name": "stderr",
     "output_type": "stream",
     "text": [
      "c:\\Users\\Robin\\.conda\\envs\\tfenvironment\\lib\\site-packages\\keras\\initializers\\initializers_v2.py:120: UserWarning: The initializer GlorotUniform is unseeded and being called multiple times, which will return identical values  each time (even if the initializer is unseeded). Please update your code to provide a seed to the initializer, or avoid using the same initalizer instance more than once.\n",
      "  warnings.warn(\n"
     ]
    },
    {
     "name": "stdout",
     "output_type": "stream",
     "text": [
      "Search space summary\n",
      "Default search space size: 2\n",
      "denselayers (Int)\n",
      "{'default': None, 'conditions': [], 'min_value': 1, 'max_value': 5, 'step': 1, 'sampling': None}\n",
      "nodes_0 (Int)\n",
      "{'default': None, 'conditions': [], 'min_value': 256, 'max_value': 512, 'step': 16, 'sampling': None}\n"
     ]
    }
   ],
   "source": [
    "#Multiple layer tuner\n",
    "\n",
    "#Remove old search\n",
    "try:\n",
    "    shutil.rmtree(\"multiple_layers_tuning_gcn\")\n",
    "except OSError as e:\n",
    "    print(\"Error: %s - %s.\" % (e.filename, e.strerror))\n",
    "\n",
    "\n",
    "def model_builder(hp):\n",
    "  xi = Input(shape=(None,3), name= \"inputx\")\n",
    "  ai = Input(shape=(None,None), name= 'inputa')\n",
    "  x1 = GCSConv(64)([xi,ai])\n",
    "  x2 = GCSConv(64)([x1,ai])\n",
    "  x3 = GCSConv(64)([x2,ai])\n",
    "  x4 = GCSConv(128)([x3,ai])\n",
    "\n",
    "  x = Concatenate()([x1,x2,x3,x4])\n",
    "  x = GlobalMaxPool()(x)\n",
    "\n",
    "  hp_denselayers = hp.Int(\"denselayers\", min_value=1, max_value=5, step=1)\n",
    "  for i in range(hp_denselayers):\n",
    "     x = Dense(hp.Int(f\"nodes_{i}\", min_value=256, max_value=512, step=16))(x)\n",
    "\n",
    "  x = Dropout(0.5)(x)\n",
    "  x = Dense(1, 'linear')(x)\n",
    "  model = Model(inputs=[xi,ai], outputs=x)\n",
    "\n",
    "  model.compile(optimizer=tf.keras.optimizers.Adam(learning_rate=0.001) , loss='mape', metrics=[tf.keras.metrics.MeanAbsolutePercentageError(name=\"mape\"), 'mae'])\n",
    "  return model\n",
    "\n",
    "'''tuner = kt.BayesianOptimization(\n",
    "    model_builder,\n",
    "    objective = 'val_mape',\n",
    "    max_trials = 10,\n",
    "    executions_per_trial = 3,\n",
    "    project_name = \"multiple_layers_tuning_gcn\"\n",
    ")'''\n",
    "\n",
    "tuner = kt.Hyperband(\n",
    "    model_builder,\n",
    "    max_epochs=100,\n",
    "    factor=3,\n",
    "    objective = 'val_mape',\n",
    "    project_name = \"multiple_layers_tuning_gcn\"\n",
    ")\n",
    "\n",
    "tuner.search_space_summary()"
   ]
  },
  {
   "cell_type": "code",
   "execution_count": 10,
   "metadata": {},
   "outputs": [
    {
     "name": "stdout",
     "output_type": "stream",
     "text": [
      "Trial 115 Complete [00h 00m 52s]\n",
      "val_mape: 286.68597412109375\n",
      "\n",
      "Best val_mape So Far: 41.72275924682617\n",
      "Total elapsed time: 01h 42m 18s\n",
      "\n",
      "Search: Running Trial #116\n",
      "\n",
      "Value             |Best Value So Far |Hyperparameter\n",
      "1                 |5                 |denselayers\n",
      "432               |432               |nodes_0\n",
      "480               |384               |nodes_1\n",
      "432               |368               |nodes_2\n",
      "400               |304               |nodes_3\n",
      "4                 |2                 |tuner/epochs\n",
      "2                 |0                 |tuner/initial_epoch\n",
      "4                 |4                 |tuner/bracket\n",
      "1                 |0                 |tuner/round\n",
      "0003              |None              |tuner/trial_id\n",
      "\n"
     ]
    },
    {
     "name": "stderr",
     "output_type": "stream",
     "text": [
      "c:\\Users\\Robin\\.conda\\envs\\tfenvironment\\lib\\site-packages\\keras\\initializers\\initializers_v2.py:120: UserWarning: The initializer GlorotUniform is unseeded and being called multiple times, which will return identical values  each time (even if the initializer is unseeded). Please update your code to provide a seed to the initializer, or avoid using the same initalizer instance more than once.\n",
      "  warnings.warn(\n",
      "c:\\Users\\Robin\\.conda\\envs\\tfenvironment\\lib\\site-packages\\spektral\\data\\utils.py:221: UserWarning: you are shuffling a 'MyDataset' object which is not a subclass of 'Sequence'; `shuffle` is not guaranteed to behave correctly. E.g., non-numpy array/tensor objects with view semantics may contain duplicates after shuffling.\n",
      "  np.random.shuffle(a)\n"
     ]
    },
    {
     "name": "stdout",
     "output_type": "stream",
     "text": [
      "Epoch 3/4\n",
      "23/23 [==============================] - ETA: 0s - loss: 654.5415 - mape: 654.5415 - mae: 422.1732"
     ]
    },
    {
     "name": "stderr",
     "output_type": "stream",
     "text": [
      "c:\\Users\\Robin\\.conda\\envs\\tfenvironment\\lib\\site-packages\\spektral\\data\\utils.py:221: UserWarning: you are shuffling a 'TestDataset' object which is not a subclass of 'Sequence'; `shuffle` is not guaranteed to behave correctly. E.g., non-numpy array/tensor objects with view semantics may contain duplicates after shuffling.\n",
      "  np.random.shuffle(a)\n"
     ]
    },
    {
     "name": "stdout",
     "output_type": "stream",
     "text": [
      "INFO:tensorflow:Assets written to: savedmodels\\tunergcn\\assets\n"
     ]
    },
    {
     "name": "stderr",
     "output_type": "stream",
     "text": [
      "c:\\Users\\Robin\\.conda\\envs\\tfenvironment\\lib\\site-packages\\keras\\engine\\functional.py:1563: CustomMaskWarning: Custom mask layers require a config and must override get_config. When loading, the custom mask layer must be passed to the custom_objects argument.\n",
      "  layer_config = serialize_layer_fn(layer)\n",
      "c:\\Users\\Robin\\.conda\\envs\\tfenvironment\\lib\\site-packages\\keras\\saving\\saved_model\\layer_serialization.py:134: CustomMaskWarning: Custom mask layers require a config and must override get_config. When loading, the custom mask layer must be passed to the custom_objects argument.\n",
      "  return generic_utils.serialize_keras_object(obj)\n"
     ]
    },
    {
     "name": "stdout",
     "output_type": "stream",
     "text": [
      "23/23 [==============================] - 27s 1s/step - loss: 654.5415 - mape: 654.5415 - mae: 422.1732 - val_loss: 483.9268 - val_mape: 483.9268 - val_mae: 96.2022 - lr: 0.0010\n",
      "Epoch 4/4\n",
      "22/23 [===========================>..] - ETA: 0s - loss: 563.8765 - mape: 563.8765 - mae: 397.1982"
     ]
    },
    {
     "name": "stderr",
     "output_type": "stream",
     "text": [
      "c:\\Users\\Robin\\.conda\\envs\\tfenvironment\\lib\\site-packages\\spektral\\data\\utils.py:221: UserWarning: you are shuffling a 'MyDataset' object which is not a subclass of 'Sequence'; `shuffle` is not guaranteed to behave correctly. E.g., non-numpy array/tensor objects with view semantics may contain duplicates after shuffling.\n",
      "  np.random.shuffle(a)\n",
      "c:\\Users\\Robin\\.conda\\envs\\tfenvironment\\lib\\site-packages\\spektral\\data\\utils.py:221: UserWarning: you are shuffling a 'TestDataset' object which is not a subclass of 'Sequence'; `shuffle` is not guaranteed to behave correctly. E.g., non-numpy array/tensor objects with view semantics may contain duplicates after shuffling.\n",
      "  np.random.shuffle(a)\n"
     ]
    },
    {
     "ename": "KeyboardInterrupt",
     "evalue": "",
     "output_type": "error",
     "traceback": [
      "\u001b[1;31m---------------------------------------------------------------------------\u001b[0m",
      "\u001b[1;31mKeyboardInterrupt\u001b[0m                         Traceback (most recent call last)",
      "\u001b[1;32mg:\\Unief\\Masterproef\\Notebooks\\graphconvolutionalmodel.ipynb Cell 18\u001b[0m in \u001b[0;36m2\n\u001b[0;32m      <a href='vscode-notebook-cell:/g%3A/Unief/Masterproef/Notebooks/graphconvolutionalmodel.ipynb#X23sZmlsZQ%3D%3D?line=0'>1</a>\u001b[0m \u001b[39m#Search\u001b[39;00m\n\u001b[1;32m----> <a href='vscode-notebook-cell:/g%3A/Unief/Masterproef/Notebooks/graphconvolutionalmodel.ipynb#X23sZmlsZQ%3D%3D?line=1'>2</a>\u001b[0m tuner\u001b[39m.\u001b[39;49msearch(loader\u001b[39m.\u001b[39;49mload(), validation_data\u001b[39m=\u001b[39;49mtestloader\u001b[39m.\u001b[39;49mload(), validation_steps\u001b[39m=\u001b[39;49mtestloader\u001b[39m.\u001b[39;49msteps_per_epoch, steps_per_epoch\u001b[39m=\u001b[39;49mloader\u001b[39m.\u001b[39;49msteps_per_epoch, epochs\u001b[39m=\u001b[39;49m\u001b[39m100\u001b[39;49m, callbacks\u001b[39m=\u001b[39;49mget_callbacks(\u001b[39m'\u001b[39;49m\u001b[39msavedmodels/tunergcn\u001b[39;49m\u001b[39m'\u001b[39;49m,\n\u001b[0;32m      <a href='vscode-notebook-cell:/g%3A/Unief/Masterproef/Notebooks/graphconvolutionalmodel.ipynb#X23sZmlsZQ%3D%3D?line=2'>3</a>\u001b[0m                                                                                                     patience\u001b[39m=\u001b[39;49m\u001b[39m30\u001b[39;49m,\n\u001b[0;32m      <a href='vscode-notebook-cell:/g%3A/Unief/Masterproef/Notebooks/graphconvolutionalmodel.ipynb#X23sZmlsZQ%3D%3D?line=3'>4</a>\u001b[0m                                                                                                     lr_factor\u001b[39m=\u001b[39;49m\u001b[39m0.2\u001b[39;49m))\n",
      "File \u001b[1;32mc:\\Users\\Robin\\.conda\\envs\\tfenvironment\\lib\\site-packages\\keras_tuner\\engine\\base_tuner.py:183\u001b[0m, in \u001b[0;36mBaseTuner.search\u001b[1;34m(self, *fit_args, **fit_kwargs)\u001b[0m\n\u001b[0;32m    180\u001b[0m     \u001b[39mcontinue\u001b[39;00m\n\u001b[0;32m    182\u001b[0m \u001b[39mself\u001b[39m\u001b[39m.\u001b[39mon_trial_begin(trial)\n\u001b[1;32m--> 183\u001b[0m results \u001b[39m=\u001b[39m \u001b[39mself\u001b[39m\u001b[39m.\u001b[39mrun_trial(trial, \u001b[39m*\u001b[39mfit_args, \u001b[39m*\u001b[39m\u001b[39m*\u001b[39mfit_kwargs)\n\u001b[0;32m    184\u001b[0m \u001b[39m# `results` is None indicates user updated oracle in `run_trial()`.\u001b[39;00m\n\u001b[0;32m    185\u001b[0m \u001b[39mif\u001b[39;00m results \u001b[39mis\u001b[39;00m \u001b[39mNone\u001b[39;00m:\n",
      "File \u001b[1;32mc:\\Users\\Robin\\.conda\\envs\\tfenvironment\\lib\\site-packages\\keras_tuner\\tuners\\hyperband.py:384\u001b[0m, in \u001b[0;36mHyperband.run_trial\u001b[1;34m(self, trial, *fit_args, **fit_kwargs)\u001b[0m\n\u001b[0;32m    382\u001b[0m     fit_kwargs[\u001b[39m\"\u001b[39m\u001b[39mepochs\u001b[39m\u001b[39m\"\u001b[39m] \u001b[39m=\u001b[39m hp\u001b[39m.\u001b[39mvalues[\u001b[39m\"\u001b[39m\u001b[39mtuner/epochs\u001b[39m\u001b[39m\"\u001b[39m]\n\u001b[0;32m    383\u001b[0m     fit_kwargs[\u001b[39m\"\u001b[39m\u001b[39minitial_epoch\u001b[39m\u001b[39m\"\u001b[39m] \u001b[39m=\u001b[39m hp\u001b[39m.\u001b[39mvalues[\u001b[39m\"\u001b[39m\u001b[39mtuner/initial_epoch\u001b[39m\u001b[39m\"\u001b[39m]\n\u001b[1;32m--> 384\u001b[0m \u001b[39mreturn\u001b[39;00m \u001b[39msuper\u001b[39m(Hyperband, \u001b[39mself\u001b[39m)\u001b[39m.\u001b[39mrun_trial(trial, \u001b[39m*\u001b[39mfit_args, \u001b[39m*\u001b[39m\u001b[39m*\u001b[39mfit_kwargs)\n",
      "File \u001b[1;32mc:\\Users\\Robin\\.conda\\envs\\tfenvironment\\lib\\site-packages\\keras_tuner\\engine\\tuner.py:295\u001b[0m, in \u001b[0;36mTuner.run_trial\u001b[1;34m(self, trial, *args, **kwargs)\u001b[0m\n\u001b[0;32m    293\u001b[0m     callbacks\u001b[39m.\u001b[39mappend(model_checkpoint)\n\u001b[0;32m    294\u001b[0m     copied_kwargs[\u001b[39m\"\u001b[39m\u001b[39mcallbacks\u001b[39m\u001b[39m\"\u001b[39m] \u001b[39m=\u001b[39m callbacks\n\u001b[1;32m--> 295\u001b[0m     obj_value \u001b[39m=\u001b[39m \u001b[39mself\u001b[39m\u001b[39m.\u001b[39m_build_and_fit_model(trial, \u001b[39m*\u001b[39margs, \u001b[39m*\u001b[39m\u001b[39m*\u001b[39mcopied_kwargs)\n\u001b[0;32m    297\u001b[0m     histories\u001b[39m.\u001b[39mappend(obj_value)\n\u001b[0;32m    298\u001b[0m \u001b[39mreturn\u001b[39;00m histories\n",
      "File \u001b[1;32mc:\\Users\\Robin\\.conda\\envs\\tfenvironment\\lib\\site-packages\\keras_tuner\\engine\\tuner.py:222\u001b[0m, in \u001b[0;36mTuner._build_and_fit_model\u001b[1;34m(self, trial, *args, **kwargs)\u001b[0m\n\u001b[0;32m    220\u001b[0m hp \u001b[39m=\u001b[39m trial\u001b[39m.\u001b[39mhyperparameters\n\u001b[0;32m    221\u001b[0m model \u001b[39m=\u001b[39m \u001b[39mself\u001b[39m\u001b[39m.\u001b[39m_try_build(hp)\n\u001b[1;32m--> 222\u001b[0m results \u001b[39m=\u001b[39m \u001b[39mself\u001b[39m\u001b[39m.\u001b[39mhypermodel\u001b[39m.\u001b[39mfit(hp, model, \u001b[39m*\u001b[39margs, \u001b[39m*\u001b[39m\u001b[39m*\u001b[39mkwargs)\n\u001b[0;32m    223\u001b[0m tuner_utils\u001b[39m.\u001b[39mvalidate_trial_results(\n\u001b[0;32m    224\u001b[0m     results, \u001b[39mself\u001b[39m\u001b[39m.\u001b[39moracle\u001b[39m.\u001b[39mobjective, \u001b[39m\"\u001b[39m\u001b[39mHyperModel.fit()\u001b[39m\u001b[39m\"\u001b[39m\n\u001b[0;32m    225\u001b[0m )\n\u001b[0;32m    226\u001b[0m \u001b[39mreturn\u001b[39;00m results\n",
      "File \u001b[1;32mc:\\Users\\Robin\\.conda\\envs\\tfenvironment\\lib\\site-packages\\keras_tuner\\engine\\hypermodel.py:140\u001b[0m, in \u001b[0;36mHyperModel.fit\u001b[1;34m(self, hp, model, *args, **kwargs)\u001b[0m\n\u001b[0;32m    116\u001b[0m \u001b[39mdef\u001b[39;00m \u001b[39mfit\u001b[39m(\u001b[39mself\u001b[39m, hp, model, \u001b[39m*\u001b[39margs, \u001b[39m*\u001b[39m\u001b[39m*\u001b[39mkwargs):\n\u001b[0;32m    117\u001b[0m     \u001b[39m\"\"\"Train the model.\u001b[39;00m\n\u001b[0;32m    118\u001b[0m \n\u001b[0;32m    119\u001b[0m \u001b[39m    Args:\u001b[39;00m\n\u001b[1;32m   (...)\u001b[0m\n\u001b[0;32m    138\u001b[0m \u001b[39m        If return a float, it should be the `objective` value.\u001b[39;00m\n\u001b[0;32m    139\u001b[0m \u001b[39m    \"\"\"\u001b[39;00m\n\u001b[1;32m--> 140\u001b[0m     \u001b[39mreturn\u001b[39;00m model\u001b[39m.\u001b[39mfit(\u001b[39m*\u001b[39margs, \u001b[39m*\u001b[39m\u001b[39m*\u001b[39mkwargs)\n",
      "File \u001b[1;32mc:\\Users\\Robin\\.conda\\envs\\tfenvironment\\lib\\site-packages\\keras\\utils\\traceback_utils.py:65\u001b[0m, in \u001b[0;36mfilter_traceback.<locals>.error_handler\u001b[1;34m(*args, **kwargs)\u001b[0m\n\u001b[0;32m     63\u001b[0m filtered_tb \u001b[39m=\u001b[39m \u001b[39mNone\u001b[39;00m\n\u001b[0;32m     64\u001b[0m \u001b[39mtry\u001b[39;00m:\n\u001b[1;32m---> 65\u001b[0m     \u001b[39mreturn\u001b[39;00m fn(\u001b[39m*\u001b[39margs, \u001b[39m*\u001b[39m\u001b[39m*\u001b[39mkwargs)\n\u001b[0;32m     66\u001b[0m \u001b[39mexcept\u001b[39;00m \u001b[39mException\u001b[39;00m \u001b[39mas\u001b[39;00m e:\n\u001b[0;32m     67\u001b[0m     filtered_tb \u001b[39m=\u001b[39m _process_traceback_frames(e\u001b[39m.\u001b[39m__traceback__)\n",
      "File \u001b[1;32mc:\\Users\\Robin\\.conda\\envs\\tfenvironment\\lib\\site-packages\\keras\\engine\\training.py:1606\u001b[0m, in \u001b[0;36mModel.fit\u001b[1;34m(self, x, y, batch_size, epochs, verbose, callbacks, validation_split, validation_data, shuffle, class_weight, sample_weight, initial_epoch, steps_per_epoch, validation_steps, validation_batch_size, validation_freq, max_queue_size, workers, use_multiprocessing)\u001b[0m\n\u001b[0;32m   1591\u001b[0m \u001b[39mif\u001b[39;00m \u001b[39mgetattr\u001b[39m(\u001b[39mself\u001b[39m, \u001b[39m\"\u001b[39m\u001b[39m_eval_data_handler\u001b[39m\u001b[39m\"\u001b[39m, \u001b[39mNone\u001b[39;00m) \u001b[39mis\u001b[39;00m \u001b[39mNone\u001b[39;00m:\n\u001b[0;32m   1592\u001b[0m     \u001b[39mself\u001b[39m\u001b[39m.\u001b[39m_eval_data_handler \u001b[39m=\u001b[39m data_adapter\u001b[39m.\u001b[39mget_data_handler(\n\u001b[0;32m   1593\u001b[0m         x\u001b[39m=\u001b[39mval_x,\n\u001b[0;32m   1594\u001b[0m         y\u001b[39m=\u001b[39mval_y,\n\u001b[1;32m   (...)\u001b[0m\n\u001b[0;32m   1604\u001b[0m         steps_per_execution\u001b[39m=\u001b[39m\u001b[39mself\u001b[39m\u001b[39m.\u001b[39m_steps_per_execution,\n\u001b[0;32m   1605\u001b[0m     )\n\u001b[1;32m-> 1606\u001b[0m val_logs \u001b[39m=\u001b[39m \u001b[39mself\u001b[39;49m\u001b[39m.\u001b[39;49mevaluate(\n\u001b[0;32m   1607\u001b[0m     x\u001b[39m=\u001b[39;49mval_x,\n\u001b[0;32m   1608\u001b[0m     y\u001b[39m=\u001b[39;49mval_y,\n\u001b[0;32m   1609\u001b[0m     sample_weight\u001b[39m=\u001b[39;49mval_sample_weight,\n\u001b[0;32m   1610\u001b[0m     batch_size\u001b[39m=\u001b[39;49mvalidation_batch_size \u001b[39mor\u001b[39;49;00m batch_size,\n\u001b[0;32m   1611\u001b[0m     steps\u001b[39m=\u001b[39;49mvalidation_steps,\n\u001b[0;32m   1612\u001b[0m     callbacks\u001b[39m=\u001b[39;49mcallbacks,\n\u001b[0;32m   1613\u001b[0m     max_queue_size\u001b[39m=\u001b[39;49mmax_queue_size,\n\u001b[0;32m   1614\u001b[0m     workers\u001b[39m=\u001b[39;49mworkers,\n\u001b[0;32m   1615\u001b[0m     use_multiprocessing\u001b[39m=\u001b[39;49muse_multiprocessing,\n\u001b[0;32m   1616\u001b[0m     return_dict\u001b[39m=\u001b[39;49m\u001b[39mTrue\u001b[39;49;00m,\n\u001b[0;32m   1617\u001b[0m     _use_cached_eval_dataset\u001b[39m=\u001b[39;49m\u001b[39mTrue\u001b[39;49;00m,\n\u001b[0;32m   1618\u001b[0m )\n\u001b[0;32m   1619\u001b[0m val_logs \u001b[39m=\u001b[39m {\n\u001b[0;32m   1620\u001b[0m     \u001b[39m\"\u001b[39m\u001b[39mval_\u001b[39m\u001b[39m\"\u001b[39m \u001b[39m+\u001b[39m name: val \u001b[39mfor\u001b[39;00m name, val \u001b[39min\u001b[39;00m val_logs\u001b[39m.\u001b[39mitems()\n\u001b[0;32m   1621\u001b[0m }\n\u001b[0;32m   1622\u001b[0m epoch_logs\u001b[39m.\u001b[39mupdate(val_logs)\n",
      "File \u001b[1;32mc:\\Users\\Robin\\.conda\\envs\\tfenvironment\\lib\\site-packages\\keras\\utils\\traceback_utils.py:65\u001b[0m, in \u001b[0;36mfilter_traceback.<locals>.error_handler\u001b[1;34m(*args, **kwargs)\u001b[0m\n\u001b[0;32m     63\u001b[0m filtered_tb \u001b[39m=\u001b[39m \u001b[39mNone\u001b[39;00m\n\u001b[0;32m     64\u001b[0m \u001b[39mtry\u001b[39;00m:\n\u001b[1;32m---> 65\u001b[0m     \u001b[39mreturn\u001b[39;00m fn(\u001b[39m*\u001b[39margs, \u001b[39m*\u001b[39m\u001b[39m*\u001b[39mkwargs)\n\u001b[0;32m     66\u001b[0m \u001b[39mexcept\u001b[39;00m \u001b[39mException\u001b[39;00m \u001b[39mas\u001b[39;00m e:\n\u001b[0;32m     67\u001b[0m     filtered_tb \u001b[39m=\u001b[39m _process_traceback_frames(e\u001b[39m.\u001b[39m__traceback__)\n",
      "File \u001b[1;32mc:\\Users\\Robin\\.conda\\envs\\tfenvironment\\lib\\site-packages\\keras\\engine\\training.py:1942\u001b[0m, in \u001b[0;36mModel.evaluate\u001b[1;34m(self, x, y, batch_size, verbose, sample_weight, steps, callbacks, max_queue_size, workers, use_multiprocessing, return_dict, **kwargs)\u001b[0m\n\u001b[0;32m   1940\u001b[0m \u001b[39mself\u001b[39m\u001b[39m.\u001b[39mreset_metrics()\n\u001b[0;32m   1941\u001b[0m \u001b[39mwith\u001b[39;00m data_handler\u001b[39m.\u001b[39mcatch_stop_iteration():\n\u001b[1;32m-> 1942\u001b[0m     \u001b[39mfor\u001b[39;00m step \u001b[39min\u001b[39;00m data_handler\u001b[39m.\u001b[39msteps():\n\u001b[0;32m   1943\u001b[0m         \u001b[39mwith\u001b[39;00m tf\u001b[39m.\u001b[39mprofiler\u001b[39m.\u001b[39mexperimental\u001b[39m.\u001b[39mTrace(\n\u001b[0;32m   1944\u001b[0m             \u001b[39m\"\u001b[39m\u001b[39mtest\u001b[39m\u001b[39m\"\u001b[39m, step_num\u001b[39m=\u001b[39mstep, _r\u001b[39m=\u001b[39m\u001b[39m1\u001b[39m\n\u001b[0;32m   1945\u001b[0m         ):\n\u001b[0;32m   1946\u001b[0m             callbacks\u001b[39m.\u001b[39mon_test_batch_begin(step)\n",
      "File \u001b[1;32mc:\\Users\\Robin\\.conda\\envs\\tfenvironment\\lib\\site-packages\\keras\\engine\\data_adapter.py:1374\u001b[0m, in \u001b[0;36mDataHandler.steps\u001b[1;34m(self)\u001b[0m\n\u001b[0;32m   1372\u001b[0m \u001b[39mif\u001b[39;00m \u001b[39mself\u001b[39m\u001b[39m.\u001b[39m_insufficient_data:  \u001b[39m# Set by `catch_stop_iteration`.\u001b[39;00m\n\u001b[0;32m   1373\u001b[0m     \u001b[39mbreak\u001b[39;00m\n\u001b[1;32m-> 1374\u001b[0m original_spe \u001b[39m=\u001b[39m \u001b[39mself\u001b[39;49m\u001b[39m.\u001b[39;49m_steps_per_execution\u001b[39m.\u001b[39;49mnumpy()\u001b[39m.\u001b[39mitem()\n\u001b[0;32m   1375\u001b[0m can_run_full_execution \u001b[39m=\u001b[39m (\n\u001b[0;32m   1376\u001b[0m     original_spe \u001b[39m==\u001b[39m \u001b[39m1\u001b[39m\n\u001b[0;32m   1377\u001b[0m     \u001b[39mor\u001b[39;00m \u001b[39mself\u001b[39m\u001b[39m.\u001b[39m_inferred_steps \u001b[39mis\u001b[39;00m \u001b[39mNone\u001b[39;00m\n\u001b[0;32m   1378\u001b[0m     \u001b[39mor\u001b[39;00m \u001b[39mself\u001b[39m\u001b[39m.\u001b[39m_inferred_steps \u001b[39m-\u001b[39m \u001b[39mself\u001b[39m\u001b[39m.\u001b[39m_current_step \u001b[39m>\u001b[39m\u001b[39m=\u001b[39m original_spe\n\u001b[0;32m   1379\u001b[0m )\n\u001b[0;32m   1381\u001b[0m \u001b[39mif\u001b[39;00m can_run_full_execution:\n",
      "File \u001b[1;32m~\\AppData\\Roaming\\Python\\Python310\\site-packages\\tensorflow\\python\\ops\\resource_variable_ops.py:637\u001b[0m, in \u001b[0;36mBaseResourceVariable.numpy\u001b[1;34m(self)\u001b[0m\n\u001b[0;32m    635\u001b[0m \u001b[39mdef\u001b[39;00m \u001b[39mnumpy\u001b[39m(\u001b[39mself\u001b[39m):\n\u001b[0;32m    636\u001b[0m   \u001b[39mif\u001b[39;00m context\u001b[39m.\u001b[39mexecuting_eagerly():\n\u001b[1;32m--> 637\u001b[0m     \u001b[39mreturn\u001b[39;00m \u001b[39mself\u001b[39;49m\u001b[39m.\u001b[39;49mread_value()\u001b[39m.\u001b[39;49mnumpy()\n\u001b[0;32m    638\u001b[0m   \u001b[39mraise\u001b[39;00m \u001b[39mNotImplementedError\u001b[39;00m(\n\u001b[0;32m    639\u001b[0m       \u001b[39m\"\u001b[39m\u001b[39mnumpy() is only available when eager execution is enabled.\u001b[39m\u001b[39m\"\u001b[39m)\n",
      "File \u001b[1;32m~\\AppData\\Roaming\\Python\\Python310\\site-packages\\tensorflow\\python\\framework\\ops.py:1133\u001b[0m, in \u001b[0;36m_EagerTensorBase.numpy\u001b[1;34m(self)\u001b[0m\n\u001b[0;32m   1127\u001b[0m \u001b[39m@property\u001b[39m\n\u001b[0;32m   1128\u001b[0m \u001b[39mdef\u001b[39;00m \u001b[39mdtype\u001b[39m(\u001b[39mself\u001b[39m):\n\u001b[0;32m   1129\u001b[0m   \u001b[39m# Note: using the intern table directly here as this is\u001b[39;00m\n\u001b[0;32m   1130\u001b[0m   \u001b[39m# performance-sensitive in some models.\u001b[39;00m\n\u001b[0;32m   1131\u001b[0m   \u001b[39mreturn\u001b[39;00m dtypes\u001b[39m.\u001b[39m_INTERN_TABLE[\u001b[39mself\u001b[39m\u001b[39m.\u001b[39m_datatype_enum()]  \u001b[39m# pylint: disable=protected-access\u001b[39;00m\n\u001b[1;32m-> 1133\u001b[0m \u001b[39mdef\u001b[39;00m \u001b[39mnumpy\u001b[39m(\u001b[39mself\u001b[39m):\n\u001b[0;32m   1134\u001b[0m   \u001b[39m\"\"\"Copy of the contents of this Tensor into a NumPy array or scalar.\u001b[39;00m\n\u001b[0;32m   1135\u001b[0m \n\u001b[0;32m   1136\u001b[0m \u001b[39m  Unlike NumPy arrays, Tensors are immutable, so this method has to copy\u001b[39;00m\n\u001b[1;32m   (...)\u001b[0m\n\u001b[0;32m   1154\u001b[0m \u001b[39m      NumPy dtype.\u001b[39;00m\n\u001b[0;32m   1155\u001b[0m \u001b[39m  \"\"\"\u001b[39;00m\n\u001b[0;32m   1156\u001b[0m   \u001b[39m# TODO(slebedev): Consider avoiding a copy for non-CPU or remote tensors.\u001b[39;00m\n",
      "\u001b[1;31mKeyboardInterrupt\u001b[0m: "
     ]
    }
   ],
   "source": [
    "#Search\n",
    "tuner.search(loader.load(), validation_data=testloader.load(), validation_steps=testloader.steps_per_epoch, steps_per_epoch=loader.steps_per_epoch, epochs=100, callbacks=get_callbacks('savedmodels/tunergcn',\n",
    "                                                                                                    patience=30,\n",
    "                                                                                                    lr_factor=0.2))"
   ]
  },
  {
   "cell_type": "code",
   "execution_count": 62,
   "metadata": {},
   "outputs": [
    {
     "name": "stdout",
     "output_type": "stream",
     "text": [
      "Results summary\n",
      "Results in .\\multiple_layers_tuning_gcn\n",
      "Showing 1 best trials\n",
      "<keras_tuner.engine.objective.Objective object at 0x00000268F4238730>\n",
      "Trial summary\n",
      "Hyperparameters:\n",
      "nodes_0: 112\n",
      "convlayers: 1\n",
      "nodes_1: 176\n",
      "denselayers: 3\n",
      "dense_0: 72\n",
      "nodes_2: 16\n",
      "dense_1: 168\n",
      "dense_2: 280\n",
      "dense_3: 344\n",
      "nodes_3: 184\n",
      "nodes_4: 232\n",
      "nodes_5: 184\n",
      "dense_4: 264\n",
      "dense_5: 304\n",
      "dense_6: 360\n",
      "nodes_6: 16\n",
      "nodes_7: 160\n",
      "nodes_8: 168\n",
      "dense_7: 232\n",
      "tuner/epochs: 8\n",
      "tuner/initial_epoch: 3\n",
      "tuner/bracket: 4\n",
      "tuner/round: 1\n",
      "tuner/trial_id: 0093\n",
      "Score: 34.27772903442383\n"
     ]
    }
   ],
   "source": [
    "#Results\n",
    "tuner.results_summary(1)"
   ]
  },
  {
   "cell_type": "code",
   "execution_count": null,
   "metadata": {},
   "outputs": [],
   "source": [
    "history.history"
   ]
  },
  {
   "cell_type": "code",
   "execution_count": null,
   "metadata": {},
   "outputs": [
    {
     "data": {
      "text/plain": [
       "<function matplotlib.pyplot.show(close=None, block=None)>"
      ]
     },
     "execution_count": 11,
     "metadata": {},
     "output_type": "execute_result"
    },
    {
     "data": {
      "image/png": "[encoded data removed]",
      "text/plain": [
       "<Figure size 640x480 with 1 Axes>"
      ]
     },
     "metadata": {},
     "output_type": "display_data"
    }
   ],
   "source": [
    "#Plot mape\n",
    "plt.plot(history.history[\"mape\"])\n",
    "plt.title('model mean absolute error')\n",
    "plt.ylabel('mape')\n",
    "plt.xlabel('epoch')\n",
    "plt.show"
   ]
  }
 ],
 "metadata": {
  "kernelspec": {
   "display_name": "tfenvironment",
   "language": "python",
   "name": "python3"
  },
  "language_info": {
   "codemirror_mode": {
    "name": "ipython",
    "version": 3
   },
   "file_extension": ".py",
   "mimetype": "text/x-python",
   "name": "python",
   "nbconvert_exporter": "python",
   "pygments_lexer": "ipython3",
   "version": "3.10.8"
  },
  "orig_nbformat": 4,
  "vscode": {
   "interpreter": {
    "hash": "d217d37ed9247659b2812203162b84cdb779e33cccd1fe199abf14cba0e180e9"
   }
  }
 },
 "nbformat": 4,
 "nbformat_minor": 2
}
